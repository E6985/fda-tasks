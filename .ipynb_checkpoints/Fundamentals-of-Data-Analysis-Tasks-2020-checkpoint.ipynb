{
 "cells": [
  {
   "cell_type": "markdown",
   "metadata": {},
   "source": [
    "< [GMIT Data Analytics](https://web.archive.org/web/20201029063153/https://www.gmit.ie/computer-science-and-applied-physics/higher-diploma-science-computing-data-analytics-ict) | [Table of Contents](https://github.com/E6985) | [README](https://github.com/E6985/fda-tasks/blob/master/README.md) >\n",
    "\n",
    "<img src=\"img/gmit.png\" />\n",
    "\n",
    "## Fundamentals of Data Analysis - Tasks 2020\n",
    "## Due: last commit on or before December 18th, 2020\n",
    "***"
   ]
  },
  {
   "cell_type": "markdown",
   "metadata": {},
   "source": [
    "#### Task 1\n",
    "Write a Python function called counts that takes a list as input and returns a dictionary of unique items in the list as keys and the number of times each item appears as values. So, the input ``['A', 'A', 'B', 'C', 'A']`` should have output ``{'A': 3, 'B': 1, 'C': 1}``. Your code should not depend on any module from the standard library or otherwise. By the standard library, we mean the modules and packages that come as standard with Python. Anything built-in that can be used without an import statement can be used. You should research the task first and include a description with references of your algorithm in the notebook.\n",
    "***"
   ]
  },
  {
   "cell_type": "markdown",
   "metadata": {},
   "source": [
    "###### Dictionary\n",
    "***"
   ]
  },
  {
   "cell_type": "markdown",
   "metadata": {},
   "source": [
    "- dictionary - unorderd data collection type - flexible mappings of keys to values - form the basis of much of pythons internal implementation - created via a comma-separated list - pairs - ``key:value`` - within curly braces [\n",
    "[...] J. VanderPlas, \"Built-In Data Structures,\" A Whirlwind Tour of Python, p. 60, August 2016.\n",
    "]"
   ]
  },
  {
   "cell_type": "markdown",
   "metadata": {},
   "source": [
    "###### Algorithm - Attempt - Initial Approach\n",
    "***"
   ]
  },
  {
   "cell_type": "markdown",
   "metadata": {},
   "source": [
    "- input - list - ``['A', 'A', 'B', 'C', 'A']`` - function - counts - should take any list containing any items and return a dictionary of unique items in the list as keys and the number of times each item appears as values - algorithm designed should be based on imagining the list contains - letters in strings as presented in the Tasks 1 - list containing something other than strings - containing a single character - containing numbers - containing other lists - containing dictionaries - **think about this** - ok to **specify if the the function does not work with** lists of lists or something like that but consider said ideas - consider all of the different ins and outs where the algorithm might fail and document - have a lot of freedom here [\n",
    "[...] I. McLoughlin, \"Tasks 2020 Fundamentals of Data Analysis,\" GMIT, October 2020.\n",
    "]"
   ]
  },
  {
   "cell_type": "code",
   "execution_count": 1,
   "metadata": {},
   "outputs": [],
   "source": [
    "nArgList=['A', 'A', 'B', 'C', 'A']"
   ]
  },
  {
   "cell_type": "code",
   "execution_count": 2,
   "metadata": {},
   "outputs": [],
   "source": [
    "# define function - counts\n",
    "def counts(nParList):\n",
    "    nDictionary={}\n",
    "    for nEachValue in nParList:\n",
    "        # object Dict - method setdefault - call\n",
    "        nDictionary.setdefault(nEachValue,0)\n",
    "        nDictionary[nEachValue]+=1\n",
    "    return nDictionary"
   ]
  },
  {
   "cell_type": "code",
   "execution_count": 3,
   "metadata": {},
   "outputs": [
    {
     "data": {
      "text/plain": [
       "{'A': 3, 'B': 1, 'C': 1}"
      ]
     },
     "execution_count": 3,
     "metadata": {},
     "output_type": "execute_result"
    }
   ],
   "source": [
    "# function counts - call\n",
    "counts(nArgList)"
   ]
  },
  {
   "cell_type": "markdown",
   "metadata": {},
   "source": [
    "###### Python Module - collections\n",
    "***"
   ]
  },
  {
   "cell_type": "markdown",
   "metadata": {},
   "source": [
    "- built-in - module - collections - provides alternatives to pythons general purpose built-in container - dict [\n",
    "[...] Python Documentation, \"Collections - Container dataypes,\" [Python](https://web.archive.org/web/20201022092017/https://docs.python.org/3/library/collections.html#module-collections), October 2008.\n",
    "]"
   ]
  },
  {
   "cell_type": "code",
   "execution_count": 4,
   "metadata": {},
   "outputs": [],
   "source": [
    "# a_S_tandard_L_ibrary-imports\n",
    "from collections import Counter as Cctr"
   ]
  },
  {
   "cell_type": "markdown",
   "metadata": {},
   "source": [
    "- module - collections - class - Counter - elements are stored as dictionary keys - item counts are stored as dictionary values [\n",
    "[...] Python Documentation, \"Collections - Container dataypes,\" [Python](https://web.archive.org/web/20201022092017/https://docs.python.org/3/library/collections.html#module-collections), October 2008.\n",
    "] - this task can depend on any module from the standard library or otherwise - ``collections`` - should not be used - the idea here is to write code from scratch - putting some decent constraints on the input - reviewing module - collections - to get a feel for how it works [\n",
    "[...] I. McLoughlin, \"Tasks 2020 Fundamentals of Data Analysis,\" GMIT, October 2020.\n",
    "]"
   ]
  },
  {
   "cell_type": "code",
   "execution_count": 5,
   "metadata": {},
   "outputs": [
    {
     "data": {
      "text/plain": [
       "Counter({'A': 3, 'B': 1, 'C': 1})"
      ]
     },
     "execution_count": 5,
     "metadata": {},
     "output_type": "execute_result"
    }
   ],
   "source": [
    "# module collections - object Counter alias Cctr - instantiate\n",
    "Cctr(nArgList)"
   ]
  },
  {
   "cell_type": "markdown",
   "metadata": {},
   "source": [
    "###### Multiset Theory\n",
    "***"
   ]
  },
  {
   "cell_type": "markdown",
   "metadata": {},
   "source": [
    "- implementation based on - multiset theory - shortened to - mset - multiple-membership set - common accepted name replacing - bag - bunch - weighted set - occurrence set - heap - sample - fireset - modification of - set - collection of objects called elements in which the elements can occur many times - order is ignored - number of elements occurring in a multiset is called - multiplicity [\n",
    "[...] W. Blizard, \"Multiset theory,\" [Project euclid](https://web.archive.org/web/20201105163941/https://projecteuclid.org/euclid.ndjfl/1093634995), July 1987.\n",
    "]"
   ]
  },
  {
   "cell_type": "markdown",
   "metadata": {},
   "source": [
    "- multiplicity is explicitly significant - precise number of elements [\n",
    "[...] E. Weisstein, \"Multiset,\" [mathworld.wolfram](https://web.archive.org/web/20200319012240/https://mathworld.wolfram.com/Multiset.html), 2002.\n",
    "]"
   ]
  },
  {
   "cell_type": "markdown",
   "metadata": {},
   "source": [
    "$$\\{3,1,2\\}\\equiv\\{1,2,3\\}$$"
   ]
  },
  {
   "cell_type": "markdown",
   "metadata": {},
   "source": [
    "$$\\{3,3,1,2\\}\\ne\\{1,2,3\\}$$"
   ]
  },
  {
   "cell_type": "markdown",
   "metadata": {},
   "source": [
    "- the multiplicity of an element is defined as the number of times it occurs in the multiset - denoted by listing its elements separated by commas between curly braces - similiar to pythons unorderd data collection type - dictionary [\n",
    "[...] J. Nieminen, J. Khim, \"Multiset,\" [Brilliant](https://web.archive.org/web/20201105164908/https://brilliant.org/wiki/multiset), April 2018.\n",
    "]\n",
    "\n",
    "$$\\{a,a,b,c,a\\}$$\n",
    "\n",
    "- elements are listed with their multiplicities as colon-separated pairs [\n",
    "[...] J. Nieminen, J. Khim, \"Multiset,\" [Brilliant](https://web.archive.org/web/20201105164908/https://brilliant.org/wiki/multiset), April 2018.\n",
    "]\n",
    "\n",
    "$$\\{a:3,b:1,c:1\\}$$"
   ]
  },
  {
   "cell_type": "markdown",
   "metadata": {},
   "source": [
    "###### Algorithm - Research - Module collections Approach"
   ]
  },
  {
   "cell_type": "markdown",
   "metadata": {},
   "source": [
    "- source code - module - collections - Class - Counter - method - most_common [\n",
    "[...] Python, \"cpython/Lib/collections/__init__.py,\" [Github](https://web.archive.org/web/20201105151531/https://github.com/python/cpython/blob/master/Lib/collections/__init__.py), May 2020.\n",
    "] - algorithm used - programming language - Smalltalk - Bag.sortedByCount [\n",
    "[...] Smalltalk, \"smalltalk/kernel/Bag.st,\" [Github](https://web.archive.org/web/20201105154907/https://github.com/gnu-smalltalk/smalltalk/blob/master/kernel/Bag.st), January 2010.\n",
    "] - line - 568 [\n",
    "[...] Python, \"cpython/Lib/collections/__init__.py,\" [Github](https://web.archive.org/web/20201105151531/https://github.com/python/cpython/blob/master/Lib/collections/__init__.py), May 2020.\n",
    "]"
   ]
  },
  {
   "cell_type": "code",
   "execution_count": 6,
   "metadata": {},
   "outputs": [
    {
     "name": "stdout",
     "output_type": "stream",
     "text": [
      "   559\t    def most_common(self, n=None):\n",
      "   560\t        '''List the n most common elements and their counts from the most\n",
      "   561\t        common to the least.  If n is None, then list all element counts.\n",
      "   562\t\n",
      "   563\t        >>> Counter('abracadabra').most_common(3)\n",
      "   564\t        [('a', 5), ('b', 2), ('r', 2)]\n",
      "   565\t\n",
      "   566\t        '''\n",
      "   567\t        # Emulate Bag.sortedByCount from Smalltalk\n",
      "   568\t        if n is None:\n",
      "   569\t            return sorted(self.items(), key=_itemgetter(1), reverse=True)\n",
      "   570\t        return _heapq.nlargest(n, self.items(), key=_itemgetter(1))\n"
     ]
    }
   ],
   "source": [
    "%%script bash\n",
    "cat -n C:/Users/E6985/anaconda3/lib/collections/__init__.py | grep \"def most_common\" -A 11"
   ]
  },
  {
   "cell_type": "markdown",
   "metadata": {},
   "source": [
    "###### Algorithm - Research - Object-Oriented Approach\n",
    "***"
   ]
  },
  {
   "cell_type": "markdown",
   "metadata": {},
   "source": [
    "- keyword - class - indicates creation - in python all classes create objects - implicit default - ``class (object)`` - python 3 - ``(object)`` - not required [\n",
    "[...] D. Amos, \"Object-Oriented Programming (OOP) in Python 3,\" [Real Python](https://web.archive.org/web/20201107154103/https://realpython.com/python3-object-oriented-programming), July 2020.\n",
    "] - source code - Appendix A - object-oriented implementation of mulitset - bag - whereby - class - Counts - derives from object - dict [\n",
    "[...] E. Wiethoff, \"Bag Sum In Many Programming Languages,\" [wiki.c2](https://web.archive.org/web/20201107143701/https://wiki.c2.com/?BagSumInManyProgrammingLanguages), n.d.\n",
    "]\n",
    "\n",
    "```python\n",
    "# define class - Counts\n",
    "class Counts(dict):\n",
    "```"
   ]
  },
  {
   "cell_type": "markdown",
   "metadata": {},
   "source": [
    "- method - \\_\\_init\\_\\_ - initialise - specify - an objects initial attributes by giving them their default values - state - must have at least one argument - variable - self - refers to the object itself - Counts - the method - \\_\\_init\\_\\_ - called automatically when creating a new - Counts - instance [\n",
    "[...] D. Amos, \"Object-Oriented Programming (OOP) in Python 3,\" [Real Python](https://web.archive.org/web/20201107154103/https://realpython.com/python3-object-oriented-programming), July 2020.\n",
    "]\n",
    "\n",
    "```python\n",
    "# instance attributes - initialiser\n",
    "def __init__(self,nArgInput):\n",
    "```\n",
    "\n",
    "- loop through each element in the input list - method - performCount - called on each element [\n",
    "[...] No Reference.\n",
    "]\n",
    "\n",
    "```python\n",
    "    for nEachElement in nArgInput:\n",
    "        self.performCount(nEachElement)\n",
    "```"
   ]
  },
  {
   "cell_type": "markdown",
   "metadata": {},
   "source": [
    "- method - performCount - the object - self - set of elements from the input list - assigned the count of each occurrence of the list elements - keeping count - add one to each occurrence [\n",
    "[...] W3Schools, \"Python Dictionary get() Method,\" [w3schools](https://web.archive.org/web/20201107161412/https://www.w3schools.com/python/ref_dictionary_get.asp), August 2018.\n",
    "] \n",
    "\n",
    "```python\n",
    "# instance attributes - initialiser\n",
    "def performCount(self,nEachElement):\n",
    "    self[nEachElement]=self.get(nEachElement,0)+1\n",
    "```"
   ]
  },
  {
   "cell_type": "markdown",
   "metadata": {},
   "source": [
    "- method __dict__ - single line - list comprehension - compressing a list-building - for - loop into a single short readable line [\n",
    "[...] J. VanderPlas, \"Built-In Data Structures,\" A Whirlwind Tour of Python, p. 58, August 2016.\n",
    "] \n",
    "\n",
    "\n",
    "- each ``key`` - ``value`` - ìn the newly returned sorted set from the elements in the iterable - object - self - looping through the dictionary - the key plus corresponding value - retrieved at the same time using the method - items [\n",
    "[...] Python Documentation, \"5.6. Looping Techniques,\" [Python](https://web.archive.org/web/20201107162523/https://docs.python.org/3/tutorial/datastructures.html#looping-techniques), October 2008.\n",
    "]\n",
    "    \n",
    "```python\n",
    "def __dict__(self):\n",
    "    return [(nEachKey,nEachvalue) for (nEachKey,nEachvalue) in sorted(self.items())]\n",
    "```"
   ]
  },
  {
   "cell_type": "markdown",
   "metadata": {},
   "source": [
    "- reviewing the implementation from the module - collections - can see similarities - line - 569 [\n",
    "[...] Python, cpython/Lib/collections/__init__.py,\" [Github](https://web.archive.org/web/20201105151531/https://github.com/python/cpython/blob/master/Lib/collections/__init__.py), May 2020.\n",
    "]"
   ]
  },
  {
   "cell_type": "code",
   "execution_count": 7,
   "metadata": {},
   "outputs": [
    {
     "name": "stdout",
     "output_type": "stream",
     "text": [
      "   567\t        # Emulate Bag.sortedByCount from Smalltalk\n",
      "   568\t        if n is None:\n",
      "   569\t            return sorted(self.items(), key=_itemgetter(1), reverse=True)\n"
     ]
    }
   ],
   "source": [
    "%%script bash\n",
    "cat -n C:/Users/E6985/anaconda3/lib/collections/__init__.py | grep \"# Emulate Bag.sortedByCount from Smalltalk\" -A 2"
   ]
  },
  {
   "cell_type": "code",
   "execution_count": 8,
   "metadata": {},
   "outputs": [],
   "source": [
    "# define class - Counts\n",
    "class Counts(dict):\n",
    "    # instance attributes - initialiser\n",
    "    def __init__(self,nArgInput):\n",
    "        for nEachElement in nArgInput:\n",
    "            self.performCount(nEachElement)\n",
    "    # instance attributes - initialiser\n",
    "    def performCount(self,nEachElement):\n",
    "        self[nEachElement]=self.get(nEachElement,0)+1\n",
    "    # instance attributes - initialiser\n",
    "    def __dict__(self):\n",
    "        return [(nEachKey,nEachvalue) for (nEachKey,nEachvalue) in sorted(self.items())]"
   ]
  },
  {
   "cell_type": "code",
   "execution_count": 9,
   "metadata": {
    "scrolled": true
   },
   "outputs": [
    {
     "data": {
      "text/plain": [
       "{'A': 3, 'B': 1, 'C': 1}"
      ]
     },
     "execution_count": 9,
     "metadata": {},
     "output_type": "execute_result"
    }
   ],
   "source": [
    "# object Counts - instantiate\n",
    "Counts(nArgList)"
   ]
  },
  {
   "cell_type": "markdown",
   "metadata": {},
   "source": [
    "###### Algorithm - Research - Eliminate Duplicate Elements Approach\n",
    "***"
   ]
  },
  {
   "cell_type": "markdown",
   "metadata": {},
   "source": [
    "- source code - Appendix B - list comprehension -  implementation of mulitset - bag - uses a dictionary to get rid of duplicate elements in the list to be counted [\n",
    "[...] E. Wiethoff, \"Bag Sum In Many Programming Languages,\" [wiki.c2](https://web.archive.org/web/20201107143701/https://wiki.c2.com/?BagSumInManyProgrammingLanguages), n.d.\n",
    "]"
   ]
  },
  {
   "cell_type": "markdown",
   "metadata": {},
   "source": [
    "- list comprehension - for - loop - readable line [\n",
    "[...] J. VanderPlas, \"Built-In Data Structures,\" A Whirlwind Tour of Python, p. 58, August 2016.\n",
    "] - module - array - method - count - returns the number of occurrences of each element in the array [\n",
    "[...] Python Documentation, \"array — Efficient arrays of numeric values,\" [Python](https://web.archive.org/web/20201108173847/https://docs.python.org/3/library/array.html?highlight=count#array.array.count), October 2008.\n",
    "]"
   ]
  },
  {
   "cell_type": "code",
   "execution_count": 10,
   "metadata": {},
   "outputs": [
    {
     "data": {
      "text/plain": [
       "[('A', 3), ('A', 3), ('B', 1), ('C', 1), ('A', 3)]"
      ]
     },
     "execution_count": 10,
     "metadata": {},
     "output_type": "execute_result"
    }
   ],
   "source": [
    "[(nEachElement,nArgList.count(nEachElement)) for nEachElement in nArgList]"
   ]
  },
  {
   "cell_type": "markdown",
   "metadata": {},
   "source": [
    "- constructor - dict - create a new dictionary - if a key occurs more than once then the last value for that key becomes the corresponding value in the new dictionary - eliminating duplicate elements [\n",
    "[...] Python Documentation, \"Built-in Types,\" [Python](http://web.archive.org/web/20201108174452/https://docs.python.org/3/library/stdtypes.html#dict), October 2008.\n",
    "]"
   ]
  },
  {
   "cell_type": "code",
   "execution_count": 11,
   "metadata": {},
   "outputs": [
    {
     "data": {
      "text/plain": [
       "{'A': 3, 'B': 1, 'C': 1}"
      ]
     },
     "execution_count": 11,
     "metadata": {},
     "output_type": "execute_result"
    }
   ],
   "source": [
    "dict([(nEachElement,nArgList.count(nEachElement)) for nEachElement in nArgList])"
   ]
  },
  {
   "cell_type": "code",
   "execution_count": 12,
   "metadata": {},
   "outputs": [],
   "source": [
    "# define function - counts\n",
    "def counts(nParList):\n",
    "    return dict([(nEachElement,nArgList.count(nEachElement)) for nEachElement in nArgList])"
   ]
  },
  {
   "cell_type": "code",
   "execution_count": 13,
   "metadata": {},
   "outputs": [
    {
     "data": {
      "text/plain": [
       "{'A': 3, 'B': 1, 'C': 1}"
      ]
     },
     "execution_count": 13,
     "metadata": {},
     "output_type": "execute_result"
    }
   ],
   "source": [
    "# function counts - call\n",
    "counts(nArgList)"
   ]
  },
  {
   "cell_type": "markdown",
   "metadata": {},
   "source": [
    "###### Algorithm - Research - Sort and Tally Approach\n",
    "***"
   ]
  },
  {
   "cell_type": "markdown",
   "metadata": {},
   "source": [
    "- source code - Appendix C - no-frills implementation - little use of functions/methods - only method used - sorted - simple sort and tally algorithm [\n",
    "[...] Anonymous, \"Bag Sum In Many Programming Languages,\" [wiki.c2](https://web.archive.org/web/20201107143701/https://wiki.c2.com/?BagSumInManyProgrammingLanguages), n.d.\n",
    "]"
   ]
  },
  {
   "cell_type": "markdown",
   "metadata": {},
   "source": [
    "- implementation from the module - collections - line - 569 [\n",
    "[...] Python, cpython/Lib/collections/__init__.py,\" [Github](https://web.archive.org/web/20201105151531/https://github.com/python/cpython/blob/master/Lib/collections/__init__.py), May 2020.\n",
    "] - uses the function - sorted - as part of its approach - this returns a new sorted list from the items in the iterable [\n",
    "[...] Python Documentation, \"Built-in Functions,\" [Python](https://web.archive.org/web/20200512035500/https://docs.python.org/3/library/functions.html#sorted), October 2008.\n",
    "] "
   ]
  },
  {
   "cell_type": "code",
   "execution_count": 14,
   "metadata": {},
   "outputs": [
    {
     "name": "stdout",
     "output_type": "stream",
     "text": [
      "   567\t        # Emulate Bag.sortedByCount from Smalltalk\n",
      "   568\t        if n is None:\n",
      "   569\t            return sorted(self.items(), key=_itemgetter(1), reverse=True)\n"
     ]
    }
   ],
   "source": [
    "%%script bash\n",
    "cat -n C:/Users/E6985/anaconda3/lib/collections/__init__.py | grep \"# Emulate Bag.sortedByCount from Smalltalk\" -A 2"
   ]
  },
  {
   "cell_type": "code",
   "execution_count": 15,
   "metadata": {},
   "outputs": [
    {
     "data": {
      "text/plain": [
       "['A', 'A', 'B', 'C', 'A']"
      ]
     },
     "execution_count": 15,
     "metadata": {},
     "output_type": "execute_result"
    }
   ],
   "source": [
    "nArgList"
   ]
  },
  {
   "cell_type": "markdown",
   "metadata": {},
   "source": [
    "- method - sort - modifies the list in-place [\n",
    "[...] Python Documentation, \"Built-in Types,\" [Python](https://web.archive.org/web/20200502135931/https://docs.python.org/3/library/stdtypes.html#list.sort), October 2008.\n",
    "]"
   ]
  },
  {
   "cell_type": "code",
   "execution_count": 16,
   "metadata": {},
   "outputs": [
    {
     "data": {
      "text/plain": [
       "['A', 'A', 'A', 'B', 'C']"
      ]
     },
     "execution_count": 16,
     "metadata": {},
     "output_type": "execute_result"
    }
   ],
   "source": [
    "nArgList.sort()\n",
    "nArgList"
   ]
  },
  {
   "cell_type": "markdown",
   "metadata": {},
   "source": [
    "- initialise result - name - nDictionary - empty dictionary [\n",
    "[...] No Reference.\n",
    "]"
   ]
  },
  {
   "cell_type": "code",
   "execution_count": 17,
   "metadata": {},
   "outputs": [
    {
     "data": {
      "text/plain": [
       "{}"
      ]
     },
     "execution_count": 17,
     "metadata": {},
     "output_type": "execute_result"
    }
   ],
   "source": [
    "nDictionary={}\n",
    "nDictionary"
   ]
  },
  {
   "cell_type": "markdown",
   "metadata": {},
   "source": [
    "- initialise - name - nListItem - zeroth element in the input list - nArgList [\n",
    "[...] No Reference.\n",
    "]"
   ]
  },
  {
   "cell_type": "code",
   "execution_count": 18,
   "metadata": {},
   "outputs": [
    {
     "data": {
      "text/plain": [
       "'A'"
      ]
     },
     "execution_count": 18,
     "metadata": {},
     "output_type": "execute_result"
    }
   ],
   "source": [
    "nListItem=nArgList[0]\n",
    "nListItem"
   ]
  },
  {
   "cell_type": "markdown",
   "metadata": {},
   "source": [
    "- initialise - name - nListItemCount - to one given the zeroth element - first element - in the input list - nArgList - will start at count - ``1`` [\n",
    "[...] No Reference.\n",
    "]"
   ]
  },
  {
   "cell_type": "code",
   "execution_count": 19,
   "metadata": {},
   "outputs": [
    {
     "data": {
      "text/plain": [
       "1"
      ]
     },
     "execution_count": 19,
     "metadata": {},
     "output_type": "execute_result"
    }
   ],
   "source": [
    "nListItemCount=1\n",
    "nListItemCount"
   ]
  },
  {
   "cell_type": "markdown",
   "metadata": {},
   "source": [
    "- accessing elements in compound types - ``dict`` - done through indexing for single elements - slicing for multiple elements - both indicated by a square-bracket syntax [\n",
    "[...] J. VanderPlas, \"Built-In Data Structures,\" A Whirlwind Tour of Python, p. 32, August 2016.\n",
    "] using a for loop iterating through the input list - nArgList - starting at position index - ``1`` - given that we have already determined position index - ``0`` - is the letter - ``A`` - after the input list - nArgList - was sorted via the object - list - method - sort [\n",
    "[...] No Reference.\n",
    "]\n",
    "\n",
    "```python\n",
    "for nEachValue in nArgList[1:]:\n",
    "```\n",
    "\n",
    "- conditional - if - the element under investigation - name - nEachValue - is the same as element assigned to - name - nListItem - then add one to the - name - nListCount - said element now has a count - ``2`` - in addition start populating the result - dictionary - name - nDictionary - via indexing set the first - ``key`` - to its count - ``value`` - name - nListItemCount [\n",
    "[...] No Reference.\n",
    "]\n",
    "\n",
    "```python\n",
    "if nEachValue==nListItem:\n",
    "    nListItemcount+=1\n",
    "    nDictionary[nEachValue]=nListItemcount\n",
    "```\n",
    "\n",
    "- conditional - else - initialise - name - nListItem - to the - name - nEachValue - element under investigation from the input list - nArgList - initialise - name - nListItemCount - restarting the count - ``1`` - continue populating the resulting dictionary - name - nDictionary - via indexing set the current element under investigation - name - nEachValue - ``key`` - to its current count - ``value`` - name - nListItemCount [\n",
    "[...] No Reference.\n",
    "]\n",
    "\n",
    "```\n",
    "else:\n",
    "    nListItem,nListItemcount=nEachValue,1\n",
    "    nDictionary[nEachValue]=nListItemcount\n",
    "```\n",
    "\n",
    "- return result - nDictionary\n",
    "\n",
    "```python\n",
    "return nDictionary\n",
    "```"
   ]
  },
  {
   "cell_type": "code",
   "execution_count": 20,
   "metadata": {},
   "outputs": [],
   "source": [
    "nArgList=['A', 'A', 'B', 'C', 'A'] # reset list - sorted earlier \n",
    "# define function - counts\n",
    "def counts(nParList):\n",
    "    nArgList.sort()\n",
    "    nDictionary={}\n",
    "    nListItem,nListItemcount=nArgList[0],1\n",
    "    for nEachValue in nArgList[1:]:\n",
    "        if nEachValue==nListItem:\n",
    "            nListItemcount+=1\n",
    "            nDictionary[nEachValue]=nListItemcount\n",
    "        else:\n",
    "            nListItem,nListItemcount=nEachValue,1\n",
    "            nDictionary[nEachValue]=nListItemcount\n",
    "    return nDictionary"
   ]
  },
  {
   "cell_type": "code",
   "execution_count": 21,
   "metadata": {},
   "outputs": [
    {
     "data": {
      "text/plain": [
       "{'A': 3, 'B': 1, 'C': 1}"
      ]
     },
     "execution_count": 21,
     "metadata": {},
     "output_type": "execute_result"
    }
   ],
   "source": [
    "# function counts - call\n",
    "counts(nArgList)"
   ]
  },
  {
   "cell_type": "markdown",
   "metadata": {},
   "source": [
    "###### Input - Lists - Test Function counts\n",
    "***"
   ]
  },
  {
   "cell_type": "markdown",
   "metadata": {},
   "source": [
    "- list - data structure - standard mutable - changeable - multielement container [\n",
    "[...] Jake VanderPlas, \"A Python List Is More Than Just a List,\" Python Data Science Handbook, December 2016.\n",
    "]"
   ]
  },
  {
   "cell_type": "markdown",
   "metadata": {},
   "source": [
    "- list comprehension - class - type - returns object type - everything in python is an object [\n",
    "[...] Python Documentation, \"Built-in Functions,\" [Python](https://web.archive.org/web/20201109201230/https://docs.python.org/3/library/functions.html#type), October 2008.\n",
    "]"
   ]
  },
  {
   "cell_type": "markdown",
   "metadata": {},
   "source": [
    "- function - fSummary - for display purposes only - not form part of submission [\n",
    "[...] No Reference.\n",
    "]"
   ]
  },
  {
   "cell_type": "code",
   "execution_count": 22,
   "metadata": {},
   "outputs": [],
   "source": [
    "# define function - fSummary\n",
    "def fSummary(nParList):\n",
    "    print(\"<LIST>   {}\".format(nParList))\n",
    "    print(\"<LENGTH>  {}\".format(len(nParList)))\n",
    "    print(\"<TYPES>  \")\n",
    "    return [type(nEachElement) for nEachElement in nParList]"
   ]
  },
  {
   "cell_type": "markdown",
   "metadata": {},
   "source": [
    "- using most commonly used iterator in python - range - generate a sequence of numbers - ``0`` - ``1`` - by convention the top of the object range is not included in the output - append numbers - ``2`` - ``3`` - ``2`` - list has five elements - four distinct - all of type - ``int`` [\n",
    "[...] J. VanderPlas, \"Built-In Data Structures,\" A Whirlwind Tour of Python, p. 39, August 2016.\n",
    "]"
   ]
  },
  {
   "cell_type": "code",
   "execution_count": 23,
   "metadata": {
    "scrolled": true
   },
   "outputs": [
    {
     "name": "stdout",
     "output_type": "stream",
     "text": [
      "<LIST>   [0, 1, 2, 3, 2]\n",
      "<LENGTH>  5\n",
      "<TYPES>  \n"
     ]
    },
    {
     "data": {
      "text/plain": [
       "[int, int, int, int, int]"
      ]
     },
     "execution_count": 23,
     "metadata": {},
     "output_type": "execute_result"
    }
   ],
   "source": [
    "nArgList=list(range(2))\n",
    "nArgList.append(2)\n",
    "nArgList.append(3)\n",
    "nArgList.append(2)\n",
    "# call function - fSummary\n",
    "fSummary(nArgList)"
   ]
  },
  {
   "cell_type": "code",
   "execution_count": 24,
   "metadata": {},
   "outputs": [
    {
     "data": {
      "text/plain": [
       "{1: 1, 2: 2, 3: 1}"
      ]
     },
     "execution_count": 24,
     "metadata": {},
     "output_type": "execute_result"
    }
   ],
   "source": [
    "# function counts - call\n",
    "counts(nArgList)"
   ]
  },
  {
   "cell_type": "markdown",
   "metadata": {},
   "source": [
    "&#x2623; **key:value - pairs - ``4`` - pair associated with zero - ``0`` - no count completed** &#x2623;"
   ]
  },
  {
   "cell_type": "code",
   "execution_count": 25,
   "metadata": {},
   "outputs": [
    {
     "name": "stdout",
     "output_type": "stream",
     "text": [
      "<LIST>   {1: 1, 2: 2, 3: 1}\n",
      "<LENGTH>  3\n",
      "<TYPES>  \n"
     ]
    },
    {
     "data": {
      "text/plain": [
       "[int, int, int]"
      ]
     },
     "execution_count": 25,
     "metadata": {},
     "output_type": "execute_result"
    }
   ],
   "source": [
    "# call function - fSummary\n",
    "fSummary(counts(nArgList))"
   ]
  },
  {
   "cell_type": "markdown",
   "metadata": {},
   "source": [
    "- list comprehension - cast all elements in existing list - nArgList - to strings [\n",
    "[...] No Reference.\n",
    "]"
   ]
  },
  {
   "cell_type": "code",
   "execution_count": 26,
   "metadata": {},
   "outputs": [
    {
     "name": "stdout",
     "output_type": "stream",
     "text": [
      "<LIST>   ['0', '1', '2', '2', '3']\n",
      "<LENGTH>  5\n",
      "<TYPES>  \n"
     ]
    },
    {
     "data": {
      "text/plain": [
       "[str, str, str, str, str]"
      ]
     },
     "execution_count": 26,
     "metadata": {},
     "output_type": "execute_result"
    }
   ],
   "source": [
    "nArgList=[str(nEachElement) for nEachElement in nArgList]\n",
    "# call function - fSummary\n",
    "fSummary(nArgList)"
   ]
  },
  {
   "cell_type": "markdown",
   "metadata": {},
   "source": [
    "&#x2623; **key:value pairs - ``4`` - pair associated with string zero - ``\"0\"`` - no count completed** &#x2623; "
   ]
  },
  {
   "cell_type": "code",
   "execution_count": 27,
   "metadata": {},
   "outputs": [
    {
     "name": "stdout",
     "output_type": "stream",
     "text": [
      "<LIST>   {'1': 1, '2': 2, '3': 1}\n",
      "<LENGTH>  3\n",
      "<TYPES>  \n"
     ]
    },
    {
     "data": {
      "text/plain": [
       "[str, str, str]"
      ]
     },
     "execution_count": 27,
     "metadata": {},
     "output_type": "execute_result"
    }
   ],
   "source": [
    "# call function - fSummary\n",
    "fSummary(counts(nArgList))"
   ]
  },
  {
   "cell_type": "markdown",
   "metadata": {},
   "source": [
    "- list comprehension - cast all elements in existing list - nArgList - to floats [\n",
    "[...] No Reference.\n",
    "]"
   ]
  },
  {
   "cell_type": "code",
   "execution_count": 28,
   "metadata": {},
   "outputs": [
    {
     "name": "stdout",
     "output_type": "stream",
     "text": [
      "<LIST>   [0.0, 1.0, 2.0, 2.0, 3.0]\n",
      "<LENGTH>  5\n",
      "<TYPES>  \n"
     ]
    },
    {
     "data": {
      "text/plain": [
       "[float, float, float, float, float]"
      ]
     },
     "execution_count": 28,
     "metadata": {},
     "output_type": "execute_result"
    }
   ],
   "source": [
    "nArgList=[float(nEachElement) for nEachElement in nArgList]\n",
    "# call function - fSummary\n",
    "fSummary(nArgList)"
   ]
  },
  {
   "cell_type": "code",
   "execution_count": 29,
   "metadata": {},
   "outputs": [
    {
     "data": {
      "text/plain": [
       "{1.0: 1, 2.0: 2, 3.0: 1}"
      ]
     },
     "execution_count": 29,
     "metadata": {},
     "output_type": "execute_result"
    }
   ],
   "source": [
    "# function counts - call\n",
    "counts(nArgList)"
   ]
  },
  {
   "cell_type": "markdown",
   "metadata": {},
   "source": [
    "&#x2623; **key:value pairs - ``4`` - pair associated with zero - ``0.0`` - no count completed** &#x2623; "
   ]
  },
  {
   "cell_type": "code",
   "execution_count": 30,
   "metadata": {},
   "outputs": [
    {
     "name": "stdout",
     "output_type": "stream",
     "text": [
      "<LIST>   {1.0: 1, 2.0: 2, 3.0: 1}\n",
      "<LENGTH>  3\n",
      "<TYPES>  \n"
     ]
    },
    {
     "data": {
      "text/plain": [
       "[float, float, float]"
      ]
     },
     "execution_count": 30,
     "metadata": {},
     "output_type": "execute_result"
    }
   ],
   "source": [
    "# call function - fSummary\n",
    "fSummary(counts(nArgList))"
   ]
  },
  {
   "cell_type": "markdown",
   "metadata": {},
   "source": [
    "- creating heterogeneous lists - diverse content - data types - floats - appending single integer [\n",
    "[...] Jake VanderPlas, \"A Python List Is More Than Just a List,\" Python Data Science Handbook, December 2016.\n",
    "]"
   ]
  },
  {
   "cell_type": "code",
   "execution_count": 31,
   "metadata": {},
   "outputs": [
    {
     "name": "stdout",
     "output_type": "stream",
     "text": [
      "<LIST>   [0.0, 1.0, 2.0, 2.0, 3.0, 1]\n",
      "<LENGTH>  6\n",
      "<TYPES>  \n"
     ]
    },
    {
     "data": {
      "text/plain": [
       "[float, float, float, float, float, int]"
      ]
     },
     "execution_count": 31,
     "metadata": {},
     "output_type": "execute_result"
    }
   ],
   "source": [
    "nArgList.append(1)\n",
    "# call function - fSummary\n",
    "fSummary(nArgList)"
   ]
  },
  {
   "cell_type": "code",
   "execution_count": 32,
   "metadata": {},
   "outputs": [
    {
     "data": {
      "text/plain": [
       "{1.0: 2, 2.0: 2, 3.0: 1}"
      ]
     },
     "execution_count": 32,
     "metadata": {},
     "output_type": "execute_result"
    }
   ],
   "source": [
    "# function counts - call\n",
    "counts(nArgList)"
   ]
  },
  {
   "cell_type": "markdown",
   "metadata": {},
   "source": [
    "&#x2623; **key:value pairs - ``5`` - pair associated with zero - ``0.0`` - no count completed** &#x2623; "
   ]
  },
  {
   "cell_type": "markdown",
   "metadata": {},
   "source": [
    "&#x2623; **append - integer ``1`` - output captured under float - ``1.0`` - could argue it works albeit should output pair - key:value - for the single integer - ``1`` - as - ``1:1``** &#x2623; [\n",
    "[...] No Reference.\n",
    "]"
   ]
  },
  {
   "cell_type": "code",
   "execution_count": 33,
   "metadata": {},
   "outputs": [
    {
     "name": "stdout",
     "output_type": "stream",
     "text": [
      "<LIST>   {1.0: 2, 2.0: 2, 3.0: 1}\n",
      "<LENGTH>  3\n",
      "<TYPES>  \n"
     ]
    },
    {
     "data": {
      "text/plain": [
       "[float, float, float]"
      ]
     },
     "execution_count": 33,
     "metadata": {},
     "output_type": "execute_result"
    }
   ],
   "source": [
    "# call function - fSummary\n",
    "fSummary(counts(nArgList))"
   ]
  },
  {
   "cell_type": "markdown",
   "metadata": {},
   "source": [
    "***\n",
    "#### References\n",
    "&nbsp;&nbsp;&nbsp;&nbsp;&nbsp;&nbsp;&nbsp;&nbsp;&nbsp;[1] authorNames, referenceTitle, locationWebsiteBookVideo, dateMonthYear.\n",
    "\n",
    "&nbsp;&nbsp;&nbsp;&nbsp;&nbsp;&nbsp;&nbsp;[10]\n",
    "\n",
    "&nbsp;&nbsp;&nbsp;&nbsp;&nbsp;[100]\n",
    "\n",
    "&nbsp;&nbsp;&nbsp;[1000]\n",
    "***\n",
    "#### END"
   ]
  },
  {
   "cell_type": "markdown",
   "metadata": {},
   "source": [
    "#### Task 2\n",
    "Write a Python function called dicerolls that simulates rolling dice. Your function should take two parameters: the number of dice ``k`` and the number of times to roll the dice ``n``. The function should simulate randomly rolling ``k`` dice ``n`` times, keeping track of each total face value. It should then return a dictionary with the number of times each possible total face value occurred. So, calling the function as ``diceroll(k=2, n=1000)`` should return a dictionary like:\n",
    "\n",
    "``{2:19,3:50,4:82,5:112,6:135,7:174,8:133,9:114,10:75,11:70,12:36}``\n",
    "\n",
    "You can use any module from the Python standard library you wish and you should include a description with references of your algorithm in the notebook.\n",
    "***"
   ]
  },
  {
   "cell_type": "markdown",
   "metadata": {},
   "source": [
    "- standard six sided dice - each of the six faces labelled - ``1`` - ``2`` - ``3`` - ``4`` - ``5`` - ``6`` - simulate rolling a number of dice a number of times [\n",
    "[...] I. McLoughlin, \"Task 2 Rolling dice,\" GMIT, November 2020.\n",
    "]"
   ]
  },
  {
   "cell_type": "markdown",
   "metadata": {},
   "source": [
    "- might roll two dice - two six sided dice - roll both once - maybe one of the dice face comes up - ``3`` - the other dice face comes up - ``5`` - capturing total - ``8`` - it is this eight - total face value - interested in [\n",
    "[...] I. McLoughlin, \"Task 2 Rolling dice,\" GMIT, November 2020.\n",
    "]"
   ]
  },
  {
   "cell_type": "markdown",
   "metadata": {},
   "source": [
    "- function - dicerolls - two parameters - i) number of dice - ``k`` - ii) number of times to roll the dice - ``n`` - if - ``n`` - 100 - ``k`` - 2 - simulates rolling two dice one-hundred times keeping track of the face values - the function should simulate randomly rolling - ``k`` - dice - ``n`` times - keeping track of each total face value [\n",
    "[...] I. McLoughlin, \"Task 2 Rolling dice,\" GMIT, November 2020.\n",
    "]"
   ]
  },
  {
   "cell_type": "markdown",
   "metadata": {},
   "source": [
    "- return dictionary - number of times each possible total face value occurred [\n",
    "[...] I. McLoughlin, \"Task 2 Rolling dice,\" GMIT, November 2020.\n",
    "]\n",
    "\n",
    "```python\n",
    "dicerolls(k=2,n=1000)\n",
    "```"
   ]
  },
  {
   "cell_type": "markdown",
   "metadata": {},
   "source": [
    "- call - function - dicerolls - rolling - ``2`` - dice - ``1000`` - times should return a dictionary - first key listed - ``2`` - showed up - ``19`` - times - of the one-thousand times the dice was rolled - only one way to get - ``2`` - when the two dice face values are both - ``1`` - ``1`` - know immediately two dices showed up - ``1`` - ``1`` - obviously calling the function should get slightly different results - randomly rolling the dice [\n",
    "[...] I. McLoughlin, \"Task 2 Rolling dice,\" GMIT, November 2020.\n",
    "]\n",
    "\n",
    "``{2:19,3:50,4:82,5:112,6:135,7:174,8:133,9:114,10:75,11:70,12:36}``\n",
    "\n",
    "- might be able to pick out some trends - analyse those trends to see whats happening - interesting to simulate rolling dice to see patterns - see that the lower numbers and the higher numbers seem to be less likely than the number bunched around the middle - can ask yourself why that might be - suggestion - only one way to get - ``2`` - thats by rolling - ``1`` - ``1`` - might be many ways to get - ``6`` [\n",
    "[...] I. McLoughlin, \"Task 2 Rolling dice,\" GMIT, November 2020.\n",
    "]"
   ]
  },
  {
   "cell_type": "markdown",
   "metadata": {},
   "source": [
    "- roll only one dice - if random function is working correctly - should see each of the six sides with equal probability - should see each of them roughly the same number of times when you start adding the faces together - all of a sudden you lose uniformity [\n",
    "[...] I. McLoughlin, \"Task 2 Rolling dice,\" GMIT, November 2020.\n",
    "]"
   ]
  },
  {
   "cell_type": "markdown",
   "metadata": {},
   "source": [
    "- can use any python module from the python standard library - can use modules that are not in the standard library but for this task maybe not needed - use the random module or something like that in python - probably a short description but might get into having a look at some results - analysing the results to beef up the Jupyter Notebook - maybe even a histogram of the results [\n",
    "[...] I. McLoughlin, \"Task 2 Rolling dice,\" GMIT, November 2020.\n",
    "]"
   ]
  },
  {
   "cell_type": "code",
   "execution_count": 1,
   "metadata": {},
   "outputs": [],
   "source": [
    "k=2"
   ]
  },
  {
   "cell_type": "code",
   "execution_count": 2,
   "metadata": {},
   "outputs": [],
   "source": [
    "n=10"
   ]
  },
  {
   "cell_type": "code",
   "execution_count": 3,
   "metadata": {},
   "outputs": [],
   "source": [
    "from random import randint as r\n",
    "def dicerolls(k,n):\n",
    "    nList=[]\n",
    "    # t=0\n",
    "    for i in range(n):\n",
    "        # t+=(r(1,6)*k)\n",
    "        nList.append(r(1,6)*k)\n",
    "        if len(nList)==n:\n",
    "            nList.sort()     \n",
    "\n",
    "    print(nList,end=\"\\n\\n\")\n",
    "\n",
    "    return dict([(nEachElement,nList.count(nEachElement)) for nEachElement in nList])"
   ]
  },
  {
   "cell_type": "code",
   "execution_count": 4,
   "metadata": {
    "scrolled": true
   },
   "outputs": [
    {
     "name": "stdout",
     "output_type": "stream",
     "text": [
      "[2, 2, 2, 4, 6, 6, 6, 8, 8, 10]\n",
      "\n",
      "{2: 3, 4: 1, 6: 3, 8: 2, 10: 1}\n"
     ]
    }
   ],
   "source": [
    "print(dicerolls(k,n))"
   ]
  },
  {
   "cell_type": "markdown",
   "metadata": {},
   "source": [
    "###### Probability\n",
    "***"
   ]
  },
  {
   "cell_type": "markdown",
   "metadata": {},
   "source": [
    "- computing - bit - variable that can take on one of two values - ``1`` - ``0`` - unless some information is presented ahead of time about what the bit contains then can assume to get - ``1`` - half the time - ``0`` - half the time [\n",
    "[...] I. McLoughlin, \"Coin flipping in Python,\" GMIT, September 2019.\n",
    "]"
   ]
  },
  {
   "cell_type": "markdown",
   "metadata": {},
   "source": [
    "- coin flip - one of two outcomes - head - ``1`` - tail - ``1`` - fair coin - normal to assume flip outcome equally likely - give head - ``50%`` - of the time - give tail - ``50%`` - of the time [\n",
    "[...] I. McLoughlin, \"Coin flipping in Python,\" GMIT, September 2019.\n",
    "]"
   ]
  },
  {
   "cell_type": "markdown",
   "metadata": {},
   "source": [
    "- dice roll - one of six outcomes - ``1`` - ``2`` - ``3`` - ``4`` - ``5`` - ``6`` - fair dice - normal to assume roll outcome approximately - ``16.7%`` - likely - give each face value - ``1`` - ``2`` - ``3`` - ``4`` - ``5`` - ``6`` - ``~16.7%`` - chance [\n",
    "[...] I. McLoughlin, \"Coin flipping in Python,\" GMIT, September 2019.\n",
    "]"
   ]
  },
  {
   "cell_type": "markdown",
   "metadata": {},
   "source": [
    "- generally in mathematics - statistics - probability - data analytics - do not like percentages for uncertain outcomes - percentage just means out of a 100 - something that happens 50% of the time - means that out of 100 times of doing it - 50 of those are likely to be something - flip a coin 100 times - expect about 50 heads [\n",
    "[...] I. McLoughlin, \"Coin flipping in Python,\" GMIT, September 2019.\n",
    "]"
   ]
  },
  {
   "cell_type": "markdown",
   "metadata": {},
   "source": [
    "- prefer to say that the probability of something is a value between zero and one [\n",
    "[...] I. McLoughlin, \"Coin flipping in Python,\" GMIT, September 2019.\n",
    "] - interval - ``[0,1]`` - greater than or equal to 0 and less than or equal to 1 [\n",
    "[...] Wikipedia, \"Interval (mathematics),\" [wikipedia](http://web.archive.org/web/20200925042254/https://en.wikipedia.org/wiki/Interval_%28mathematics%29), \n",
    "reference] n.d.\n",
    "]"
   ]
  },
  {
   "cell_type": "markdown",
   "metadata": {},
   "source": [
    "- each face value - ``16.7%`` - chance - prefer - probability - ``0.167`` - obviously in a given scenario - if wondering what the value of something is going to come out at - all of the possible values - probabilities of all - should sum up to - ``1`` - for instance when flipping a coin - know the probability of getting a head is - ``0.5`` - know the only other possible outcome is a tail - then it too must have a probability of - ``0.5`` - because the two probabilities must add up to - ``1`` [\n",
    "[...] I. McLoughlin, \"Coin flipping in Python,\" GMIT, September 2019.\n",
    "]"
   ]
  },
  {
   "cell_type": "markdown",
   "metadata": {},
   "source": [
    "- rolling three dice - intuitively would expect the three dice rolls should come up different the majority of the time - question - chance of all three rolls being different [\n",
    "[...] M. Haahr, \"Frequently Asked Questions (FAQ),\" [random](https://web.archive.org/web/20201115135742/https://www.random.org/faq/#Q2.8), n.d.\n",
    "]"
   ]
  },
  {
   "cell_type": "markdown",
   "metadata": {},
   "source": [
    "- first die is trival in that any of the six possible values could show - none will result in duplicates [\n",
    "[...] M. Haahr, \"Frequently Asked Questions (FAQ),\" [random](https://web.archive.org/web/20201115135742/https://www.random.org/faq/#Q2.8), n.d.\n",
    "]"
   ]
  },
  {
   "cell_type": "code",
   "execution_count": 1,
   "metadata": {},
   "outputs": [
    {
     "data": {
      "text/plain": [
       "'<probability> 1 <duplicates> 0%'"
      ]
     },
     "execution_count": 1,
     "metadata": {},
     "output_type": "execute_result"
    }
   ],
   "source": [
    "\"<probability> {:.0f} <duplicates> {:.0f}%\".format(6/6,(1-(6/6)))"
   ]
  },
  {
   "cell_type": "markdown",
   "metadata": {},
   "source": [
    "- second die coming up different from the first - one less [\n",
    "[...] M. Haahr, \"Frequently Asked Questions (FAQ),\" [random](https://web.archive.org/web/20201115135742/https://www.random.org/faq/#Q2.8), n.d.\n",
    "]"
   ]
  },
  {
   "cell_type": "code",
   "execution_count": 2,
   "metadata": {},
   "outputs": [
    {
     "data": {
      "text/plain": [
       "'<probability> 1 <duplicates> 16.67%'"
      ]
     },
     "execution_count": 2,
     "metadata": {},
     "output_type": "execute_result"
    }
   ],
   "source": [
    "\"<probability> {:.0f} <duplicates> {:.2f}%\".format(5/6,(1-(6/6)*(5/6))*100)"
   ]
  },
  {
   "cell_type": "markdown",
   "metadata": {},
   "source": [
    "- third die coming up different from the first and second - two less [\n",
    "[...] M. Haahr, \"Frequently Asked Questions (FAQ),\" [random](https://web.archive.org/web/20201115135742/https://www.random.org/faq/#Q2.8), n.d.\n",
    "]"
   ]
  },
  {
   "cell_type": "code",
   "execution_count": 3,
   "metadata": {},
   "outputs": [
    {
     "data": {
      "text/plain": [
       "'<probability> 1 <duplicates> 44.44%'"
      ]
     },
     "execution_count": 3,
     "metadata": {},
     "output_type": "execute_result"
    }
   ],
   "source": [
    "\"<probability> {:.0f} <duplicates> {:.2f}%\".format(5/6,(1-(6/6)*(5/6)*(4/6))*100)"
   ]
  },
  {
   "cell_type": "markdown",
   "metadata": {},
   "source": [
    "- total probability - ``~0.56`` - of all three turning out different [\n",
    "[...] M. Haahr, \"Frequently Asked Questions (FAQ),\" [random](https://web.archive.org/web/20201115135742/https://www.random.org/faq/#Q2.8), n.d.\n",
    "]\n",
    "\n",
    "$$\\frac6{6}*\\frac5{6}*\\frac4{6}\\approx55.55\\%$$"
   ]
  },
  {
   "cell_type": "markdown",
   "metadata": {},
   "source": [
    "## 6"
   ]
  },
  {
   "cell_type": "code",
   "execution_count": 4,
   "metadata": {},
   "outputs": [
    {
     "data": {
      "text/plain": [
       "0.015432098765432098"
      ]
     },
     "execution_count": 4,
     "metadata": {},
     "output_type": "execute_result"
    }
   ],
   "source": [
    "(6/6)*(5/6)*(4/6)*(3/6)*(2/6)*(1/6)"
   ]
  },
  {
   "cell_type": "markdown",
   "metadata": {},
   "source": [
    "## 5"
   ]
  },
  {
   "cell_type": "code",
   "execution_count": 5,
   "metadata": {},
   "outputs": [
    {
     "data": {
      "text/plain": [
       "0.09259259259259259"
      ]
     },
     "execution_count": 5,
     "metadata": {},
     "output_type": "execute_result"
    }
   ],
   "source": [
    "(6/6)*(5/6)*(4/6)*(3/6)*(2/6)"
   ]
  },
  {
   "cell_type": "markdown",
   "metadata": {},
   "source": [
    "## 4"
   ]
  },
  {
   "cell_type": "code",
   "execution_count": 6,
   "metadata": {},
   "outputs": [
    {
     "data": {
      "text/plain": [
       "0.2777777777777778"
      ]
     },
     "execution_count": 6,
     "metadata": {},
     "output_type": "execute_result"
    }
   ],
   "source": [
    "(6/6)*(5/6)*(4/6)*(3/6)"
   ]
  },
  {
   "cell_type": "markdown",
   "metadata": {},
   "source": [
    "## 3"
   ]
  },
  {
   "cell_type": "code",
   "execution_count": 7,
   "metadata": {},
   "outputs": [
    {
     "data": {
      "text/plain": [
       "0.5555555555555556"
      ]
     },
     "execution_count": 7,
     "metadata": {},
     "output_type": "execute_result"
    }
   ],
   "source": [
    "(6/6)*(5/6)*(4/6)"
   ]
  },
  {
   "cell_type": "markdown",
   "metadata": {},
   "source": [
    "## 2"
   ]
  },
  {
   "cell_type": "code",
   "execution_count": 8,
   "metadata": {},
   "outputs": [
    {
     "data": {
      "text/plain": [
       "0.8333333333333334"
      ]
     },
     "execution_count": 8,
     "metadata": {},
     "output_type": "execute_result"
    }
   ],
   "source": [
    "(6/6)*(5/6)"
   ]
  },
  {
   "cell_type": "markdown",
   "metadata": {},
   "source": [
    "## 1"
   ]
  },
  {
   "cell_type": "code",
   "execution_count": 9,
   "metadata": {},
   "outputs": [
    {
     "data": {
      "text/plain": [
       "1.0"
      ]
     },
     "execution_count": 9,
     "metadata": {},
     "output_type": "execute_result"
    }
   ],
   "source": [
    "(6/6)"
   ]
  },
  {
   "cell_type": "markdown",
   "metadata": {},
   "source": [
    "***\n",
    "#### References\n",
    "&nbsp;&nbsp;&nbsp;&nbsp;&nbsp;&nbsp;&nbsp;&nbsp;&nbsp;[1] authorNames, referenceTitle, locationWebsiteBookVideo, dateMonthYear.\n",
    "\n",
    "&nbsp;&nbsp;&nbsp;&nbsp;&nbsp;&nbsp;&nbsp;[10]\n",
    "\n",
    "&nbsp;&nbsp;&nbsp;&nbsp;&nbsp;[100]\n",
    "\n",
    "&nbsp;&nbsp;&nbsp;[1000]\n",
    "***\n",
    "#### END"
   ]
  },
  {
   "cell_type": "markdown",
   "metadata": {},
   "source": [
    "#### Task 3\n",
    "&#x1F4CC;\n",
    "***"
   ]
  },
  {
   "cell_type": "markdown",
   "metadata": {},
   "source": [
    "***\n",
    "#### References\n",
    "&nbsp;&nbsp;&nbsp;&nbsp;&nbsp;&nbsp;&nbsp;&nbsp;&nbsp;[1] authorNames, referenceTitle, locationWebsiteBookVideo, dateMonthYear.\n",
    "\n",
    "&nbsp;&nbsp;&nbsp;&nbsp;&nbsp;&nbsp;&nbsp;[10]\n",
    "\n",
    "&nbsp;&nbsp;&nbsp;&nbsp;&nbsp;[100]\n",
    "\n",
    "&nbsp;&nbsp;&nbsp;[1000]\n",
    "***\n",
    "#### END"
   ]
  },
  {
   "cell_type": "markdown",
   "metadata": {},
   "source": [
    "#### Task 4\n",
    "&#x1F4CC;\n",
    "***"
   ]
  },
  {
   "cell_type": "markdown",
   "metadata": {},
   "source": [
    "***\n",
    "#### References\n",
    "&nbsp;&nbsp;&nbsp;&nbsp;&nbsp;&nbsp;&nbsp;&nbsp;&nbsp;[1] authorNames, referenceTitle, locationWebsiteBookVideo, dateMonthYear.\n",
    "\n",
    "&nbsp;&nbsp;&nbsp;&nbsp;&nbsp;&nbsp;&nbsp;[10]\n",
    "\n",
    "&nbsp;&nbsp;&nbsp;&nbsp;&nbsp;[100]\n",
    "\n",
    "&nbsp;&nbsp;&nbsp;[1000]\n",
    "***\n",
    "#### END"
   ]
  },
  {
   "cell_type": "markdown",
   "metadata": {},
   "source": [
    "***\n",
    "#### Appendix A\n",
    "\n",
    "```python\n",
    "# \"Classy\" solution...\n",
    "class Bag(dict):\n",
    "    def __init__(self, alist):\n",
    "        for elem in alist:\n",
    "            self.add(elem)\n",
    "\n",
    "    def add(self, elem):\n",
    "        self[elem] = self.get(elem, 0) + 1\n",
    "\n",
    "    def __str__(self):\n",
    "        out = ['%-8s %3d' % (key, val)\n",
    "                        for (key, val) in sorted(self.items())]\n",
    "        return '\\n'.join(out)\n",
    "\n",
    "print Bag('foo bar bar foo glag foo'.split())\n",
    "```\n",
    "\n",
    "[...] E. Wiethoff, \"Bag Sum In Many Programming Languages,\" [wiki.c2](https://web.archive.org/web/20201107143701/https://wiki.c2.com/?BagSumInManyProgrammingLanguages), n.d.\n",
    "\n",
    "#### Appendix B\n",
    "\n",
    "```python\n",
    "# Pythonic ListComprehension and loop solution...\n",
    "bag = 'foo bar bar foo glag foo'.split()\n",
    "bagsum = dict([(elem, bag.count(elem)) for elem in bag])\n",
    "for key, val in sorted(bagsum.items()):\n",
    "    print '%-8s %3d' % (key, val)\n",
    "```\n",
    "\n",
    "[...] E. Wiethoff, \"Bag Sum In Many Programming Languages,\" [wiki.c2](https://web.archive.org/web/20201107143701/https://wiki.c2.com/?BagSumInManyProgrammingLanguages), n.d.\n",
    "\n",
    "#### Appendix C\n",
    "\n",
    "```python\n",
    "words = 'foo bar bar foo glag foo'.split()\n",
    "words.sort()\n",
    "prev, count = words[0], 1\n",
    "for word in words[1:]:\n",
    "    if word == prev:\n",
    "        count += 1\n",
    "    else:\n",
    "        print prev, count\n",
    "        prev, count = word, 1\n",
    "print prev, count\n",
    "```\n",
    "\n",
    "[...] Anonymous, \"Bag Sum In Many Programming Languages,\" [wiki.c2](https://web.archive.org/web/20201107143701/https://wiki.c2.com/?BagSumInManyProgrammingLanguages), n.d.\n",
    "***\n",
    "#### END"
   ]
  },
  {
   "cell_type": "markdown",
   "metadata": {},
   "source": [
    "***\n",
    "# END"
   ]
  }
 ],
 "metadata": {
  "kernelspec": {
   "display_name": "Python 3",
   "language": "python",
   "name": "python3"
  },
  "language_info": {
   "codemirror_mode": {
    "name": "ipython",
    "version": 3
   },
   "file_extension": ".py",
   "mimetype": "text/x-python",
   "name": "python",
   "nbconvert_exporter": "python",
   "pygments_lexer": "ipython3",
   "version": "3.8.3"
  }
 },
 "nbformat": 4,
 "nbformat_minor": 4
}
