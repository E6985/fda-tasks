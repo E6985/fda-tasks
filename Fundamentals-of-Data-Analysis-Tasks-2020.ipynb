{
 "cells": [
  {
   "cell_type": "markdown",
   "metadata": {},
   "source": [
    "< [GMIT Data Analytics](https://web.archive.org/web/20201029063153/https://www.gmit.ie/computer-science-and-applied-physics/higher-diploma-science-computing-data-analytics-ict) | [Table of Contents](https://github.com/E6985) | [README](https://github.com/E6985/fda-tasks/blob/main/README.md) >\n",
    "\n",
    "![GMIT](https://github.com/E6985/pda-numpy-random/blob/main/img/gmit.png?raw=true)\n",
    "\n",
    "## Fundamentals of Data Analysis - Tasks 2020\n",
    "## Due: last commit on or before December 18th, 2020\n",
    "***"
   ]
  },
  {
   "cell_type": "markdown",
   "metadata": {},
   "source": [
    "<a id=\"top\"></a>\n",
    "< [README](https://github.com/E6985/fda-tasks/blob/main/README.md) | [References](#references) >\n",
    "\n",
    "## Instructions\n",
    "\n",
    "These are the instructions for the Tasks assessment for Fundamentals of Data Analysis in 2020. Four tasks will be listed here at different times during the semester. Should complete all tasks in a single Jupyter notebook. This, along with relevant files like a README, should be in a single git repository synced with a hosting provider like GitHub.\n",
    "\n",
    "[Task 1](#task-1). Python function - counts.\n",
    "\n",
    "> Write a Python function called counts that takes a list as input and returns a dictionary of unique items in the list as keys and the number of times each item appears as values. So, the input ``['A', 'A', 'B', 'C', 'A']`` should have output ``{'A': 3, 'B': 1, 'C': 1}``. Your code should not depend on any module from the standard library or otherwise. By the standard library, we mean the modules and packages that come as standard with Python. Anything built-in that can be used without an import statement can be used. You should research the task first and include a description with references of your algorithm in the notebook.\n",
    "\n",
    "[Task 2](#task-2). Python function - diceroll.\n",
    "\n",
    "> Write a Python function called dicerolls that simulates rolling dice. Your function should take two parameters: i) the number of dice ``k`` and; ii) the number of times to roll the dice ``n``. The function should simulate randomly rolling ``k`` dice ``n`` times, keeping track of each total face value. It should then return a dictionary with the number of times each possible total face value occurred. So, calling the function as ``diceroll(k=2, n=1000)`` should return a dictionary like:\n",
    "\n",
    "> ``{2:19,3:50,4:82,5:112,6:135,7:174,8:133,9:114,10:75,11:70,12:36}``\n",
    "\n",
    "> You can use any module from the Python standard library you wish and you should include a description with references of your algorithm in the notebook.\n",
    "\n",
    "[Task 3](#task-3). Simulate coin flip - numpy.random.binomial.\n",
    "\n",
    "> The ``numpy.random.binomial`` function can be used to simulate flipping a coin with a 50/50 chance of heads or tails. Interestingly, if a coin is flipped many times then the number of heads is well approximated by a bell-shaped curve. For instance, if we flip a coin 100 times in a row the chance of getting 50 heads is relatively high, the chances of getting 0 or 100 heads is relatively low, and the chances of getting any other number of heads decreases as you move away from 50 in either direction towards 0 or 100. Write some python code that simulates flipping a coin 100 times. Then run this code 1,000 times, keeping track of the number of heads in each of the 1,000 simulations. Select an appropriate plot to depict the resulting list of 1,000 numbers, showing that it roughly follows a bell-shaped curve. You should explain your work in a Markdown cell above the code.\n",
    "\n",
    "[Task 4](#task-4). Demonstrate Simpson's paradox.\n",
    "\n",
    "> Simpson’s paradox is a well-known statistical paradox where a trend evident in a number of groups reverses when the groups are combined into one big dataset. Use numpy to create four datasets, each with an ``x`` array and a corresponding ``y`` array, to demonstrate Simpson’s paradox. You might create your ``x`` arrays using ``numpy.linspace`` and create the ``y`` array for each ``x`` using notation like ``y = a * x + b`` where you choose the ``a`` and ``b`` for each ``x``, ``y`` pair to demonstrate the paradox. You might see the Wikipedia page for Simpson’s paradox for inspiration."
   ]
  },
  {
   "cell_type": "markdown",
   "metadata": {},
   "source": [
    "## END"
   ]
  },
  {
   "cell_type": "markdown",
   "metadata": {},
   "source": [
    "< [Instructions](#top) | [README](https://github.com/E6985/fda-tasks/blob/main/README.md) | [Task 2](#task-2) | [Task 3](#task-3) | [Task 4](#task-4) | [References](#references) >\n",
    "<a id=\"task-1\"></a>\n",
    "***\n",
    "## Task 1\n",
    "### Python function - counts.\n",
    "***"
   ]
  },
  {
   "cell_type": "markdown",
   "metadata": {},
   "source": [
    "< [Instructions](#top) | [README](https://github.com/E6985/fda-tasks/blob/main/README.md) | [Introduction](#task-1-introduction) | [Solution](#task-1-solution) | [Conclusion](#task-1-conclusion) >\n",
    "<a id=\"task-1-abstract\"></a>\n",
    "### Abstract\n",
    "***"
   ]
  },
  {
   "cell_type": "markdown",
   "metadata": {},
   "source": [
    "- ``\"dictionary\"`` - unorderd data collection type with flexible mappings of keys to values - ``key:value`` pairs - wrapped in curly braces [1]"
   ]
  },
  {
   "cell_type": "markdown",
   "metadata": {},
   "source": [
    "- function ``counts`` should take any list containing any items and return a dictionary of unique items in the list as keys and the number of times each item appears as values [2]"
   ]
  },
  {
   "cell_type": "markdown",
   "metadata": {},
   "source": [
    "< [Instructions](#top) | [README](https://github.com/E6985/fda-tasks/blob/main/README.md) | [Abstract](#task-1-abstract) | [Solution](#task-1-solution) | [Conclusion](#task-1-conclusion) >\n",
    "<a id=\"task-1-introduction\"></a>\n",
    "### Introduction\n",
    "***"
   ]
  },
  {
   "cell_type": "markdown",
   "metadata": {},
   "source": [
    "- algorithm designed should be based on imagining the list - ``nArgList`` - containing items such as letters in strings or something other than strings maybe single character(s) or containing number(s) or maybe even other lists [2]"
   ]
  },
  {
   "cell_type": "code",
   "execution_count": 1,
   "metadata": {},
   "outputs": [],
   "source": [
    "nArgList=[\"A\",\"A\",\"B\",\"C\",\"A\"]"
   ]
  },
  {
   "cell_type": "markdown",
   "metadata": {},
   "source": [
    "- pythons built-in module ``collections`` provides alternatives to pythons general purpose built-in container ``dict`` [3]"
   ]
  },
  {
   "cell_type": "code",
   "execution_count": 2,
   "metadata": {},
   "outputs": [],
   "source": [
    "# a_S_tandard_L_ibrary-imports\n",
    "from collections import Counter"
   ]
  },
  {
   "cell_type": "markdown",
   "metadata": {},
   "source": [
    "- elements are stored as dictionary ``keys`` and the count of each element are stored as dictionary ``values`` [3]"
   ]
  },
  {
   "cell_type": "code",
   "execution_count": 3,
   "metadata": {},
   "outputs": [
    {
     "data": {
      "text/plain": [
       "Counter({'A': 3, 'B': 1, 'C': 1})"
      ]
     },
     "execution_count": 3,
     "metadata": {},
     "output_type": "execute_result"
    }
   ],
   "source": [
    "# a_S_tandard_L_ibrary-imports\n",
    "# module collections - object Counter - instantiate\n",
    "Counter(nArgList)"
   ]
  },
  {
   "cell_type": "markdown",
   "metadata": {},
   "source": [
    "- implementation is based on the algorithm used in the programming language ``Smalltalk`` - ``Bag.sortedByCount`` [4][5] - line ``568`` [6]"
   ]
  },
  {
   "cell_type": "code",
   "execution_count": 4,
   "metadata": {},
   "outputs": [
    {
     "name": "stdout",
     "output_type": "stream",
     "text": [
      "   559\t    def most_common(self, n=None):\n",
      "   560\t        '''List the n most common elements and their counts from the most\n",
      "   561\t        common to the least.  If n is None, then list all element counts.\n",
      "   562\t\n",
      "   563\t        >>> Counter('abracadabra').most_common(3)\n",
      "   564\t        [('a', 5), ('b', 2), ('r', 2)]\n",
      "   565\t\n",
      "   566\t        '''\n",
      "   567\t        # Emulate Bag.sortedByCount from Smalltalk\n",
      "   568\t        if n is None:\n",
      "   569\t            return sorted(self.items(), key=_itemgetter(1), reverse=True)\n",
      "   570\t        return _heapq.nlargest(n, self.items(), key=_itemgetter(1))\n"
     ]
    }
   ],
   "source": [
    "%%script bash\n",
    "cat -n C:/Users/E6985/anaconda3/lib/collections/__init__.py | grep \"def most_common\" -A 11"
   ]
  },
  {
   "cell_type": "markdown",
   "metadata": {},
   "source": [
    "< [Instructions](#top) | [README](https://github.com/E6985/fda-tasks/blob/main/README.md) | [Abstract](#task-1-abstract) | [Introduction](#task-1-introduction) | [Conclusion](#task-1-conclusion) >\n",
    "<a id=\"task-1-solution\"></a>\n",
    "### Solution\n",
    "***"
   ]
  },
  {
   "cell_type": "markdown",
   "metadata": {},
   "source": [
    "###### Multiset Theory\n",
    "***"
   ]
  },
  {
   "cell_type": "markdown",
   "metadata": {},
   "source": [
    "- ``graphy theory``/``abstract algebra``/``real analysis``/``complex analysis``/``linear algebra``/``number theory`` and the list goes on all share in common the ``set`` - collection of distinct objects separated by a comma wrapped in curly brackets grouped together with a certain property in common [7]"
   ]
  },
  {
   "cell_type": "markdown",
   "metadata": {},
   "source": [
    "- ``multiset`` theory - ``mset`` - commonly accepted name replacing ``bag``/``bunch``/``weighted set``/``occurrence set``/``heap``/``sample``/``fireset`` is a modification of the ``set`` whereby a collection of objects called elements can occur many times [8]"
   ]
  },
  {
   "cell_type": "markdown",
   "metadata": {},
   "source": [
    "- the order is ignored and the number of elements occurring in a ``mset`` is called multiplicity [8] which is explicitly significant having a precise number of elements [9]\n",
    "\n",
    "$$\\{3,1,2\\}\\equiv\\{1,2,3\\}$$\n",
    "\n",
    "$$\\{3,3,1,2\\}\\ne\\{1,2,3\\}$$"
   ]
  },
  {
   "cell_type": "markdown",
   "metadata": {},
   "source": [
    "- the multiplicity of an element is defined as the number of times it occurs in the ``mset`` - denoted by listing its elements separated by commas between curly braces which is similiar to pythons unorderd data collection type ``dict`` [10]\n",
    "\n",
    "$$\\{a,a,b,c,a\\}$$\n",
    "\n",
    "- elements are listed with their multiplicities as colon-separated pairs [10]\n",
    "\n",
    "$$\\{a:3,b:1,c:1\\}$$"
   ]
  },
  {
   "cell_type": "markdown",
   "metadata": {},
   "source": [
    "<a id=\"object-oriented-approach\"></a>\n",
    "###### Object-Oriented Approach\n",
    "***"
   ]
  },
  {
   "cell_type": "markdown",
   "metadata": {},
   "source": [
    "- [Appendix A](#appendix-a) - source code of an object-oriented implementation of ``mset`` called ``bag`` reengineered to create the ``class Counts`` derived from the object ``dict`` [11]\n",
    "\n",
    "- keyword ``class`` indicates creation which is to say it creates an object [12]\n",
    "\n",
    "```python\n",
    "# define class - Counts\n",
    "class Counts(dict):\n",
    "```"
   ]
  },
  {
   "cell_type": "markdown",
   "metadata": {},
   "source": [
    "- method ``__init__`` initialises an objects initial attributes (default values or state) and must have at least one argument named ``self`` which is referring to the object itself [12]\n",
    "\n",
    "\n",
    "- ``__init__`` is called automatically when creating a new ``Counts`` instance [12]\n",
    "\n",
    "```python\n",
    "# instance attributes - initialiser\n",
    "def __init__(self,nArgInput):\n",
    "```\n",
    "\n",
    "- iterating through each element in the input list ``nArgInput`` passing each as an argument to the method ``performCount`` [13]\n",
    "\n",
    "```python\n",
    "    for nEachElement in nArgInput:\n",
    "        self.performCount(nEachElement)\n",
    "```"
   ]
  },
  {
   "cell_type": "markdown",
   "metadata": {},
   "source": [
    "- method ``performCount`` parameter object ``self`` is the set of elements from the input list ``nArgInput`` and is assigned the count of each occurrence of the list elements which is to say its keeping count by adding ``1`` to each occurrence [14]\n",
    "\n",
    "```python\n",
    "# instance attributes - initialiser\n",
    "def performCount(self,nEachElement):\n",
    "    self[nEachElement]=self.get(nEachElement,0)+1\n",
    "```"
   ]
  },
  {
   "cell_type": "markdown",
   "metadata": {},
   "source": [
    "- method ``__dict__`` returns a compressed list-building ``for`` loop into a single short readable line [15]\n",
    "\n",
    "\n",
    "- ``self`` iterates through the dictionary and the ``key`` plus corresponding ``value`` is retrieved at the same time using the built-in method ``items`` [16]\n",
    "\n",
    "```python\n",
    "def __dict__(self):\n",
    "    return [(nEachKey,nEachvalue) for (nEachKey,nEachvalue) in sorted(self.items())]\n",
    "```"
   ]
  },
  {
   "cell_type": "markdown",
   "metadata": {},
   "source": [
    "- can see similarities in the module ``collections`` implementation - line ``569`` [4]"
   ]
  },
  {
   "cell_type": "code",
   "execution_count": 5,
   "metadata": {},
   "outputs": [
    {
     "name": "stdout",
     "output_type": "stream",
     "text": [
      "   567\t        # Emulate Bag.sortedByCount from Smalltalk\n",
      "   568\t        if n is None:\n",
      "   569\t            return sorted(self.items(), key=_itemgetter(1), reverse=True)\n"
     ]
    }
   ],
   "source": [
    "%%script bash\n",
    "cat -n C:/Users/E6985/anaconda3/lib/collections/__init__.py | grep \"# Emulate Bag.sortedByCount from Smalltalk\" -A 2"
   ]
  },
  {
   "cell_type": "code",
   "execution_count": 6,
   "metadata": {},
   "outputs": [],
   "source": [
    "# define class - Counts\n",
    "class Counts(dict):\n",
    "    # instance attributes - initialiser\n",
    "    def __init__(self,nArgInput):\n",
    "        for nEachElement in nArgInput:\n",
    "            self.performCount(nEachElement)\n",
    "    # instance attributes - initialiser\n",
    "    def performCount(self,nEachElement):\n",
    "        self[nEachElement]=self.get(nEachElement,0)+1\n",
    "    # instance attributes - initialiser\n",
    "    def __dict__(self):\n",
    "        return [(nEachKey,nEachvalue) for (nEachKey,nEachvalue) in sorted(self.items())]"
   ]
  },
  {
   "cell_type": "code",
   "execution_count": 7,
   "metadata": {
    "scrolled": true
   },
   "outputs": [
    {
     "data": {
      "text/plain": [
       "{'A': 3, 'B': 1, 'C': 1}"
      ]
     },
     "execution_count": 7,
     "metadata": {},
     "output_type": "execute_result"
    }
   ],
   "source": [
    "# object Counts - instantiate\n",
    "Counts(nArgList)"
   ]
  },
  {
   "cell_type": "markdown",
   "metadata": {},
   "source": [
    "<a id=\"eliminate-duplicates-approach\"></a>\n",
    "###### Eliminate Duplicates Approach\n",
    "***"
   ]
  },
  {
   "cell_type": "markdown",
   "metadata": {},
   "source": [
    "- [Appendix B](#appendix-b) - source code of a list comprehension implementation of ``mset`` called ``bag`` reengineered to use a dictionary to get rid of duplicate elements in the list to be counted - ``nArgList`` [11]"
   ]
  },
  {
   "cell_type": "markdown",
   "metadata": {},
   "source": [
    "- list comprehensions compress a list-building ``for`` loop into a single short readable line [15]"
   ]
  },
  {
   "cell_type": "markdown",
   "metadata": {},
   "source": [
    "- module ``array`` using method ``count`` returns the number of occurrences of each element in the array [17]"
   ]
  },
  {
   "cell_type": "code",
   "execution_count": 8,
   "metadata": {},
   "outputs": [
    {
     "data": {
      "text/plain": [
       "[('A', 3), ('A', 3), ('B', 1), ('C', 1), ('A', 3)]"
      ]
     },
     "execution_count": 8,
     "metadata": {},
     "output_type": "execute_result"
    }
   ],
   "source": [
    "[(nEachElement,nArgList.count(nEachElement)) for nEachElement in nArgList]"
   ]
  },
  {
   "cell_type": "markdown",
   "metadata": {},
   "source": [
    "- wrapping the list comprehension within the constructor ``dict`` create a new dictionary [18]"
   ]
  },
  {
   "cell_type": "markdown",
   "metadata": {},
   "source": [
    "- if a key occurs more than once then the last value for that key becomes the corresponding value in the new dictionary effectively eliminating duplicate elements [18]"
   ]
  },
  {
   "cell_type": "code",
   "execution_count": 9,
   "metadata": {},
   "outputs": [
    {
     "data": {
      "text/plain": [
       "{'A': 3, 'B': 1, 'C': 1}"
      ]
     },
     "execution_count": 9,
     "metadata": {},
     "output_type": "execute_result"
    }
   ],
   "source": [
    "dict([(nEachElement,nArgList.count(nEachElement)) for nEachElement in nArgList])"
   ]
  },
  {
   "cell_type": "code",
   "execution_count": 10,
   "metadata": {},
   "outputs": [],
   "source": [
    "# define function - counts\n",
    "def counts(nParList):\n",
    "    return dict([(nEachElement,nArgList.count(nEachElement)) for nEachElement in nArgList])"
   ]
  },
  {
   "cell_type": "code",
   "execution_count": 11,
   "metadata": {},
   "outputs": [
    {
     "data": {
      "text/plain": [
       "{'A': 3, 'B': 1, 'C': 1}"
      ]
     },
     "execution_count": 11,
     "metadata": {},
     "output_type": "execute_result"
    }
   ],
   "source": [
    "# function counts - call\n",
    "counts(nArgList)"
   ]
  },
  {
   "cell_type": "markdown",
   "metadata": {},
   "source": [
    "< [Instructions](#top) | [README](https://github.com/E6985/fda-tasks/blob/main/README.md) | [Abstract](#task-1-abstract) | [Introduction](#task-1-introduction) | [Solution](#task-1-solution) >\n",
    "<a id=\"task-1-conclusion\"></a>\n",
    "### Conclusion\n",
    "***"
   ]
  },
  {
   "cell_type": "markdown",
   "metadata": {},
   "source": [
    "- in conclusion the code for function ``counts`` should not depend on any part of the standard library that has to be imported and should take any list containing any items and return a dictionary of unique items in the list as ``keys`` and the number of times each item appears as ``values`` [2]"
   ]
  },
  {
   "cell_type": "markdown",
   "metadata": {},
   "source": [
    "<a id=\"sort-tally-approach\"></a>\n",
    "###### Sort Tally Approach\n",
    "***"
   ]
  },
  {
   "cell_type": "markdown",
   "metadata": {},
   "source": [
    "- [Appendix C](#appendix-c) - source code of a no-frills sort and tally implementation with little use of built-in functions and methods has being reengineered for the function ``counts`` [19]"
   ]
  },
  {
   "cell_type": "markdown",
   "metadata": {},
   "source": [
    "- referring back to the module ``collections`` implementation - line ``569`` [4] uses the function ``sorted`` to return a sorted list object from the items in an iterable [20]"
   ]
  },
  {
   "cell_type": "code",
   "execution_count": 12,
   "metadata": {},
   "outputs": [
    {
     "name": "stdout",
     "output_type": "stream",
     "text": [
      "   567\t        # Emulate Bag.sortedByCount from Smalltalk\n",
      "   568\t        if n is None:\n",
      "   569\t            return sorted(self.items(), key=_itemgetter(1), reverse=True)\n"
     ]
    }
   ],
   "source": [
    "%%script bash\n",
    "cat -n C:/Users/E6985/anaconda3/lib/collections/__init__.py | grep \"# Emulate Bag.sortedByCount from Smalltalk\" -A 2"
   ]
  },
  {
   "cell_type": "markdown",
   "metadata": {},
   "source": [
    "- initial test data [13]"
   ]
  },
  {
   "cell_type": "code",
   "execution_count": 13,
   "metadata": {},
   "outputs": [
    {
     "data": {
      "text/plain": [
       "['A', 'A', 'B', 'C', 'A']"
      ]
     },
     "execution_count": 13,
     "metadata": {},
     "output_type": "execute_result"
    }
   ],
   "source": [
    "nArgList=[\"A\",\"A\",\"B\",\"C\",\"A\"]\n",
    "nArgList"
   ]
  },
  {
   "cell_type": "markdown",
   "metadata": {},
   "source": [
    "- method ``sort`` modifies the list in-place [18]"
   ]
  },
  {
   "cell_type": "code",
   "execution_count": 14,
   "metadata": {},
   "outputs": [
    {
     "data": {
      "text/plain": [
       "['A', 'A', 'A', 'B', 'C']"
      ]
     },
     "execution_count": 14,
     "metadata": {},
     "output_type": "execute_result"
    }
   ],
   "source": [
    "nArgList.sort()\n",
    "nArgList"
   ]
  },
  {
   "cell_type": "markdown",
   "metadata": {},
   "source": [
    "- initialise an empty ``dict`` which will eventually be the original list ``nArgList`` as ``key:value`` pairs [13]"
   ]
  },
  {
   "cell_type": "code",
   "execution_count": 15,
   "metadata": {},
   "outputs": [
    {
     "data": {
      "text/plain": [
       "{}"
      ]
     },
     "execution_count": 15,
     "metadata": {},
     "output_type": "execute_result"
    }
   ],
   "source": [
    "nDictionary={}\n",
    "nDictionary"
   ]
  },
  {
   "cell_type": "markdown",
   "metadata": {},
   "source": [
    "- initialise ``nListItem`` the zeroth (first) element in the input list ``nArgList`` [13]"
   ]
  },
  {
   "cell_type": "code",
   "execution_count": 16,
   "metadata": {},
   "outputs": [
    {
     "data": {
      "text/plain": [
       "'A'"
      ]
     },
     "execution_count": 16,
     "metadata": {},
     "output_type": "execute_result"
    }
   ],
   "source": [
    "nListItem=nArgList[0]\n",
    "nListItem"
   ]
  },
  {
   "cell_type": "markdown",
   "metadata": {},
   "source": [
    "- initialise ``nListItemCount`` to ``1`` given the zeroth element from the input list ``nArgList`` will start at count ``1`` [13]"
   ]
  },
  {
   "cell_type": "code",
   "execution_count": 17,
   "metadata": {},
   "outputs": [
    {
     "data": {
      "text/plain": [
       "1"
      ]
     },
     "execution_count": 17,
     "metadata": {},
     "output_type": "execute_result"
    }
   ],
   "source": [
    "nListItemCount=1\n",
    "nListItemCount"
   ]
  },
  {
   "cell_type": "markdown",
   "metadata": {},
   "source": [
    "- accessing elements in compound types such as ``dict`` is done through indexing for single elements and slicing for multiple elements and both approaches are indicated by square-bracket syntax [21]\n",
    "\n",
    "\n",
    "- iterating through the input list ``nArgList`` starting at position index ``1`` given that we have already determined position index ``0`` is the letter ``A`` after the input list ``nArgList`` was sorted via the object list method ``sort`` [13]\n",
    "\n",
    "```python\n",
    "for nEachValue in nArgList[1:]:\n",
    "```\n",
    "\n",
    "- on condition the element under investigation ``nEachValue`` is the same as element assigned to ``nListItem`` then add one to ``nListCount`` which will result in said element now having a count of ``2`` and in addition start populating the result ``nDictionary`` via indexing the first ``key`` to its count and ``value`` to ``nListItemCount`` [13]\n",
    "\n",
    "```python\n",
    "if nEachValue==nListItem:\n",
    "    nListItemcount+=1\n",
    "    nDictionary[nEachValue]=nListItemcount\n",
    "```\n",
    "\n",
    "- if the above condition fails then initialise ``nListItem`` to the ``nEachValue`` which is the current element under investigation from the input list ``nArgList`` and initialise ``nListItemCount`` to restart counting at ``1`` [13]\n",
    "\n",
    "\n",
    "- continue populating ``nDictionary`` via indexing - setting the current element under investigation ``nEachValue`` the ``key`` to its current count ``value``- ``nListItemCount`` [13]\n",
    "\n",
    "```python\n",
    "else:\n",
    "    nListItem,nListItemcount=nEachValue,1\n",
    "    nDictionary[nEachValue]=nListItemcount\n",
    "```\n",
    "\n",
    "- result ``nDictionary`` returned [13]\n",
    "\n",
    "```python\n",
    "return nDictionary\n",
    "```"
   ]
  },
  {
   "cell_type": "code",
   "execution_count": 18,
   "metadata": {},
   "outputs": [],
   "source": [
    "nArgList=['A', 'A', 'B', 'C', 'A'] # reset list - sorted earlier \n",
    "# define function - counts\n",
    "def counts(nParList):\n",
    "    nArgList.sort()\n",
    "    nDictionary={}\n",
    "    nListItem,nListItemcount=nArgList[0],1\n",
    "    for nEachValue in nArgList[1:]:\n",
    "        if nEachValue==nListItem:\n",
    "            nListItemcount+=1\n",
    "            nDictionary[nEachValue]=nListItemcount\n",
    "        else:\n",
    "            nListItem,nListItemcount=nEachValue,1\n",
    "            nDictionary[nEachValue]=nListItemcount\n",
    "    return nDictionary"
   ]
  },
  {
   "cell_type": "code",
   "execution_count": 19,
   "metadata": {},
   "outputs": [
    {
     "data": {
      "text/plain": [
       "{'A': 3, 'B': 1, 'C': 1}"
      ]
     },
     "execution_count": 19,
     "metadata": {},
     "output_type": "execute_result"
    }
   ],
   "source": [
    "# function counts - call\n",
    "counts(nArgList)"
   ]
  },
  {
   "cell_type": "markdown",
   "metadata": {},
   "source": [
    "###### Test Function ``counts``\n",
    "***"
   ]
  },
  {
   "cell_type": "markdown",
   "metadata": {},
   "source": [
    "- testing of function ``counts`` is not as exhaustive as it should be plus its implementation also requires further investigation [13]"
   ]
  },
  {
   "cell_type": "markdown",
   "metadata": {},
   "source": [
    "- function ``fSummary`` created for display purposes only and does not form part of this Jupyter notebook [13]"
   ]
  },
  {
   "cell_type": "code",
   "execution_count": 20,
   "metadata": {},
   "outputs": [],
   "source": [
    "# define function - fSummary\n",
    "def fSummary(nParList):\n",
    "    print(\"<list>         : {}\".format(nParList))\n",
    "    print(\"<length>       : {}\".format(len(nParList)))\n",
    "    print(\"<type >        : \")\n",
    "    return [type(nEachElement) for nEachElement in nParList]"
   ]
  },
  {
   "cell_type": "markdown",
   "metadata": {},
   "source": [
    "- using the most commonly used iterator in python ``range`` to generate a sequence of numbers ``(0,1)`` - by convention the top of the object range is not included in the output [22]"
   ]
  },
  {
   "cell_type": "code",
   "execution_count": 21,
   "metadata": {},
   "outputs": [
    {
     "data": {
      "text/plain": [
       "[0, 1]"
      ]
     },
     "execution_count": 21,
     "metadata": {},
     "output_type": "execute_result"
    }
   ],
   "source": [
    "nArgList=list(range(2))\n",
    "nArgList"
   ]
  },
  {
   "cell_type": "markdown",
   "metadata": {},
   "source": [
    "- append sequence of numbers ``(2,3,2)`` resulting in a list of five distinct elements all of type ``int`` [22]"
   ]
  },
  {
   "cell_type": "code",
   "execution_count": 22,
   "metadata": {
    "scrolled": true
   },
   "outputs": [
    {
     "name": "stdout",
     "output_type": "stream",
     "text": [
      "<list>         : [0, 1, 2, 3, 2]\n",
      "<length>       : 5\n",
      "<type >        : \n"
     ]
    },
    {
     "data": {
      "text/plain": [
       "[int, int, int, int, int]"
      ]
     },
     "execution_count": 22,
     "metadata": {},
     "output_type": "execute_result"
    }
   ],
   "source": [
    "nArgList.append(2)\n",
    "nArgList.append(3)\n",
    "nArgList.append(2)\n",
    "# call function - fSummary\n",
    "fSummary(nArgList)"
   ]
  },
  {
   "cell_type": "code",
   "execution_count": 23,
   "metadata": {},
   "outputs": [
    {
     "data": {
      "text/plain": [
       "{1: 1, 2: 2, 3: 1}"
      ]
     },
     "execution_count": 23,
     "metadata": {},
     "output_type": "execute_result"
    }
   ],
   "source": [
    "# function counts - call\n",
    "counts(nArgList)"
   ]
  },
  {
   "cell_type": "code",
   "execution_count": 24,
   "metadata": {},
   "outputs": [
    {
     "name": "stdout",
     "output_type": "stream",
     "text": [
      "<list>         : {1: 1, 2: 2, 3: 1}\n",
      "<length>       : 3\n",
      "<type >        : \n"
     ]
    },
    {
     "data": {
      "text/plain": [
       "[int, int, int]"
      ]
     },
     "execution_count": 24,
     "metadata": {},
     "output_type": "execute_result"
    }
   ],
   "source": [
    "# call function - fSummary\n",
    "fSummary(counts(nArgList))"
   ]
  },
  {
   "cell_type": "markdown",
   "metadata": {},
   "source": [
    "&#x1F44E; result has three ``key:value`` pairs when four expected - pair associated with ``0`` has no count [13]"
   ]
  },
  {
   "cell_type": "markdown",
   "metadata": {},
   "source": [
    "- using a list comprehension cast all elements in existing list ``nArgList`` to strings [13]"
   ]
  },
  {
   "cell_type": "code",
   "execution_count": 25,
   "metadata": {},
   "outputs": [
    {
     "name": "stdout",
     "output_type": "stream",
     "text": [
      "<list>         : ['0', '1', '2', '2', '3']\n",
      "<length>       : 5\n",
      "<type >        : \n"
     ]
    },
    {
     "data": {
      "text/plain": [
       "[str, str, str, str, str]"
      ]
     },
     "execution_count": 25,
     "metadata": {},
     "output_type": "execute_result"
    }
   ],
   "source": [
    "nArgList=[str(nEachElement) for nEachElement in nArgList]\n",
    "# call function - fSummary\n",
    "fSummary(nArgList)"
   ]
  },
  {
   "cell_type": "code",
   "execution_count": 26,
   "metadata": {},
   "outputs": [
    {
     "name": "stdout",
     "output_type": "stream",
     "text": [
      "<list>         : {'1': 1, '2': 2, '3': 1}\n",
      "<length>       : 3\n",
      "<type >        : \n"
     ]
    },
    {
     "data": {
      "text/plain": [
       "[str, str, str]"
      ]
     },
     "execution_count": 26,
     "metadata": {},
     "output_type": "execute_result"
    }
   ],
   "source": [
    "# call function - fSummary\n",
    "fSummary(counts(nArgList))"
   ]
  },
  {
   "cell_type": "markdown",
   "metadata": {},
   "source": [
    "&#x1F44E; result has three ``key:value`` pairs when four expected - pair associated with ``0`` has no count [13]"
   ]
  },
  {
   "cell_type": "markdown",
   "metadata": {},
   "source": [
    "- list comprehension - cast all elements in existing list - nArgList - to floats [13]"
   ]
  },
  {
   "cell_type": "code",
   "execution_count": 27,
   "metadata": {},
   "outputs": [
    {
     "name": "stdout",
     "output_type": "stream",
     "text": [
      "<list>         : [0.0, 1.0, 2.0, 2.0, 3.0]\n",
      "<length>       : 5\n",
      "<type >        : \n"
     ]
    },
    {
     "data": {
      "text/plain": [
       "[float, float, float, float, float]"
      ]
     },
     "execution_count": 27,
     "metadata": {},
     "output_type": "execute_result"
    }
   ],
   "source": [
    "nArgList=[float(nEachElement) for nEachElement in nArgList]\n",
    "# call function - fSummary\n",
    "fSummary(nArgList)"
   ]
  },
  {
   "cell_type": "code",
   "execution_count": 28,
   "metadata": {},
   "outputs": [
    {
     "data": {
      "text/plain": [
       "{1.0: 1, 2.0: 2, 3.0: 1}"
      ]
     },
     "execution_count": 28,
     "metadata": {},
     "output_type": "execute_result"
    }
   ],
   "source": [
    "# function counts - call\n",
    "counts(nArgList)"
   ]
  },
  {
   "cell_type": "code",
   "execution_count": 29,
   "metadata": {},
   "outputs": [
    {
     "name": "stdout",
     "output_type": "stream",
     "text": [
      "<list>         : {1.0: 1, 2.0: 2, 3.0: 1}\n",
      "<length>       : 3\n",
      "<type >        : \n"
     ]
    },
    {
     "data": {
      "text/plain": [
       "[float, float, float]"
      ]
     },
     "execution_count": 29,
     "metadata": {},
     "output_type": "execute_result"
    }
   ],
   "source": [
    "# call function - fSummary\n",
    "fSummary(counts(nArgList))"
   ]
  },
  {
   "cell_type": "markdown",
   "metadata": {},
   "source": [
    "&#x1F44E; result has three ``key:value`` pairs when four expected - pair associated with ``0`` has no count [13]"
   ]
  },
  {
   "cell_type": "markdown",
   "metadata": {},
   "source": [
    "- creating heterogeneous (diverse content) list of data types ``floats`` and appending single ``int`` [23]"
   ]
  },
  {
   "cell_type": "code",
   "execution_count": 30,
   "metadata": {},
   "outputs": [
    {
     "name": "stdout",
     "output_type": "stream",
     "text": [
      "<list>         : [0.0, 1.0, 2.0, 2.0, 3.0, 1]\n",
      "<length>       : 6\n",
      "<type >        : \n"
     ]
    },
    {
     "data": {
      "text/plain": [
       "[float, float, float, float, float, int]"
      ]
     },
     "execution_count": 30,
     "metadata": {},
     "output_type": "execute_result"
    }
   ],
   "source": [
    "nArgList.append(1)\n",
    "# call function - fSummary\n",
    "fSummary(nArgList)"
   ]
  },
  {
   "cell_type": "code",
   "execution_count": 31,
   "metadata": {},
   "outputs": [
    {
     "data": {
      "text/plain": [
       "{1.0: 2, 2.0: 2, 3.0: 1}"
      ]
     },
     "execution_count": 31,
     "metadata": {},
     "output_type": "execute_result"
    }
   ],
   "source": [
    "# function counts - call\n",
    "counts(nArgList)"
   ]
  },
  {
   "cell_type": "code",
   "execution_count": 32,
   "metadata": {},
   "outputs": [
    {
     "name": "stdout",
     "output_type": "stream",
     "text": [
      "<list>         : {1.0: 2, 2.0: 2, 3.0: 1}\n",
      "<length>       : 3\n",
      "<type >        : \n"
     ]
    },
    {
     "data": {
      "text/plain": [
       "[float, float, float]"
      ]
     },
     "execution_count": 32,
     "metadata": {},
     "output_type": "execute_result"
    }
   ],
   "source": [
    "# call function - fSummary\n",
    "fSummary(counts(nArgList))"
   ]
  },
  {
   "cell_type": "markdown",
   "metadata": {},
   "source": [
    "&#x1F44E; result has three ``key:value`` pairs when five expected - pair associated with ``0`` has no count - appended ``int=1`` captured under float ``1.0`` - could argue it works albeit should output separate ``key:value`` [13]"
   ]
  },
  {
   "cell_type": "markdown",
   "metadata": {},
   "source": [
    "## END"
   ]
  },
  {
   "cell_type": "markdown",
   "metadata": {},
   "source": [
    "< [Instructions](#top) | [README](https://github.com/E6985/fda-tasks/blob/main/README.md) | [Task 1](#task-1) | [Task 3](#task-3) | [Task 4](#task-4) | [References](#references) >\n",
    "<a id=\"task-2\"></a>\n",
    "***\n",
    "## Task 2\n",
    "### Python function - diceroll.\n",
    "***"
   ]
  },
  {
   "cell_type": "markdown",
   "metadata": {},
   "source": [
    "< [Instructions](#top) | [README](https://github.com/E6985/fda-tasks/blob/main/README.md) | [Introduction](#task-2-introduction) | [Solution](#task-2-solution) | [Conclusion](#task-2-conclusion) >\n",
    "<a id=\"task-2-abstract\"></a>\n",
    "### Abstract\n",
    "***"
   ]
  },
  {
   "cell_type": "markdown",
   "metadata": {},
   "source": [
    "- ``\"die\"`` - plural ``\"dice\"`` - simulation involves rolling a specific number of standard (fair) six sided dice - each face labelled either ``1`` or ``2`` or ``3`` or ``4`` or ``5`` or ``6`` only [24]"
   ]
  },
  {
   "cell_type": "markdown",
   "metadata": {},
   "source": [
    "- rolling two dice once scenario - maybe one die face comes up ``2`` - maybe the other die face comes up ``4`` - capturing total face value ``6`` - variable of interest in this simulation is the total face value six [24]"
   ]
  },
  {
   "cell_type": "markdown",
   "metadata": {},
   "source": [
    "![GMIT](https://github.com/E6985/L8733/blob/master/src/hdp/fda/img/fda-tasks/roll-two-dice.png?raw=true)\n",
    "\n",
    "***(Image) S. Mundhra, \"Permutations and Combinations,\" [quora](https://web.archive.org/web/20201206182221/https://qph.fs.quoracdn.net/main-qimg-5233f3bf47c34b0917731faec813be5d), June 2020.***"
   ]
  },
  {
   "cell_type": "markdown",
   "metadata": {},
   "source": [
    "< [Instructions](#top) | [README](https://github.com/E6985/fda-tasks/blob/main/README.md) | [Abstract](#task-2-abstract) | [Solution](#task-2-solution) | [Conclusion](#task-2-conclusion) >\n",
    "<a id=\"task-2-introduction\"></a>\n",
    "### Introduction\n",
    "***"
   ]
  },
  {
   "cell_type": "markdown",
   "metadata": {},
   "source": [
    "- can use any python module from the python standard library or modules that are not in the standard library albeit the simulation does not need the use of a third party package [24]"
   ]
  },
  {
   "cell_type": "markdown",
   "metadata": {},
   "source": [
    "- implementation to use the third party package ``numpy`` - subpackage ``random`` - given that the underlying random generator - mathematical formulae/algorithm - used in the python standard library is the Mersenne Twister generator [25]"
   ]
  },
  {
   "cell_type": "code",
   "execution_count": 33,
   "metadata": {},
   "outputs": [],
   "source": [
    "# a_S_tandard_L_ibrary-imports\n",
    "import random"
   ]
  },
  {
   "cell_type": "code",
   "execution_count": 34,
   "metadata": {},
   "outputs": [
    {
     "name": "stdout",
     "output_type": "stream",
     "text": [
      "General notes on the underlying Mersenne Twister core generator:\n",
      "\n",
      "* The period is 2**19937-1.\n",
      "* It is one of the most extensively tested generators in existence.\n",
      "* The random() method is implemented in C, executes in a single Python step,\n",
      "  and is, therefore, threadsafe.\n"
     ]
    }
   ],
   "source": [
    "# module random - attribute __doc__ - access\n",
    "print(\"\\n\".join(random.__doc__.split(\"\\n\")[30:36]))"
   ]
  },
  {
   "cell_type": "markdown",
   "metadata": {},
   "source": [
    "- in early 2020 ``numpy version 1.19`` changed the underlying random generator - mathematical formulae/algorithm - for generating random numbers from the Mersenne Twister ``MT19937`` to O'Neill's Permutation Congruential Generator ``PCG64`` [26][27]"
   ]
  },
  {
   "cell_type": "markdown",
   "metadata": {},
   "source": [
    "- justication for using ``numpy.random.Generator``: i) uses a better generator than the python library [27] - ii) best practice to use modern algorithms [13]"
   ]
  },
  {
   "cell_type": "code",
   "execution_count": 35,
   "metadata": {},
   "outputs": [],
   "source": [
    "# b_T_hird_P_arty-imports\n",
    "from numpy.random import default_rng as newGenBitGenPCG64"
   ]
  },
  {
   "cell_type": "code",
   "execution_count": 36,
   "metadata": {},
   "outputs": [
    {
     "name": "stdout",
     "output_type": "stream",
     "text": [
      "    Notes\n",
      "    -----\n",
      "    The Python stdlib module `random` contains pseudo-random number generator\n",
      "    with a number of methods that are similar to the ones available in\n",
      "    ``Generator``. It uses Mersenne Twister, and this bit generator can\n",
      "    be accessed using ``MT19937``. ``Generator``, besides being\n",
      "    NumPy-aware, has the advantage that it provides a much larger number\n",
      "    of probability distributions to choose from.\n"
     ]
    }
   ],
   "source": [
    "# package numpy - subpackage random - object Generator - method default_rng alias newGenBitGenPCG64 - instantiate\n",
    "print(\"\\n\".join(newGenBitGenPCG64().__doc__.split(\"\\n\")[26:34])) # attribute __doc__ - access"
   ]
  },
  {
   "cell_type": "markdown",
   "metadata": {},
   "source": [
    "- function ``diceroll`` takes two parameters - i) number of dice ``k`` - ii) number of times to roll the dice ``n`` [24]\n",
    "\n",
    "```python\n",
    "k=2\n",
    "n=1000\n",
    "```"
   ]
  },
  {
   "cell_type": "markdown",
   "metadata": {},
   "source": [
    "- simulation should roll two dice one-thousand times - randomly rolling ``k`` dice ``n`` times and keeping track of each total face value [24]\n",
    "\n",
    "```python\n",
    "dicerolls(k=2,n=1000)\n",
    "```"
   ]
  },
  {
   "cell_type": "markdown",
   "metadata": {},
   "source": [
    "- function should return a dictionary - ``key:value`` pairs - ``key`` listed ``2`` - ``value`` listed ``19`` - of the one-thousand times the two dice was rolled there is only one way to get ``2`` - that is when two dice face values are both ``1`` and ``1`` - no other possible way - can know immediately that two dices showed up [24]\n",
    "\n",
    "``{2:19,3:50,4:82,5:112,6:135,7:174,8:133,9:114,10:75,11:70,12:36}``"
   ]
  },
  {
   "cell_type": "markdown",
   "metadata": {},
   "source": [
    "- keep in mind - obviously repeated calls to the function ``diceroll`` should return slightly different results [24]"
   ]
  },
  {
   "cell_type": "markdown",
   "metadata": {},
   "source": [
    "< [Instructions](#top) | [README](https://github.com/E6985/fda-tasks/blob/main/README.md) | [Abstract](#task-2-abstract) | [Introduction](#task-2-introduction) | [Conclusion](#task-2-conclusion) >\n",
    "<a id=\"task-2-solution\"></a>\n",
    "### Solution\n",
    "***"
   ]
  },
  {
   "cell_type": "markdown",
   "metadata": {},
   "source": [
    "###### Roll Die\n",
    "***"
   ]
  },
  {
   "cell_type": "markdown",
   "metadata": {},
   "source": [
    "- rolling single die - chance of getting a total face value** of either ``1`` or ``2`` or ``3`` or ``4`` or ``5`` or ``6`` is trival in that any of the six possible ``face`` could show - no roll will result in duplicates [28][29]\n",
    "\n",
    "$$p=\\frac{1}{6}$$\n",
    "\n",
    "> ** ``face value`` - referred as ``\"face\"`` throughout remainder of this notebook"
   ]
  },
  {
   "cell_type": "code",
   "execution_count": 37,
   "metadata": {},
   "outputs": [],
   "source": [
    "k=1 # physical die"
   ]
  },
  {
   "cell_type": "code",
   "execution_count": 38,
   "metadata": {},
   "outputs": [],
   "source": [
    "n=1 # roll die"
   ]
  },
  {
   "cell_type": "markdown",
   "metadata": {},
   "source": [
    "![die](https://github.com/E6985/L8733/blob/master/src/hdp/fda/img/fda-tasks/roll-one-dice.png?raw=true)\n",
    "\n",
    "***(Image) Arithmomania, \"Count For a Bevel Dice,\" [arithmomania](https://web.archive.org/web/20201206182423/http://arithmomania.lucasdima.com/2018/05/11/introduction-1), May 2018.***"
   ]
  },
  {
   "cell_type": "code",
   "execution_count": 39,
   "metadata": {},
   "outputs": [],
   "source": [
    "s=6 # 6-sided die"
   ]
  },
  {
   "cell_type": "markdown",
   "metadata": {},
   "source": [
    "![die-face-values](https://github.com/E6985/L8733/blob/master/src/hdp/fda/img/fda-tasks/dice-six-side.png?raw=true)\n",
    "\n",
    "***(Image) A. Zhuravlev, \" Illustration - Set of Dice line icon on white background. Six dice illustration.,\" [123rf](http://web.archive.org/web/20201208114150/https://www.123rf.com/photo_124866390_stock-illustration-set-of-dice-line-icon-on-white-background-six-dice-illustration-.html), n.d.***"
   ]
  },
  {
   "cell_type": "markdown",
   "metadata": {},
   "source": [
    "- creating ``nDie`` array using standard library function ``range`` - sequence of integers - interval - $[k,s)$ [30]"
   ]
  },
  {
   "cell_type": "code",
   "execution_count": 40,
   "metadata": {},
   "outputs": [
    {
     "data": {
      "text/plain": [
       "range"
      ]
     },
     "execution_count": 40,
     "metadata": {},
     "output_type": "execute_result"
    }
   ],
   "source": [
    "# package numpy\n",
    "nDie=range(k,s+1)\n",
    "type(nDie)"
   ]
  },
  {
   "cell_type": "code",
   "execution_count": 41,
   "metadata": {},
   "outputs": [
    {
     "data": {
      "text/plain": [
       "list"
      ]
     },
     "execution_count": 41,
     "metadata": {},
     "output_type": "execute_result"
    }
   ],
   "source": [
    "nDie=list(nDie)\n",
    "type(nDie)"
   ]
  },
  {
   "cell_type": "code",
   "execution_count": 42,
   "metadata": {},
   "outputs": [
    {
     "data": {
      "text/plain": [
       "[1, 2, 3, 4, 5, 6]"
      ]
     },
     "execution_count": 42,
     "metadata": {},
     "output_type": "execute_result"
    }
   ],
   "source": [
    "nDie"
   ]
  },
  {
   "cell_type": "markdown",
   "metadata": {},
   "source": [
    "- probability rule is to look at the number of ``possible`` outcomes in comparison to ``face`` outcomes - for any roll of a die there are six possible outcomes - ``s`` [31]\n",
    "\n",
    "$$P=\\frac{face}{possible}$$"
   ]
  },
  {
   "cell_type": "markdown",
   "metadata": {},
   "source": [
    "- odds of rolling a face of either ``1`` or ``2`` or ``3`` or ``4`` or ``5`` or ``6`` - probabilities are given as numbers between ``0`` meaning no chance and ``1`` meaning with certainty [31]\n",
    "\n",
    "$$P=\\frac{1}{6}=\\frac{1}{s}=0.167$$"
   ]
  },
  {
   "cell_type": "markdown",
   "metadata": {},
   "source": [
    "- normal to assume ``face`` has ``~16.7%`` chance [32] - interval - $[0,1]$ - greater than or equal to 0 and less than or equal to 1 [33]"
   ]
  },
  {
   "cell_type": "code",
   "execution_count": 43,
   "metadata": {},
   "outputs": [
    {
     "name": "stdout",
     "output_type": "stream",
     "text": [
      "[0.16666666666666666, 0.16666666666666666, 0.16666666666666666, 0.16666666666666666, 0.16666666666666666, 0.16666666666666666]\n"
     ]
    }
   ],
   "source": [
    "# uniform distribution\n",
    "if k==1: # die\n",
    "    nUniform=(k/s) # 0.16666666666666666\n",
    "    nProbability=[nUniform]*s # [0.16666666666666666]*6\n",
    "    # k = 1 ... [1, 2, 3, 4, 5, 6] ... len 6\n",
    "print(nProbability)"
   ]
  },
  {
   "cell_type": "markdown",
   "metadata": {},
   "source": [
    "- in a given scenario if wondering what the value of something is going to come out at then all of the possible values should sum up to ``1`` - for instance when rolling a six-sided die six times knowing the probability of getting one of six possible ``face`` of either ``1`` or ``2`` or ``3`` or ``4`` or ``5`` or ``6`` has a probability of ``0.167`` then the six probabilities must add up to ``1`` [32]"
   ]
  },
  {
   "cell_type": "code",
   "execution_count": 44,
   "metadata": {},
   "outputs": [
    {
     "name": "stdout",
     "output_type": "stream",
     "text": [
      "<sum>          : 1 \n"
     ]
    }
   ],
   "source": [
    "print(\"<sum>          : {:.0f} \".format((sum(nProbability))))"
   ]
  },
  {
   "cell_type": "markdown",
   "metadata": {},
   "source": [
    "- method ``numpy.random.Generator.choice`` generates a random selection from a given 1-dimenional array [34]"
   ]
  },
  {
   "cell_type": "markdown",
   "metadata": {},
   "source": [
    "- parameter ``a`` - 1-dimenional array - ``nDie`` [34]"
   ]
  },
  {
   "cell_type": "markdown",
   "metadata": {},
   "source": [
    "- parameter ``p`` - probabilities associated with each ``nDie`` array element - ``nProbability`` [34]"
   ]
  },
  {
   "cell_type": "code",
   "execution_count": 45,
   "metadata": {
    "scrolled": true
   },
   "outputs": [
    {
     "name": "stdout",
     "output_type": "stream",
     "text": [
      "<face>         : 2\n"
     ]
    }
   ],
   "source": [
    "# package numpy - subpackage random - object Generator - method default_rng alias newGenBitGenPCG64 - instantiate\n",
    "print(\"<face>         : {}\".format(newGenBitGenPCG64().choice(a=nDie,p=nProbability))) # method choice - call"
   ]
  },
  {
   "cell_type": "code",
   "execution_count": 46,
   "metadata": {},
   "outputs": [],
   "source": [
    "# b_T_hird_P_arty-imports\n",
    "import matplotlib.pyplot as plt"
   ]
  },
  {
   "cell_type": "markdown",
   "metadata": {},
   "source": [
    "- dark reader - unable to determine ticks [35]"
   ]
  },
  {
   "cell_type": "code",
   "execution_count": 47,
   "metadata": {},
   "outputs": [],
   "source": [
    "# b_T_hird_P_arty-imports\n",
    "from matplotlib.style.core import use\n",
    "# package matplotlib - subpackage style - module core\n",
    "use({\"default\"})"
   ]
  },
  {
   "cell_type": "markdown",
   "metadata": {},
   "source": [
    "- profile of the probabilities of rolling one die shows each bin having every value which reveals a discrete uniform distribution [13]"
   ]
  },
  {
   "cell_type": "code",
   "execution_count": 48,
   "metadata": {},
   "outputs": [
    {
     "data": {
      "image/png": "[encoded data removed]",
      "text/plain": [
       "<Figure size 640x480 with 1 Axes>"
      ]
     },
     "metadata": {},
     "output_type": "display_data"
    }
   ],
   "source": [
    "# package matplotlib - module pyplot\n",
    "plt.bar(nDie,nProbability);\n",
    "plt.xlabel(\"die\");"
   ]
  },
  {
   "cell_type": "markdown",
   "metadata": {},
   "source": [
    "###### Roll Dice\n",
    "***"
   ]
  },
  {
   "cell_type": "markdown",
   "metadata": {},
   "source": [
    "- determine possible ``face`` - ``numpy.random.Generator.choice`` - parameter ``a`` [13]"
   ]
  },
  {
   "cell_type": "markdown",
   "metadata": {},
   "source": [
    "- determine probability of each ``face`` - ``numpy.random.Generator.choice`` - parameter ``p`` [13]"
   ]
  },
  {
   "cell_type": "code",
   "execution_count": 49,
   "metadata": {},
   "outputs": [],
   "source": [
    "k=2 # physical dice"
   ]
  },
  {
   "cell_type": "markdown",
   "metadata": {},
   "source": [
    "###### ``numpy.random.Generator.choice`` - parameter ``a``\n",
    "***"
   ]
  },
  {
   "cell_type": "markdown",
   "metadata": {},
   "source": [
    "- ``k`` dice has a ``face`` with half closed interval [36]\n",
    "\n",
    "$$(k,(s*k)]$$"
   ]
  },
  {
   "cell_type": "markdown",
   "metadata": {},
   "source": [
    "- with two dice the possibility of getting a ``face`` of one is eliminated - array ``a`` [13]\n",
    "\n",
    "$$(1,12]$$"
   ]
  },
  {
   "cell_type": "code",
   "execution_count": 50,
   "metadata": {},
   "outputs": [
    {
     "name": "stdout",
     "output_type": "stream",
     "text": [
      "<length>       : 11\n",
      "[2, 3, 4, 5, 6, 7, 8, 9, 10, 11, 12]\n"
     ]
    }
   ],
   "source": [
    "a=list((range(k,s*k+1)))\n",
    "print(\"<length>       : %d\"%len(a))\n",
    "print(a)"
   ]
  },
  {
   "cell_type": "markdown",
   "metadata": {},
   "source": [
    "###### ``numpy.random.Generator.choice`` - parameter ``p``\n",
    "***"
   ]
  },
  {
   "cell_type": "markdown",
   "metadata": {},
   "source": [
    "- determine probability parameter ``p`` based on possible ``face`` rolling ``k`` dice ``n`` times [13]"
   ]
  },
  {
   "cell_type": "markdown",
   "metadata": {},
   "source": [
    "- **Step:1** - assume ``n=1`` creating sorted integer array ``nMasterDie`` [13]"
   ]
  },
  {
   "cell_type": "code",
   "execution_count": 51,
   "metadata": {},
   "outputs": [
    {
     "name": "stdout",
     "output_type": "stream",
     "text": [
      "<length>       : 12\n",
      "[1, 2, 3, 4, 5, 6, 7, 8, 9, 10, 11, 12]\n"
     ]
    }
   ],
   "source": [
    "nMasterDie=list((range(1,s*k+1)))\n",
    "print(\"<length>       : %d\"%len(nMasterDie))\n",
    "print(nMasterDie)"
   ]
  },
  {
   "cell_type": "markdown",
   "metadata": {},
   "source": [
    "- **Step:2** - rearrange ``face`` such that array ``nMasterDie`` is split 50:50 in ascending and descending order [13]"
   ]
  },
  {
   "cell_type": "code",
   "execution_count": 52,
   "metadata": {},
   "outputs": [
    {
     "name": "stdout",
     "output_type": "stream",
     "text": [
      "<length>       : 11\n",
      "[1, 2, 3, 4, 5, 6, 5, 4, 3, 2, 1]\n"
     ]
    }
   ],
   "source": [
    "nSplitMaster=nMasterDie[:int(len(nMasterDie)/2)]\n",
    "nDie=nSplitMaster+nSplitMaster[len(nSplitMaster)-k::-1]\n",
    "print(\"<length>       : %d\"%len(nDie))\n",
    "print(nDie)"
   ]
  },
  {
   "cell_type": "markdown",
   "metadata": {},
   "source": [
    "- **Step:3** - for each element in array ``nDie`` divide by its sum of elements [13]"
   ]
  },
  {
   "cell_type": "code",
   "execution_count": 53,
   "metadata": {},
   "outputs": [
    {
     "name": "stdout",
     "output_type": "stream",
     "text": [
      "<length>       : 11\n",
      "[0.027777777777777776, 0.05555555555555555, 0.08333333333333333, 0.1111111111111111, 0.1388888888888889, 0.16666666666666666, 0.1388888888888889, 0.1111111111111111, 0.08333333333333333, 0.05555555555555555, 0.027777777777777776]\n"
     ]
    }
   ],
   "source": [
    "p=[float(i)/sum(nDie) for i in nDie]\n",
    "print(\"<length>       : %d\"%len(p))\n",
    "print(p)"
   ]
  },
  {
   "cell_type": "markdown",
   "metadata": {},
   "source": [
    "- profile of the probabilities of rolling ``k`` dice [13]"
   ]
  },
  {
   "cell_type": "code",
   "execution_count": 54,
   "metadata": {},
   "outputs": [
    {
     "data": {
      "image/png": "[encoded data removed]",
      "text/plain": [
       "<Figure size 640x480 with 1 Axes>"
      ]
     },
     "metadata": {},
     "output_type": "display_data"
    }
   ],
   "source": [
    "# package matplotlib - module pyplot\n",
    "plt.bar(a,p);\n",
    "plt.xlabel(\"two dice\");"
   ]
  },
  {
   "cell_type": "markdown",
   "metadata": {},
   "source": [
    "- with three dice the possibility of getting a ``face`` of two is eliminated [13]\n",
    "\n",
    "$$(2,18]$$"
   ]
  },
  {
   "cell_type": "code",
   "execution_count": 55,
   "metadata": {},
   "outputs": [],
   "source": [
    "k=3 # physical dice"
   ]
  },
  {
   "cell_type": "code",
   "execution_count": 56,
   "metadata": {},
   "outputs": [
    {
     "name": "stdout",
     "output_type": "stream",
     "text": [
      "<length>       : 16\n",
      "[3, 4, 5, 6, 7, 8, 9, 10, 11, 12, 13, 14, 15, 16, 17, 18]\n"
     ]
    }
   ],
   "source": [
    "# numpy.random.Generator.choice - parameter a\n",
    "a=list((range(k,s*k+1)))\n",
    "print(\"<length>       : %d\"%len(a))\n",
    "print(a)"
   ]
  },
  {
   "cell_type": "code",
   "execution_count": 57,
   "metadata": {},
   "outputs": [
    {
     "name": "stdout",
     "output_type": "stream",
     "text": [
      "<length>       : 18\n",
      "[1, 2, 3, 4, 5, 6, 7, 8, 9, 10, 11, 12, 13, 14, 15, 16, 17, 18]\n",
      "<length>       : 16\n",
      "[1, 2, 3, 4, 5, 6, 7, 8, 9, 7, 6, 5, 4, 3, 2, 1]\n",
      "<length>       : 16\n",
      "[0.0136986301369863, 0.0273972602739726, 0.0410958904109589, 0.0547945205479452, 0.0684931506849315, 0.0821917808219178, 0.0958904109589041, 0.1095890410958904, 0.1232876712328767, 0.0958904109589041, 0.0821917808219178, 0.0684931506849315, 0.0547945205479452, 0.0410958904109589, 0.0273972602739726, 0.0136986301369863]\n"
     ]
    }
   ],
   "source": [
    "# numpy.random.Generator.choice - parameter p\n",
    "# ---------- step:1 ----------\n",
    "nMasterDie=list((range(1,s*k+1)))\n",
    "print(\"<length>       : %d\"%len(nMasterDie))\n",
    "print(nMasterDie)\n",
    "# ---------- step:2 ---------- \n",
    "nSplitMaster=nMasterDie[:int(len(nMasterDie)/2)]\n",
    "nDie=nSplitMaster+nSplitMaster[len(nSplitMaster)-k::-1]\n",
    "print(\"<length>       : %d\"%len(nDie))\n",
    "print(nDie)\n",
    "# ---------- step:3 ----------\n",
    "p=[float(i)/sum(nDie) for i in nDie]\n",
    "print(\"<length>       : %d\"%len(p))\n",
    "print(p)"
   ]
  },
  {
   "cell_type": "markdown",
   "metadata": {},
   "source": [
    "- profile of the probabilities of rolling ``k`` dice [13]"
   ]
  },
  {
   "cell_type": "code",
   "execution_count": 58,
   "metadata": {},
   "outputs": [
    {
     "data": {
      "image/png": "[encoded data removed]",
      "text/plain": [
       "<Figure size 640x480 with 1 Axes>"
      ]
     },
     "metadata": {},
     "output_type": "display_data"
    }
   ],
   "source": [
    "# package matplotlib - module pyplot\n",
    "plt.bar(a,p);\n",
    "plt.xlabel(\"three dice\");"
   ]
  },
  {
   "cell_type": "markdown",
   "metadata": {},
   "source": [
    "- with four dice the possibility of getting a ``face`` of three is eliminated [13]\n",
    "\n",
    "$$(3,21]$$"
   ]
  },
  {
   "cell_type": "code",
   "execution_count": 59,
   "metadata": {},
   "outputs": [],
   "source": [
    "k=4 # physical dice"
   ]
  },
  {
   "cell_type": "code",
   "execution_count": 60,
   "metadata": {},
   "outputs": [
    {
     "name": "stdout",
     "output_type": "stream",
     "text": [
      "<length>       : 21\n",
      "[4, 5, 6, 7, 8, 9, 10, 11, 12, 13, 14, 15, 16, 17, 18, 19, 20, 21, 22, 23, 24]\n"
     ]
    }
   ],
   "source": [
    "# numpy.random.Generator.choice - parameter a\n",
    "a=list((range(k,s*k+1)))\n",
    "print(\"<length>       : %d\"%len(a))\n",
    "print(a)"
   ]
  },
  {
   "cell_type": "code",
   "execution_count": 61,
   "metadata": {},
   "outputs": [
    {
     "name": "stdout",
     "output_type": "stream",
     "text": [
      "<length>       : 24\n",
      "[1, 2, 3, 4, 5, 6, 7, 8, 9, 10, 11, 12, 13, 14, 15, 16, 17, 18, 19, 20, 21, 22, 23, 24]\n",
      "<length>       : 21\n",
      "[1, 2, 3, 4, 5, 6, 7, 8, 9, 10, 11, 12, 9, 8, 7, 6, 5, 4, 3, 2, 1]\n",
      "<length>       : 21\n",
      "[0.008130081300813009, 0.016260162601626018, 0.024390243902439025, 0.032520325203252036, 0.04065040650406504, 0.04878048780487805, 0.056910569105691054, 0.06504065040650407, 0.07317073170731707, 0.08130081300813008, 0.08943089430894309, 0.0975609756097561, 0.07317073170731707, 0.06504065040650407, 0.056910569105691054, 0.04878048780487805, 0.04065040650406504, 0.032520325203252036, 0.024390243902439025, 0.016260162601626018, 0.008130081300813009]\n"
     ]
    }
   ],
   "source": [
    "# numpy.random.Generator.choice - parameter p\n",
    "# ---------- step:1 ----------\n",
    "nMasterDie=list((range(1,s*k+1)))\n",
    "print(\"<length>       : %d\"%len(nMasterDie))\n",
    "print(nMasterDie)\n",
    "# ---------- step:2 ---------- \n",
    "nSplitMaster=nMasterDie[:int(len(nMasterDie)/2)]\n",
    "nDie=nSplitMaster+nSplitMaster[len(nSplitMaster)-k::-1]\n",
    "print(\"<length>       : %d\"%len(nDie))\n",
    "print(nDie)\n",
    "# ---------- step:3 ----------\n",
    "p=[float(i)/sum(nDie) for i in nDie]\n",
    "print(\"<length>       : %d\"%len(p))\n",
    "print(p)"
   ]
  },
  {
   "cell_type": "markdown",
   "metadata": {},
   "source": [
    "- profile of the probabilities of rolling ``k`` dice [13]"
   ]
  },
  {
   "cell_type": "code",
   "execution_count": 62,
   "metadata": {},
   "outputs": [
    {
     "data": {
      "image/png": "[encoded data removed]",
      "text/plain": [
       "<Figure size 640x480 with 1 Axes>"
      ]
     },
     "metadata": {},
     "output_type": "display_data"
    }
   ],
   "source": [
    "# package matplotlib - module pyplot\n",
    "plt.bar(a,p);\n",
    "plt.xlabel(\"four dice\");"
   ]
  },
  {
   "cell_type": "markdown",
   "metadata": {},
   "source": [
    "< [Instructions](#top) | [README](https://github.com/E6985/fda-tasks/blob/main/README.md) | [Abstract](#task-2-abstract) | [Introduction](#task-2-introduction) | [Solution](#task-2-solution) >\n",
    "<a id=\"task-2-conclusion\"></a>\n",
    "### Conclusion\n",
    "***"
   ]
  },
  {
   "cell_type": "markdown",
   "metadata": {},
   "source": [
    "- in conclusion the current implementation is not accurate for odd number of ``face`` - clear to observe when plotting three and four dice rolls with the possible ``face`` being odd [13]"
   ]
  },
  {
   "cell_type": "markdown",
   "metadata": {},
   "source": [
    "- in addition to determine ``numpy.random.Generator.choice`` parameter ``a`` and ``p`` - function ``diceroll`` sorts the final result ``nList`` in ascending order and counts the number of iterations of each ``face`` - wrapping in a ``dict`` constructor to return a dictionary object [13]"
   ]
  },
  {
   "cell_type": "code",
   "execution_count": 63,
   "metadata": {},
   "outputs": [],
   "source": [
    "k=1\n",
    "n=1000"
   ]
  },
  {
   "cell_type": "code",
   "execution_count": 64,
   "metadata": {},
   "outputs": [],
   "source": [
    "# define function - diceroll \n",
    "def diceroll(k,n):\n",
    "    s=6 # 6-sided die\n",
    "    nList=[] # result\n",
    "    nMasterDie=list((range(1,s*k+1)))\n",
    "    # k = 1 ... [1, 2, 3, 4, 5, 6] ... len 6\n",
    "    # k = 2 ... [1, 2, 3, 4, 5, 6, 7, 8, 9, 10, 11, 12] ... len 12\n",
    "    # k = 3 ... [1, 2, 3, 4, 5, 6, 7, 8, 9, 10, 11, 12, 13, 14, 15, 16, 17, 18] ... len 18\n",
    "    # k = 4 ... [1, 2, 3, 4, 5, 6, 7, 8, 9, 10, 11, 12, 13, 14, 15, 16, 17, 18, 19, 20, 21, 22, 23, 24] ... len 24\n",
    "    \n",
    "    # uniform distribution\n",
    "    if k==1: # die\n",
    "        nUniform=(k/s) # 0.16666666666666666\n",
    "        nProbability=[nUniform]*s # [0.16666666666666666]*6\n",
    "        nDie=nMasterDie \n",
    "        # k = 1 ... [1, 2, 3, 4, 5, 6] ... len 6\n",
    "    else:\n",
    "        # nFace=list((range(k,s*k+1))) # tracking purposes\n",
    "        # k = 2 ... [2, 3, 4, 5, 6, 7, 8, 9, 10, 11, 12] ... len 11\n",
    "        # k = 3 ... [3, 4, 5, 6, 7, 8, 9, 10, 11, 12, 13, 14, 15, 16, 17, 18] ... len 16\n",
    "        # k = 4 ... [4, 5, 6, 7, 8, 9, 10, 11, 12, 13, 14, 15, 16, 17, 18, 19, 20, 21, 22, 23, 24] ... len 21\n",
    "        \n",
    "        # rearrange - numpy.random.Generator.choice - parameter p\n",
    "        # ==================================================================\n",
    "        nSplitMaster=nMasterDie[:int(len(nMasterDie)/2)]\n",
    "        # k = 2 ... [1, 2, 3, 4, 5, 6] ... len 6\n",
    "        # k = 3 ... [1, 2, 3, 4, 5, 6, 7, 8, 9] ... len 9\n",
    "        # k = 4 ... [1, 2, 3, 4, 5, 6, 7, 8, 9, 10, 11, 12] ... len 12\n",
    "        nDie=nSplitMaster+nSplitMaster[len(nSplitMaster)-k::-1]\n",
    "        # k = 2 ... [1, 2, 3, 4, 5, 6, 5, 4, 3, 2, 1] ... len 11\n",
    "        # k = 3 ... [1, 2, 3, 4, 5, 6, 7, 8, 9, 7, 6, 5, 4, 3, 2, 1] ... len 16\n",
    "        # k = 4 ... [1, 2, 3, 4, 5, 6, 7, 8, 9, 10, 11, 12, 9, 8, 7, 6, 5, 4, 3, 2, 1] ... len 21\n",
    "        # ------------------------------------------------------------------\n",
    "\n",
    "        # numpy.random.Generator.choice - parameter p \n",
    "        # ===========================================\n",
    "        nProbability=[float(i)/sum(nDie) for i in nDie]\n",
    "        # -------------------------------------------\n",
    "            \n",
    "        # reassemble dice order - numpy.random.Generator.choice - parameter a\n",
    "        # ===================================================================\n",
    "        nDie=list(range(nDie[k-1],len(nMasterDie)+1))\n",
    "        # k = 2 ... [2, 3, 4, 5, 6, 7, 8, 9, 10, 11, 12] ... len 11\n",
    "        # k = 3 ... [3, 4, 5, 6, 7, 8, 9, 10, 11, 12, 13, 14, 15, 16, 17, 18] ... len 16\n",
    "        # k = 4 ... [4, 5, 6, 7, 8, 9, 10, 11, 12, 13, 14, 15, 16, 17, 18, 19, 20, 21, 22, 23, 24] ... len 21\n",
    "        # ------------------------------------------------------------------\n",
    "            \n",
    "    for i in range(n):\n",
    "        nList.append(newGenBitGenPCG64().choice(a=nDie,p=nProbability))\n",
    "        \n",
    "    nList.sort()        \n",
    "    print(dict([(nEachElement,nList.count(nEachElement)) for nEachElement in nList]))"
   ]
  },
  {
   "cell_type": "code",
   "execution_count": 65,
   "metadata": {},
   "outputs": [
    {
     "name": "stdout",
     "output_type": "stream",
     "text": [
      "{1: 173, 2: 169, 3: 175, 4: 173, 5: 143, 6: 167}\n"
     ]
    }
   ],
   "source": [
    "# function diceroll - call\n",
    "diceroll(k,n)"
   ]
  },
  {
   "cell_type": "code",
   "execution_count": 66,
   "metadata": {},
   "outputs": [
    {
     "name": "stdout",
     "output_type": "stream",
     "text": [
      "{2: 27, 3: 61, 4: 84, 5: 103, 6: 129, 7: 164, 8: 137, 9: 97, 10: 104, 11: 58, 12: 36}\n"
     ]
    }
   ],
   "source": [
    "# function diceroll - call\n",
    "diceroll(2,1000)"
   ]
  },
  {
   "cell_type": "code",
   "execution_count": 67,
   "metadata": {},
   "outputs": [
    {
     "name": "stdout",
     "output_type": "stream",
     "text": [
      "{3: 13, 4: 39, 5: 43, 6: 60, 7: 75, 8: 81, 9: 80, 10: 116, 11: 114, 12: 88, 13: 77, 14: 77, 15: 53, 16: 40, 17: 32, 18: 12}\n"
     ]
    }
   ],
   "source": [
    "# function diceroll - call\n",
    "diceroll(3,1000)"
   ]
  },
  {
   "cell_type": "code",
   "execution_count": 68,
   "metadata": {},
   "outputs": [
    {
     "name": "stdout",
     "output_type": "stream",
     "text": [
      "{4: 13, 5: 25, 6: 38, 7: 37, 8: 42, 9: 43, 10: 68, 11: 66, 12: 62, 13: 80, 14: 81, 15: 94, 16: 75, 17: 60, 18: 50, 19: 49, 20: 41, 21: 31, 22: 22, 23: 19, 24: 4}\n"
     ]
    }
   ],
   "source": [
    "# function diceroll - call\n",
    "diceroll(4,1000)"
   ]
  },
  {
   "cell_type": "code",
   "execution_count": 69,
   "metadata": {},
   "outputs": [
    {
     "name": "stdout",
     "output_type": "stream",
     "text": [
      "{5: 9, 6: 7, 7: 11, 8: 23, 9: 22, 10: 37, 11: 47, 12: 25, 13: 45, 14: 53, 15: 55, 16: 52, 17: 81, 18: 87, 19: 85, 20: 63, 21: 52, 22: 50, 23: 46, 24: 41, 25: 27, 26: 28, 27: 22, 28: 18, 29: 11, 30: 3}\n"
     ]
    }
   ],
   "source": [
    "# function diceroll - call\n",
    "diceroll(5,1000)"
   ]
  },
  {
   "cell_type": "code",
   "execution_count": 70,
   "metadata": {},
   "outputs": [
    {
     "name": "stdout",
     "output_type": "stream",
     "text": [
      "{6: 3, 7: 7, 8: 11, 9: 11, 10: 23, 11: 28, 12: 27, 13: 25, 14: 33, 15: 33, 16: 40, 17: 58, 18: 54, 19: 53, 20: 57, 21: 62, 22: 68, 23: 70, 24: 43, 25: 51, 26: 43, 27: 36, 28: 33, 29: 23, 30: 27, 31: 17, 32: 27, 33: 12, 34: 13, 35: 8, 36: 4}\n"
     ]
    }
   ],
   "source": [
    "# function diceroll - call\n",
    "diceroll(6,1000)"
   ]
  },
  {
   "cell_type": "markdown",
   "metadata": {},
   "source": [
    "## END"
   ]
  },
  {
   "cell_type": "markdown",
   "metadata": {},
   "source": [
    "< [Instructions](#top) | [README](https://github.com/E6985/fda-tasks/blob/main/README.md) | [Task 1](#task-1) | [Task 2](#task-2) | [Task 4](#task-4) | [References](#references) >\n",
    "<a id=\"task-3\"></a>\n",
    "***\n",
    "## Task 3\n",
    "### Simulate coin flip - numpy.random.binomial.\n",
    "***"
   ]
  },
  {
   "cell_type": "markdown",
   "metadata": {},
   "source": [
    "< [Instructions](#top) | [README](https://github.com/E6985/fda-tasks/blob/main/README.md) | [Introduction](#task-3-introduction) | [Solution](#task-3-solution) | [Conclusion](#task-3-conclusion) >\n",
    "<a id=\"task-3-abstract\"></a>\n",
    "### Abstract\n",
    "***"
   ]
  },
  {
   "cell_type": "markdown",
   "metadata": {},
   "source": [
    "- Bernoulli - Law of Large Numbers - shows that the variability in an observed proportion gets smaller as the sample size increases - a single coin flip - taking on the value ``1`` if a ``head`` occurs - taking on the value ``0`` if a ``tail`` occurs - is said to be a Bernoulli trail - having a Bernoulli distribution - continuing to flip the coin then the proportion of each outcome will get closer and closer to 50% ``heads`` and 50% ``tails`` [37]"
   ]
  },
  {
   "cell_type": "markdown",
   "metadata": {},
   "source": [
    "- early on in the sequence the ratio may be some way from 50:50 - after a run of ``heads`` - temptation is to believe that ``tails`` is somehow due to occur so as to balance out the proportion - ``\"gamblers fallacy\"`` [37]"
   ]
  },
  {
   "cell_type": "markdown",
   "metadata": {},
   "source": [
    "< [Instructions](#top) | [README](https://github.com/E6985/fda-tasks/blob/main/README.md) | [Abstract](#task-3-abstract) | [Solution](#task-3-solution) | [Conclusion](#task-3-conclusion) >\n",
    "<a id=\"task-3-introduction\"></a>\n",
    "### Introduction\n",
    "***"
   ]
  },
  {
   "cell_type": "markdown",
   "metadata": {},
   "source": [
    "![coin-flip](https://github.com/E6985/L8733/blob/master/src/hdp/fda/img/fda-tasks/coin-flip.png?raw=true)"
   ]
  },
  {
   "cell_type": "markdown",
   "metadata": {},
   "source": [
    "- coin - circular disk when thrown in the air and allowed to fall will rest with either side face up - ``heads`` or ``tails`` - each with equal probability - therefore a two-sided die - Bernoulli distribution [38]\n",
    "\n",
    "$$p=\\frac{1}{2}$$"
   ]
  },
  {
   "cell_type": "markdown",
   "metadata": {},
   "source": [
    "- discrete variables are countable in a finite amount of time - count change in a wallet - count money in a bank account - count amount of money in everyones bank account [38]"
   ]
  },
  {
   "cell_type": "markdown",
   "metadata": {},
   "source": [
    "- flipping a coin - count number of ``heads`` - the count could be any integer value between ``0`` and plus infinity $\\infty$ - not possible to get 2.5 heads [40] - $\\infty$ - adjective - refer to the quality of being boundless - infinitely small - infinitely close - describing an object whose quantity or limit is larger than any natural number or real number [41]"
   ]
  },
  {
   "cell_type": "markdown",
   "metadata": {},
   "source": [
    "- binomial distribution gives the discrete probability distribution of obtaining exactly ``n`` successes out of ``N`` Bernoulli trials where the result of each Bernoulli trial is - true with probability $p$ - false with probability $q=1-p$ [42]"
   ]
  },
  {
   "cell_type": "markdown",
   "metadata": {},
   "source": [
    "< [Instructions](#top) | [README](https://github.com/E6985/fda-tasks/blob/main/README.md) | [Abstract](#task-3-abstract) | [Introduction](#task-3-introduction) | [Conclusion](#task-3-conclusion) >\n",
    "<a id=\"task-3-solution\"></a>\n",
    "### Solution\n",
    "***"
   ]
  },
  {
   "cell_type": "markdown",
   "metadata": {},
   "source": [
    "- demonstrating flipping a coin one-hundred times - tested (batches) one-thousand times - keeping track of the number of ``heads`` in each of one-thousand simulations - selecting an appropriate plot to depict the list of one-thousand numbers [2]"
   ]
  },
  {
   "cell_type": "markdown",
   "metadata": {},
   "source": [
    "- simluation will show a 50:50 chance of ``heads`` or ``tails`` and is well approximated by a bell-shaped curve - flipping a coin one-hundred times in a row - chance of getting fifty ``heads`` is relatively high - on the otherhand the chance of getting zero or one-hundred ``heads`` is relatively low - moving away from fifty the chances of heads decreases in either direction towards zero or one-hundred [2]"
   ]
  },
  {
   "cell_type": "markdown",
   "metadata": {},
   "source": [
    "- the Bernouilli distribution is a special case of the binomial distribution - simulation must use the method - ``numpy.random.Generator.binomial`` [2]"
   ]
  },
  {
   "cell_type": "markdown",
   "metadata": {},
   "source": [
    "###### Binomial Distribution\n",
    "***"
   ]
  },
  {
   "cell_type": "code",
   "execution_count": 71,
   "metadata": {},
   "outputs": [
    {
     "name": "stdout",
     "output_type": "stream",
     "text": [
      "        Draw samples from a binomial distribution.\n",
      "\n",
      "        Samples are drawn from a binomial distribution with specified\n",
      "        parameters, n trials and p probability of success where\n",
      "        n an integer >= 0 and p is in the interval [0,1]. (n may be\n",
      "        input as a float, but it is truncated to an integer in use)\n"
     ]
    }
   ],
   "source": [
    "# package numpy - subpackage random - object Generator - method default_rng alias newGenBitGenPCG64 - instantiate\n",
    "print(\"\\n\".join(newGenBitGenPCG64().binomial.__doc__.split(\"\\n\")[3:9])) # method binomial - attr __doc__ - access"
   ]
  },
  {
   "cell_type": "code",
   "execution_count": 72,
   "metadata": {},
   "outputs": [
    {
     "name": "stdout",
     "output_type": "stream",
     "text": [
      "        Examples\n",
      "        --------\n",
      "        Draw samples from the distribution:\n",
      "\n",
      "        >>> rng = np.random.default_rng()\n",
      "        >>> n, p = 10, .5  # number of trials, probability of each trial\n",
      "        >>> s = rng.binomial(n, p, 1000)\n",
      "        # result of flipping a coin 10 times, tested 1000 times.\n"
     ]
    }
   ],
   "source": [
    "# package numpy - subpackage random - object Generator - method default_rng alias newGenBitGenPCG64 - instantiate\n",
    "print(\"\\n\".join(newGenBitGenPCG64().binomial.__doc__.split(\"\\n\")[65:73])) # method binomial - attr __doc__ - access"
   ]
  },
  {
   "cell_type": "markdown",
   "metadata": {},
   "source": [
    "###### Binomial Distribution - Signature\n",
    "***"
   ]
  },
  {
   "cell_type": "code",
   "execution_count": 73,
   "metadata": {},
   "outputs": [
    {
     "name": "stdout",
     "output_type": "stream",
     "text": [
      "        binomial(n, p, size=None)\n"
     ]
    }
   ],
   "source": [
    "# package numpy - subpackage random - object Generator - method default_rng alias newGenBitGenPCG64 - instantiate\n",
    "print(\"\\n\".join(newGenBitGenPCG64().binomial.__doc__.split(\"\\n\")[1:2])) # method binomial - attr __doc__ - access"
   ]
  },
  {
   "cell_type": "markdown",
   "metadata": {},
   "source": [
    "###### Binomial Distribution - Parameters\n",
    "***"
   ]
  },
  {
   "cell_type": "code",
   "execution_count": 74,
   "metadata": {},
   "outputs": [
    {
     "name": "stdout",
     "output_type": "stream",
     "text": [
      "        Parameters\n",
      "        ----------\n",
      "        n : int or array_like of ints\n",
      "            Parameter of the distribution, >= 0. Floats are also accepted,\n",
      "            but they will be truncated to integers.\n",
      "        p : float or array_like of floats\n",
      "            Parameter of the distribution, >= 0 and <=1.\n",
      "        size : int or tuple of ints, optional\n",
      "            Output shape.  If the given shape is, e.g., ``(m, n, k)``, then\n",
      "            ``m * n * k`` samples are drawn.  If size is ``None`` (default),\n",
      "            a single value is returned if ``n`` and ``p`` are both scalars.\n",
      "            Otherwise, ``np.broadcast(n, p).size`` samples are drawn.\n",
      "\n",
      "        Returns\n",
      "        -------\n",
      "        out : ndarray or scalar\n",
      "            Drawn samples from the parameterized binomial distribution, where\n",
      "            each sample is equal to the number of successes over the n trials.\n"
     ]
    }
   ],
   "source": [
    "# package numpy - subpackage random - object Generator - method default_rng alias newGenBitGenPCG64 - instantiate\n",
    "print(\"\\n\".join(newGenBitGenPCG64().binomial.__doc__.split(\"\\n\")[10:28])) # method binomial - attr __doc__ - access"
   ]
  },
  {
   "cell_type": "markdown",
   "metadata": {},
   "source": [
    "<a id=\"implementation\"></a>\n",
    "###### Implementation\n",
    "***"
   ]
  },
  {
   "cell_type": "markdown",
   "metadata": {},
   "source": [
    "- flip a single coin - parameters - ``n`` - ``p`` [43]"
   ]
  },
  {
   "cell_type": "markdown",
   "metadata": {},
   "source": [
    "- ``n`` number of trials ``1`` - coin flip is a trial - result is only two possible outcomes - ``heads`` or ``tails`` - calling ``heads`` a success ``1`` - calling ``tails`` a failure ``0`` [32][43]\n",
    "\n",
    "$$integer >=0$$"
   ]
  },
  {
   "cell_type": "markdown",
   "metadata": {},
   "source": [
    "- ``p`` probability of each trial - probability of success is constant - on each trial ``0.5`` [32][43] - interval [Appendix D](#appendix-d) include ``0`` and include ``1`` [33]\n",
    "\n",
    "$$interval [0,1]$$"
   ]
  },
  {
   "cell_type": "code",
   "execution_count": 75,
   "metadata": {},
   "outputs": [],
   "source": [
    "# package numpy - subpackage random - binomial arguments\n",
    "n,p=1,0.5"
   ]
  },
  {
   "cell_type": "code",
   "execution_count": 76,
   "metadata": {},
   "outputs": [
    {
     "data": {
      "text/plain": [
       "1"
      ]
     },
     "execution_count": 76,
     "metadata": {},
     "output_type": "execute_result"
    }
   ],
   "source": [
    "# package numpy - subpackage random - object Generator - method default_rng alias newGenBitGenPCG64 - instantiate\n",
    "newGenBitGenPCG64().binomial(n,p) # method binomial - call"
   ]
  },
  {
   "cell_type": "markdown",
   "metadata": {},
   "source": [
    "- flip the same coin - same parameters - ``n`` - ``p`` [43]"
   ]
  },
  {
   "cell_type": "markdown",
   "metadata": {},
   "source": [
    "- `size` or single batch ``1`` - tested one time [32][43]"
   ]
  },
  {
   "cell_type": "code",
   "execution_count": 77,
   "metadata": {},
   "outputs": [],
   "source": [
    "# package numpy - subpackage random - additional binomial argument\n",
    "size=1"
   ]
  },
  {
   "cell_type": "code",
   "execution_count": 78,
   "metadata": {},
   "outputs": [
    {
     "data": {
      "text/plain": [
       "array([1], dtype=int64)"
      ]
     },
     "execution_count": 78,
     "metadata": {},
     "output_type": "execute_result"
    }
   ],
   "source": [
    "# package numpy - subpackage random - object Generator - method default_rng alias newGenBitGenPCG64 - instantiate\n",
    "newGenBitGenPCG64().binomial(n,p,size) # method binomial - call"
   ]
  },
  {
   "cell_type": "markdown",
   "metadata": {},
   "source": [
    "###### Simulation\n",
    "***"
   ]
  },
  {
   "cell_type": "markdown",
   "metadata": {},
   "source": [
    "- changing the paramters in order to flip the coin one-hundred times - testing one-thousand times [2]"
   ]
  },
  {
   "cell_type": "markdown",
   "metadata": {},
   "source": [
    "- ``n`` - $integer >=0$ - number of trials ``100`` [2][32][43]"
   ]
  },
  {
   "cell_type": "markdown",
   "metadata": {},
   "source": [
    "- ``p`` - $interval [0,1]$ - probability of each trial - probability of success is constant ``0.5`` [2][32][43]"
   ]
  },
  {
   "cell_type": "code",
   "execution_count": 79,
   "metadata": {},
   "outputs": [],
   "source": [
    "# package numpy - subpackage random - binomial arguments\n",
    "n,p,size=100,0.5,1"
   ]
  },
  {
   "cell_type": "markdown",
   "metadata": {},
   "source": [
    "- number of ``heads`` in ``n`` trails - flipping coin ``100`` times [2]"
   ]
  },
  {
   "cell_type": "code",
   "execution_count": 80,
   "metadata": {},
   "outputs": [
    {
     "data": {
      "text/plain": [
       "array([47], dtype=int64)"
      ]
     },
     "execution_count": 80,
     "metadata": {},
     "output_type": "execute_result"
    }
   ],
   "source": [
    "# package numpy - subpackage random - object Generator - method default_rng alias newGenBitGenPCG64 - instantiate\n",
    "newGenBitGenPCG64().binomial(n,p,size) # method binomial - call"
   ]
  },
  {
   "cell_type": "markdown",
   "metadata": {},
   "source": [
    "- number of ``heads`` in ``n`` trails - flipping coin ``100000`` times [2]"
   ]
  },
  {
   "cell_type": "code",
   "execution_count": 81,
   "metadata": {},
   "outputs": [
    {
     "data": {
      "text/plain": [
       "array([49993], dtype=int64)"
      ]
     },
     "execution_count": 81,
     "metadata": {},
     "output_type": "execute_result"
    }
   ],
   "source": [
    "# package numpy - subpackage random - object Generator - method default_rng alias newGenBitGenPCG64 - instantiate\n",
    "newGenBitGenPCG64().binomial(100000,p,size) # method binomial - call"
   ]
  },
  {
   "cell_type": "code",
   "execution_count": 82,
   "metadata": {},
   "outputs": [],
   "source": [
    "# package numpy - subpackage random - binomial argument\n",
    "size=1000"
   ]
  },
  {
   "cell_type": "markdown",
   "metadata": {},
   "source": [
    "- `size` - each coin flip is a trail and tested one-thousand times - batch of ``1000`` [2][32][43]"
   ]
  },
  {
   "cell_type": "code",
   "execution_count": 83,
   "metadata": {},
   "outputs": [],
   "source": [
    "# package numpy - subpackage random - object Generator - method default_rng alias newGenBitGenPCG64 - instantiate\n",
    "nBatch=newGenBitGenPCG64().binomial(n,p,size) # method binomial - call"
   ]
  },
  {
   "cell_type": "markdown",
   "metadata": {},
   "source": [
    "- ``nBatch`` - keeps track of the number of ``heads`` in each of the one-thousand simulations [13]"
   ]
  },
  {
   "cell_type": "code",
   "execution_count": 84,
   "metadata": {
    "scrolled": false
   },
   "outputs": [
    {
     "data": {
      "text/plain": [
       "array([42, 34, 56, 43, 45, 56, 50, 53, 52, 53, 41, 53, 49, 46, 46, 52, 52,\n",
       "       46, 53, 51, 52, 56, 50, 41, 50, 45, 47, 50, 54, 46, 54, 53, 49, 45,\n",
       "       46, 48, 49, 46, 43, 48, 50, 46, 48, 48, 44, 45, 48, 47, 53, 45, 54,\n",
       "       46, 52, 51, 55, 46, 54, 51, 46, 46, 42, 46, 51, 54, 43, 54, 49, 59,\n",
       "       44, 48, 49, 57, 46, 52, 47, 48, 51, 51, 48, 49, 48, 44, 45, 51, 51,\n",
       "       38, 44, 50, 42, 57, 61, 56, 54, 45, 46, 48, 43, 49, 48, 48, 47, 56,\n",
       "       50, 47, 54, 46, 55, 51, 48, 47, 51, 56, 50, 56, 47, 51, 47, 50, 46,\n",
       "       47, 47, 47, 54, 56, 44, 47, 54, 54, 44, 53, 41, 50, 49, 54, 54, 53,\n",
       "       40, 62, 50, 52, 49, 58, 56, 49, 56, 50, 50, 48, 56, 46, 50, 49, 48,\n",
       "       51, 47, 51, 52, 54, 49, 54, 54, 44, 51, 55, 52, 52, 54, 56, 51, 46,\n",
       "       51, 49, 57, 47, 56, 44, 61, 51, 46, 54, 56, 49, 55, 51, 51, 54, 51,\n",
       "       47, 50, 51, 43, 48, 52, 48, 48, 51, 46, 55, 43, 51, 49, 50, 51, 51,\n",
       "       43, 43, 54, 45, 52, 40, 49, 55, 55, 49, 53, 49, 49, 45, 48, 47, 49,\n",
       "       49, 59, 55, 48, 46, 44, 50, 57, 48, 55, 55, 47, 53, 56, 46, 47, 58,\n",
       "       48, 45, 65, 51, 51, 50, 48, 54, 47, 52, 54, 52, 47, 48, 52, 51, 57,\n",
       "       42, 48, 50, 59, 50, 62, 54, 55, 56, 49, 41, 48, 44, 55, 58, 58, 55,\n",
       "       44, 52, 49, 45, 45, 39, 50, 48, 49, 57, 45, 50, 47, 57, 44, 52, 54,\n",
       "       41, 56, 55, 53, 52, 44, 48, 57, 47, 41, 42, 53, 51, 50, 45, 51, 56,\n",
       "       46, 54, 48, 49, 52, 47, 49, 37, 45, 55, 44, 55, 56, 51, 53, 47, 50,\n",
       "       45, 57, 57, 53, 51, 42, 48, 49, 46, 48, 46, 46, 53, 46, 58, 54, 52,\n",
       "       46, 48, 49, 48, 48, 48, 50, 50, 52, 46, 54, 49, 51, 42, 50, 49, 54,\n",
       "       49, 50, 43, 47, 52, 53, 46, 52, 53, 40, 49, 54, 56, 53, 56, 42, 51,\n",
       "       60, 53, 51, 49, 52, 48, 48, 49, 53, 56, 59, 54, 51, 55, 49, 52, 53,\n",
       "       57, 43, 51, 51, 58, 51, 56, 59, 54, 50, 51, 47, 58, 51, 51, 60, 50,\n",
       "       49, 48, 47, 53, 55, 49, 58, 51, 49, 51, 44, 51, 48, 49, 43, 56, 57,\n",
       "       54, 51, 56, 51, 44, 52, 54, 59, 37, 52, 50, 50, 46, 44, 40, 47, 50,\n",
       "       44, 52, 54, 54, 55, 46, 47, 44, 44, 47, 47, 50, 56, 50, 49, 50, 42,\n",
       "       48, 56, 45, 52, 59, 47, 60, 58, 46, 47, 48, 49, 58, 55, 47, 45, 48,\n",
       "       61, 57, 42, 53, 49, 50, 49, 54, 58, 52, 48, 45, 48, 45, 53, 49, 50,\n",
       "       51, 46, 43, 52, 54, 47, 47, 43, 54, 38, 51, 47, 52, 47, 50, 51, 56,\n",
       "       49, 55, 40, 50, 54, 40, 45, 65, 54, 47, 48, 50, 52, 53, 52, 50, 43,\n",
       "       41, 50, 49, 59, 54, 43, 44, 53, 52, 49, 45, 44, 51, 49, 56, 52, 50,\n",
       "       51, 43, 54, 52, 55, 46, 54, 50, 53, 50, 57, 51, 47, 57, 44, 50, 49,\n",
       "       61, 55, 42, 48, 41, 44, 55, 53, 54, 52, 54, 49, 59, 52, 42, 60, 44,\n",
       "       54, 45, 58, 55, 50, 54, 49, 55, 50, 51, 46, 51, 55, 46, 53, 45, 52,\n",
       "       46, 55, 52, 62, 53, 50, 57, 50, 48, 45, 53, 58, 52, 40, 55, 44, 47,\n",
       "       59, 52, 53, 48, 47, 46, 48, 54, 51, 47, 45, 54, 39, 44, 46, 52, 46,\n",
       "       50, 50, 49, 44, 45, 53, 43, 54, 56, 57, 47, 50, 54, 55, 46, 56, 47,\n",
       "       38, 49, 46, 51, 49, 55, 53, 52, 50, 52, 40, 53, 46, 47, 54, 49, 46,\n",
       "       48, 48, 47, 53, 47, 40, 44, 45, 48, 50, 46, 40, 56, 51, 58, 51, 48,\n",
       "       43, 57, 60, 48, 52, 50, 49, 53, 55, 47, 54, 53, 48, 47, 51, 51, 51,\n",
       "       52, 52, 54, 49, 54, 46, 55, 46, 60, 53, 57, 45, 44, 48, 41, 46, 53,\n",
       "       54, 43, 52, 49, 42, 54, 51, 45, 40, 41, 46, 48, 51, 41, 41, 48, 48,\n",
       "       44, 45, 48, 48, 60, 55, 51, 53, 50, 48, 46, 49, 43, 55, 45, 58, 47,\n",
       "       53, 47, 53, 51, 55, 58, 54, 53, 56, 48, 57, 48, 46, 43, 52, 51, 47,\n",
       "       48, 56, 54, 53, 42, 49, 41, 48, 52, 51, 46, 54, 47, 47, 42, 41, 50,\n",
       "       41, 54, 49, 47, 50, 40, 48, 54, 56, 49, 52, 55, 49, 61, 46, 58, 48,\n",
       "       46, 55, 53, 50, 46, 46, 53, 54, 48, 46, 56, 51, 54, 51, 43, 44, 56,\n",
       "       59, 55, 49, 51, 52, 60, 50, 51, 47, 46, 51, 53, 48, 54, 53, 55, 62,\n",
       "       51, 52, 53, 41, 58, 57, 54, 49, 53, 48, 50, 51, 48, 57, 57, 48, 45,\n",
       "       50, 52, 58, 36, 50, 51, 51, 53, 50, 49, 56, 53, 41, 49, 53, 44, 46,\n",
       "       55, 47, 59, 45, 55, 46, 47, 56, 58, 61, 61, 47, 40, 55, 56, 49, 45,\n",
       "       53, 57, 50, 42, 46, 50, 58, 42, 50, 49, 54, 43, 61, 45, 58, 61, 50,\n",
       "       53, 43, 44, 44, 53, 44, 46, 46, 44, 53, 52, 46, 57, 46, 45, 45, 42,\n",
       "       48, 53, 48, 37, 55, 47, 51, 46, 42, 51, 47, 45, 45, 42, 46, 48, 49,\n",
       "       59, 49, 51, 53, 61, 46, 46, 40, 42, 48, 50, 49, 49, 46, 47, 47, 50,\n",
       "       46, 51, 48, 56, 45, 48, 47, 54, 56, 47, 52, 46, 46, 44, 45, 52, 48,\n",
       "       47, 50, 53, 47, 52, 51, 48, 50, 43, 45, 40, 48, 50, 56, 52, 49, 47,\n",
       "       53, 52, 52, 53, 46, 50, 46, 50, 48, 45, 50, 52, 53, 44],\n",
       "      dtype=int64)"
      ]
     },
     "execution_count": 84,
     "metadata": {},
     "output_type": "execute_result"
    }
   ],
   "source": [
    "nBatch"
   ]
  },
  {
   "cell_type": "markdown",
   "metadata": {},
   "source": [
    "< [Instructions](#top) | [README](https://github.com/E6985/fda-tasks/blob/main/README.md) | [Abstract](#task-3-abstract) | [Introduction](#task-3-introduction) | [Solution](#task-3-solution) >\n",
    "<a id=\"task-3-conclusion\"></a>\n",
    "### Conclusion\n",
    "***"
   ]
  },
  {
   "cell_type": "markdown",
   "metadata": {},
   "source": [
    "- ``seaborn`` - plotting package used to depict the resulting list of one-thousand numbers - showing that it roughly follows a bell-shaped curve [13]"
   ]
  },
  {
   "cell_type": "code",
   "execution_count": 85,
   "metadata": {},
   "outputs": [],
   "source": [
    "# b_T_hird_P_arty-imports\n",
    "import seaborn as sns"
   ]
  },
  {
   "cell_type": "code",
   "execution_count": 86,
   "metadata": {},
   "outputs": [
    {
     "name": "stdout",
     "output_type": "stream",
     "text": [
      "Flexibly plot a univariate distribution of observations.\n",
      "\n",
      "    This function combines the matplotlib ``hist`` function (with automatic\n",
      "    calculation of a good default bin size) with the seaborn :func:`kdeplot`\n",
      "    and :func:`rugplot` functions. It can also fit ``scipy.stats``\n",
      "    distributions and plot the estimated PDF over the data.\n"
     ]
    }
   ],
   "source": [
    "# package seaborn alias sns - function distplot - call - attribute __doc__ - access\n",
    "print(\"\\n\".join(sns.distplot.__doc__.split(\"\\n\")[0:6]))"
   ]
  },
  {
   "cell_type": "markdown",
   "metadata": {},
   "source": [
    "- passing array - ``nBatch`` - as an argument to the function ``seaborn.distplot`` - creating plot - x-axis from circa 30 to circa 70 - y-axis from 0 to circa 0.9 [32]"
   ]
  },
  {
   "cell_type": "markdown",
   "metadata": {},
   "source": [
    "- looks almost like a bell shaped curve - the distribution plot is a picture of how many ``heads`` each time the coin is flipped one-hundred times and tested one-thousand times [32]"
   ]
  },
  {
   "cell_type": "markdown",
   "metadata": {},
   "source": [
    "- centred around the 50 Mark and spreads out - very unlikely to get ``heads`` on the leftmost and rightmost sides of the curve - rapidly decreases in probability away from the fifty mark [32]"
   ]
  },
  {
   "cell_type": "code",
   "execution_count": 87,
   "metadata": {},
   "outputs": [
    {
     "data": {
      "image/png": "[encoded data removed]",
      "text/plain": [
       "<Figure size 640x480 with 1 Axes>"
      ]
     },
     "metadata": {},
     "output_type": "display_data"
    }
   ],
   "source": [
    "# package seaborn alias sns - module distributions - function distplot - call\n",
    "sns.distplot(nBatch);"
   ]
  },
  {
   "cell_type": "markdown",
   "metadata": {},
   "source": [
    "## END"
   ]
  },
  {
   "cell_type": "markdown",
   "metadata": {},
   "source": [
    "< [Instructions](#top) | [README](https://github.com/E6985/fda-tasks/blob/main/README.md) | [Task 1](#task-1) | [Task 2](#task-2) | [Task 3](#task-3) | [References](#references) >\n",
    "<a id=\"task-4\"></a>\n",
    "***\n",
    "## Task 4\n",
    "### Demonstrate Simpson's paradox.\n",
    "***"
   ]
  },
  {
   "cell_type": "markdown",
   "metadata": {},
   "source": [
    "< [Instructions](#top) | [README](https://github.com/E6985/fda-tasks/blob/main/README.md) | [Introduction](#task-4-introduction) | [Solution](#task-4-solution) | [Conclusion](#task-4-conclusion) >\n",
    "<a id=\"task-4-abstract\"></a>\n",
    "### Abstract\n",
    "***"
   ]
  },
  {
   "cell_type": "markdown",
   "metadata": {},
   "source": [
    "- phrase - ``\"correlation does not imply causation\"`` - is proclaimed when confronted by claims based on simple observation [44]"
   ]
  },
  {
   "cell_type": "markdown",
   "metadata": {},
   "source": [
    "- one such poor association is the whimsical correlation of 0.95 between US crude oil import from Norway between 1999 and 2009 and the number of drivers killed in collisions with railway trains in each of those years [44][45]"
   ]
  },
  {
   "cell_type": "markdown",
   "metadata": {},
   "source": [
    "![norway-oil-drivers-killed](https://github.com/E6985/L8733/blob/master/src/hdp/fda/img/fda-tasks/norway-oil-drivers-killed.png?raw=true)\n",
    "\n",
    "***(Image) T. Vigen, \"Spurious correlations,\" [tylervigen](http://web.archive.org/web/20201211064451/http://tylervigen.com/spurious-correlations), July 2014.***"
   ]
  },
  {
   "cell_type": "markdown",
   "metadata": {},
   "source": [
    "- allowing for variability - the idea of causation is not deterministic - if ``x`` causes ``y`` it is not correct to infer that everytime ``x`` occurs then ``y`` too occurs - or that ``y`` will occur if ``x`` occurs - instead to intervene and force ``x`` to occur then ``y`` tends to happen more often - ``x`` increases the proportion of times that ``y`` happens [46]"
   ]
  },
  {
   "cell_type": "markdown",
   "metadata": {},
   "source": [
    "- it took decades for the medical community to conclude that smoking cigarettes caused lung cancer - the reason is that most people who do not smoke do get lung cancer - instead it is more likely to get lung cancer if a person smokes [46]"
   ]
  },
  {
   "cell_type": "markdown",
   "metadata": {},
   "source": [
    "< [Instructions](#top) | [README](https://github.com/E6985/fda-tasks/blob/main/README.md) | [Abstract](#task-4-abstract) | [Solution](#task-4-solution) | [Conclusion](#task-4-conclusion) >\n",
    "<a id=\"task-4-introduction\"></a>\n",
    "### Introduction\n",
    "***"
   ]
  },
  {
   "cell_type": "markdown",
   "metadata": {},
   "source": [
    "![homer](https://github.com/E6985/L8733/blob/master/src/hdp/fda/img/fda-tasks/homer.png?raw=true)"
   ]
  },
  {
   "cell_type": "markdown",
   "metadata": {},
   "source": [
    "- SARS-CoV-2 (Covid-19) Pandemic has resulted in the deaths of over 1.5 million people as of 3rd December 2020 [47] - the phenonomen of Simpson paradox can be seen in an interested study of the Covid-19 case facility rates (CFSs) comparing data of 44,672 cases from China with the early reports from Italy (9th March) - it was found that CFRs are lower in Italy for every age group but higher overall [48][49][50]"
   ]
  },
  {
   "cell_type": "markdown",
   "metadata": {},
   "source": [
    "- CFR - indicates the proportion of confirmed cases which end fatally - chances of surviving the disease [48][49]"
   ]
  },
  {
   "cell_type": "markdown",
   "metadata": {},
   "source": [
    "- it turns out that when you look at all the cases within the period between early March and late May for both Italy and China there was a clear pattern - more likely to survive in China than in Italy [48][49][50]"
   ]
  },
  {
   "cell_type": "code",
   "execution_count": 88,
   "metadata": {},
   "outputs": [],
   "source": [
    "import numpy as np"
   ]
  },
  {
   "cell_type": "code",
   "execution_count": 89,
   "metadata": {},
   "outputs": [],
   "source": [
    "class Covid19Dataset():\n",
    "    \"\"\"\n",
    "    A class for datasets with case and fatality numbers stratified by age \n",
    "    group for different countries.\n",
    "    \"\"\"\n",
    "    def __init__(self,\n",
    "                country,\n",
    "                date,\n",
    "                confirmed_cases,\n",
    "                fatalities,\n",
    "                source,\n",
    "                comments=None,\n",
    "                age_ranges=['0-9', '10-19', '20-29', '30-39', '40-49', \n",
    "                            '50-59', '60-69', '70-79','80+']\n",
    "                ):\n",
    "        self.country = country\n",
    "        self.date = date\n",
    "        self.confirmed_cases = np.array(confirmed_cases)\n",
    "        self.fatalities = np.array(fatalities)\n",
    "        self.source = source\n",
    "        self.comments = comments\n",
    "        self.age_ranges = age_ranges\n",
    "        # compute quantities of interest\n",
    "        self.cfr = self.fatalities/ self.confirmed_cases\n",
    "        self.total_cases = sum(self.confirmed_cases)\n",
    "        self.total_fatalities = sum(self.fatalities)\n",
    "        self.case_rates_by_age = self.confirmed_cases/self.total_cases\n",
    "        self.total_cfr = sum(self.case_rates_by_age * self.cfr)"
   ]
  },
  {
   "cell_type": "code",
   "execution_count": 90,
   "metadata": {},
   "outputs": [],
   "source": [
    "China_Feb17 = Covid19Dataset(\n",
    "    country = 'China',\n",
    "    date = '17 February', \n",
    "    confirmed_cases = [416, 549, 3619, 7600, 8571, 10008, 8583, 3918, 1408],\n",
    "    fatalities = [0, 1, 7, 18, 38, 130, 309, 312, 208],\n",
    "    source = {\n",
    "        'type': 'scientific publication',\n",
    "        'title': 'Characteristics of and important lessons from the coronavirus\\\n",
    "            disease 2019 (COVID-19) outbreak in China: summary of a report of\\\n",
    "            72 314 cases from the Chinese Center for Disease Control and Prevention',\n",
    "        'author': 'Wu, Zunyou and McGoogan, Jennifer M',\n",
    "        'journal': 'Jama',\n",
    "        'date': '24 February 2020',\n",
    "        'url': 'https://jamanetwork.com/journals/jama/fullarticle/2762130'\n",
    "        }\n",
    ")"
   ]
  },
  {
   "cell_type": "markdown",
   "metadata": {},
   "source": [
    "***(Code) J. Von Kugelgen, \"Covid19-age-related-causal-effects,\" [github](https://web.archive.org/web/20201211090154/https://github.com/Juliusvk/Covid19-age-related-causal-effects/blob/master/notebook_causal_corona.ipynb), June 2020.***"
   ]
  },
  {
   "cell_type": "code",
   "execution_count": 91,
   "metadata": {},
   "outputs": [],
   "source": [
    "Italy_Mar9 = Covid19Dataset(\n",
    "    country = 'Italy',\n",
    "    date = '9 March', \n",
    "    confirmed_cases = [43, 85, 296, 470, 891, 1453, 1471, 1785, 1532],\n",
    "    fatalities = [0, 0, 0, 0, 1, 3, 37, 114, 202],\n",
    "    source = {\n",
    "        'type': 'official report',\n",
    "        'date': '9 March 2020, 4pm',\n",
    "        'author': 'Istituto Superiore di Sanità \\\n",
    "            (ISS, Italian National Institute of Health)',\n",
    "        'url': 'https://www.epicentro.iss.it/coronavirus/bollettino/Bollettino-\\sorveglianza-integrata-COVID-19_09-marzo-2020.pdf'\n",
    "        }\n",
    ")"
   ]
  },
  {
   "cell_type": "markdown",
   "metadata": {},
   "source": [
    "***(Code) J. Von Kugelgen, \"Covid19-age-related-causal-effects,\" [github](https://web.archive.org/web/20201211090154/https://github.com/Juliusvk/Covid19-age-related-causal-effects/blob/master/notebook_causal_corona.ipynb), June 2020.***"
   ]
  },
  {
   "cell_type": "markdown",
   "metadata": {},
   "source": [
    "- however it turns out that if you dig a little bit deeper a very different type of relationship appears - histogram shows the CFR rate based on different age groups (10 year bins) [48][49][50]"
   ]
  },
  {
   "cell_type": "markdown",
   "metadata": {},
   "source": [
    "- analysing the sixty year old age range - turns out this age group in Italy are more likely to survive that the same age group in China - the same is also true for seventy and eighty year old age groups [48][49][50]"
   ]
  },
  {
   "cell_type": "code",
   "execution_count": 92,
   "metadata": {
    "scrolled": false
   },
   "outputs": [
    {
     "data": {
      "image/png": "[encoded data removed]",
      "text/plain": [
       "<Figure size 640x480 with 1 Axes>"
      ]
     },
     "metadata": {},
     "output_type": "display_data"
    }
   ],
   "source": [
    "def autolabel(rects, ax, decimal_points=1, fontsize=10):\n",
    "    \"\"\"Attach a text label above each bar in *rects*, displaying its height.\"\"\"\n",
    "    for rect in rects:\n",
    "        height = rect.get_height()\n",
    "        text_offset = (0, 3) if height >= 0 else (-2, -13)\n",
    "        ax.annotate(f\"{height:.{decimal_points}f}\",\n",
    "                    xy=(rect.get_x() + rect.get_width() / 2, height),\n",
    "                    xytext=text_offset,\n",
    "                    textcoords=\"offset points\",\n",
    "                    ha='center', va='bottom',\n",
    "                    fontsize=fontsize)\n",
    "\n",
    "def bar_chart_by_age(datasets, type, show_numbers=True, size=None):\n",
    "    n_data = len(datasets)\n",
    "    w = 1/n_data\n",
    "    if size is not None:\n",
    "        fig, ax = plt.subplots(figsize=size)\n",
    "    \n",
    "    else:\n",
    "        fig, ax = plt.subplots()\n",
    "    \n",
    "    ax.set_xlabel('Age')\n",
    "    ax.set_ylabel('%')\n",
    "    i = 0\n",
    "    for data in datasets:\n",
    "        data_id  = data.country + ', ' + data.date\n",
    "        if type == 'cases_by_age':\n",
    "            labels = datasets[0].age_ranges    \n",
    "            x = 1.25 * np.arange(len(labels))  # the label locations\n",
    "            x_init = x - 0.5 + w/2\n",
    "            ax.set_xticks(x)\n",
    "            ax.set_xticklabels(labels)\n",
    "            ax.set_title('Proportion of confirmed cases by age group')\n",
    "            y = 100 * data.case_rates_by_age\n",
    "            bar = ax.bar(x_init + i/n_data, y, w, label=data_id)\n",
    "    \n",
    "        elif type == 'cfr':\n",
    "            labels = datasets[0].age_ranges + ['Total']  \n",
    "            x = 1.25 * np.arange(len(labels))  # the label locations\n",
    "            x_init = x - 0.5 + w/2\n",
    "            ax.set_xticks(x)\n",
    "            ax.set_xticklabels(labels)\n",
    "            ax.set_ylabel('%')\n",
    "            ax.set_title('Case fatality rates (CFRs) by age group')\n",
    "            y = np.append(100*data.cfr, 100*data.total_cfr)\n",
    "            bar = ax.bar(x_init + i/n_data, y, w, label=data_id)\n",
    "        \n",
    "        else:\n",
    "            raise NotImplementedError\n",
    "            print(\"Plot type not supported. Please choose between 'cases_by_age' and 'cfr'.\")\n",
    "        \n",
    "        i += 1\n",
    "        if show_numbers:\n",
    "            autolabel(bar, ax)\n",
    "\n",
    "    ax.legend()\n",
    "    fig.tight_layout()\n",
    "    plt.show()\n",
    "    return fig\n",
    "\n",
    "data_Simpson = [China_Feb17, Italy_Mar9]\n",
    "fig = bar_chart_by_age(data_Simpson, 'cfr', show_numbers=False)\n",
    "fig.savefig('ChinaItalyCFRs.pdf', transparent=True, bbox_inches='tight')"
   ]
  },
  {
   "cell_type": "markdown",
   "metadata": {},
   "source": [
    "***(Code) J. Von Kugelgen, \"Covid19-age-related-causal-effects,\" [github](https://web.archive.org/web/20201211090154/https://github.com/Juliusvk/Covid19-age-related-causal-effects/blob/master/notebook_causal_corona.ipynb), June 2020.***"
   ]
  },
  {
   "cell_type": "markdown",
   "metadata": {},
   "source": [
    "- histogram of age demographics - shows the breakdown in terms of age - shows the percentage of the total patients who are in the different age range - its evident that in Italy there is a higher proportion of older patients - patients in their 80s and 70s than there are younger patients (thirties or forties) [48][49][50]"
   ]
  },
  {
   "cell_type": "markdown",
   "metadata": {},
   "source": [
    "- one of the key features of COVID-19 is that it is much easier to survive if you are younger than if you are older - so the fact that Italy has this higher proportion of older patients means their survivability rates are pulled down [48][49][50]"
   ]
  },
  {
   "cell_type": "markdown",
   "metadata": {},
   "source": [
    "- even though Italy was doing a relatively good job among the different individual age groups - Italy had more of the higher risk age groups in it overall disease profile [48][49][50]"
   ]
  },
  {
   "cell_type": "markdown",
   "metadata": {},
   "source": [
    "- core idea behind Simpson's Paradox is when the trend for aggregate data is different from the trend when subdivided into different categories [48][49][50]"
   ]
  },
  {
   "cell_type": "code",
   "execution_count": 93,
   "metadata": {},
   "outputs": [
    {
     "data": {
      "image/png": "[encoded data removed]",
      "text/plain": [
       "<Figure size 640x480 with 1 Axes>"
      ]
     },
     "metadata": {},
     "output_type": "display_data"
    }
   ],
   "source": [
    "fig = bar_chart_by_age(data_Simpson, 'cases_by_age', show_numbers=False)\n",
    "fig.savefig('ChinaItalyCaseDemographic.pdf', transparent=True, bbox_inches='tight')"
   ]
  },
  {
   "cell_type": "markdown",
   "metadata": {},
   "source": [
    "***(Code) J. Von Kugelgen, \"Covid19-age-related-causal-effects,\" [github](https://web.archive.org/web/20201211090154/https://github.com/Juliusvk/Covid19-age-related-causal-effects/blob/master/notebook_causal_corona.ipynb), June 2020.***"
   ]
  },
  {
   "cell_type": "markdown",
   "metadata": {},
   "source": [
    "< [Instructions](#top) | [README](https://github.com/E6985/fda-tasks/blob/main/README.md) | [Abstract](#task-4-abstract) | [Introduction](#task-4-introduction) | [Conclusion](#task-4-conclusion) >\n",
    "<a id=\"task-4-solution\"></a>\n",
    "### Solution\n",
    "***"
   ]
  },
  {
   "cell_type": "markdown",
   "metadata": {},
   "source": [
    "- demonstrating Simpson's paradox - trend evident in a number of groups reverses when the groups are combined into one big dataset [51]"
   ]
  },
  {
   "cell_type": "markdown",
   "metadata": {},
   "source": [
    "- data generated - simulated - in such a way to demonstrate the effect - the four generated datasets could be any four real-world phenomena [51]"
   ]
  },
  {
   "cell_type": "code",
   "execution_count": 94,
   "metadata": {},
   "outputs": [],
   "source": [
    "# b_T_hird_P_arty-imports\n",
    "import pandas as pd\n",
    "import seaborn as sns\n",
    "import numpy as np"
   ]
  },
  {
   "cell_type": "markdown",
   "metadata": {},
   "source": [
    "- contrived dataset - with an ``x`` array - corresponding ``y`` array [51]"
   ]
  },
  {
   "cell_type": "markdown",
   "metadata": {},
   "source": [
    "- creating ``x`` array using package ``numpy.linspace`` [51]"
   ]
  },
  {
   "cell_type": "code",
   "execution_count": 95,
   "metadata": {},
   "outputs": [],
   "source": [
    "# package numpy - subpackage core - module function_base - linspace arguments\n",
    "nStart,nStop,nSize=1.85,2.35,50"
   ]
  },
  {
   "cell_type": "markdown",
   "metadata": {},
   "source": [
    "- array ``x`` - evenly spaced numbers - interval - $[nStart, nStop]$ [53]"
   ]
  },
  {
   "cell_type": "code",
   "execution_count": 96,
   "metadata": {},
   "outputs": [],
   "source": [
    "# package numpy - subpackage core - module function_base\n",
    "x=np.linspace(nStart,nStop,nSize)"
   ]
  },
  {
   "cell_type": "markdown",
   "metadata": {},
   "source": [
    "- creating ``y`` array for each ``x`` using the generic equation of a straight line [51]\n",
    "\n",
    "$$y=ax+b$$"
   ]
  },
  {
   "cell_type": "code",
   "execution_count": 97,
   "metadata": {},
   "outputs": [],
   "source": [
    "# notation arguments - arbitrary\n",
    "a,b=4.0,1.75"
   ]
  },
  {
   "cell_type": "markdown",
   "metadata": {},
   "source": [
    "- usually not allowed to multiply a scalar by an array in python - can proceed given the array ``x`` is a numpy array [53]"
   ]
  },
  {
   "cell_type": "code",
   "execution_count": 98,
   "metadata": {},
   "outputs": [],
   "source": [
    "# straight line - notation\n",
    "y=a*x*b"
   ]
  },
  {
   "cell_type": "markdown",
   "metadata": {},
   "source": [
    "- plotting ``x`` on the x-axis versus ``y`` on the y-axis [51]"
   ]
  },
  {
   "cell_type": "code",
   "execution_count": 99,
   "metadata": {
    "scrolled": false
   },
   "outputs": [
    {
     "data": {
      "image/png": "[encoded data removed]",
      "text/plain": [
       "<Figure size 640x480 with 1 Axes>"
      ]
     },
     "metadata": {},
     "output_type": "display_data"
    }
   ],
   "source": [
    "# package matplotlib - module pyplot\n",
    "plt.plot(x,y,\"k.\");"
   ]
  },
  {
   "cell_type": "markdown",
   "metadata": {},
   "source": [
    "- rather than having a straightforward ``x`` and ``y`` relationship - to demonstrate Simpson's paradox adding some noise into the ``y`` array using ``numpy.random.normal`` [51]"
   ]
  },
  {
   "cell_type": "markdown",
   "metadata": {},
   "source": [
    "- ``noise`` - its mean will be centered on ``0.0`` - its spread increases with a standard deviation of ``0.75`` [54]"
   ]
  },
  {
   "cell_type": "code",
   "execution_count": 100,
   "metadata": {},
   "outputs": [],
   "source": [
    "# package numpy - subpackage random - normal arguments\n",
    "nLoc,nScale=0.0,0.75 # linspace argument - nSize=50"
   ]
  },
  {
   "cell_type": "code",
   "execution_count": 101,
   "metadata": {},
   "outputs": [],
   "source": [
    "# package numpy - subpackage random\n",
    "noise=np.random.normal(nLoc,nScale,nSize)"
   ]
  },
  {
   "cell_type": "code",
   "execution_count": 102,
   "metadata": {},
   "outputs": [],
   "source": [
    "# straight line - notation plus noise\n",
    "y=a*x+b+noise"
   ]
  },
  {
   "cell_type": "markdown",
   "metadata": {},
   "source": [
    "- plotting ``x`` on the x-axis versus ``y`` on the y-axis after adding ``noise`` to the ``y`` array - importance of the spread of data points around the mean will become evident when experiencing the Simpson's paradox later [51]"
   ]
  },
  {
   "cell_type": "code",
   "execution_count": 103,
   "metadata": {},
   "outputs": [
    {
     "data": {
      "image/png": "[encoded data removed]",
      "text/plain": [
       "<Figure size 640x480 with 1 Axes>"
      ]
     },
     "metadata": {},
     "output_type": "display_data"
    }
   ],
   "source": [
    "# package matplotlib - module pyplot\n",
    "plt.plot(x,y,\"k.\");"
   ]
  },
  {
   "cell_type": "markdown",
   "metadata": {},
   "source": [
    "- using ``numpy.lib.polynomial.polyfit`` to determine the best-fit line representing the ``x`` and ``y`` relationship given the variabiliy of data points on the scatter plot [55]"
   ]
  },
  {
   "cell_type": "markdown",
   "metadata": {},
   "source": [
    "- least squares polynomial fit - expression sought - parameters include values ``x`` and ``y`` plus ``1`` signifying the highest power of ``x`` looking to fit to this data - $x^{1}$ - returned are the coefficients of the powers of ``x`` - by convention usually think of it as the coefficient of ``x`` to the power of zero given that any number raised to the power of 0 equals to 1 [51]"
   ]
  },
  {
   "cell_type": "code",
   "execution_count": 104,
   "metadata": {},
   "outputs": [],
   "source": [
    "# package numpy - subpackage lib - module polynomial\n",
    "coeffs=np.polyfit(x,y,1)"
   ]
  },
  {
   "cell_type": "markdown",
   "metadata": {},
   "source": [
    "- two points ``coeffs`` - enough for a straight line - two distinct points on a straight line - all the other points will be by definition collinear with those two points [56]"
   ]
  },
  {
   "cell_type": "code",
   "execution_count": 105,
   "metadata": {},
   "outputs": [
    {
     "data": {
      "text/plain": [
       "array([3.75682004, 2.3284515 ])"
      ]
     },
     "execution_count": 105,
     "metadata": {},
     "output_type": "execute_result"
    }
   ],
   "source": [
    "coeffs"
   ]
  },
  {
   "cell_type": "markdown",
   "metadata": {},
   "source": [
    "- contrived dataset appears to have a upward trend - increase on the horizontal then going up on the vertical [48]"
   ]
  },
  {
   "cell_type": "code",
   "execution_count": 106,
   "metadata": {},
   "outputs": [
    {
     "data": {
      "image/png": "[encoded data removed]",
      "text/plain": [
       "<Figure size 640x480 with 1 Axes>"
      ]
     },
     "metadata": {},
     "output_type": "display_data"
    }
   ],
   "source": [
    "# package matplotlib - module pyplot\n",
    "plt.plot(x,y,\"k.\");\n",
    "plt.plot(x,coeffs[0]*x+coeffs[1],'r-');"
   ]
  },
  {
   "cell_type": "markdown",
   "metadata": {},
   "source": [
    "- creating three more datasets by changing existing parameters slightly [13]"
   ]
  },
  {
   "cell_type": "code",
   "execution_count": 107,
   "metadata": {},
   "outputs": [],
   "source": [
    "# package numpy - subpackage core - module function_base\n",
    "x2=np.linspace(2.25,2.75,nSize)\n",
    "x3=np.linspace(2.65,3.15,nSize)\n",
    "x4=np.linspace(3.05,3.55,nSize)\n",
    "# package numpy - subpackage random\n",
    "y2=3.0*x2+1.5+np.random.normal(nLoc,nScale,nSize)\n",
    "y3=2.0*x3+1.25+np.random.normal(nLoc,nScale,nSize)\n",
    "y4=1.0*x4+1.0+np.random.normal(nLoc,nScale,nSize)\n",
    "# package numpy - subpackage lib - module polynomial\n",
    "coeffs2=np.polyfit(x2,y2,1)\n",
    "coeffs3=np.polyfit(x3,y3,1)\n",
    "coeffs4=np.polyfit(x4,y4,1)"
   ]
  },
  {
   "cell_type": "markdown",
   "metadata": {},
   "source": [
    "- plotting all four datasets - horizontal axis - vertical axis - just looked at these data points and not considering Simpson's Paradox - appears to have a downward trend - increase on the horizontal then going down in the vertical [48]"
   ]
  },
  {
   "cell_type": "code",
   "execution_count": 108,
   "metadata": {},
   "outputs": [
    {
     "data": {
      "image/png": "[encoded data removed]",
      "text/plain": [
       "<Figure size 640x480 with 1 Axes>"
      ]
     },
     "metadata": {},
     "output_type": "display_data"
    }
   ],
   "source": [
    "# package matplotlib - module pyplot\n",
    "plt.plot(x,y,\"k.\");\n",
    "plt.plot(x2,y2,\"k.\");\n",
    "plt.plot(x3,y3,\"k.\");\n",
    "plt.plot(x4,y4,\"k.\");"
   ]
  },
  {
   "cell_type": "markdown",
   "metadata": {},
   "source": [
    "- join the sequence of arrays - four datasets - along an existing axis [57] - determine the best-fit line representing the ``xCombine`` and ``yCombine`` [55]"
   ]
  },
  {
   "cell_type": "code",
   "execution_count": 109,
   "metadata": {},
   "outputs": [],
   "source": [
    "# package numpy - subpackage core module _multiarray_umath\n",
    "xCombine=np.concatenate([x,x2,x3,x4])\n",
    "yCombine=np.concatenate([y,y2,y3,y4])\n",
    "# package numpy - subpackage lib - module polynomial\n",
    "coeffsCombine=np.polyfit(xCombine,yCombine,1)"
   ]
  },
  {
   "cell_type": "markdown",
   "metadata": {},
   "source": [
    "- plotting a trendline - appears in order - downward trend evident as suspected [48]"
   ]
  },
  {
   "cell_type": "code",
   "execution_count": 110,
   "metadata": {
    "scrolled": false
   },
   "outputs": [
    {
     "data": {
      "image/png": "[encoded data removed]",
      "text/plain": [
       "<Figure size 640x480 with 1 Axes>"
      ]
     },
     "metadata": {},
     "output_type": "display_data"
    }
   ],
   "source": [
    "# package matplotlib - module pyplot\n",
    "plt.plot(x,y,\"k.\");\n",
    "plt.plot(x2,y2,\"k.\");\n",
    "plt.plot(x3,y3,\"k.\");\n",
    "plt.plot(x4,y4,\"k.\");\n",
    "plt.plot(xCombine,coeffsCombine[0]*xCombine+coeffsCombine[1],'r-');"
   ]
  },
  {
   "cell_type": "markdown",
   "metadata": {},
   "source": [
    "- important to keep in mind the combined data - four datasets - may actually comes from four different categories - colour coded to illustrate the different categories to emphasise the point [48]"
   ]
  },
  {
   "cell_type": "code",
   "execution_count": 111,
   "metadata": {},
   "outputs": [
    {
     "data": {
      "image/png": "[encoded data removed]",
      "text/plain": [
       "<Figure size 640x480 with 1 Axes>"
      ]
     },
     "metadata": {},
     "output_type": "display_data"
    }
   ],
   "source": [
    "# package matplotlib - module pyplot\n",
    "plt.plot(x,y,\"b.\")\n",
    "plt.plot(x2,y2,\"g.\")\n",
    "plt.plot(x3,y3,\"r.\")\n",
    "plt.plot(x4,y4,\"y.\")\n",
    "plt.plot(xCombine,coeffsCombine[0]*xCombine+coeffsCombine[1],'r-');"
   ]
  },
  {
   "cell_type": "markdown",
   "metadata": {},
   "source": [
    "- these four colours representing categories could be anything from different countries or different companies or even the results from four different vaccine trails - in each dataset an upwards trend is evident - suspected early to have a downward trend - this was an incorrect assumption [48]"
   ]
  },
  {
   "cell_type": "code",
   "execution_count": 112,
   "metadata": {},
   "outputs": [
    {
     "data": {
      "image/png": "[encoded data removed]",
      "text/plain": [
       "<Figure size 640x480 with 1 Axes>"
      ]
     },
     "metadata": {},
     "output_type": "display_data"
    }
   ],
   "source": [
    "# package matplotlib - module pyplot\n",
    "plt.plot(x,y,\"b.\")\n",
    "plt.plot(x,coeffs[0]*x+coeffs[1],'k-',label='Blue dataset');\n",
    "plt.plot(x2,y2,\"g.\")\n",
    "plt.legend();\n",
    "plt.plot(x2,coeffs2[0]*x2+coeffs2[1],'k-',label='Green dataset');\n",
    "plt.plot(x3,y3,\"r.\")\n",
    "plt.legend();\n",
    "plt.plot(x3,coeffs3[0]*x3+coeffs3[1],'k-',label='Red dataset');\n",
    "plt.legend();\n",
    "plt.plot(x4,y4,\"y.\")\n",
    "plt.plot(x4,coeffs4[0]*x4+coeffs4[1],'k-',label='Yellow dataset');\n",
    "plt.legend();"
   ]
  },
  {
   "cell_type": "markdown",
   "metadata": {},
   "source": [
    "< [Instructions](#top) | [README](https://github.com/E6985/fda-tasks/blob/main/README.md) | [Abstract](#task-4-abstract) | [Introduction](#task-4-introduction) | [Solution](#task-4-solution) >\n",
    "<a id=\"task-4-conclusion\"></a>\n",
    "### Conclusion\n",
    "***"
   ]
  },
  {
   "cell_type": "markdown",
   "metadata": {},
   "source": [
    "- ``Simpsons paradox`` - occurs when the apparent direction of an association is reversed by adjusting for a confounding factor - requiring a change in the apparent trend observed from the data which reenforces the caution required in interpreting observational data [58]"
   ]
  },
  {
   "cell_type": "markdown",
   "metadata": {},
   "source": [
    "- when data is aggregated over a lot of different categories - the trend can appear to be one thing but when divided into different categories that trend is actually something very different - very important to keep in mind whenever statistics is involved with any phenomenon under investigation [48]"
   ]
  },
  {
   "cell_type": "markdown",
   "metadata": {},
   "source": [
    "## END"
   ]
  },
  {
   "cell_type": "markdown",
   "metadata": {},
   "source": [
    "< [Instructions](#top) | [README](https://github.com/E6985/fda-tasks/blob/main/README.md) | [Task 1](#task-1) | [Task 2](#task-2) | [Task 3](#task-3) | [Task 4](#task-4) >\n",
    "<a id=\"references\"></a>\n",
    "***\n",
    "## References\n",
    "***\n",
    "&nbsp;&nbsp;&nbsp;&nbsp;&nbsp;&nbsp;&nbsp;&nbsp;&nbsp;[1] J. VanderPlas, \"Built-In Data Structures,\" A Whirlwind Tour of Python, p. 60, August 2016.\n",
    "\n",
    "&nbsp;&nbsp;&nbsp;&nbsp;&nbsp;&nbsp;&nbsp;&nbsp;&nbsp;[2] I. McLoughlin, \"Tasks 2020 Fundamentals of Data Analysis,\" GMIT, October 2020.\n",
    "\n",
    "&nbsp;&nbsp;&nbsp;&nbsp;&nbsp;&nbsp;&nbsp;&nbsp;&nbsp;[3] Python Documentation, \"Collections - Container dataypes,\" [Python](https://web.archive.org/web/20201022092017/https://docs.python.org/3/library/collections.html#module-collections), October 2008.\n",
    "\n",
    "&nbsp;&nbsp;&nbsp;&nbsp;&nbsp;&nbsp;&nbsp;&nbsp;&nbsp;[4] Python, \"cpython/Lib/collections/__init__.py,\" [Github](https://web.archive.org/web/20201105151531/https://github.com/python/cpython/blob/master/Lib/collections/__init__.py), May 2020.\n",
    "\n",
    "&nbsp;&nbsp;&nbsp;&nbsp;&nbsp;&nbsp;&nbsp;&nbsp;&nbsp;[5] Smalltalk, \"smalltalk/kernel/Bag.st,\" [Github](https://web.archive.org/web/20201105154907/https://github.com/gnu-smalltalk/smalltalk/blob/master/kernel/Bag.st), January 2010.\n",
    "\n",
    "&nbsp;&nbsp;&nbsp;&nbsp;&nbsp;&nbsp;&nbsp;&nbsp;&nbsp;[6] Python, \"cpython/Lib/collections/__init__.py,\" [Github](https://web.archive.org/web/20201105151531/https://github.com/python/cpython/blob/master/Lib/collections/__init__.py), May 2020.\n",
    "\n",
    "&nbsp;&nbsp;&nbsp;&nbsp;&nbsp;&nbsp;&nbsp;&nbsp;&nbsp;[7] R. Shadrach, R. Pierce, \"Introduction to Sets,\" [MathIsFun](https://web.archive.org/web/20201218115153/https://www.mathsisfun.com/sets/sets-introduction.html), July 2006.\n",
    "\n",
    "&nbsp;&nbsp;&nbsp;&nbsp;&nbsp;&nbsp;&nbsp;&nbsp;&nbsp;[8] W. Blizard, \"Multiset theory,\" [Project euclid](https://web.archive.org/web/20201105163941/https://projecteuclid.org/euclid.ndjfl/1093634995), July 1987.\n",
    "\n",
    "&nbsp;&nbsp;&nbsp;&nbsp;&nbsp;&nbsp;&nbsp;&nbsp;&nbsp;[9] E. Weisstein, \"Multiset,\" [mathworld.wolfram](https://web.archive.org/web/20200319012240/https://mathworld.wolfram.com/Multiset.html), 2002.\n",
    "\n",
    "&nbsp;&nbsp;&nbsp;&nbsp;&nbsp;&nbsp;&nbsp;[10] J. Nieminen, J. Khim, \"Multiset,\" [Brilliant](https://web.archive.org/web/20201105164908/https://brilliant.orgwiki/multiset), April 2018.\n",
    "\n",
    "&nbsp;&nbsp;&nbsp;&nbsp;&nbsp;&nbsp;&nbsp;[11] E. Wiethoff, \"Bag Sum In Many Programming Languages,\" [wiki.c2](https://web.archive.org/web/20201107143701/https://wiki.c2.com/?BagSumInManyProgrammingLanguages), n.d.\n",
    "\n",
    "&nbsp;&nbsp;&nbsp;&nbsp;&nbsp;&nbsp;&nbsp;[12] D. Amos, \"Object-Oriented Programming (OOP) in Python 3,\" [Real Python](https://web.archive.org/web/20201107154103/https://realpython.com/python3-object-oriented-programming), July 2020.\n",
    "\n",
    "&nbsp;&nbsp;&nbsp;&nbsp;&nbsp;&nbsp;&nbsp;[13] No Reference.\n",
    "\n",
    "&nbsp;&nbsp;&nbsp;&nbsp;&nbsp;&nbsp;&nbsp;[14] W3Schools, \"Python Dictionary get() Method,\" [w3schools](https://web.archive.org/web/20201107161412/https://www.w3schools.com/python/ref_dictionary_get.asp), August 2018.\n",
    "\n",
    "&nbsp;&nbsp;&nbsp;&nbsp;&nbsp;&nbsp;&nbsp;[15] J. VanderPlas, \"Built-In Data Structures,\" A Whirlwind Tour of Python, p. 58, August 2016.\n",
    "\n",
    "&nbsp;&nbsp;&nbsp;&nbsp;&nbsp;&nbsp;&nbsp;[16] Python Documentation, \"5.6. Looping Techniques,\" [Python](https://web.archive.org/web/20201107162523/https://docs.python.org/3/tutorial/datastructures.html#looping-techniques), October 2008.\n",
    "\n",
    "&nbsp;&nbsp;&nbsp;&nbsp;&nbsp;&nbsp;&nbsp;[17] Python Documentation, \"array — Efficient arrays of numeric values,\" [Python](https://web.archive.org/web/20201108173847/https://docs.python.org/3/library/array.html?highlight=count#array.array.count), October 2008.\n",
    "\n",
    "&nbsp;&nbsp;&nbsp;&nbsp;&nbsp;&nbsp;&nbsp;[18] Python Documentation, \"Built-in Types,\" [Python](http://web.archive.org/web/20201108174452/https://docs.python.org/3/library/stdtypes.html#dict), October 2008.]\n",
    "\n",
    "&nbsp;&nbsp;&nbsp;&nbsp;&nbsp;&nbsp;&nbsp;[19] Anonymous, \"Bag Sum In Many Programming Languages,\" [wiki.c2](https://web.archive.org/web/20201107143701/https://wiki.c2.com/?BagSumInManyProgrammingLanguages), n.d.\n",
    "\n",
    "&nbsp;&nbsp;&nbsp;&nbsp;&nbsp;&nbsp;&nbsp;[20] Python Documentation, \"Built-in Functions,\" [Python](https://web.archive.org/web/20200512035500/https://docs.python.org/3/library/functions.html#sorted), October 2008.]\n",
    "\n",
    "&nbsp;&nbsp;&nbsp;&nbsp;&nbsp;&nbsp;&nbsp;[21] J. VanderPlas, \"Built-In Data Structures,\" A Whirlwind Tour of Python, p. 32, August 2016.\n",
    "\n",
    "&nbsp;&nbsp;&nbsp;&nbsp;&nbsp;&nbsp;&nbsp;[22] J. VanderPlas, \"Built-In Data Structures,\" A Whirlwind Tour of Python, p. 39, August 2016.\n",
    "\n",
    "&nbsp;&nbsp;&nbsp;&nbsp;&nbsp;&nbsp;&nbsp;[23] J. VanderPlas, \"A Python List Is More Than Just a List,\" Python Data Science Handbook, December 2016.\n",
    "\n",
    "&nbsp;&nbsp;&nbsp;&nbsp;&nbsp;&nbsp;&nbsp;[24] I. McLoughlin, \"Task 2 Rolling dice,\" GMIT, November 2020.\n",
    "\n",
    "&nbsp;&nbsp;&nbsp;&nbsp;&nbsp;&nbsp;&nbsp;[25] Anaconda (random), \"python,\" Docstring, June 2020.\n",
    "\n",
    "&nbsp;&nbsp;&nbsp;&nbsp;&nbsp;&nbsp;&nbsp;[26] NumPy, \"Changes in v1.19,\" [github](https://web.archive.org/web/20201121105209/https://github.com/bashtage/randomgen), v1.19.\n",
    "\n",
    "&nbsp;&nbsp;&nbsp;&nbsp;&nbsp;&nbsp;&nbsp;[27] Anaconda (default_rng), \"numpy.random.Generator,\" Docstring, June 2020.\n",
    "\n",
    "&nbsp;&nbsp;&nbsp;&nbsp;&nbsp;&nbsp;&nbsp;[28] M. Haahr, \"Frequently Asked Questions (FAQ),\" [random](https://web.archive.org/web/20201115135742/https://www.random.org/faq/#Q2.8), n.d.\n",
    "\n",
    "&nbsp;&nbsp;&nbsp;&nbsp;&nbsp;&nbsp;&nbsp;[29] L. Johnson, \"How to Calculate Dice Probabilities,\" [sciencing](https://web.archive.org/web/20201209072118/https://sciencing.com/calculate-dice-probabilities-5858157.html), October 2020.\n",
    "\n",
    "&nbsp;&nbsp;&nbsp;&nbsp;&nbsp;&nbsp;&nbsp;[30] Anaconda (range), \"python,\" Docstring, June 2020.\n",
    "\n",
    "&nbsp;&nbsp;&nbsp;&nbsp;&nbsp;&nbsp;&nbsp;[31] L. Johnson, \"How to Calculate Dice Probabilities,\" [sciencing](https://web.archive.org/web/20201209072118/https://sciencing.com/calculate-dice-probabilities-5858157.html), October 2020.\n",
    "\n",
    "&nbsp;&nbsp;&nbsp;&nbsp;&nbsp;&nbsp;&nbsp;[32] I. McLoughlin, \"Coin flipping in Python,\" GMIT, September 2019.\n",
    "\n",
    "&nbsp;&nbsp;&nbsp;&nbsp;&nbsp;&nbsp;&nbsp;[33] Wikipedia, \"Interval (mathematics),\" [wikipedia](http://web.archive.org/web/20200925042254/https://en.wikipedia.org/wiki/Interval_%28mathematics%29), reference] n.d.\n",
    "\n",
    "&nbsp;&nbsp;&nbsp;&nbsp;&nbsp;&nbsp;&nbsp;[34] Anaconda (choice), \"numpy.random.Generator,\" Docstring, June 2020.\n",
    "\n",
    "&nbsp;&nbsp;&nbsp;&nbsp;&nbsp;&nbsp;&nbsp;[35] CptanPanic, \"How to handle labels when using dark theme with jupyterlabs?,\" [github](https://web.archive.org/web/20201027100553/https://github.com/matplotlib/ipympl/issues/25), October 2017.\n",
    "\n",
    "&nbsp;&nbsp;&nbsp;&nbsp;&nbsp;&nbsp;&nbsp;[36] Wolfram, \"Half-Closed Interval,\" [mathworld.wolfram](https://web.archive.org/web/20201106190646/https://mathworld.wolfram.com/Half-ClosedInterval.html), Ootober 2020.\n",
    "\n",
    "&nbsp;&nbsp;&nbsp;&nbsp;&nbsp;&nbsp;&nbsp;[37] D. Spiegelhalter, \"The Art of Statistics,\" Pelican, p. 237, 2019.\n",
    "\n",
    "&nbsp;&nbsp;&nbsp;&nbsp;&nbsp;&nbsp;&nbsp;[38] E. Weisstein, \"Coin Tossing,\" [mathworld.wolfram](https://web.archive.org/web/20201216170657/https://mathworld.wolfram.com/CoinTossing.html), n.d.\n",
    "\n",
    "&nbsp;&nbsp;&nbsp;&nbsp;&nbsp;&nbsp;&nbsp;[39] Statistics How To, \"Discrete vs Continuous variables: How to Tell the Difference,\" [statisticshowto](https://web.archive.org/web/20201108073006/https://www.statisticshowto.com/probability-and-statistics/statistics-definitions/discrete-vs-continuous-variables), November 2013.\n",
    "\n",
    "&nbsp;&nbsp;&nbsp;&nbsp;&nbsp;&nbsp;&nbsp;[40] StarTrek, \"Probability Distributions: Discrete vs. Continuous,\" [startrek](https://web.archive.org/web/20201106155243/https://stattrek.com/probability-distributions/discrete-continuous.aspx), November 2015.\n",
    "\n",
    "&nbsp;&nbsp;&nbsp;&nbsp;&nbsp;&nbsp;&nbsp;[41] Math Vault, \"The Definitive Glossary of Higher Mathematical Jargon,\" [mathvault](https://web.archive.org/web/20201108073635/https://mathvault.ca/math-glossary/#infinite), October 2019.\n",
    "\n",
    "&nbsp;&nbsp;&nbsp;&nbsp;&nbsp;&nbsp;&nbsp;[42] E. Weisstein, \"Binomial Distribution,\" [mathworld.wolfram](https://web.archive.org/web/20201216171306/https://mathworld.wolfram.com/BinomialDistribution.html), n.d.\n",
    "\n",
    "&nbsp;&nbsp;&nbsp;&nbsp;&nbsp;&nbsp;&nbsp;[43] Anaconda (binomial), \"numpy.random.generator,\" Docstring, June 2020.\n",
    "\n",
    "&nbsp;&nbsp;&nbsp;&nbsp;&nbsp;&nbsp;&nbsp;[44] D. Spiegelhalter, \"The Art of Statistics,\" Pelican, p. 97, 2019.\n",
    "\n",
    "&nbsp;&nbsp;&nbsp;&nbsp;&nbsp;&nbsp;&nbsp;[45] T. Vigen, \"Spurious correlations,\" [tylervigen](http://web.archive.org/web/20201211064451/http://tylervigen.com/spurious-correlations), July 2014.\n",
    "\n",
    "&nbsp;&nbsp;&nbsp;&nbsp;&nbsp;&nbsp;&nbsp;[46] D. Spiegelhalter, \"The Art of Statistics,\" Pelican, p. 98, 2019.\n",
    "\n",
    "&nbsp;&nbsp;&nbsp;&nbsp;&nbsp;&nbsp;&nbsp;[47] Worldometer, \"COVID-19 Coronavirus Pandemic,\" [worldometers](https://web.archive.org/web/20201203190732/https://www.worldometers.info/coronavirus), December 2020.\n",
    "\n",
    "&nbsp;&nbsp;&nbsp;&nbsp;&nbsp;&nbsp;&nbsp;[48] T. Bazett, \"How SIMPSON'S PARADOX explains weird COVID19 statistics,\" [youtube.com](https://web.archive.org/web/20201205185009/https://www.youtube.com/watch?v=t-Ci3FosqZs), July 2020.\n",
    "\n",
    "&nbsp;&nbsp;&nbsp;&nbsp;&nbsp;&nbsp;&nbsp;[49] J. Von Kugelgen, L.G, B.S, \"Simpson’s paradox in Covid-19 case fatality rates:a mediation analysis of age-related causal effects,\" [arxiv](https://web.archive.org/web/20201211090001/https://arxiv.org/abs/2005.07180), June 2020.\n",
    "\n",
    "&nbsp;&nbsp;&nbsp;&nbsp;&nbsp;&nbsp;&nbsp;[50] J. Von Kugelgen, \"Covid19-age-related-causal-effects,\" [github](https://web.archive.org/web/20201211090154/https://github.com/Juliusvk/Covid19-age-related-causal-effects/blob/master/notebook_causal_corona.ipynb), June 2020.\n",
    "\n",
    "&nbsp;&nbsp;&nbsp;&nbsp;&nbsp;&nbsp;&nbsp;[51] I. McLoughlin, \"Project 2020 Fundamentals of Data Analysis,\" GMIT, October 2020.\n",
    "\n",
    "&nbsp;&nbsp;&nbsp;&nbsp;&nbsp;&nbsp;&nbsp;[52] Anaconda (linspace), \"numpy.core.function_base,\" Docstring, June 2020.\n",
    "\n",
    "&nbsp;&nbsp;&nbsp;&nbsp;&nbsp;&nbsp;&nbsp;[53] I. McLoughlin, \"Fitting lines,\" GMIT, December 2020.\n",
    "\n",
    "&nbsp;&nbsp;&nbsp;&nbsp;&nbsp;&nbsp;&nbsp;[54] Anaconda (normal), \"numpy.random,\" Docstring, June 2020.\n",
    "\n",
    "&nbsp;&nbsp;&nbsp;&nbsp;&nbsp;&nbsp;&nbsp;[55] Anaconda (polyfit), \"numpy.lib.polynomial,\" Docstring, June 2020.\n",
    "\n",
    "&nbsp;&nbsp;&nbsp;&nbsp;&nbsp;&nbsp;&nbsp;[56] I. McLoughlin, \"Simple linear regression regression,\" GMIT, October 2018.\n",
    "\n",
    "&nbsp;&nbsp;&nbsp;&nbsp;&nbsp;&nbsp;&nbsp;[57] Anaconda (concatenate), \"numpy.core._multiarray_umath.concatenate,\" Docstring, June 2020.\n",
    "\n",
    "&nbsp;&nbsp;&nbsp;&nbsp;&nbsp;&nbsp;&nbsp;[58] D. Spiegelhalter, \"The Art of Statistics,\" Pelican, p. 112, 2019.\n",
    "***"
   ]
  },
  {
   "cell_type": "markdown",
   "metadata": {},
   "source": [
    "## END"
   ]
  },
  {
   "cell_type": "markdown",
   "metadata": {},
   "source": [
    "< [Instructions](#top) | [README](https://github.com/E6985/fda-tasks/blob/main/README.md) | [Task 1](#task-1) | [Task 2](#task-2) | [Task 3](#task-3) | [Task 4](#task-4) | [References](#references) >\n",
    "<a id=\"appendix\"></a>\n",
    "***\n",
    "## Appendix\n",
    "***"
   ]
  },
  {
   "cell_type": "markdown",
   "metadata": {},
   "source": [
    "< [Instructions](#top) | [README](https://github.com/E6985/fda-tasks/blob/main/README.md) | [Task 1](#task-1) | [Task 2](#task-2) | [Task 3](#task-3) | [Task 4](#task-4) | [References](#references) >\n",
    "<a id=\"appendix-a\"></a>\n",
    "***\n",
    "## A\n",
    "***\n",
    "\n",
    "< Task 1 [Object-Oriented Approach](#object-oriented-approach) >\n",
    "\n",
    "```python\n",
    "# \"Classy\" solution...\n",
    "class Bag(dict):\n",
    "    def __init__(self, alist):\n",
    "        for elem in alist:\n",
    "            self.add(elem)\n",
    "\n",
    "    def add(self, elem):\n",
    "        self[elem] = self.get(elem, 0) + 1\n",
    "\n",
    "    def __str__(self):\n",
    "        out = ['%-8s %3d' % (key, val)\n",
    "                        for (key, val) in sorted(self.items())]\n",
    "        return '\\n'.join(out)\n",
    "\n",
    "print Bag('foo bar bar foo glag foo'.split())\n",
    "```\n",
    "\n",
    "E. Wiethoff, \"Bag Sum In Many Programming Languages,\" [wiki.c2](https://web.archive.org/web/20201107143701/https://wiki.c2.com/?BagSumInManyProgrammingLanguages), n.d."
   ]
  },
  {
   "cell_type": "markdown",
   "metadata": {},
   "source": [
    "## END"
   ]
  },
  {
   "cell_type": "markdown",
   "metadata": {},
   "source": [
    "< [Instructions](#top) | [README](https://github.com/E6985/fda-tasks/blob/main/README.md) | [Task 1](#task-1) | [Task 2](#task-2) | [Task 3](#task-3) | [Task 4](#task-4) | [References](#references) >\n",
    "<a id=\"appendix-b\"></a>\n",
    "***\n",
    "## B\n",
    "***\n",
    "\n",
    "< Task 1 [Eliminate Duplicates Approach](#eliminate-duplicates-approach) >\n",
    "\n",
    "```python\n",
    "# Pythonic ListComprehension and loop solution...\n",
    "bag = 'foo bar bar foo glag foo'.split()\n",
    "bagsum = dict([(elem, bag.count(elem)) for elem in bag])\n",
    "for key, val in sorted(bagsum.items()):\n",
    "    print '%-8s %3d' % (key, val)\n",
    "```\n",
    "\n",
    "E. Wiethoff, \"Bag Sum In Many Programming Languages,\" [wiki.c2](https://web.archive.org/web/20201107143701/https://wiki.c2.com/?BagSumInManyProgrammingLanguages), n.d."
   ]
  },
  {
   "cell_type": "markdown",
   "metadata": {},
   "source": [
    "## END"
   ]
  },
  {
   "cell_type": "markdown",
   "metadata": {},
   "source": [
    "< [Instructions](#top) | [README](https://github.com/E6985/fda-tasks/blob/main/README.md) | [Task 1](#task-1) | [Task 2](#task-2) | [Task 3](#task-3) | [Task 4](#task-4) | [References](#references) >\n",
    "<a id=\"appendix-c\"></a>\n",
    "***\n",
    "## C\n",
    "***\n",
    "\n",
    "< Task 1 [Sort Tally Approach](#sort-tally-approach) >\n",
    "\n",
    "```python\n",
    "words = 'foo bar bar foo glag foo'.split()\n",
    "words.sort()\n",
    "prev, count = words[0], 1\n",
    "for word in words[1:]:\n",
    "    if word == prev:\n",
    "        count += 1\n",
    "    else:\n",
    "        print prev, count\n",
    "        prev, count = word, 1\n",
    "print prev, count\n",
    "```\n",
    "\n",
    "Anonymous, \"Bag Sum In Many Programming Languages,\" [wiki.c2](https://web.archive.org/web/20201107143701/https://wiki.c2.com/?BagSumInManyProgrammingLanguages), n.d."
   ]
  },
  {
   "cell_type": "markdown",
   "metadata": {},
   "source": [
    "## END"
   ]
  },
  {
   "cell_type": "markdown",
   "metadata": {},
   "source": [
    "< [Instructions](#top) | [README](https://github.com/E6985/fda-tasks/blob/main/README.md) | [Task 1](#task-1) | [Task 2](#task-2) | [Task 3](#task-3) | [Task 4](#task-4) | [References](#references) >\n",
    "<a id=\"appendix-d\"></a>\n",
    "***\n",
    "## D\n",
    "***\n",
    "\n",
    "< Task 3 [Implemenation](#implementation) >\n",
    "\n",
    "- half-open interval - one endpoint is included but not the other - $[a,b)$ - includes - ``a`` - excludes - ``b`` - $(a,b]$ - excludes - ``a`` - includes - ``b`` [13]\n",
    "\n",
    "![half-open-interval](https://github.com/E6985/pda-numpy-random/blob/main/img/distribution-uniform-half-open-interval.png?raw=true)\n",
    "\n",
    "***(Image) Wolfram, \"Half-Closed Interval,\" [mathworld.wolfram](https://web.archive.org/web/20201106190646/https://mathworld.wolfram.com/Half-ClosedInterval.html), Ootober 2020.***"
   ]
  },
  {
   "cell_type": "markdown",
   "metadata": {},
   "source": [
    "## END"
   ]
  },
  {
   "cell_type": "markdown",
   "metadata": {},
   "source": [
    "# END JUPYTER NOTEBOOK"
   ]
  }
 ],
 "metadata": {
  "kernelspec": {
   "display_name": "Python 3",
   "language": "python",
   "name": "python3"
  },
  "language_info": {
   "codemirror_mode": {
    "name": "ipython",
    "version": 3
   },
   "file_extension": ".py",
   "mimetype": "text/x-python",
   "name": "python",
   "nbconvert_exporter": "python",
   "pygments_lexer": "ipython3",
   "version": "3.8.3"
  }
 },
 "nbformat": 4,
 "nbformat_minor": 4
}
