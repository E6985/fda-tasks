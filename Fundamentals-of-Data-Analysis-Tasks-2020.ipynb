{
 "cells": [
  {
   "cell_type": "markdown",
   "metadata": {},
   "source": [
    "< [GMIT Data Analytics](https://web.archive.org/web/20201029063153/https://www.gmit.ie/computer-science-and-applied-physics/higher-diploma-science-computing-data-analytics-ict) | [Table of Contents](https://github.com/E6985) | [README](https://github.com/E6985/fda-tasks/blob/main/README.md) >\n",
    "\n",
    "![GMIT](https://github.com/E6985/pda-numpy-random/blob/main/img/gmit.png?raw=true)\n",
    "\n",
    "## Fundamentals of Data Analysis - Tasks 2020\n",
    "## Due: last commit on or before December 18th, 2020\n",
    "***"
   ]
  },
  {
   "cell_type": "markdown",
   "metadata": {},
   "source": [
    "<a id=\"top\"></a>\n",
    "< [README](https://github.com/E6985/fda-tasks/blob/main/README.md) | [References](#references) >\n",
    "\n",
    "## Instructions\n",
    "\n",
    "These are the instructions for the Tasks assessment for Fundamentals of Data Analysis in 2020. Four tasks will be listed here at different times during the semester. Should complete all tasks in a single Jupyter notebook. This, along with relevant files like a README, should be in a single git repository synced with a hosting provider like GitHub.\n",
    "\n",
    "[Task 1](#task-1). Python function - counts.\n",
    "\n",
    "> Write a Python function called counts that takes a list as input and returns a dictionary of unique items in the list as keys and the number of times each item appears as values. So, the input ``['A', 'A', 'B', 'C', 'A']`` should have output ``{'A': 3, 'B': 1, 'C': 1}``. Your code should not depend on any module from the standard library or otherwise. By the standard library, we mean the modules and packages that come as standard with Python. Anything built-in that can be used without an import statement can be used. You should research the task first and include a description with references of your algorithm in the notebook.\n",
    "\n",
    "[Task 2](#task-2). Python function - diceroll.\n",
    "\n",
    "> Write a Python function called dicerolls that simulates rolling dice. Your function should take two parameters: the number of dice ``k`` and the number of times to roll the dice ``n``. The function should simulate randomly rolling ``k`` dice ``n`` times, keeping track of each total face value. It should then return a dictionary with the number of times each possible total face value occurred. So, calling the function as ``diceroll(k=2, n=1000)`` should return a dictionary like:\n",
    "\n",
    "> ``{2:19,3:50,4:82,5:112,6:135,7:174,8:133,9:114,10:75,11:70,12:36}``\n",
    "\n",
    "> You can use any module from the Python standard library you wish and you should include a description with references of your algorithm in the notebook.\n",
    "\n",
    "[Task 3](#task-3). Simulate coin flip - numpy.random.binomial.\n",
    "\n",
    "> The ``numpy.random.binomial`` function can be used to simulate flipping a coin with a 50/50 chance of heads or tails. Interestingly, if a coin is flipped many times then the number of heads is well approximated by a bell-shaped curve. For instance, if we flip a coin 100 times in a row the chance of getting 50 heads is relatively high, the chances of getting 0 or 100 heads is relatively low, and the chances of getting any other number of heads decreases as you move away from 50 in either direction towards 0 or 100. Write some python code that simulates flipping a coin 100 times. Then run this code 1,000 times, keeping track of the number of heads in each of the 1,000 simulations. Select an appropriate plot to depict the resulting list of 1,000 numbers, showing that it roughly follows a bell-shaped curve. You should explain your work in a Markdown cell above the code.\n",
    "\n",
    "[Task 4](#task-4). Demonstrate Simpson's paradox.\n",
    "\n",
    "> Simpson’s paradox is a well-known statistical paradox where a trend evident in a number of groups reverses when the groups are combined into one big dataset. Use numpy to create four datasets, each with an ``x`` array and a corresponding ``y`` array, to demonstrate Simpson’s paradox. You might create your ``x`` arrays using ``numpy.linspace`` and create the ``y`` array for each ``x`` using notation like ``y = a * x + b`` where you choose the ``a`` and ``b`` for each ``x``, ``y`` pair to demonstrate the paradox. You might see the Wikipedia page for Simpson’s paradox for inspiration."
   ]
  },
  {
   "cell_type": "markdown",
   "metadata": {},
   "source": [
    "<h2><center>END</center></h2>"
   ]
  },
  {
   "cell_type": "markdown",
   "metadata": {},
   "source": [
    "< [Instructions](#top) | [README](https://github.com/E6985/fda-tasks/blob/main/README.md) | [Task 2](#task-2) | [Task 3](#task-3) | [Task 4](#task-4) | [References](#references) >\n",
    "<a id=\"task-1\"></a>\n",
    "***\n",
    "## Task 1\n",
    "### Python function - counts.\n",
    "***"
   ]
  },
  {
   "cell_type": "markdown",
   "metadata": {},
   "source": [
    "###### Dictionary\n",
    "***"
   ]
  },
  {
   "cell_type": "markdown",
   "metadata": {},
   "source": [
    "- dictionary - unorderd data collection type - flexible mappings of keys to values - form the basis of much of pythons internal implementation - created via a comma-separated list - pairs - ``key:value`` - within curly braces [\n",
    "[...] J. VanderPlas, \"Built-In Data Structures,\" A Whirlwind Tour of Python, p. 60, August 2016.\n",
    "]"
   ]
  },
  {
   "cell_type": "markdown",
   "metadata": {},
   "source": [
    "###### Algorithm - Attempt - Initial Approach\n",
    "***"
   ]
  },
  {
   "cell_type": "markdown",
   "metadata": {},
   "source": [
    "- input - list - ``['A', 'A', 'B', 'C', 'A']`` - function - counts - should take any list containing any items and return a dictionary of unique items in the list as keys and the number of times each item appears as values - algorithm designed should be based on imagining the list contains - letters in strings as presented in the Tasks 1 - list containing something other than strings - containing a single character - containing numbers - containing other lists - containing dictionaries - **think about this** - ok to **specify if the the function does not work with** lists of lists or something like that but consider said ideas - consider all of the different ins and outs where the algorithm might fail and document - have a lot of freedom here [\n",
    "[...] I. McLoughlin, \"Tasks 2020 Fundamentals of Data Analysis,\" GMIT, October 2020.\n",
    "]"
   ]
  },
  {
   "cell_type": "code",
   "execution_count": 1,
   "metadata": {},
   "outputs": [],
   "source": [
    "nArgList=['A', 'A', 'B', 'C', 'A']"
   ]
  },
  {
   "cell_type": "code",
   "execution_count": 2,
   "metadata": {},
   "outputs": [],
   "source": [
    "# define function - counts\n",
    "def counts(nParList):\n",
    "    nDictionary={}\n",
    "    for nEachValue in nParList:\n",
    "        # object Dict - method setdefault - call\n",
    "        nDictionary.setdefault(nEachValue,0)\n",
    "        nDictionary[nEachValue]+=1\n",
    "    return nDictionary"
   ]
  },
  {
   "cell_type": "code",
   "execution_count": 3,
   "metadata": {},
   "outputs": [
    {
     "data": {
      "text/plain": [
       "{'A': 3, 'B': 1, 'C': 1}"
      ]
     },
     "execution_count": 3,
     "metadata": {},
     "output_type": "execute_result"
    }
   ],
   "source": [
    "# function counts - call\n",
    "counts(nArgList)"
   ]
  },
  {
   "cell_type": "markdown",
   "metadata": {},
   "source": [
    "###### Python Module - collections\n",
    "***"
   ]
  },
  {
   "cell_type": "markdown",
   "metadata": {},
   "source": [
    "- built-in - module - collections - provides alternatives to pythons general purpose built-in container - dict [\n",
    "[...] Python Documentation, \"Collections - Container dataypes,\" [Python](https://web.archive.org/web/20201022092017/https://docs.python.org/3/library/collections.html#module-collections), October 2008.\n",
    "]"
   ]
  },
  {
   "cell_type": "code",
   "execution_count": 4,
   "metadata": {},
   "outputs": [],
   "source": [
    "# a_S_tandard_L_ibrary-imports\n",
    "from collections import Counter as Cctr"
   ]
  },
  {
   "cell_type": "markdown",
   "metadata": {},
   "source": [
    "- module - collections - class - Counter - elements are stored as dictionary keys - item counts are stored as dictionary values [\n",
    "[...] Python Documentation, \"Collections - Container dataypes,\" [Python](https://web.archive.org/web/20201022092017/https://docs.python.org/3/library/collections.html#module-collections), October 2008.\n",
    "] - this task can depend on any module from the standard library or otherwise - ``collections`` - should not be used - the idea here is to write code from scratch - putting some decent constraints on the input - reviewing module - collections - to get a feel for how it works [\n",
    "[...] I. McLoughlin, \"Tasks 2020 Fundamentals of Data Analysis,\" GMIT, October 2020.\n",
    "]"
   ]
  },
  {
   "cell_type": "code",
   "execution_count": 5,
   "metadata": {},
   "outputs": [
    {
     "data": {
      "text/plain": [
       "Counter({'A': 3, 'B': 1, 'C': 1})"
      ]
     },
     "execution_count": 5,
     "metadata": {},
     "output_type": "execute_result"
    }
   ],
   "source": [
    "# module collections - object Counter alias Cctr - instantiate\n",
    "Cctr(nArgList)"
   ]
  },
  {
   "cell_type": "markdown",
   "metadata": {},
   "source": [
    "###### Multiset Theory\n",
    "***"
   ]
  },
  {
   "cell_type": "markdown",
   "metadata": {},
   "source": [
    "- implementation based on - multiset theory - shortened to - mset - multiple-membership set - common accepted name replacing - bag - bunch - weighted set - occurrence set - heap - sample - fireset - modification of - set - collection of objects called elements in which the elements can occur many times - order is ignored - number of elements occurring in a multiset is called - multiplicity [\n",
    "[...] W. Blizard, \"Multiset theory,\" [Project euclid](https://web.archive.org/web/20201105163941/https://projecteuclid.org/euclid.ndjfl/1093634995), July 1987.\n",
    "]"
   ]
  },
  {
   "cell_type": "markdown",
   "metadata": {},
   "source": [
    "- multiplicity is explicitly significant - precise number of elements [\n",
    "[...] E. Weisstein, \"Multiset,\" [mathworld.wolfram](https://web.archive.org/web/20200319012240/https://mathworld.wolfram.com/Multiset.html), 2002.\n",
    "]"
   ]
  },
  {
   "cell_type": "markdown",
   "metadata": {},
   "source": [
    "$$\\{3,1,2\\}\\equiv\\{1,2,3\\}$$"
   ]
  },
  {
   "cell_type": "markdown",
   "metadata": {},
   "source": [
    "$$\\{3,3,1,2\\}\\ne\\{1,2,3\\}$$"
   ]
  },
  {
   "cell_type": "markdown",
   "metadata": {},
   "source": [
    "- the multiplicity of an element is defined as the number of times it occurs in the multiset - denoted by listing its elements separated by commas between curly braces - similiar to pythons unorderd data collection type - dictionary [\n",
    "[...] J. Nieminen, J. Khim, \"Multiset,\" [Brilliant](https://web.archive.org/web/20201105164908/https://brilliant.org/wiki/multiset), April 2018.\n",
    "]\n",
    "\n",
    "$$\\{a,a,b,c,a\\}$$\n",
    "\n",
    "- elements are listed with their multiplicities as colon-separated pairs [\n",
    "[...] J. Nieminen, J. Khim, \"Multiset,\" [Brilliant](https://web.archive.org/web/20201105164908/https://brilliant.org/wiki/multiset), April 2018.\n",
    "]\n",
    "\n",
    "$$\\{a:3,b:1,c:1\\}$$"
   ]
  },
  {
   "cell_type": "markdown",
   "metadata": {},
   "source": [
    "###### Algorithm - Research - Module collections Approach"
   ]
  },
  {
   "cell_type": "markdown",
   "metadata": {},
   "source": [
    "- source code - module - collections - Class - Counter - method - most_common [\n",
    "[...] Python, \"cpython/Lib/collections/__init__.py,\" [Github](https://web.archive.org/web/20201105151531/https://github.com/python/cpython/blob/master/Lib/collections/__init__.py), May 2020.\n",
    "] - algorithm used - programming language - Smalltalk - Bag.sortedByCount [\n",
    "[...] Smalltalk, \"smalltalk/kernel/Bag.st,\" [Github](https://web.archive.org/web/20201105154907/https://github.com/gnu-smalltalk/smalltalk/blob/master/kernel/Bag.st), January 2010.\n",
    "] - line - 568 [\n",
    "[...] Python, \"cpython/Lib/collections/__init__.py,\" [Github](https://web.archive.org/web/20201105151531/https://github.com/python/cpython/blob/master/Lib/collections/__init__.py), May 2020.\n",
    "]"
   ]
  },
  {
   "cell_type": "code",
   "execution_count": 6,
   "metadata": {},
   "outputs": [
    {
     "name": "stdout",
     "output_type": "stream",
     "text": [
      "   559\t    def most_common(self, n=None):\n",
      "   560\t        '''List the n most common elements and their counts from the most\n",
      "   561\t        common to the least.  If n is None, then list all element counts.\n",
      "   562\t\n",
      "   563\t        >>> Counter('abracadabra').most_common(3)\n",
      "   564\t        [('a', 5), ('b', 2), ('r', 2)]\n",
      "   565\t\n",
      "   566\t        '''\n",
      "   567\t        # Emulate Bag.sortedByCount from Smalltalk\n",
      "   568\t        if n is None:\n",
      "   569\t            return sorted(self.items(), key=_itemgetter(1), reverse=True)\n",
      "   570\t        return _heapq.nlargest(n, self.items(), key=_itemgetter(1))\n"
     ]
    }
   ],
   "source": [
    "%%script bash\n",
    "cat -n C:/Users/E6985/anaconda3/lib/collections/__init__.py | grep \"def most_common\" -A 11"
   ]
  },
  {
   "cell_type": "markdown",
   "metadata": {},
   "source": [
    "###### Algorithm - Research - Object-Oriented Approach\n",
    "***"
   ]
  },
  {
   "cell_type": "markdown",
   "metadata": {},
   "source": [
    "- keyword - class - indicates creation - in python all classes create objects - implicit default - ``class (object)`` - python 3 - ``(object)`` - not required [\n",
    "[...] D. Amos, \"Object-Oriented Programming (OOP) in Python 3,\" [Real Python](https://web.archive.org/web/20201107154103/https://realpython.com/python3-object-oriented-programming), July 2020.\n",
    "] - source code - Appendix A - object-oriented implementation of mulitset - bag - whereby - class - Counts - derives from object - dict [\n",
    "[...] E. Wiethoff, \"Bag Sum In Many Programming Languages,\" [wiki.c2](https://web.archive.org/web/20201107143701/https://wiki.c2.com/?BagSumInManyProgrammingLanguages), n.d.\n",
    "]\n",
    "\n",
    "```python\n",
    "# define class - Counts\n",
    "class Counts(dict):\n",
    "```"
   ]
  },
  {
   "cell_type": "markdown",
   "metadata": {},
   "source": [
    "- method - \\_\\_init\\_\\_ - initialise - specify - an objects initial attributes by giving them their default values - state - must have at least one argument - variable - self - refers to the object itself - Counts - the method - \\_\\_init\\_\\_ - called automatically when creating a new - Counts - instance [\n",
    "[...] D. Amos, \"Object-Oriented Programming (OOP) in Python 3,\" [Real Python](https://web.archive.org/web/20201107154103/https://realpython.com/python3-object-oriented-programming), July 2020.\n",
    "]\n",
    "\n",
    "```python\n",
    "# instance attributes - initialiser\n",
    "def __init__(self,nArgInput):\n",
    "```\n",
    "\n",
    "- loop through each element in the input list - method - performCount - called on each element [\n",
    "[...] No Reference.\n",
    "]\n",
    "\n",
    "```python\n",
    "    for nEachElement in nArgInput:\n",
    "        self.performCount(nEachElement)\n",
    "```"
   ]
  },
  {
   "cell_type": "markdown",
   "metadata": {},
   "source": [
    "- method - performCount - the object - self - set of elements from the input list - assigned the count of each occurrence of the list elements - keeping count - add one to each occurrence [\n",
    "[...] W3Schools, \"Python Dictionary get() Method,\" [w3schools](https://web.archive.org/web/20201107161412/https://www.w3schools.com/python/ref_dictionary_get.asp), August 2018.\n",
    "] \n",
    "\n",
    "```python\n",
    "# instance attributes - initialiser\n",
    "def performCount(self,nEachElement):\n",
    "    self[nEachElement]=self.get(nEachElement,0)+1\n",
    "```"
   ]
  },
  {
   "cell_type": "markdown",
   "metadata": {},
   "source": [
    "- method __dict__ - single line - list comprehension - compressing a list-building - for - loop into a single short readable line [\n",
    "[...] J. VanderPlas, \"Built-In Data Structures,\" A Whirlwind Tour of Python, p. 58, August 2016.\n",
    "] \n",
    "\n",
    "\n",
    "- each ``key`` - ``value`` - ìn the newly returned sorted set from the elements in the iterable - object - self - looping through the dictionary - the key plus corresponding value - retrieved at the same time using the method - items [\n",
    "[...] Python Documentation, \"5.6. Looping Techniques,\" [Python](https://web.archive.org/web/20201107162523/https://docs.python.org/3/tutorial/datastructures.html#looping-techniques), October 2008.\n",
    "]\n",
    "    \n",
    "```python\n",
    "def __dict__(self):\n",
    "    return [(nEachKey,nEachvalue) for (nEachKey,nEachvalue) in sorted(self.items())]\n",
    "```"
   ]
  },
  {
   "cell_type": "markdown",
   "metadata": {},
   "source": [
    "- reviewing the implementation from the module - collections - can see similarities - line - 569 [\n",
    "[...] Python, cpython/Lib/collections/__init__.py,\" [Github](https://web.archive.org/web/20201105151531/https://github.com/python/cpython/blob/master/Lib/collections/__init__.py), May 2020.\n",
    "]"
   ]
  },
  {
   "cell_type": "code",
   "execution_count": 7,
   "metadata": {},
   "outputs": [
    {
     "name": "stdout",
     "output_type": "stream",
     "text": [
      "   567\t        # Emulate Bag.sortedByCount from Smalltalk\n",
      "   568\t        if n is None:\n",
      "   569\t            return sorted(self.items(), key=_itemgetter(1), reverse=True)\n"
     ]
    }
   ],
   "source": [
    "%%script bash\n",
    "cat -n C:/Users/E6985/anaconda3/lib/collections/__init__.py | grep \"# Emulate Bag.sortedByCount from Smalltalk\" -A 2"
   ]
  },
  {
   "cell_type": "code",
   "execution_count": 8,
   "metadata": {},
   "outputs": [],
   "source": [
    "# define class - Counts\n",
    "class Counts(dict):\n",
    "    # instance attributes - initialiser\n",
    "    def __init__(self,nArgInput):\n",
    "        for nEachElement in nArgInput:\n",
    "            self.performCount(nEachElement)\n",
    "    # instance attributes - initialiser\n",
    "    def performCount(self,nEachElement):\n",
    "        self[nEachElement]=self.get(nEachElement,0)+1\n",
    "    # instance attributes - initialiser\n",
    "    def __dict__(self):\n",
    "        return [(nEachKey,nEachvalue) for (nEachKey,nEachvalue) in sorted(self.items())]"
   ]
  },
  {
   "cell_type": "code",
   "execution_count": 9,
   "metadata": {
    "scrolled": true
   },
   "outputs": [
    {
     "data": {
      "text/plain": [
       "{'A': 3, 'B': 1, 'C': 1}"
      ]
     },
     "execution_count": 9,
     "metadata": {},
     "output_type": "execute_result"
    }
   ],
   "source": [
    "# object Counts - instantiate\n",
    "Counts(nArgList)"
   ]
  },
  {
   "cell_type": "markdown",
   "metadata": {},
   "source": [
    "###### Algorithm - Research - Eliminate Duplicate Elements Approach\n",
    "***"
   ]
  },
  {
   "cell_type": "markdown",
   "metadata": {},
   "source": [
    "- source code - Appendix B - list comprehension -  implementation of mulitset - bag - uses a dictionary to get rid of duplicate elements in the list to be counted [\n",
    "[...] E. Wiethoff, \"Bag Sum In Many Programming Languages,\" [wiki.c2](https://web.archive.org/web/20201107143701/https://wiki.c2.com/?BagSumInManyProgrammingLanguages), n.d.\n",
    "]"
   ]
  },
  {
   "cell_type": "markdown",
   "metadata": {},
   "source": [
    "- list comprehension - for - loop - readable line [\n",
    "[...] J. VanderPlas, \"Built-In Data Structures,\" A Whirlwind Tour of Python, p. 58, August 2016.\n",
    "] - module - array - method - count - returns the number of occurrences of each element in the array [\n",
    "[...] Python Documentation, \"array — Efficient arrays of numeric values,\" [Python](https://web.archive.org/web/20201108173847/https://docs.python.org/3/library/array.html?highlight=count#array.array.count), October 2008.\n",
    "]"
   ]
  },
  {
   "cell_type": "code",
   "execution_count": 10,
   "metadata": {},
   "outputs": [
    {
     "data": {
      "text/plain": [
       "[('A', 3), ('A', 3), ('B', 1), ('C', 1), ('A', 3)]"
      ]
     },
     "execution_count": 10,
     "metadata": {},
     "output_type": "execute_result"
    }
   ],
   "source": [
    "[(nEachElement,nArgList.count(nEachElement)) for nEachElement in nArgList]"
   ]
  },
  {
   "cell_type": "markdown",
   "metadata": {},
   "source": [
    "- constructor - dict - create a new dictionary - if a key occurs more than once then the last value for that key becomes the corresponding value in the new dictionary - eliminating duplicate elements [\n",
    "[...] Python Documentation, \"Built-in Types,\" [Python](http://web.archive.org/web/20201108174452/https://docs.python.org/3/library/stdtypes.html#dict), October 2008.\n",
    "]"
   ]
  },
  {
   "cell_type": "code",
   "execution_count": 11,
   "metadata": {},
   "outputs": [
    {
     "data": {
      "text/plain": [
       "{'A': 3, 'B': 1, 'C': 1}"
      ]
     },
     "execution_count": 11,
     "metadata": {},
     "output_type": "execute_result"
    }
   ],
   "source": [
    "dict([(nEachElement,nArgList.count(nEachElement)) for nEachElement in nArgList])"
   ]
  },
  {
   "cell_type": "code",
   "execution_count": 12,
   "metadata": {},
   "outputs": [],
   "source": [
    "# define function - counts\n",
    "def counts(nParList):\n",
    "    return dict([(nEachElement,nArgList.count(nEachElement)) for nEachElement in nArgList])"
   ]
  },
  {
   "cell_type": "code",
   "execution_count": 13,
   "metadata": {},
   "outputs": [
    {
     "data": {
      "text/plain": [
       "{'A': 3, 'B': 1, 'C': 1}"
      ]
     },
     "execution_count": 13,
     "metadata": {},
     "output_type": "execute_result"
    }
   ],
   "source": [
    "# function counts - call\n",
    "counts(nArgList)"
   ]
  },
  {
   "cell_type": "markdown",
   "metadata": {},
   "source": [
    "###### Algorithm - Research - Sort and Tally Approach\n",
    "***"
   ]
  },
  {
   "cell_type": "markdown",
   "metadata": {},
   "source": [
    "- source code - Appendix C - no-frills implementation - little use of functions/methods - only method used - sorted - simple sort and tally algorithm [\n",
    "[...] Anonymous, \"Bag Sum In Many Programming Languages,\" [wiki.c2](https://web.archive.org/web/20201107143701/https://wiki.c2.com/?BagSumInManyProgrammingLanguages), n.d.\n",
    "]"
   ]
  },
  {
   "cell_type": "markdown",
   "metadata": {},
   "source": [
    "- implementation from the module - collections - line - 569 [\n",
    "[...] Python, cpython/Lib/collections/__init__.py,\" [Github](https://web.archive.org/web/20201105151531/https://github.com/python/cpython/blob/master/Lib/collections/__init__.py), May 2020.\n",
    "] - uses the function - sorted - as part of its approach - this returns a new sorted list from the items in the iterable [\n",
    "[...] Python Documentation, \"Built-in Functions,\" [Python](https://web.archive.org/web/20200512035500/https://docs.python.org/3/library/functions.html#sorted), October 2008.\n",
    "] "
   ]
  },
  {
   "cell_type": "code",
   "execution_count": 14,
   "metadata": {},
   "outputs": [
    {
     "name": "stdout",
     "output_type": "stream",
     "text": [
      "   567\t        # Emulate Bag.sortedByCount from Smalltalk\n",
      "   568\t        if n is None:\n",
      "   569\t            return sorted(self.items(), key=_itemgetter(1), reverse=True)\n"
     ]
    }
   ],
   "source": [
    "%%script bash\n",
    "cat -n C:/Users/E6985/anaconda3/lib/collections/__init__.py | grep \"# Emulate Bag.sortedByCount from Smalltalk\" -A 2"
   ]
  },
  {
   "cell_type": "code",
   "execution_count": 15,
   "metadata": {},
   "outputs": [
    {
     "data": {
      "text/plain": [
       "['A', 'A', 'B', 'C', 'A']"
      ]
     },
     "execution_count": 15,
     "metadata": {},
     "output_type": "execute_result"
    }
   ],
   "source": [
    "nArgList"
   ]
  },
  {
   "cell_type": "markdown",
   "metadata": {},
   "source": [
    "- method - sort - modifies the list in-place [\n",
    "[...] Python Documentation, \"Built-in Types,\" [Python](https://web.archive.org/web/20200502135931/https://docs.python.org/3/library/stdtypes.html#list.sort), October 2008.\n",
    "]"
   ]
  },
  {
   "cell_type": "code",
   "execution_count": 16,
   "metadata": {},
   "outputs": [
    {
     "data": {
      "text/plain": [
       "['A', 'A', 'A', 'B', 'C']"
      ]
     },
     "execution_count": 16,
     "metadata": {},
     "output_type": "execute_result"
    }
   ],
   "source": [
    "nArgList.sort()\n",
    "nArgList"
   ]
  },
  {
   "cell_type": "markdown",
   "metadata": {},
   "source": [
    "- initialise result - name - nDictionary - empty dictionary [\n",
    "[...] No Reference.\n",
    "]"
   ]
  },
  {
   "cell_type": "code",
   "execution_count": 17,
   "metadata": {},
   "outputs": [
    {
     "data": {
      "text/plain": [
       "{}"
      ]
     },
     "execution_count": 17,
     "metadata": {},
     "output_type": "execute_result"
    }
   ],
   "source": [
    "nDictionary={}\n",
    "nDictionary"
   ]
  },
  {
   "cell_type": "markdown",
   "metadata": {},
   "source": [
    "- initialise - name - nListItem - zeroth element in the input list - nArgList [\n",
    "[...] No Reference.\n",
    "]"
   ]
  },
  {
   "cell_type": "code",
   "execution_count": 18,
   "metadata": {},
   "outputs": [
    {
     "data": {
      "text/plain": [
       "'A'"
      ]
     },
     "execution_count": 18,
     "metadata": {},
     "output_type": "execute_result"
    }
   ],
   "source": [
    "nListItem=nArgList[0]\n",
    "nListItem"
   ]
  },
  {
   "cell_type": "markdown",
   "metadata": {},
   "source": [
    "- initialise - name - nListItemCount - to one given the zeroth element - first element - in the input list - nArgList - will start at count - ``1`` [\n",
    "[...] No Reference.\n",
    "]"
   ]
  },
  {
   "cell_type": "code",
   "execution_count": 19,
   "metadata": {},
   "outputs": [
    {
     "data": {
      "text/plain": [
       "1"
      ]
     },
     "execution_count": 19,
     "metadata": {},
     "output_type": "execute_result"
    }
   ],
   "source": [
    "nListItemCount=1\n",
    "nListItemCount"
   ]
  },
  {
   "cell_type": "markdown",
   "metadata": {},
   "source": [
    "- accessing elements in compound types - ``dict`` - done through indexing for single elements - slicing for multiple elements - both indicated by a square-bracket syntax [\n",
    "[...] J. VanderPlas, \"Built-In Data Structures,\" A Whirlwind Tour of Python, p. 32, August 2016.\n",
    "] using a for loop iterating through the input list - nArgList - starting at position index - ``1`` - given that we have already determined position index - ``0`` - is the letter - ``A`` - after the input list - nArgList - was sorted via the object - list - method - sort [\n",
    "[...] No Reference.\n",
    "]\n",
    "\n",
    "```python\n",
    "for nEachValue in nArgList[1:]:\n",
    "```\n",
    "\n",
    "- conditional - if - the element under investigation - name - nEachValue - is the same as element assigned to - name - nListItem - then add one to the - name - nListCount - said element now has a count - ``2`` - in addition start populating the result - dictionary - name - nDictionary - via indexing set the first - ``key`` - to its count - ``value`` - name - nListItemCount [\n",
    "[...] No Reference.\n",
    "]\n",
    "\n",
    "```python\n",
    "if nEachValue==nListItem:\n",
    "    nListItemcount+=1\n",
    "    nDictionary[nEachValue]=nListItemcount\n",
    "```\n",
    "\n",
    "- conditional - else - initialise - name - nListItem - to the - name - nEachValue - element under investigation from the input list - nArgList - initialise - name - nListItemCount - restarting the count - ``1`` - continue populating the resulting dictionary - name - nDictionary - via indexing set the current element under investigation - name - nEachValue - ``key`` - to its current count - ``value`` - name - nListItemCount [\n",
    "[...] No Reference.\n",
    "]\n",
    "\n",
    "```\n",
    "else:\n",
    "    nListItem,nListItemcount=nEachValue,1\n",
    "    nDictionary[nEachValue]=nListItemcount\n",
    "```\n",
    "\n",
    "- return result - nDictionary\n",
    "\n",
    "```python\n",
    "return nDictionary\n",
    "```"
   ]
  },
  {
   "cell_type": "code",
   "execution_count": 20,
   "metadata": {},
   "outputs": [],
   "source": [
    "nArgList=['A', 'A', 'B', 'C', 'A'] # reset list - sorted earlier \n",
    "# define function - counts\n",
    "def counts(nParList):\n",
    "    nArgList.sort()\n",
    "    nDictionary={}\n",
    "    nListItem,nListItemcount=nArgList[0],1\n",
    "    for nEachValue in nArgList[1:]:\n",
    "        if nEachValue==nListItem:\n",
    "            nListItemcount+=1\n",
    "            nDictionary[nEachValue]=nListItemcount\n",
    "        else:\n",
    "            nListItem,nListItemcount=nEachValue,1\n",
    "            nDictionary[nEachValue]=nListItemcount\n",
    "    return nDictionary"
   ]
  },
  {
   "cell_type": "code",
   "execution_count": 21,
   "metadata": {},
   "outputs": [
    {
     "data": {
      "text/plain": [
       "{'A': 3, 'B': 1, 'C': 1}"
      ]
     },
     "execution_count": 21,
     "metadata": {},
     "output_type": "execute_result"
    }
   ],
   "source": [
    "# function counts - call\n",
    "counts(nArgList)"
   ]
  },
  {
   "cell_type": "markdown",
   "metadata": {},
   "source": [
    "###### Input - Lists - Test Function counts\n",
    "***"
   ]
  },
  {
   "cell_type": "markdown",
   "metadata": {},
   "source": [
    "- list - data structure - standard mutable - changeable - multielement container [\n",
    "[...] Jake VanderPlas, \"A Python List Is More Than Just a List,\" Python Data Science Handbook, December 2016.\n",
    "]"
   ]
  },
  {
   "cell_type": "markdown",
   "metadata": {},
   "source": [
    "- list comprehension - class - type - returns object type - everything in python is an object [\n",
    "[...] Python Documentation, \"Built-in Functions,\" [Python](https://web.archive.org/web/20201109201230/https://docs.python.org/3/library/functions.html#type), October 2008.\n",
    "]"
   ]
  },
  {
   "cell_type": "markdown",
   "metadata": {},
   "source": [
    "- function - fSummary - for display purposes only - not form part of submission [\n",
    "[...] No Reference.\n",
    "]"
   ]
  },
  {
   "cell_type": "code",
   "execution_count": 22,
   "metadata": {},
   "outputs": [],
   "source": [
    "# define function - fSummary\n",
    "def fSummary(nParList):\n",
    "    print(\"<LIST>   {}\".format(nParList))\n",
    "    print(\"<LENGTH>  {}\".format(len(nParList)))\n",
    "    print(\"<TYPES>  \")\n",
    "    return [type(nEachElement) for nEachElement in nParList]"
   ]
  },
  {
   "cell_type": "markdown",
   "metadata": {},
   "source": [
    "- using most commonly used iterator in python - range - generate a sequence of numbers - ``0`` - ``1`` - by convention the top of the object range is not included in the output - append numbers - ``2`` - ``3`` - ``2`` - list has five elements - four distinct - all of type - ``int`` [\n",
    "[...] J. VanderPlas, \"Built-In Data Structures,\" A Whirlwind Tour of Python, p. 39, August 2016.\n",
    "]"
   ]
  },
  {
   "cell_type": "code",
   "execution_count": 23,
   "metadata": {
    "scrolled": true
   },
   "outputs": [
    {
     "name": "stdout",
     "output_type": "stream",
     "text": [
      "<LIST>   [0, 1, 2, 3, 2]\n",
      "<LENGTH>  5\n",
      "<TYPES>  \n"
     ]
    },
    {
     "data": {
      "text/plain": [
       "[int, int, int, int, int]"
      ]
     },
     "execution_count": 23,
     "metadata": {},
     "output_type": "execute_result"
    }
   ],
   "source": [
    "nArgList=list(range(2))\n",
    "nArgList.append(2)\n",
    "nArgList.append(3)\n",
    "nArgList.append(2)\n",
    "# call function - fSummary\n",
    "fSummary(nArgList)"
   ]
  },
  {
   "cell_type": "code",
   "execution_count": 24,
   "metadata": {},
   "outputs": [
    {
     "data": {
      "text/plain": [
       "{1: 1, 2: 2, 3: 1}"
      ]
     },
     "execution_count": 24,
     "metadata": {},
     "output_type": "execute_result"
    }
   ],
   "source": [
    "# function counts - call\n",
    "counts(nArgList)"
   ]
  },
  {
   "cell_type": "markdown",
   "metadata": {},
   "source": [
    "&#x2623; **key:value - pairs - ``4`` - pair associated with zero - ``0`` - no count completed** &#x2623;"
   ]
  },
  {
   "cell_type": "code",
   "execution_count": 25,
   "metadata": {},
   "outputs": [
    {
     "name": "stdout",
     "output_type": "stream",
     "text": [
      "<LIST>   {1: 1, 2: 2, 3: 1}\n",
      "<LENGTH>  3\n",
      "<TYPES>  \n"
     ]
    },
    {
     "data": {
      "text/plain": [
       "[int, int, int]"
      ]
     },
     "execution_count": 25,
     "metadata": {},
     "output_type": "execute_result"
    }
   ],
   "source": [
    "# call function - fSummary\n",
    "fSummary(counts(nArgList))"
   ]
  },
  {
   "cell_type": "markdown",
   "metadata": {},
   "source": [
    "- list comprehension - cast all elements in existing list - nArgList - to strings [\n",
    "[...] No Reference.\n",
    "]"
   ]
  },
  {
   "cell_type": "code",
   "execution_count": 26,
   "metadata": {},
   "outputs": [
    {
     "name": "stdout",
     "output_type": "stream",
     "text": [
      "<LIST>   ['0', '1', '2', '2', '3']\n",
      "<LENGTH>  5\n",
      "<TYPES>  \n"
     ]
    },
    {
     "data": {
      "text/plain": [
       "[str, str, str, str, str]"
      ]
     },
     "execution_count": 26,
     "metadata": {},
     "output_type": "execute_result"
    }
   ],
   "source": [
    "nArgList=[str(nEachElement) for nEachElement in nArgList]\n",
    "# call function - fSummary\n",
    "fSummary(nArgList)"
   ]
  },
  {
   "cell_type": "markdown",
   "metadata": {},
   "source": [
    "&#x2623; **key:value pairs - ``4`` - pair associated with string zero - ``\"0\"`` - no count completed** &#x2623; "
   ]
  },
  {
   "cell_type": "code",
   "execution_count": 27,
   "metadata": {},
   "outputs": [
    {
     "name": "stdout",
     "output_type": "stream",
     "text": [
      "<LIST>   {'1': 1, '2': 2, '3': 1}\n",
      "<LENGTH>  3\n",
      "<TYPES>  \n"
     ]
    },
    {
     "data": {
      "text/plain": [
       "[str, str, str]"
      ]
     },
     "execution_count": 27,
     "metadata": {},
     "output_type": "execute_result"
    }
   ],
   "source": [
    "# call function - fSummary\n",
    "fSummary(counts(nArgList))"
   ]
  },
  {
   "cell_type": "markdown",
   "metadata": {},
   "source": [
    "- list comprehension - cast all elements in existing list - nArgList - to floats [\n",
    "[...] No Reference.\n",
    "]"
   ]
  },
  {
   "cell_type": "code",
   "execution_count": 28,
   "metadata": {},
   "outputs": [
    {
     "name": "stdout",
     "output_type": "stream",
     "text": [
      "<LIST>   [0.0, 1.0, 2.0, 2.0, 3.0]\n",
      "<LENGTH>  5\n",
      "<TYPES>  \n"
     ]
    },
    {
     "data": {
      "text/plain": [
       "[float, float, float, float, float]"
      ]
     },
     "execution_count": 28,
     "metadata": {},
     "output_type": "execute_result"
    }
   ],
   "source": [
    "nArgList=[float(nEachElement) for nEachElement in nArgList]\n",
    "# call function - fSummary\n",
    "fSummary(nArgList)"
   ]
  },
  {
   "cell_type": "code",
   "execution_count": 29,
   "metadata": {},
   "outputs": [
    {
     "data": {
      "text/plain": [
       "{1.0: 1, 2.0: 2, 3.0: 1}"
      ]
     },
     "execution_count": 29,
     "metadata": {},
     "output_type": "execute_result"
    }
   ],
   "source": [
    "# function counts - call\n",
    "counts(nArgList)"
   ]
  },
  {
   "cell_type": "markdown",
   "metadata": {},
   "source": [
    "&#x2623; **key:value pairs - ``4`` - pair associated with zero - ``0.0`` - no count completed** &#x2623; "
   ]
  },
  {
   "cell_type": "code",
   "execution_count": 30,
   "metadata": {},
   "outputs": [
    {
     "name": "stdout",
     "output_type": "stream",
     "text": [
      "<LIST>   {1.0: 1, 2.0: 2, 3.0: 1}\n",
      "<LENGTH>  3\n",
      "<TYPES>  \n"
     ]
    },
    {
     "data": {
      "text/plain": [
       "[float, float, float]"
      ]
     },
     "execution_count": 30,
     "metadata": {},
     "output_type": "execute_result"
    }
   ],
   "source": [
    "# call function - fSummary\n",
    "fSummary(counts(nArgList))"
   ]
  },
  {
   "cell_type": "markdown",
   "metadata": {},
   "source": [
    "- creating heterogeneous lists - diverse content - data types - floats - appending single integer [\n",
    "[...] Jake VanderPlas, \"A Python List Is More Than Just a List,\" Python Data Science Handbook, December 2016.\n",
    "]"
   ]
  },
  {
   "cell_type": "code",
   "execution_count": 31,
   "metadata": {},
   "outputs": [
    {
     "name": "stdout",
     "output_type": "stream",
     "text": [
      "<LIST>   [0.0, 1.0, 2.0, 2.0, 3.0, 1]\n",
      "<LENGTH>  6\n",
      "<TYPES>  \n"
     ]
    },
    {
     "data": {
      "text/plain": [
       "[float, float, float, float, float, int]"
      ]
     },
     "execution_count": 31,
     "metadata": {},
     "output_type": "execute_result"
    }
   ],
   "source": [
    "nArgList.append(1)\n",
    "# call function - fSummary\n",
    "fSummary(nArgList)"
   ]
  },
  {
   "cell_type": "code",
   "execution_count": 32,
   "metadata": {},
   "outputs": [
    {
     "data": {
      "text/plain": [
       "{1.0: 2, 2.0: 2, 3.0: 1}"
      ]
     },
     "execution_count": 32,
     "metadata": {},
     "output_type": "execute_result"
    }
   ],
   "source": [
    "# function counts - call\n",
    "counts(nArgList)"
   ]
  },
  {
   "cell_type": "markdown",
   "metadata": {},
   "source": [
    "&#x2623; **key:value pairs - ``5`` - pair associated with zero - ``0.0`` - no count completed** &#x2623; "
   ]
  },
  {
   "cell_type": "markdown",
   "metadata": {},
   "source": [
    "&#x2623; **append - integer ``1`` - output captured under float - ``1.0`` - could argue it works albeit should output pair - key:value - for the single integer - ``1`` - as - ``1:1``** &#x2623; [\n",
    "[...] No Reference.\n",
    "]"
   ]
  },
  {
   "cell_type": "code",
   "execution_count": 33,
   "metadata": {},
   "outputs": [
    {
     "name": "stdout",
     "output_type": "stream",
     "text": [
      "<LIST>   {1.0: 2, 2.0: 2, 3.0: 1}\n",
      "<LENGTH>  3\n",
      "<TYPES>  \n"
     ]
    },
    {
     "data": {
      "text/plain": [
       "[float, float, float]"
      ]
     },
     "execution_count": 33,
     "metadata": {},
     "output_type": "execute_result"
    }
   ],
   "source": [
    "# call function - fSummary\n",
    "fSummary(counts(nArgList))"
   ]
  },
  {
   "cell_type": "markdown",
   "metadata": {},
   "source": [
    "<h2><center>END</center></h2>"
   ]
  },
  {
   "cell_type": "markdown",
   "metadata": {},
   "source": [
    "< [Instructions](#top) | [README](https://github.com/E6985/fda-tasks/blob/main/README.md) | [Task 1](#task-1) | [Task 3](#task-3) | [Task 4](#task-4) | [References](#references) >\n",
    "<a id=\"task-2\"></a>\n",
    "***\n",
    "## Task 2\n",
    "### Python function - diceroll.\n",
    "***"
   ]
  },
  {
   "cell_type": "markdown",
   "metadata": {},
   "source": [
    "- standard six sided dice - each of the six faces labelled - ``1`` - ``2`` - ``3`` - ``4`` - ``5`` - ``6`` - simulate rolling a number of dice a number of times [\n",
    "[...] I. McLoughlin, \"Task 2 Rolling dice,\" GMIT, November 2020.\n",
    "]"
   ]
  },
  {
   "cell_type": "markdown",
   "metadata": {},
   "source": [
    "- might roll two dice - two six sided dice - roll both once - maybe one of the dice face comes up - ``3`` - the other dice face comes up - ``5`` - capturing total - ``8`` - it is this eight - total face value - interested in [\n",
    "[...] I. McLoughlin, \"Task 2 Rolling dice,\" GMIT, November 2020.\n",
    "]"
   ]
  },
  {
   "cell_type": "markdown",
   "metadata": {},
   "source": [
    "- function - dicerolls - two parameters - i) number of dice - ``k`` - ii) number of times to roll the dice - ``n`` - if - ``n`` - 100 - ``k`` - 2 - simulates rolling two dice one-hundred times keeping track of the face values - the function should simulate randomly rolling - ``k`` - dice - ``n`` times - keeping track of each total face value [\n",
    "[...] I. McLoughlin, \"Task 2 Rolling dice,\" GMIT, November 2020.\n",
    "]"
   ]
  },
  {
   "cell_type": "markdown",
   "metadata": {},
   "source": [
    "- return dictionary - number of times each possible total face value occurred [\n",
    "[...] I. McLoughlin, \"Task 2 Rolling dice,\" GMIT, November 2020.\n",
    "]\n",
    "\n",
    "```python\n",
    "dicerolls(k=2,n=1000)\n",
    "```"
   ]
  },
  {
   "cell_type": "markdown",
   "metadata": {},
   "source": [
    "- call - function - dicerolls - rolling - ``2`` - dice - ``1000`` - times should return a dictionary - first key listed - ``2`` - showed up - ``19`` - times - of the one-thousand times the dice was rolled - only one way to get - ``2`` - when the two dice face values are both - ``1`` - ``1`` - know immediately two dices showed up - ``1`` - ``1`` - obviously calling the function should get slightly different results - randomly rolling the dice [\n",
    "[...] I. McLoughlin, \"Task 2 Rolling dice,\" GMIT, November 2020.\n",
    "]\n",
    "\n",
    "``{2:19,3:50,4:82,5:112,6:135,7:174,8:133,9:114,10:75,11:70,12:36}``\n",
    "\n",
    "- might be able to pick out some trends - analyse those trends to see whats happening - interesting to simulate rolling dice to see patterns - see that the lower numbers and the higher numbers seem to be less likely than the number bunched around the middle - can ask yourself why that might be - suggestion - only one way to get - ``2`` - thats by rolling - ``1`` - ``1`` - might be many ways to get - ``6`` [\n",
    "[...] I. McLoughlin, \"Task 2 Rolling dice,\" GMIT, November 2020.\n",
    "]"
   ]
  },
  {
   "cell_type": "markdown",
   "metadata": {},
   "source": [
    "- roll only one dice - if random function is working correctly - should see each of the six sides with equal probability - should see each of them roughly the same number of times when you start adding the faces together - all of a sudden you lose uniformity [\n",
    "[...] I. McLoughlin, \"Task 2 Rolling dice,\" GMIT, November 2020.\n",
    "]"
   ]
  },
  {
   "cell_type": "markdown",
   "metadata": {},
   "source": [
    "- can use any python module from the python standard library - can use modules that are not in the standard library but for this task maybe not needed - use the random module or something like that in python - probably a short description but might get into having a look at some results - analysing the results to beef up the Jupyter Notebook - maybe even a histogram of the results [\n",
    "[...] I. McLoughlin, \"Task 2 Rolling dice,\" GMIT, November 2020.\n",
    "]"
   ]
  },
  {
   "cell_type": "code",
   "execution_count": 34,
   "metadata": {},
   "outputs": [],
   "source": [
    "k=2"
   ]
  },
  {
   "cell_type": "code",
   "execution_count": 35,
   "metadata": {},
   "outputs": [],
   "source": [
    "n=10"
   ]
  },
  {
   "cell_type": "code",
   "execution_count": 36,
   "metadata": {},
   "outputs": [],
   "source": [
    "from random import randint as r\n",
    "def dicerolls(k,n):\n",
    "    nList=[]\n",
    "    # t=0\n",
    "    for i in range(n):\n",
    "        # t+=(r(1,6)*k)\n",
    "        nList.append(r(1,6)*k)\n",
    "        if len(nList)==n:\n",
    "            nList.sort()     \n",
    "    print(nList,end=\"\\n\\n\")\n",
    "    return dict([(nEachElement,nList.count(nEachElement)) for nEachElement in nList])"
   ]
  },
  {
   "cell_type": "code",
   "execution_count": 37,
   "metadata": {
    "scrolled": true
   },
   "outputs": [
    {
     "name": "stdout",
     "output_type": "stream",
     "text": [
      "[2, 4, 4, 8, 8, 10, 10, 10, 12, 12]\n",
      "\n",
      "{2: 1, 4: 2, 8: 2, 10: 3, 12: 2}\n"
     ]
    }
   ],
   "source": [
    "print(dicerolls(k,n))"
   ]
  },
  {
   "cell_type": "markdown",
   "metadata": {},
   "source": [
    "###### Probability\n",
    "***"
   ]
  },
  {
   "cell_type": "markdown",
   "metadata": {},
   "source": [
    "- computing - bit - variable that can take on one of two values - ``1`` - ``0`` - unless some information is presented ahead of time about what the bit contains then can assume to get - ``1`` - half the time - ``0`` - half the time [\n",
    "[...] I. McLoughlin, \"Coin flipping in Python,\" GMIT, September 2019.\n",
    "]"
   ]
  },
  {
   "cell_type": "markdown",
   "metadata": {},
   "source": [
    "- coin flip - one of two outcomes - head - ``1`` - tail - ``1`` - fair coin - normal to assume flip outcome equally likely - give head - ``50%`` - of the time - give tail - ``50%`` - of the time [\n",
    "[...] I. McLoughlin, \"Coin flipping in Python,\" GMIT, September 2019.\n",
    "]"
   ]
  },
  {
   "cell_type": "markdown",
   "metadata": {},
   "source": [
    "- dice roll - one of six outcomes - ``1`` - ``2`` - ``3`` - ``4`` - ``5`` - ``6`` - fair dice - normal to assume roll outcome approximately - ``16.7%`` - likely - give each face value - ``1`` - ``2`` - ``3`` - ``4`` - ``5`` - ``6`` - ``~16.7%`` - chance [\n",
    "[...] I. McLoughlin, \"Coin flipping in Python,\" GMIT, September 2019.\n",
    "]"
   ]
  },
  {
   "cell_type": "markdown",
   "metadata": {},
   "source": [
    "- generally in mathematics - statistics - probability - data analytics - do not like percentages for uncertain outcomes - percentage just means out of a 100 - something that happens 50% of the time - means that out of 100 times of doing it - 50 of those are likely to be something - flip a coin 100 times - expect about 50 heads [\n",
    "[...] I. McLoughlin, \"Coin flipping in Python,\" GMIT, September 2019.\n",
    "]"
   ]
  },
  {
   "cell_type": "markdown",
   "metadata": {},
   "source": [
    "- prefer to say that the probability of something is a value between zero and one [\n",
    "[...] I. McLoughlin, \"Coin flipping in Python,\" GMIT, September 2019.\n",
    "] - interval - ``[0,1]`` - greater than or equal to 0 and less than or equal to 1 [\n",
    "[...] Wikipedia, \"Interval (mathematics),\" [wikipedia](http://web.archive.org/web/20200925042254/https://en.wikipedia.org/wiki/Interval_%28mathematics%29), \n",
    "reference] n.d.\n",
    "]"
   ]
  },
  {
   "cell_type": "markdown",
   "metadata": {},
   "source": [
    "- each face value - ``16.7%`` - chance - prefer - probability - ``0.167`` - obviously in a given scenario - if wondering what the value of something is going to come out at - all of the possible values - probabilities of all - should sum up to - ``1`` - for instance when flipping a coin - know the probability of getting a head is - ``0.5`` - know the only other possible outcome is a tail - then it too must have a probability of - ``0.5`` - because the two probabilities must add up to - ``1`` [\n",
    "[...] I. McLoughlin, \"Coin flipping in Python,\" GMIT, September 2019.\n",
    "]"
   ]
  },
  {
   "cell_type": "markdown",
   "metadata": {},
   "source": [
    "- rolling three dice - intuitively would expect the three dice rolls should come up different the majority of the time - question - chance of all three rolls being different [\n",
    "[...] M. Haahr, \"Frequently Asked Questions (FAQ),\" [random](https://web.archive.org/web/20201115135742/https://www.random.org/faq/#Q2.8), n.d.\n",
    "]"
   ]
  },
  {
   "cell_type": "markdown",
   "metadata": {},
   "source": [
    "- first die is trival in that any of the six possible values could show - none will result in duplicates [\n",
    "[...] M. Haahr, \"Frequently Asked Questions (FAQ),\" [random](https://web.archive.org/web/20201115135742/https://www.random.org/faq/#Q2.8), n.d.\n",
    "]"
   ]
  },
  {
   "cell_type": "code",
   "execution_count": 38,
   "metadata": {},
   "outputs": [
    {
     "data": {
      "text/plain": [
       "'<probability> 1 <duplicates> 0%'"
      ]
     },
     "execution_count": 38,
     "metadata": {},
     "output_type": "execute_result"
    }
   ],
   "source": [
    "\"<probability> {:.0f} <duplicates> {:.0f}%\".format(6/6,(1-(6/6)))"
   ]
  },
  {
   "cell_type": "markdown",
   "metadata": {},
   "source": [
    "- second die coming up different from the first - one less [\n",
    "[...] M. Haahr, \"Frequently Asked Questions (FAQ),\" [random](https://web.archive.org/web/20201115135742/https://www.random.org/faq/#Q2.8), n.d.\n",
    "]"
   ]
  },
  {
   "cell_type": "code",
   "execution_count": 39,
   "metadata": {},
   "outputs": [
    {
     "data": {
      "text/plain": [
       "'<probability> 1 <duplicates> 16.67%'"
      ]
     },
     "execution_count": 39,
     "metadata": {},
     "output_type": "execute_result"
    }
   ],
   "source": [
    "\"<probability> {:.0f} <duplicates> {:.2f}%\".format(5/6,(1-(6/6)*(5/6))*100)"
   ]
  },
  {
   "cell_type": "markdown",
   "metadata": {},
   "source": [
    "- third die coming up different from the first and second - two less [\n",
    "[...] M. Haahr, \"Frequently Asked Questions (FAQ),\" [random](https://web.archive.org/web/20201115135742/https://www.random.org/faq/#Q2.8), n.d.\n",
    "]"
   ]
  },
  {
   "cell_type": "code",
   "execution_count": 40,
   "metadata": {},
   "outputs": [
    {
     "data": {
      "text/plain": [
       "'<probability> 1 <duplicates> 44.44%'"
      ]
     },
     "execution_count": 40,
     "metadata": {},
     "output_type": "execute_result"
    }
   ],
   "source": [
    "\"<probability> {:.0f} <duplicates> {:.2f}%\".format(5/6,(1-(6/6)*(5/6)*(4/6))*100)"
   ]
  },
  {
   "cell_type": "markdown",
   "metadata": {},
   "source": [
    "- total probability - ``~0.56`` - of all three turning out different [\n",
    "[...] M. Haahr, \"Frequently Asked Questions (FAQ),\" [random](https://web.archive.org/web/20201115135742/https://www.random.org/faq/#Q2.8), n.d.\n",
    "]\n",
    "\n",
    "$$\\frac6{6}*\\frac5{6}*\\frac4{6}\\approx55.55\\%$$"
   ]
  },
  {
   "cell_type": "code",
   "execution_count": 41,
   "metadata": {},
   "outputs": [
    {
     "data": {
      "text/plain": [
       "0.015432098765432098"
      ]
     },
     "execution_count": 41,
     "metadata": {},
     "output_type": "execute_result"
    }
   ],
   "source": [
    "(6/6)*(5/6)*(4/6)*(3/6)*(2/6)*(1/6) # 6"
   ]
  },
  {
   "cell_type": "code",
   "execution_count": 42,
   "metadata": {},
   "outputs": [
    {
     "data": {
      "text/plain": [
       "0.09259259259259259"
      ]
     },
     "execution_count": 42,
     "metadata": {},
     "output_type": "execute_result"
    }
   ],
   "source": [
    "(6/6)*(5/6)*(4/6)*(3/6)*(2/6) # 5"
   ]
  },
  {
   "cell_type": "code",
   "execution_count": 43,
   "metadata": {},
   "outputs": [
    {
     "data": {
      "text/plain": [
       "0.2777777777777778"
      ]
     },
     "execution_count": 43,
     "metadata": {},
     "output_type": "execute_result"
    }
   ],
   "source": [
    "(6/6)*(5/6)*(4/6)*(3/6) # 4"
   ]
  },
  {
   "cell_type": "code",
   "execution_count": 44,
   "metadata": {},
   "outputs": [
    {
     "data": {
      "text/plain": [
       "0.5555555555555556"
      ]
     },
     "execution_count": 44,
     "metadata": {},
     "output_type": "execute_result"
    }
   ],
   "source": [
    "(6/6)*(5/6)*(4/6) # 3"
   ]
  },
  {
   "cell_type": "code",
   "execution_count": 45,
   "metadata": {},
   "outputs": [
    {
     "data": {
      "text/plain": [
       "0.8333333333333334"
      ]
     },
     "execution_count": 45,
     "metadata": {},
     "output_type": "execute_result"
    }
   ],
   "source": [
    "(6/6)*(5/6) # 2"
   ]
  },
  {
   "cell_type": "code",
   "execution_count": 46,
   "metadata": {},
   "outputs": [
    {
     "data": {
      "text/plain": [
       "1.0"
      ]
     },
     "execution_count": 46,
     "metadata": {},
     "output_type": "execute_result"
    }
   ],
   "source": [
    "(6/6) # 1"
   ]
  },
  {
   "cell_type": "markdown",
   "metadata": {},
   "source": [
    "<h2><center>END</center></h2>"
   ]
  },
  {
   "cell_type": "markdown",
   "metadata": {},
   "source": [
    "< [Instructions](#top) | [README](https://github.com/E6985/fda-tasks/blob/main/README.md) | [Task 1](#task-1) | [Task 2](#task-2) | [Task 4](#task-4) | [References](#references) >\n",
    "<a id=\"task-3\"></a>\n",
    "***\n",
    "## Task 3\n",
    "### Simulate coin flip - numpy.random.binomial.\n",
    "***"
   ]
  },
  {
   "cell_type": "code",
   "execution_count": 47,
   "metadata": {},
   "outputs": [],
   "source": [
    "# execute from file - .py\n",
    "%run ~/L8733/src/pro/par/pyt/magic/fGetModuleType.py"
   ]
  },
  {
   "cell_type": "markdown",
   "metadata": {},
   "source": [
    "- computing - bit - variable that can take on one of two values - ``1`` - ``0`` - unless some information is presented ahead of time about what the bit contains then can assume to get - ``1`` - half the time - ``0`` - half the time [\n",
    "[...] I. McLoughlin, \"Coin flipping in Python,\" GMIT, September 2019.\n",
    "]"
   ]
  },
  {
   "cell_type": "markdown",
   "metadata": {},
   "source": [
    "- coin flip - one of two outcomes - head - ``1`` - tail - ``1`` - fair coin - normal to assume flip outcome equally likely - give head - ``50%`` - of the time - give tail - ``50%`` - of the time [\n",
    "[...] I. McLoughlin, \"Coin flipping in Python,\" GMIT, September 2019.\n",
    "]"
   ]
  },
  {
   "cell_type": "markdown",
   "metadata": {},
   "source": [
    "- dice roll - one of six outcomes - ``1`` - ``2`` - ``3`` - ``4`` - ``5`` - ``6`` - fair dice - normal to assume roll outcome approximately - ``16.7%`` - likely - give each face value - ``1`` - ``2`` - ``3`` - ``4`` - ``5`` - ``6`` - ``~16.7%`` - chance [\n",
    "[...] I. McLoughlin, \"Coin flipping in Python,\" GMIT, September 2019.\n",
    "]"
   ]
  },
  {
   "cell_type": "code",
   "execution_count": 48,
   "metadata": {},
   "outputs": [],
   "source": [
    "# b_T_hird_P_arty-imports\n",
    "from numpy.random import default_rng as newGenBitGenPCG64"
   ]
  },
  {
   "cell_type": "code",
   "execution_count": 49,
   "metadata": {},
   "outputs": [
    {
     "name": "stdout",
     "output_type": "stream",
     "text": [
      "<module 'numpy.random._generator' from 'C:\\\\Users\\\\E6985\\\\anaconda3\\\\lib\\\\site-packages\\\\numpy\\\\random\\\\_generator.cp38-win_amd64.pyd'>\n",
      "<class 'builtin_function_or_method'>\n"
     ]
    }
   ],
   "source": [
    "# function fGetModuleType - call\n",
    "fGetModuleType(newGenBitGenPCG64)"
   ]
  },
  {
   "cell_type": "code",
   "execution_count": 50,
   "metadata": {},
   "outputs": [
    {
     "name": "stdout",
     "output_type": "stream",
     "text": [
      "        Draw samples from a binomial distribution.\n",
      "\n",
      "        Samples are drawn from a binomial distribution with specified\n",
      "        parameters, n trials and p probability of success where\n",
      "        n an integer >= 0 and p is in the interval [0,1]. (n may be\n",
      "        input as a float, but it is truncated to an integer in use)\n"
     ]
    }
   ],
   "source": [
    "# package numpy - subpackage random - object Generator - method default_rng alias newGenBitGenPCG64 - instantiate\n",
    "print(\"\\n\".join(newGenBitGenPCG64().binomial.__doc__.split(\"\\n\")[3:9])) # method binomial - attr __doc__ - access"
   ]
  },
  {
   "cell_type": "code",
   "execution_count": 51,
   "metadata": {},
   "outputs": [
    {
     "name": "stdout",
     "output_type": "stream",
     "text": [
      "        binomial(n, p, size=None)\n"
     ]
    }
   ],
   "source": [
    "# package numpy - subpackage random - object Generator - method default_rng alias newGenBitGenPCG64 - instantiate\n",
    "print(\"\\n\".join(newGenBitGenPCG64().binomial.__doc__.split(\"\\n\")[1:2])) # method binomial - attr __doc__ - access"
   ]
  },
  {
   "cell_type": "code",
   "execution_count": 52,
   "metadata": {},
   "outputs": [
    {
     "name": "stdout",
     "output_type": "stream",
     "text": [
      "        Examples\n",
      "        --------\n",
      "        Draw samples from the distribution:\n",
      "\n",
      "        >>> rng = np.random.default_rng()\n",
      "        >>> n, p = 10, .5  # number of trials, probability of each trial\n",
      "        >>> s = rng.binomial(n, p, 1000)\n",
      "        # result of flipping a coin 10 times, tested 1000 times.\n"
     ]
    }
   ],
   "source": [
    "# package numpy - subpackage random - object Generator - method default_rng alias newGenBitGenPCG64 - instantiate\n",
    "print(\"\\n\".join(newGenBitGenPCG64().binomial.__doc__.split(\"\\n\")[65:73])) # method binomial - attr __doc__ - access"
   ]
  },
  {
   "cell_type": "code",
   "execution_count": 53,
   "metadata": {},
   "outputs": [
    {
     "name": "stdout",
     "output_type": "stream",
     "text": [
      "        Parameters\n",
      "        ----------\n",
      "        n : int or array_like of ints\n",
      "            Parameter of the distribution, >= 0. Floats are also accepted,\n",
      "            but they will be truncated to integers.\n",
      "        p : float or array_like of floats\n",
      "            Parameter of the distribution, >= 0 and <=1.\n",
      "        size : int or tuple of ints, optional\n",
      "            Output shape.  If the given shape is, e.g., ``(m, n, k)``, then\n",
      "            ``m * n * k`` samples are drawn.  If size is ``None`` (default),\n",
      "            a single value is returned if ``n`` and ``p`` are both scalars.\n",
      "            Otherwise, ``np.broadcast(n, p).size`` samples are drawn.\n",
      "\n",
      "        Returns\n",
      "        -------\n",
      "        out : ndarray or scalar\n",
      "            Drawn samples from the parameterized binomial distribution, where\n",
      "            each sample is equal to the number of successes over the n trials.\n"
     ]
    }
   ],
   "source": [
    "# package numpy - subpackage random - object Generator - method default_rng alias newGenBitGenPCG64 - instantiate\n",
    "print(\"\\n\".join(newGenBitGenPCG64().binomial.__doc__.split(\"\\n\")[10:28])) # method binomial - attr __doc__ - access"
   ]
  },
  {
   "cell_type": "markdown",
   "metadata": {},
   "source": [
    "- simulation - counting the number of times a coin lands on heads - 1 [\n",
    "[...] I. McLoughlin, \"Coin flipping in Python,\" GMIT, September 2019.\n",
    "]"
   ]
  },
  {
   "cell_type": "markdown",
   "metadata": {},
   "source": [
    "- `n` - $integer >=0$ - number of trials - $1$ - coin flip is a trial - result in only two possible outcomes - heads or tails - calling heads a success - 1 - tails a failure - 0 [\n",
    "[...] I. McLoughlin, \"Coin flipping in Python,\" GMIT, September 2019.\n",
    "][\n",
    "[...] Anaconda - \"numpy.random.generator.cp38-win_amd64.pyd,\" Docstring, June 2020.\n",
    "]"
   ]
  },
  {
   "cell_type": "markdown",
   "metadata": {},
   "source": [
    "- `p` - $interval [0,1]$ - probability of each trial - probability of success is constant - one half on each trial - $0.5$ [\n",
    "[...] I. McLoughlin, \"Coin flipping in Python,\" GMIT, September 2019.\n",
    "][\n",
    "[...] Anaconda - \"numpy.random.generator.cp38-win_amd64.pyd,\" Docstring, June 2020.\n",
    "]"
   ]
  },
  {
   "cell_type": "code",
   "execution_count": 54,
   "metadata": {},
   "outputs": [],
   "source": [
    "# package numpy - subpackage random - object Generator - method default_rng alias newGenBitGenPCG64\n",
    "n,p=1,0.5 # method binomial - arguments"
   ]
  },
  {
   "cell_type": "code",
   "execution_count": 55,
   "metadata": {},
   "outputs": [
    {
     "data": {
      "text/plain": [
       "0"
      ]
     },
     "execution_count": 55,
     "metadata": {},
     "output_type": "execute_result"
    }
   ],
   "source": [
    "# package numpy - subpackage random - object Generator - method default_rng alias newGenBitGenPCG64 - instantiate\n",
    "newGenBitGenPCG64().binomial(n,p) # method binomial - call"
   ]
  },
  {
   "cell_type": "code",
   "execution_count": 56,
   "metadata": {},
   "outputs": [
    {
     "data": {
      "text/plain": [
       "1"
      ]
     },
     "execution_count": 56,
     "metadata": {},
     "output_type": "execute_result"
    }
   ],
   "source": [
    "# package numpy - subpackage random - object Generator - method default_rng alias newGenBitGenPCG64 - instantiate\n",
    "newGenBitGenPCG64().binomial(n,p) # method binomial - call"
   ]
  },
  {
   "cell_type": "markdown",
   "metadata": {},
   "source": [
    "- `size` - each coin flip is a trail - tested one time - single batch - $1$ [\n",
    "[...] I. McLoughlin, \"Coin flipping in Python,\" GMIT, September 2019.\n",
    "][\n",
    "[...] Anaconda - \"numpy.random.generator.cp38-win_amd64.pyd,\" Docstring, June 2020.\n",
    "]"
   ]
  },
  {
   "cell_type": "code",
   "execution_count": 57,
   "metadata": {},
   "outputs": [],
   "source": [
    "# package numpy - subpackage random - object Generator - method default_rng alias newGenBitGenPCG64\n",
    "size=1 # method binomial - additional argument"
   ]
  },
  {
   "cell_type": "code",
   "execution_count": 58,
   "metadata": {},
   "outputs": [
    {
     "data": {
      "text/plain": [
       "array([0], dtype=int64)"
      ]
     },
     "execution_count": 58,
     "metadata": {},
     "output_type": "execute_result"
    }
   ],
   "source": [
    "# package numpy - subpackage random - object Generator - method default_rng alias newGenBitGenPCG64 - instantiate\n",
    "newGenBitGenPCG64().binomial(n,p,size) # method binomial - call"
   ]
  },
  {
   "cell_type": "markdown",
   "metadata": {},
   "source": [
    "- `size` - each coin flip is a trail - tested two times - batches - $2$ [\n",
    "[...] I. McLoughlin, \"Coin flipping in Python,\" GMIT, September 2019.\n",
    "][\n",
    "[...] Anaconda - \"numpy.random.generator.cp38-win_amd64.pyd,\" Docstring, June 2020.\n",
    "]"
   ]
  },
  {
   "cell_type": "code",
   "execution_count": 59,
   "metadata": {},
   "outputs": [],
   "source": [
    "# package numpy - subpackage random - object Generator - method default_rng alias newGenBitGenPCG64\n",
    "size=2 # method binomial - change argument"
   ]
  },
  {
   "cell_type": "code",
   "execution_count": 60,
   "metadata": {},
   "outputs": [
    {
     "data": {
      "text/plain": [
       "array([0, 0], dtype=int64)"
      ]
     },
     "execution_count": 60,
     "metadata": {},
     "output_type": "execute_result"
    }
   ],
   "source": [
    "# package numpy - subpackage random - object Generator - method default_rng alias newGenBitGenPCG64 - instantiate\n",
    "newGenBitGenPCG64().binomial(n,p,size) # method binomial - call"
   ]
  },
  {
   "cell_type": "markdown",
   "metadata": {},
   "source": [
    "- `n` - $integer >=0$ - number of trials - $100$ - coin flip is a trial - result in only two possible outcomes - heads or tails - calling heads a success - $1$ - tails a failure - $0$ [\n",
    "[...] I. McLoughlin, \"Coin flipping in Python,\" GMIT, September 2019.\n",
    "][\n",
    "[...] Anaconda - \"numpy.random.generator.cp38-win_amd64.pyd,\" Docstring, June 2020.\n",
    "]"
   ]
  },
  {
   "cell_type": "markdown",
   "metadata": {},
   "source": [
    "- `p` - $interval [0,1]$ - probability of each trial - probability of success is constant - one half on each trial - $0.5$ [\n",
    "[...] I. McLoughlin, \"Coin flipping in Python,\" GMIT, September 2019.\n",
    "][\n",
    "[...] Anaconda - \"numpy.random.generator.cp38-win_amd64.pyd,\" Docstring, June 2020.\n",
    "]"
   ]
  },
  {
   "cell_type": "markdown",
   "metadata": {},
   "source": [
    "- $[0, 1]$ - interval (Appendix D) - include - ``0`` - include - ``1`` - [\n",
    "[...] Wolfram, \"Half-Closed Interval,\" [mathworld.wolfram](https://web.archive.org/web/20201106190646/https://mathworld.wolfram.com/Half-ClosedInterval.html), Ootober 2020.\n",
    "]"
   ]
  },
  {
   "cell_type": "markdown",
   "metadata": {},
   "source": [
    "- `size` - each coin flip is a trail - tested one-thousand times - batches - $1000$ [\n",
    "[...] I. McLoughlin, \"Coin flipping in Python,\" GMIT, September 2019.\n",
    "]"
   ]
  },
  {
   "cell_type": "code",
   "execution_count": 61,
   "metadata": {},
   "outputs": [],
   "source": [
    "# package numpy - subpackage random - object Generator - method default_rng alias newGenBitGenPCG64\n",
    "n,p,size=100,0.5,1000 # method binomial - arguments"
   ]
  },
  {
   "cell_type": "code",
   "execution_count": 62,
   "metadata": {},
   "outputs": [
    {
     "data": {
      "text/plain": [
       "array([53, 56, 52, 44, 51, 52, 57, 54, 43, 50, 47, 52, 54, 64, 49, 46, 58,\n",
       "       56, 41, 65, 44, 55, 53, 51, 45, 49, 57, 50, 45, 54, 54, 45, 47, 59,\n",
       "       42, 53, 56, 47, 54, 52, 47, 51, 51, 48, 51, 49, 49, 47, 50, 50, 57,\n",
       "       42, 45, 54, 43, 44, 48, 53, 54, 45, 49, 44, 53, 51, 57, 51, 47, 56,\n",
       "       45, 50, 49, 51, 49, 57, 53, 50, 56, 49, 52, 49, 56, 47, 59, 56, 51,\n",
       "       52, 53, 51, 49, 48, 50, 52, 50, 46, 54, 52, 53, 54, 56, 52, 50, 55,\n",
       "       44, 58, 53, 55, 46, 43, 54, 43, 47, 49, 55, 48, 45, 56, 48, 54, 53,\n",
       "       51, 52, 51, 42, 43, 55, 52, 48, 52, 47, 51, 48, 43, 52, 54, 55, 47,\n",
       "       47, 53, 46, 41, 44, 51, 53, 52, 51, 52, 47, 45, 50, 48, 52, 55, 40,\n",
       "       47, 55, 52, 57, 55, 54, 45, 58, 61, 55, 48, 43, 51, 44, 47, 52, 48,\n",
       "       55, 55, 51, 57, 50, 43, 49, 51, 47, 50, 56, 60, 53, 44, 49, 50, 49,\n",
       "       44, 45, 44, 48, 60, 46, 59, 51, 45, 50, 52, 43, 49, 55, 45, 50, 37,\n",
       "       47, 46, 44, 44, 56, 49, 51, 50, 53, 58, 53, 42, 47, 54, 50, 45, 50,\n",
       "       45, 45, 59, 48, 50, 51, 45, 56, 43, 39, 46, 52, 48, 58, 53, 53, 62,\n",
       "       47, 50, 61, 49, 50, 54, 51, 49, 50, 64, 47, 50, 51, 50, 53, 55, 42,\n",
       "       53, 53, 50, 42, 44, 57, 46, 56, 43, 45, 50, 53, 54, 52, 43, 46, 51,\n",
       "       50, 54, 44, 42, 52, 46, 46, 54, 54, 43, 48, 53, 48, 55, 50, 54, 44,\n",
       "       51, 55, 46, 43, 46, 48, 50, 48, 52, 48, 48, 47, 50, 51, 40, 47, 52,\n",
       "       45, 46, 46, 52, 57, 58, 56, 45, 47, 53, 54, 47, 54, 54, 48, 55, 49,\n",
       "       48, 52, 45, 46, 49, 41, 49, 52, 51, 50, 57, 50, 48, 47, 46, 58, 55,\n",
       "       42, 48, 53, 52, 46, 47, 54, 47, 45, 49, 45, 49, 61, 50, 46, 50, 61,\n",
       "       52, 54, 53, 51, 56, 45, 45, 47, 47, 54, 54, 46, 47, 57, 51, 50, 47,\n",
       "       50, 56, 46, 45, 47, 46, 54, 51, 54, 44, 44, 56, 59, 42, 54, 59, 53,\n",
       "       52, 54, 47, 58, 47, 46, 58, 59, 46, 49, 49, 53, 51, 51, 55, 57, 50,\n",
       "       51, 41, 51, 47, 56, 46, 60, 54, 47, 51, 52, 47, 53, 46, 49, 47, 47,\n",
       "       48, 47, 54, 57, 43, 41, 50, 45, 47, 51, 47, 47, 50, 52, 49, 56, 46,\n",
       "       51, 43, 47, 46, 43, 50, 40, 50, 52, 57, 38, 52, 48, 51, 52, 53, 56,\n",
       "       52, 42, 55, 47, 54, 45, 50, 51, 54, 48, 46, 49, 46, 52, 53, 48, 57,\n",
       "       44, 45, 48, 56, 52, 46, 51, 56, 54, 55, 47, 47, 52, 49, 57, 48, 46,\n",
       "       51, 56, 45, 41, 53, 51, 45, 52, 50, 49, 42, 47, 55, 51, 62, 51, 57,\n",
       "       46, 53, 47, 45, 42, 49, 46, 52, 47, 52, 49, 44, 51, 50, 50, 50, 49,\n",
       "       51, 44, 51, 53, 52, 59, 52, 54, 41, 38, 46, 52, 48, 40, 50, 52, 55,\n",
       "       46, 53, 45, 48, 45, 55, 55, 45, 46, 48, 51, 57, 45, 47, 47, 53, 55,\n",
       "       56, 48, 57, 54, 53, 50, 44, 57, 47, 55, 46, 52, 46, 44, 49, 58, 40,\n",
       "       47, 52, 50, 45, 50, 48, 56, 53, 53, 45, 42, 43, 54, 53, 44, 50, 52,\n",
       "       48, 49, 50, 52, 54, 50, 44, 55, 59, 62, 38, 51, 46, 53, 48, 51, 41,\n",
       "       48, 44, 48, 57, 60, 48, 42, 51, 49, 47, 54, 57, 52, 42, 52, 51, 57,\n",
       "       49, 51, 47, 48, 49, 50, 51, 51, 52, 45, 51, 44, 55, 46, 50, 58, 48,\n",
       "       56, 51, 43, 42, 52, 45, 45, 61, 44, 43, 52, 55, 45, 56, 52, 58, 49,\n",
       "       50, 46, 53, 56, 50, 50, 46, 56, 43, 54, 45, 49, 41, 44, 47, 47, 49,\n",
       "       42, 46, 47, 60, 43, 50, 48, 53, 56, 57, 47, 51, 48, 47, 42, 45, 49,\n",
       "       51, 53, 54, 57, 41, 46, 44, 50, 49, 54, 41, 52, 50, 50, 47, 55, 53,\n",
       "       52, 51, 60, 49, 54, 50, 59, 47, 57, 54, 48, 51, 51, 51, 54, 63, 50,\n",
       "       45, 46, 53, 55, 47, 46, 49, 48, 55, 55, 47, 48, 48, 51, 49, 48, 53,\n",
       "       47, 51, 52, 43, 50, 54, 41, 52, 40, 48, 62, 59, 44, 43, 54, 44, 47,\n",
       "       51, 48, 47, 49, 35, 55, 49, 46, 49, 54, 49, 55, 52, 43, 55, 44, 56,\n",
       "       55, 53, 56, 53, 49, 39, 44, 63, 55, 51, 59, 42, 48, 44, 45, 50, 46,\n",
       "       50, 55, 54, 45, 49, 46, 48, 49, 53, 48, 43, 44, 46, 55, 56, 52, 43,\n",
       "       44, 56, 51, 47, 47, 55, 53, 41, 59, 58, 54, 53, 48, 59, 51, 50, 51,\n",
       "       61, 56, 48, 48, 46, 49, 54, 56, 36, 53, 39, 54, 41, 52, 48, 42, 47,\n",
       "       53, 45, 44, 53, 52, 55, 41, 51, 44, 41, 56, 48, 56, 45, 52, 48, 46,\n",
       "       56, 49, 48, 42, 61, 45, 59, 49, 55, 54, 50, 52, 43, 49, 58, 47, 45,\n",
       "       44, 54, 53, 48, 44, 45, 42, 57, 51, 48, 45, 51, 51, 45, 54, 44, 52,\n",
       "       56, 55, 50, 54, 53, 46, 58, 47, 45, 50, 52, 54, 54, 45, 44, 51, 48,\n",
       "       53, 53, 55, 46, 51, 50, 46, 61, 57, 55, 51, 55, 63, 43, 42, 48, 52,\n",
       "       56, 40, 52, 57, 51, 52, 46, 54, 40, 39, 41, 55, 46, 61, 46, 51, 55,\n",
       "       55, 44, 49, 46, 48, 42, 48, 50, 41, 52, 54, 51, 47, 46, 50, 51, 53,\n",
       "       45, 48, 49, 46, 48, 48, 54, 53, 43, 39, 58, 55, 47, 49, 63, 57, 44,\n",
       "       48, 50, 50, 56, 56, 57, 54, 42, 51, 53, 52, 52, 48, 47],\n",
       "      dtype=int64)"
      ]
     },
     "execution_count": 62,
     "metadata": {},
     "output_type": "execute_result"
    }
   ],
   "source": [
    "# package numpy - subpackage random - object Generator - method default_rng alias newGenBitGenPCG64 - instantiate\n",
    "nOutput=newGenBitGenPCG64().binomial(n,p,size) # method binomial - call\n",
    "nOutput"
   ]
  },
  {
   "cell_type": "markdown",
   "metadata": {},
   "source": [
    "- probability mass function - also called a frequency function - gives probabilities for discrete random variables - counterpart - probability density function - gives probabilities for continuous random variables [\n",
    "[...] Statistics How To, \"Probability Mass Function (PMF) / Frequency Function: Easy Definition, Examples,\" [](), September 2016. ]"
   ]
  },
  {
   "cell_type": "markdown",
   "metadata": {},
   "source": [
    "- calculate the probability of different scenarios [\n",
    "[...] I. McLoughlin, \"Coin flipping in Python,\" GMIT, September 2019.\n",
    "]"
   ]
  },
  {
   "cell_type": "code",
   "execution_count": 63,
   "metadata": {},
   "outputs": [],
   "source": [
    "# b_T_hird_P_arty-imports\n",
    "import scipy.stats as ss"
   ]
  },
  {
   "cell_type": "code",
   "execution_count": 64,
   "metadata": {},
   "outputs": [
    {
     "name": "stdout",
     "output_type": "stream",
     "text": [
      "\n",
      "        Probability mass function at k of the given RV.\n",
      "\n",
      "        Parameters\n",
      "        ----------\n",
      "        k : array_like\n",
      "            Quantiles.\n",
      "        arg1, arg2, arg3,... : array_like\n",
      "            The shape parameter(s) for the distribution (see docstring of the\n",
      "            instance object for more information)\n",
      "        loc : array_like, optional\n",
      "            Location parameter (default=0).\n",
      "\n",
      "        Returns\n",
      "        -------\n",
      "        pmf : array_like\n",
      "            Probability mass function evaluated at k\n",
      "\n",
      "        \n"
     ]
    }
   ],
   "source": [
    "# pkg scipy - subpkg stats alias ss - mod _distn_infrastructure - obj rv_discrete - instantiate\n",
    "print(ss._distn_infrastructure.rv_discrete.pmf.__doc__) # method pmf - copy - attr __doc__ - access"
   ]
  },
  {
   "cell_type": "code",
   "execution_count": 65,
   "metadata": {},
   "outputs": [
    {
     "name": "stdout",
     "output_type": "stream",
     "text": [
      "A binomial discrete random variable.\n",
      "\n",
      "    As an instance of the `rv_discrete` class, `binom` object inherits from it\n",
      "    a collection of generic methods (see below for the full list),\n",
      "    and completes them with details specific for this particular distribution.\n"
     ]
    }
   ],
   "source": [
    "# pkg scipy - subpkg stats alias ss - mod _distn_infrastructure - obj rv_discrete - instantiate\n",
    "print(\"\\n\".join(ss.binom.__doc__.split(\"\\n\")[0:5])) # method binomial - copy - attr __doc__ - access"
   ]
  },
  {
   "cell_type": "code",
   "execution_count": 66,
   "metadata": {},
   "outputs": [],
   "source": [
    "k=int(nOutput.mean()) # instance object - DataFrame"
   ]
  },
  {
   "cell_type": "markdown",
   "metadata": {},
   "source": [
    "- **simulation** - likelihood of observing a certain number of heads - $50$ - when flipping a coin however many times - $100$ [\n",
    "[...] I. McLoughlin, \"Coin flipping in Python,\" GMIT, September 2019.\n",
    "]"
   ]
  },
  {
   "cell_type": "markdown",
   "metadata": {},
   "source": [
    "- `k` - probability of the number of heads - $50$ - when flipped by - `n` [\n",
    "[...] I. McLoughlin, \"Coin flipping in Python,\" GMIT, September 2019.\n",
    "]"
   ]
  },
  {
   "cell_type": "markdown",
   "metadata": {},
   "source": [
    "- `n` - $integer >=0$ - number of trials - $100$ - coin flip is a trial - result in only two possible outcomes - heads or tails - calling heads a success - 1 - tails a failure - 0 [\n",
    "[...] I. McLoughlin, \"Coin flipping in Python,\" GMIT, September 2019.\n",
    "]"
   ]
  },
  {
   "cell_type": "markdown",
   "metadata": {},
   "source": [
    "- `p` - $interval [0,1]$ - probability of each trial - probability of success is constant - one half on each trial - $0.5$ [\n",
    "[...] I. McLoughlin, \"Coin flipping in Python,\" GMIT, September 2019.\n",
    "]"
   ]
  },
  {
   "cell_type": "code",
   "execution_count": 67,
   "metadata": {},
   "outputs": [],
   "source": [
    "# package scipy - subpackage stats alias ss - object rv_discrete - instance binom - method pmf - arguments\n",
    "n,p=100,0.5"
   ]
  },
  {
   "cell_type": "code",
   "execution_count": 68,
   "metadata": {},
   "outputs": [
    {
     "data": {
      "text/plain": [
       "49"
      ]
     },
     "execution_count": 68,
     "metadata": {},
     "output_type": "execute_result"
    }
   ],
   "source": [
    "k"
   ]
  },
  {
   "cell_type": "markdown",
   "metadata": {},
   "source": [
    "- flip coin - 100 times - many ways to get 50 heads - perfectly possible by chance - first 50 coin flips - get heads - remaining 50 coin flips - get tails [\n",
    "[...] I. McLoughlin, \"Coin flipping in Python,\" GMIT, September 2019.\n",
    "]"
   ]
  },
  {
   "cell_type": "markdown",
   "metadata": {},
   "source": [
    "- not the only one way of getting 50 heads - first flip - get head - count is one - second flip - get tail - third clip - get head - count is two - many different configurations are possible to end up with 50 heads - all encapsulated in this probability - takes into account all of those possible different configurations of getting 50 heads in 100 flips [\n",
    "[...] I. McLoughlin, \"Coin flipping in Python,\" GMIT, September 2019.\n",
    "]"
   ]
  },
  {
   "cell_type": "code",
   "execution_count": 69,
   "metadata": {},
   "outputs": [],
   "source": [
    "# package scipy - subpackage stats alias ss - object rv_discrete - instance binom \n",
    "nProbabilityOf=ss.binom.pmf(k,n,p) # - method pmf - call"
   ]
  },
  {
   "cell_type": "code",
   "execution_count": 70,
   "metadata": {},
   "outputs": [
    {
     "data": {
      "text/plain": [
       "0.07802866410507622"
      ]
     },
     "execution_count": 70,
     "metadata": {},
     "output_type": "execute_result"
    }
   ],
   "source": [
    "nProbabilityOf"
   ]
  },
  {
   "cell_type": "code",
   "execution_count": 71,
   "metadata": {
    "scrolled": false
   },
   "outputs": [
    {
     "data": {
      "text/plain": [
       "'observe heads 49 - probability of 0.07802866410507622 - 7.802866410507622%'"
      ]
     },
     "execution_count": 71,
     "metadata": {},
     "output_type": "execute_result"
    }
   ],
   "source": [
    "\"observe heads {} - probability of {} - {}%\".format(k,nProbabilityOf,nProbabilityOf*100)"
   ]
  },
  {
   "cell_type": "code",
   "execution_count": 72,
   "metadata": {},
   "outputs": [],
   "source": [
    "# b_T_hird_P_arty-imports\n",
    "import seaborn as sns"
   ]
  },
  {
   "cell_type": "code",
   "execution_count": 73,
   "metadata": {},
   "outputs": [
    {
     "name": "stdout",
     "output_type": "stream",
     "text": [
      "Flexibly plot a univariate distribution of observations.\n",
      "\n",
      "    This function combines the matplotlib ``hist`` function (with automatic\n",
      "    calculation of a good default bin size) with the seaborn :func:`kdeplot`\n",
      "    and :func:`rugplot` functions. It can also fit ``scipy.stats``\n",
      "    distributions and plot the estimated PDF over the data.\n"
     ]
    }
   ],
   "source": [
    "# package seaborn alias sns - function distplot - call - attribute __doc__ - access\n",
    "print(\"\\n\".join(sns.distplot.__doc__.split(\"\\n\")[0:6]))"
   ]
  },
  {
   "cell_type": "markdown",
   "metadata": {},
   "source": [
    "- wrap - array of 1000 numbers in - package seaborn - function distplot - creating plot - x axis - circa 30 to circa 70 - y axis - 0 to circa 0.10 - almost like a bell shaped curve - picture of how many heads each time the coin is flipped 100 times - distribution plot - looking at the distribution of the number of heads when a coin is flipped 100 times [\n",
    "[...] I. McLoughlin, \"Coin flipping in Python,\" GMIT, September 2019.\n",
    "]"
   ]
  },
  {
   "cell_type": "markdown",
   "metadata": {},
   "source": [
    "- centred around the 50 Mark - spreads out - very unlikely to get heads towards circa 50 - rapidly decreases in probability away from the 50 mark [\n",
    "[...] I. McLoughlin, \"Coin flipping in Python,\" GMIT, September 2019.\n",
    "]"
   ]
  },
  {
   "cell_type": "code",
   "execution_count": 74,
   "metadata": {},
   "outputs": [],
   "source": [
    "# b_T_hird_P_arty-imports\n",
    "from matplotlib.style.core import use as u\n",
    "# package matplotlib - subpackage style - module core - function use alias u - call\n",
    "u({\"default\"})"
   ]
  },
  {
   "cell_type": "code",
   "execution_count": 75,
   "metadata": {},
   "outputs": [
    {
     "data": {
      "image/png": "[encoded data removed]",
      "text/plain": [
       "<Figure size 640x480 with 1 Axes>"
      ]
     },
     "metadata": {},
     "output_type": "display_data"
    }
   ],
   "source": [
    "# package seaborn alias sns - module distributions - function distplot - call\n",
    "sns.distplot(nOutput);"
   ]
  },
  {
   "cell_type": "markdown",
   "metadata": {},
   "source": [
    "- conitinue increasing - eventually head towards the normal distribution of a bell shaped curve - theoretically - can do an infinite number of trials of flipping a coin 1000 flipping - come up with bell shaped curve [\n",
    "[...] I. McLoughlin, \"Coin flipping in Python,\" GMIT, September 2019.\n",
    "]"
   ]
  },
  {
   "cell_type": "markdown",
   "metadata": {},
   "source": [
    "<h2><center>END</center></h2>"
   ]
  },
  {
   "cell_type": "markdown",
   "metadata": {},
   "source": [
    "< [Instructions](#top) | [README](https://github.com/E6985/fda-tasks/blob/main/README.md) | [Task 1](#task-1) | [Task 2](#task-2) | [Task 3](#task-3) | [References](#references) >\n",
    "<a id=\"task-4\"></a>\n",
    "***\n",
    "## Task 4\n",
    "### Demonstrate Simpson's paradox.\n",
    "***"
   ]
  },
  {
   "cell_type": "markdown",
   "metadata": {},
   "source": [
    "##### Rough work\n",
    "***"
   ]
  },
  {
   "cell_type": "markdown",
   "metadata": {},
   "source": [
    "- based on video presentation [\n",
    "[...] I. McLoughlin, \"Simpson's paradox meaning,\" GMIT, November 2018.\n",
    "]"
   ]
  },
  {
   "cell_type": "code",
   "execution_count": 1,
   "metadata": {},
   "outputs": [],
   "source": [
    "import pandas as pd\n",
    "import seaborn as sns\n",
    "import numpy as np"
   ]
  },
  {
   "cell_type": "code",
   "execution_count": 2,
   "metadata": {},
   "outputs": [],
   "source": [
    "# b_T_hird_P_arty-imports\n",
    "from matplotlib.style.core import use as u\n",
    "# package matplotlib - subpackage style - module core - function use alias u - call\n",
    "u({\"default\"})"
   ]
  },
  {
   "cell_type": "code",
   "execution_count": 3,
   "metadata": {},
   "outputs": [],
   "source": [
    "x1=np.random.normal(1.8,0.05,100)"
   ]
  },
  {
   "cell_type": "code",
   "execution_count": 4,
   "metadata": {},
   "outputs": [],
   "source": [
    "y1=np.random.normal(85,1,100)"
   ]
  },
  {
   "cell_type": "code",
   "execution_count": 5,
   "metadata": {},
   "outputs": [],
   "source": [
    "x1_y1=pd.DataFrame({\"x_heading\":x1,\"y_heading\":y1})"
   ]
  },
  {
   "cell_type": "code",
   "execution_count": 6,
   "metadata": {},
   "outputs": [],
   "source": [
    "x1_y1[\"outcome\"]=x1_y1[\"x_heading\"]/x1_y1[\"y_heading\"]**2"
   ]
  },
  {
   "cell_type": "code",
   "execution_count": 7,
   "metadata": {},
   "outputs": [
    {
     "data": {
      "text/html": [
       "<div>\n",
       "<style scoped>\n",
       "    .dataframe tbody tr th:only-of-type {\n",
       "        vertical-align: middle;\n",
       "    }\n",
       "\n",
       "    .dataframe tbody tr th {\n",
       "        vertical-align: top;\n",
       "    }\n",
       "\n",
       "    .dataframe thead th {\n",
       "        text-align: right;\n",
       "    }\n",
       "</style>\n",
       "<table border=\"1\" class=\"dataframe\">\n",
       "  <thead>\n",
       "    <tr style=\"text-align: right;\">\n",
       "      <th></th>\n",
       "      <th>x_heading</th>\n",
       "      <th>y_heading</th>\n",
       "      <th>outcome</th>\n",
       "    </tr>\n",
       "  </thead>\n",
       "  <tbody>\n",
       "    <tr>\n",
       "      <th>0</th>\n",
       "      <td>1.857309</td>\n",
       "      <td>85.032130</td>\n",
       "      <td>0.000257</td>\n",
       "    </tr>\n",
       "    <tr>\n",
       "      <th>1</th>\n",
       "      <td>1.692993</td>\n",
       "      <td>84.265338</td>\n",
       "      <td>0.000238</td>\n",
       "    </tr>\n",
       "    <tr>\n",
       "      <th>2</th>\n",
       "      <td>1.911293</td>\n",
       "      <td>84.276982</td>\n",
       "      <td>0.000269</td>\n",
       "    </tr>\n",
       "    <tr>\n",
       "      <th>3</th>\n",
       "      <td>1.778397</td>\n",
       "      <td>85.477570</td>\n",
       "      <td>0.000243</td>\n",
       "    </tr>\n",
       "    <tr>\n",
       "      <th>4</th>\n",
       "      <td>1.881261</td>\n",
       "      <td>84.169814</td>\n",
       "      <td>0.000266</td>\n",
       "    </tr>\n",
       "    <tr>\n",
       "      <th>...</th>\n",
       "      <td>...</td>\n",
       "      <td>...</td>\n",
       "      <td>...</td>\n",
       "    </tr>\n",
       "    <tr>\n",
       "      <th>95</th>\n",
       "      <td>1.872437</td>\n",
       "      <td>83.577570</td>\n",
       "      <td>0.000268</td>\n",
       "    </tr>\n",
       "    <tr>\n",
       "      <th>96</th>\n",
       "      <td>1.877292</td>\n",
       "      <td>84.571705</td>\n",
       "      <td>0.000262</td>\n",
       "    </tr>\n",
       "    <tr>\n",
       "      <th>97</th>\n",
       "      <td>1.714913</td>\n",
       "      <td>82.813697</td>\n",
       "      <td>0.000250</td>\n",
       "    </tr>\n",
       "    <tr>\n",
       "      <th>98</th>\n",
       "      <td>1.762166</td>\n",
       "      <td>86.830645</td>\n",
       "      <td>0.000234</td>\n",
       "    </tr>\n",
       "    <tr>\n",
       "      <th>99</th>\n",
       "      <td>1.821058</td>\n",
       "      <td>83.659264</td>\n",
       "      <td>0.000260</td>\n",
       "    </tr>\n",
       "  </tbody>\n",
       "</table>\n",
       "<p>100 rows × 3 columns</p>\n",
       "</div>"
      ],
      "text/plain": [
       "    x_heading  y_heading   outcome\n",
       "0    1.857309  85.032130  0.000257\n",
       "1    1.692993  84.265338  0.000238\n",
       "2    1.911293  84.276982  0.000269\n",
       "3    1.778397  85.477570  0.000243\n",
       "4    1.881261  84.169814  0.000266\n",
       "..        ...        ...       ...\n",
       "95   1.872437  83.577570  0.000268\n",
       "96   1.877292  84.571705  0.000262\n",
       "97   1.714913  82.813697  0.000250\n",
       "98   1.762166  86.830645  0.000234\n",
       "99   1.821058  83.659264  0.000260\n",
       "\n",
       "[100 rows x 3 columns]"
      ]
     },
     "execution_count": 7,
     "metadata": {},
     "output_type": "execute_result"
    }
   ],
   "source": [
    "x1_y1"
   ]
  },
  {
   "cell_type": "code",
   "execution_count": 8,
   "metadata": {},
   "outputs": [
    {
     "data": {
      "image/png": "[encoded data removed]",
      "text/plain": [
       "<Figure size 500x500 with 1 Axes>"
      ]
     },
     "metadata": {},
     "output_type": "display_data"
    }
   ],
   "source": [
    "sns.lmplot(x=\"x_heading\",y=\"outcome\",data=x1_y1);"
   ]
  },
  {
   "cell_type": "code",
   "execution_count": 9,
   "metadata": {},
   "outputs": [],
   "source": [
    "x2=np.random.normal(1.65,0.05,100)"
   ]
  },
  {
   "cell_type": "code",
   "execution_count": 10,
   "metadata": {},
   "outputs": [],
   "source": [
    "y2=np.random.normal(60,1,100)"
   ]
  },
  {
   "cell_type": "code",
   "execution_count": 11,
   "metadata": {},
   "outputs": [],
   "source": [
    "x2_y2=pd.DataFrame({\"x_heading\":x2,\"y_heading\":y2})"
   ]
  },
  {
   "cell_type": "code",
   "execution_count": 12,
   "metadata": {},
   "outputs": [],
   "source": [
    "x2_y2[\"outcome\"]=x2_y2[\"x_heading\"]/x2_y2[\"y_heading\"]"
   ]
  },
  {
   "cell_type": "code",
   "execution_count": 13,
   "metadata": {},
   "outputs": [
    {
     "data": {
      "text/html": [
       "<div>\n",
       "<style scoped>\n",
       "    .dataframe tbody tr th:only-of-type {\n",
       "        vertical-align: middle;\n",
       "    }\n",
       "\n",
       "    .dataframe tbody tr th {\n",
       "        vertical-align: top;\n",
       "    }\n",
       "\n",
       "    .dataframe thead th {\n",
       "        text-align: right;\n",
       "    }\n",
       "</style>\n",
       "<table border=\"1\" class=\"dataframe\">\n",
       "  <thead>\n",
       "    <tr style=\"text-align: right;\">\n",
       "      <th></th>\n",
       "      <th>x_heading</th>\n",
       "      <th>y_heading</th>\n",
       "      <th>outcome</th>\n",
       "    </tr>\n",
       "  </thead>\n",
       "  <tbody>\n",
       "    <tr>\n",
       "      <th>0</th>\n",
       "      <td>1.635884</td>\n",
       "      <td>58.950454</td>\n",
       "      <td>0.027750</td>\n",
       "    </tr>\n",
       "    <tr>\n",
       "      <th>1</th>\n",
       "      <td>1.725953</td>\n",
       "      <td>61.264235</td>\n",
       "      <td>0.028172</td>\n",
       "    </tr>\n",
       "    <tr>\n",
       "      <th>2</th>\n",
       "      <td>1.695272</td>\n",
       "      <td>60.315613</td>\n",
       "      <td>0.028107</td>\n",
       "    </tr>\n",
       "    <tr>\n",
       "      <th>3</th>\n",
       "      <td>1.636164</td>\n",
       "      <td>59.796069</td>\n",
       "      <td>0.027362</td>\n",
       "    </tr>\n",
       "    <tr>\n",
       "      <th>4</th>\n",
       "      <td>1.682727</td>\n",
       "      <td>59.231002</td>\n",
       "      <td>0.028410</td>\n",
       "    </tr>\n",
       "    <tr>\n",
       "      <th>...</th>\n",
       "      <td>...</td>\n",
       "      <td>...</td>\n",
       "      <td>...</td>\n",
       "    </tr>\n",
       "    <tr>\n",
       "      <th>95</th>\n",
       "      <td>1.688646</td>\n",
       "      <td>61.534830</td>\n",
       "      <td>0.027442</td>\n",
       "    </tr>\n",
       "    <tr>\n",
       "      <th>96</th>\n",
       "      <td>1.608548</td>\n",
       "      <td>60.189304</td>\n",
       "      <td>0.026725</td>\n",
       "    </tr>\n",
       "    <tr>\n",
       "      <th>97</th>\n",
       "      <td>1.673385</td>\n",
       "      <td>60.389798</td>\n",
       "      <td>0.027710</td>\n",
       "    </tr>\n",
       "    <tr>\n",
       "      <th>98</th>\n",
       "      <td>1.603554</td>\n",
       "      <td>62.102824</td>\n",
       "      <td>0.025821</td>\n",
       "    </tr>\n",
       "    <tr>\n",
       "      <th>99</th>\n",
       "      <td>1.617004</td>\n",
       "      <td>60.146850</td>\n",
       "      <td>0.026884</td>\n",
       "    </tr>\n",
       "  </tbody>\n",
       "</table>\n",
       "<p>100 rows × 3 columns</p>\n",
       "</div>"
      ],
      "text/plain": [
       "    x_heading  y_heading   outcome\n",
       "0    1.635884  58.950454  0.027750\n",
       "1    1.725953  61.264235  0.028172\n",
       "2    1.695272  60.315613  0.028107\n",
       "3    1.636164  59.796069  0.027362\n",
       "4    1.682727  59.231002  0.028410\n",
       "..        ...        ...       ...\n",
       "95   1.688646  61.534830  0.027442\n",
       "96   1.608548  60.189304  0.026725\n",
       "97   1.673385  60.389798  0.027710\n",
       "98   1.603554  62.102824  0.025821\n",
       "99   1.617004  60.146850  0.026884\n",
       "\n",
       "[100 rows x 3 columns]"
      ]
     },
     "execution_count": 13,
     "metadata": {},
     "output_type": "execute_result"
    }
   ],
   "source": [
    "x2_y2"
   ]
  },
  {
   "cell_type": "code",
   "execution_count": 14,
   "metadata": {},
   "outputs": [
    {
     "data": {
      "image/png": "[encoded data removed]",
      "text/plain": [
       "<Figure size 500x500 with 1 Axes>"
      ]
     },
     "metadata": {},
     "output_type": "display_data"
    }
   ],
   "source": [
    "sns.lmplot(x=\"x_heading\",y=\"outcome\",data=x2_y2);"
   ]
  },
  {
   "cell_type": "code",
   "execution_count": 15,
   "metadata": {},
   "outputs": [],
   "source": [
    "x1_y1[\"split\"]=\"simpson\"\n",
    "x2_y2[\"split\"]=\"pearson\"\n",
    "combine=pd.concat([x1_y1,x2_y2])"
   ]
  },
  {
   "cell_type": "code",
   "execution_count": 16,
   "metadata": {},
   "outputs": [
    {
     "data": {
      "text/html": [
       "<div>\n",
       "<style scoped>\n",
       "    .dataframe tbody tr th:only-of-type {\n",
       "        vertical-align: middle;\n",
       "    }\n",
       "\n",
       "    .dataframe tbody tr th {\n",
       "        vertical-align: top;\n",
       "    }\n",
       "\n",
       "    .dataframe thead th {\n",
       "        text-align: right;\n",
       "    }\n",
       "</style>\n",
       "<table border=\"1\" class=\"dataframe\">\n",
       "  <thead>\n",
       "    <tr style=\"text-align: right;\">\n",
       "      <th></th>\n",
       "      <th>x_heading</th>\n",
       "      <th>y_heading</th>\n",
       "      <th>outcome</th>\n",
       "      <th>split</th>\n",
       "    </tr>\n",
       "  </thead>\n",
       "  <tbody>\n",
       "    <tr>\n",
       "      <th>0</th>\n",
       "      <td>1.857309</td>\n",
       "      <td>85.032130</td>\n",
       "      <td>0.000257</td>\n",
       "      <td>simpson</td>\n",
       "    </tr>\n",
       "    <tr>\n",
       "      <th>1</th>\n",
       "      <td>1.692993</td>\n",
       "      <td>84.265338</td>\n",
       "      <td>0.000238</td>\n",
       "      <td>simpson</td>\n",
       "    </tr>\n",
       "    <tr>\n",
       "      <th>2</th>\n",
       "      <td>1.911293</td>\n",
       "      <td>84.276982</td>\n",
       "      <td>0.000269</td>\n",
       "      <td>simpson</td>\n",
       "    </tr>\n",
       "    <tr>\n",
       "      <th>3</th>\n",
       "      <td>1.778397</td>\n",
       "      <td>85.477570</td>\n",
       "      <td>0.000243</td>\n",
       "      <td>simpson</td>\n",
       "    </tr>\n",
       "    <tr>\n",
       "      <th>4</th>\n",
       "      <td>1.881261</td>\n",
       "      <td>84.169814</td>\n",
       "      <td>0.000266</td>\n",
       "      <td>simpson</td>\n",
       "    </tr>\n",
       "    <tr>\n",
       "      <th>...</th>\n",
       "      <td>...</td>\n",
       "      <td>...</td>\n",
       "      <td>...</td>\n",
       "      <td>...</td>\n",
       "    </tr>\n",
       "    <tr>\n",
       "      <th>95</th>\n",
       "      <td>1.688646</td>\n",
       "      <td>61.534830</td>\n",
       "      <td>0.027442</td>\n",
       "      <td>pearson</td>\n",
       "    </tr>\n",
       "    <tr>\n",
       "      <th>96</th>\n",
       "      <td>1.608548</td>\n",
       "      <td>60.189304</td>\n",
       "      <td>0.026725</td>\n",
       "      <td>pearson</td>\n",
       "    </tr>\n",
       "    <tr>\n",
       "      <th>97</th>\n",
       "      <td>1.673385</td>\n",
       "      <td>60.389798</td>\n",
       "      <td>0.027710</td>\n",
       "      <td>pearson</td>\n",
       "    </tr>\n",
       "    <tr>\n",
       "      <th>98</th>\n",
       "      <td>1.603554</td>\n",
       "      <td>62.102824</td>\n",
       "      <td>0.025821</td>\n",
       "      <td>pearson</td>\n",
       "    </tr>\n",
       "    <tr>\n",
       "      <th>99</th>\n",
       "      <td>1.617004</td>\n",
       "      <td>60.146850</td>\n",
       "      <td>0.026884</td>\n",
       "      <td>pearson</td>\n",
       "    </tr>\n",
       "  </tbody>\n",
       "</table>\n",
       "<p>200 rows × 4 columns</p>\n",
       "</div>"
      ],
      "text/plain": [
       "    x_heading  y_heading   outcome    split\n",
       "0    1.857309  85.032130  0.000257  simpson\n",
       "1    1.692993  84.265338  0.000238  simpson\n",
       "2    1.911293  84.276982  0.000269  simpson\n",
       "3    1.778397  85.477570  0.000243  simpson\n",
       "4    1.881261  84.169814  0.000266  simpson\n",
       "..        ...        ...       ...      ...\n",
       "95   1.688646  61.534830  0.027442  pearson\n",
       "96   1.608548  60.189304  0.026725  pearson\n",
       "97   1.673385  60.389798  0.027710  pearson\n",
       "98   1.603554  62.102824  0.025821  pearson\n",
       "99   1.617004  60.146850  0.026884  pearson\n",
       "\n",
       "[200 rows x 4 columns]"
      ]
     },
     "execution_count": 16,
     "metadata": {},
     "output_type": "execute_result"
    }
   ],
   "source": [
    "combine"
   ]
  },
  {
   "cell_type": "code",
   "execution_count": 17,
   "metadata": {},
   "outputs": [
    {
     "data": {
      "image/png": "[encoded data removed]",
      "text/plain": [
       "<Figure size 500x500 with 1 Axes>"
      ]
     },
     "metadata": {},
     "output_type": "display_data"
    }
   ],
   "source": [
    "sns.lmplot(x=\"x_heading\",y=\"outcome\",data=combine);"
   ]
  },
  {
   "cell_type": "markdown",
   "metadata": {},
   "source": [
    "<h2><center>END</center></h2>"
   ]
  },
  {
   "cell_type": "markdown",
   "metadata": {},
   "source": [
    "< [Instructions](#top) | [README](https://github.com/E6985/fda-tasks/blob/main/README.md) | [Task 1](#task-1) | [Task 2](#task-2) | [Task 3](#task-3) | [Task 4](#task-4) >\n",
    "<a id=\"references\"></a>\n",
    "***\n",
    "## References\n",
    "***\n",
    "&nbsp;&nbsp;&nbsp;&nbsp;&nbsp;&nbsp;&nbsp;&nbsp;&nbsp;[1] authorNames, referenceTitle, locationWebsiteBookVideo, dateMonthYear.\n",
    "\n",
    "&nbsp;&nbsp;&nbsp;&nbsp;&nbsp;&nbsp;&nbsp;[10]\n",
    "\n",
    "&nbsp;&nbsp;&nbsp;&nbsp;&nbsp;[100]\n",
    "\n",
    "&nbsp;&nbsp;&nbsp;[1000]\n",
    "***"
   ]
  },
  {
   "cell_type": "markdown",
   "metadata": {},
   "source": [
    "<h2><center>END</center></h2>"
   ]
  },
  {
   "cell_type": "markdown",
   "metadata": {},
   "source": [
    "<h2><center>Appendix</center></h2>"
   ]
  },
  {
   "cell_type": "markdown",
   "metadata": {},
   "source": [
    "< [Instructions](#top) | [README](https://github.com/E6985/fda-tasks/blob/main/README.md) | [Task 1](#task-1) | [Task 2](#task-2) | [Task 3](#task-3) | [Task 4](#task-4) | [References](#references) >\n",
    "<a id=\"references\"></a>\n",
    "***\n",
    "## A\n",
    "***\n",
    "\n",
    "```python\n",
    "# \"Classy\" solution...\n",
    "class Bag(dict):\n",
    "    def __init__(self, alist):\n",
    "        for elem in alist:\n",
    "            self.add(elem)\n",
    "\n",
    "    def add(self, elem):\n",
    "        self[elem] = self.get(elem, 0) + 1\n",
    "\n",
    "    def __str__(self):\n",
    "        out = ['%-8s %3d' % (key, val)\n",
    "                        for (key, val) in sorted(self.items())]\n",
    "        return '\\n'.join(out)\n",
    "\n",
    "print Bag('foo bar bar foo glag foo'.split())\n",
    "```\n",
    "\n",
    "[...] E. Wiethoff, \"Bag Sum In Many Programming Languages,\" [wiki.c2](https://web.archive.org/web/20201107143701/https://wiki.c2.com/?BagSumInManyProgrammingLanguages), n.d."
   ]
  },
  {
   "cell_type": "markdown",
   "metadata": {},
   "source": [
    "<h2><center>END</center></h2>"
   ]
  },
  {
   "cell_type": "markdown",
   "metadata": {},
   "source": [
    "< [Instructions](#top) | [README](https://github.com/E6985/fda-tasks/blob/main/README.md) | [Task 1](#task-1) | [Task 2](#task-2) | [Task 3](#task-3) | [Task 4](#task-4) | [References](#references) >\n",
    "<a id=\"references\"></a>\n",
    "***\n",
    "## B\n",
    "***\n",
    "\n",
    "```python\n",
    "# Pythonic ListComprehension and loop solution...\n",
    "bag = 'foo bar bar foo glag foo'.split()\n",
    "bagsum = dict([(elem, bag.count(elem)) for elem in bag])\n",
    "for key, val in sorted(bagsum.items()):\n",
    "    print '%-8s %3d' % (key, val)\n",
    "```\n",
    "\n",
    "[...] E. Wiethoff, \"Bag Sum In Many Programming Languages,\" [wiki.c2](https://web.archive.org/web/20201107143701/https://wiki.c2.com/?BagSumInManyProgrammingLanguages), n.d."
   ]
  },
  {
   "cell_type": "markdown",
   "metadata": {},
   "source": [
    "<h2><center>END</center></h2>"
   ]
  },
  {
   "cell_type": "markdown",
   "metadata": {},
   "source": [
    "< [Instructions](#top) | [README](https://github.com/E6985/fda-tasks/blob/main/README.md) | [Task 1](#task-1) | [Task 2](#task-2) | [Task 3](#task-3) | [Task 4](#task-4) | [References](#references) >\n",
    "<a id=\"references\"></a>\n",
    "***\n",
    "## C\n",
    "***\n",
    "\n",
    "```python\n",
    "words = 'foo bar bar foo glag foo'.split()\n",
    "words.sort()\n",
    "prev, count = words[0], 1\n",
    "for word in words[1:]:\n",
    "    if word == prev:\n",
    "        count += 1\n",
    "    else:\n",
    "        print prev, count\n",
    "        prev, count = word, 1\n",
    "print prev, count\n",
    "```\n",
    "\n",
    "[...] Anonymous, \"Bag Sum In Many Programming Languages,\" [wiki.c2](https://web.archive.org/web/20201107143701/https://wiki.c2.com/?BagSumInManyProgrammingLanguages), n.d."
   ]
  },
  {
   "cell_type": "markdown",
   "metadata": {},
   "source": [
    "<h2><center>END</center></h2>"
   ]
  },
  {
   "cell_type": "markdown",
   "metadata": {},
   "source": [
    "< [Instructions](#top) | [README](https://github.com/E6985/fda-tasks/blob/main/README.md) | [Task 1](#task-1) | [Task 2](#task-2) | [Task 3](#task-3) | [Task 4](#task-4) | [References](#references) >\n",
    "<a id=\"references\"></a>\n",
    "***\n",
    "## D\n",
    "***\n",
    "\n",
    "- half-open interval - one endpoint is included but not the other - $[a,b)$ - includes - ``a`` - excludes - ``b`` - $(a,b]$ - excludes - ``a`` - includes - ``b`` [\n",
    "[...] Wolfram, \"Half-Closed Interval,\" [mathworld.wolfram](https://web.archive.org/web/20201106190646/https://mathworld.wolfram.com/Half-ClosedInterval.html), Ootober 2020.\n",
    "]\n",
    "\n",
    "![half-open-interval](https://github.com/E6985/pda-numpy-random/blob/main/img/distribution-uniform-half-open-interval.png?raw=true)\n",
    "\n",
    "***Wolfram, \"Half-Closed Interval,\" [mathworld.wolfram](https://web.archive.org/web/20201106190646/https://mathworld.wolfram.com/Half-ClosedInterval.html), Ootober 2020.***"
   ]
  },
  {
   "cell_type": "markdown",
   "metadata": {},
   "source": [
    "<h2><center>END</center></h2>"
   ]
  },
  {
   "cell_type": "markdown",
   "metadata": {},
   "source": [
    "<h1><center>END JUPYTER NOTEBOOK</center></h1>"
   ]
  }
 ],
 "metadata": {
  "kernelspec": {
   "display_name": "Python 3",
   "language": "python",
   "name": "python3"
  },
  "language_info": {
   "codemirror_mode": {
    "name": "ipython",
    "version": 3
   },
   "file_extension": ".py",
   "mimetype": "text/x-python",
   "name": "python",
   "nbconvert_exporter": "python",
   "pygments_lexer": "ipython3",
   "version": "3.8.3"
  }
 },
 "nbformat": 4,
 "nbformat_minor": 4
}
