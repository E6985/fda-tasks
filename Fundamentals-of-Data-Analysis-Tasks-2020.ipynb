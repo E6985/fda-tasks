{
 "cells": [
  {
   "cell_type": "markdown",
   "metadata": {},
   "source": [
    "< [GMIT Data Analytics](https://web.archive.org/web/20201029063153/https://www.gmit.ie/computer-science-and-applied-physics/higher-diploma-science-computing-data-analytics-ict) | [Table of Contents](https://github.com/E6985) | [README](https://github.com/E6985/fda-tasks/blob/main/README.md) >\n",
    "\n",
    "![GMIT](https://github.com/E6985/pda-numpy-random/blob/main/img/gmit.png?raw=true)\n",
    "\n",
    "## Fundamentals of Data Analysis - Tasks 2020\n",
    "## Due: last commit on or before December 18th, 2020\n",
    "***"
   ]
  },
  {
   "cell_type": "markdown",
   "metadata": {},
   "source": [
    "<a id=\"top\"></a>\n",
    "< [README](https://github.com/E6985/fda-tasks/blob/main/README.md) | [References](#references) >\n",
    "\n",
    "## Instructions\n",
    "\n",
    "These are the instructions for the Tasks assessment for Fundamentals of Data Analysis in 2020. Four tasks will be listed here at different times during the semester. Should complete all tasks in a single Jupyter notebook. This, along with relevant files like a README, should be in a single git repository synced with a hosting provider like GitHub.\n",
    "\n",
    "[Task 1](#task-1). Python function - counts.\n",
    "\n",
    "> Write a Python function called counts that takes a list as input and returns a dictionary of unique items in the list as keys and the number of times each item appears as values. So, the input ``['A', 'A', 'B', 'C', 'A']`` should have output ``{'A': 3, 'B': 1, 'C': 1}``. Your code should not depend on any module from the standard library or otherwise. By the standard library, we mean the modules and packages that come as standard with Python. Anything built-in that can be used without an import statement can be used. You should research the task first and include a description with references of your algorithm in the notebook.\n",
    "\n",
    "[Task 2](#task-2). Python function - diceroll.\n",
    "\n",
    "> Write a Python function called dicerolls that simulates rolling dice. Your function should take two parameters: i) the number of dice ``k`` and; ii) the number of times to roll the dice ``n``. The function should simulate randomly rolling ``k`` dice ``n`` times, keeping track of each total face value. It should then return a dictionary with the number of times each possible total face value occurred. So, calling the function as ``diceroll(k=2, n=1000)`` should return a dictionary like:\n",
    "\n",
    "> ``{2:19,3:50,4:82,5:112,6:135,7:174,8:133,9:114,10:75,11:70,12:36}``\n",
    "\n",
    "> You can use any module from the Python standard library you wish and you should include a description with references of your algorithm in the notebook.\n",
    "\n",
    "[Task 3](#task-3). Simulate coin flip - numpy.random.binomial.\n",
    "\n",
    "> The ``numpy.random.binomial`` function can be used to simulate flipping a coin with a 50/50 chance of heads or tails. Interestingly, if a coin is flipped many times then the number of heads is well approximated by a bell-shaped curve. For instance, if we flip a coin 100 times in a row the chance of getting 50 heads is relatively high, the chances of getting 0 or 100 heads is relatively low, and the chances of getting any other number of heads decreases as you move away from 50 in either direction towards 0 or 100. Write some python code that simulates flipping a coin 100 times. Then run this code 1,000 times, keeping track of the number of heads in each of the 1,000 simulations. Select an appropriate plot to depict the resulting list of 1,000 numbers, showing that it roughly follows a bell-shaped curve. You should explain your work in a Markdown cell above the code.\n",
    "\n",
    "[Task 4](#task-4). Demonstrate Simpson's paradox.\n",
    "\n",
    "> Simpson’s paradox is a well-known statistical paradox where a trend evident in a number of groups reverses when the groups are combined into one big dataset. Use numpy to create four datasets, each with an ``x`` array and a corresponding ``y`` array, to demonstrate Simpson’s paradox. You might create your ``x`` arrays using ``numpy.linspace`` and create the ``y`` array for each ``x`` using notation like ``y = a * x + b`` where you choose the ``a`` and ``b`` for each ``x``, ``y`` pair to demonstrate the paradox. You might see the Wikipedia page for Simpson’s paradox for inspiration."
   ]
  },
  {
   "cell_type": "markdown",
   "metadata": {},
   "source": [
    "## END"
   ]
  },
  {
   "cell_type": "markdown",
   "metadata": {},
   "source": [
    "### Preliminary Work\n",
    "***"
   ]
  },
  {
   "cell_type": "code",
   "execution_count": 1,
   "metadata": {},
   "outputs": [],
   "source": [
    "\"\"\"\n",
    "Additional Information:\n",
    "- packages\n",
    "\"\"\"\n",
    "# execute from file - .py\n",
    "%run ~/L8733/src/pro/par/pyt/magic/fGetModuleType.py\n",
    "\n",
    "\"\"\"\n",
    "Additional Information:\n",
    "- documentation\n",
    "\"\"\"\n",
    "# define function - fDocumentation\n",
    "def fDocumentation(nPar):\n",
    "    return nPar.__doc__"
   ]
  },
  {
   "cell_type": "markdown",
   "metadata": {},
   "source": [
    "## END"
   ]
  },
  {
   "cell_type": "markdown",
   "metadata": {},
   "source": [
    "< [Instructions](#top) | [README](https://github.com/E6985/fda-tasks/blob/main/README.md) | [Task 2](#task-2) | [Task 3](#task-3) | [Task 4](#task-4) | [References](#references) >\n",
    "<a id=\"task-1\"></a>\n",
    "***\n",
    "## Task 1\n",
    "### Python function - counts.\n",
    "***"
   ]
  },
  {
   "cell_type": "markdown",
   "metadata": {},
   "source": [
    "###### Dictionary\n",
    "***"
   ]
  },
  {
   "cell_type": "markdown",
   "metadata": {},
   "source": [
    "- dictionary - unorderd data collection type - flexible mappings of keys to values - form the basis of much of pythons internal implementation - created via a comma-separated list - pairs - ``key:value`` - within curly braces [\n",
    "[...] J. VanderPlas, \"Built-In Data Structures,\" A Whirlwind Tour of Python, p. 60, August 2016.\n",
    "]"
   ]
  },
  {
   "cell_type": "markdown",
   "metadata": {},
   "source": [
    "###### Algorithm - Attempt - Initial Approach\n",
    "***"
   ]
  },
  {
   "cell_type": "markdown",
   "metadata": {},
   "source": [
    "- input - list - ``['A', 'A', 'B', 'C', 'A']`` - function - counts - should take any list containing any items and return a dictionary of unique items in the list as keys and the number of times each item appears as values - algorithm designed should be based on imagining the list contains - letters in strings as presented in the Tasks 1 - list containing something other than strings - containing a single character - containing numbers - containing other lists - containing dictionaries - **think about this** - ok to **specify if the the function does not work with** lists of lists or something like that but consider said ideas - consider all of the different ins and outs where the algorithm might fail and document - have a lot of freedom here [\n",
    "[...] I. McLoughlin, \"Tasks 2020 Fundamentals of Data Analysis,\" GMIT, October 2020.\n",
    "]"
   ]
  },
  {
   "cell_type": "code",
   "execution_count": 2,
   "metadata": {},
   "outputs": [],
   "source": [
    "nArgList=['A', 'A', 'B', 'C', 'A']"
   ]
  },
  {
   "cell_type": "code",
   "execution_count": 3,
   "metadata": {},
   "outputs": [],
   "source": [
    "# define function - counts\n",
    "def counts(nParList):\n",
    "    nDictionary={}\n",
    "    for nEachValue in nParList:\n",
    "        # object Dict - method setdefault - call\n",
    "        nDictionary.setdefault(nEachValue,0)\n",
    "        nDictionary[nEachValue]+=1\n",
    "    return nDictionary"
   ]
  },
  {
   "cell_type": "code",
   "execution_count": 4,
   "metadata": {},
   "outputs": [
    {
     "data": {
      "text/plain": [
       "{'A': 3, 'B': 1, 'C': 1}"
      ]
     },
     "execution_count": 4,
     "metadata": {},
     "output_type": "execute_result"
    }
   ],
   "source": [
    "# function counts - call\n",
    "counts(nArgList)"
   ]
  },
  {
   "cell_type": "markdown",
   "metadata": {},
   "source": [
    "###### Python Module - collections\n",
    "***"
   ]
  },
  {
   "cell_type": "markdown",
   "metadata": {},
   "source": [
    "- built-in - module - collections - provides alternatives to pythons general purpose built-in container - dict [\n",
    "[...] Python Documentation, \"Collections - Container dataypes,\" [Python](https://web.archive.org/web/20201022092017/https://docs.python.org/3/library/collections.html#module-collections), October 2008.\n",
    "]"
   ]
  },
  {
   "cell_type": "code",
   "execution_count": 5,
   "metadata": {},
   "outputs": [],
   "source": [
    "# a_S_tandard_L_ibrary-imports\n",
    "from collections import Counter as Cctr"
   ]
  },
  {
   "cell_type": "markdown",
   "metadata": {},
   "source": [
    "- module - collections - class - Counter - elements are stored as dictionary keys - item counts are stored as dictionary values [\n",
    "[...] Python Documentation, \"Collections - Container dataypes,\" [Python](https://web.archive.org/web/20201022092017/https://docs.python.org/3/library/collections.html#module-collections), October 2008.\n",
    "] - this task can depend on any module from the standard library or otherwise - ``collections`` - should not be used - the idea here is to write code from scratch - putting some decent constraints on the input - reviewing module - collections - to get a feel for how it works [\n",
    "[...] I. McLoughlin, \"Tasks 2020 Fundamentals of Data Analysis,\" GMIT, October 2020.\n",
    "]"
   ]
  },
  {
   "cell_type": "code",
   "execution_count": 6,
   "metadata": {},
   "outputs": [],
   "source": [
    "# a_S_tandard_L_ibrary-imports\n",
    "# module collections - object Counter alias Cctr - instantiate\n"
   ]
  },
  {
   "cell_type": "code",
   "execution_count": 7,
   "metadata": {},
   "outputs": [
    {
     "data": {
      "text/plain": [
       "Counter({'A': 3, 'B': 1, 'C': 1})"
      ]
     },
     "execution_count": 7,
     "metadata": {},
     "output_type": "execute_result"
    }
   ],
   "source": [
    "# module collections - object Counter alias Cctr - instantiate\n",
    "Cctr(nArgList)"
   ]
  },
  {
   "cell_type": "markdown",
   "metadata": {},
   "source": [
    "###### Multiset Theory\n",
    "***"
   ]
  },
  {
   "cell_type": "markdown",
   "metadata": {},
   "source": [
    "- implementation based on - multiset theory - shortened to - mset - multiple-membership set - common accepted name replacing - bag - bunch - weighted set - occurrence set - heap - sample - fireset - modification of - set - collection of objects called elements in which the elements can occur many times - order is ignored - number of elements occurring in a multiset is called - multiplicity [\n",
    "[...] W. Blizard, \"Multiset theory,\" [Project euclid](https://web.archive.org/web/20201105163941/https://projecteuclid.org/euclid.ndjfl/1093634995), July 1987.\n",
    "]"
   ]
  },
  {
   "cell_type": "markdown",
   "metadata": {},
   "source": [
    "- multiplicity is explicitly significant - precise number of elements [\n",
    "[...] E. Weisstein, \"Multiset,\" [mathworld.wolfram](https://web.archive.org/web/20200319012240/https://mathworld.wolfram.com/Multiset.html), 2002.\n",
    "]"
   ]
  },
  {
   "cell_type": "markdown",
   "metadata": {},
   "source": [
    "$$\\{3,1,2\\}\\equiv\\{1,2,3\\}$$"
   ]
  },
  {
   "cell_type": "markdown",
   "metadata": {},
   "source": [
    "$$\\{3,3,1,2\\}\\ne\\{1,2,3\\}$$"
   ]
  },
  {
   "cell_type": "markdown",
   "metadata": {},
   "source": [
    "- the multiplicity of an element is defined as the number of times it occurs in the multiset - denoted by listing its elements separated by commas between curly braces - similiar to pythons unorderd data collection type - dictionary [\n",
    "[...] J. Nieminen, J. Khim, \"Multiset,\" [Brilliant](https://web.archive.org/web/20201105164908/https://brilliant.org/wiki/multiset), April 2018.\n",
    "]\n",
    "\n",
    "$$\\{a,a,b,c,a\\}$$\n",
    "\n",
    "- elements are listed with their multiplicities as colon-separated pairs [\n",
    "[...] J. Nieminen, J. Khim, \"Multiset,\" [Brilliant](https://web.archive.org/web/20201105164908/https://brilliant.org/wiki/multiset), April 2018.\n",
    "]\n",
    "\n",
    "$$\\{a:3,b:1,c:1\\}$$"
   ]
  },
  {
   "cell_type": "markdown",
   "metadata": {},
   "source": [
    "###### Algorithm - Research - Module collections Approach"
   ]
  },
  {
   "cell_type": "markdown",
   "metadata": {},
   "source": [
    "- source code - module - collections - Class - Counter - method - most_common [\n",
    "[...] Python, \"cpython/Lib/collections/__init__.py,\" [Github](https://web.archive.org/web/20201105151531/https://github.com/python/cpython/blob/master/Lib/collections/__init__.py), May 2020.\n",
    "] - algorithm used - programming language - Smalltalk - Bag.sortedByCount [\n",
    "[...] Smalltalk, \"smalltalk/kernel/Bag.st,\" [Github](https://web.archive.org/web/20201105154907/https://github.com/gnu-smalltalk/smalltalk/blob/master/kernel/Bag.st), January 2010.\n",
    "] - line - 568 [\n",
    "[...] Python, \"cpython/Lib/collections/__init__.py,\" [Github](https://web.archive.org/web/20201105151531/https://github.com/python/cpython/blob/master/Lib/collections/__init__.py), May 2020.\n",
    "]"
   ]
  },
  {
   "cell_type": "code",
   "execution_count": 8,
   "metadata": {},
   "outputs": [
    {
     "name": "stdout",
     "output_type": "stream",
     "text": [
      "   559\t    def most_common(self, n=None):\n",
      "   560\t        '''List the n most common elements and their counts from the most\n",
      "   561\t        common to the least.  If n is None, then list all element counts.\n",
      "   562\t\n",
      "   563\t        >>> Counter('abracadabra').most_common(3)\n",
      "   564\t        [('a', 5), ('b', 2), ('r', 2)]\n",
      "   565\t\n",
      "   566\t        '''\n",
      "   567\t        # Emulate Bag.sortedByCount from Smalltalk\n",
      "   568\t        if n is None:\n",
      "   569\t            return sorted(self.items(), key=_itemgetter(1), reverse=True)\n",
      "   570\t        return _heapq.nlargest(n, self.items(), key=_itemgetter(1))\n"
     ]
    }
   ],
   "source": [
    "%%script bash\n",
    "cat -n C:/Users/E6985/anaconda3/lib/collections/__init__.py | grep \"def most_common\" -A 11"
   ]
  },
  {
   "cell_type": "markdown",
   "metadata": {},
   "source": [
    "###### Algorithm - Research - Object-Oriented Approach\n",
    "***"
   ]
  },
  {
   "cell_type": "markdown",
   "metadata": {},
   "source": [
    "- keyword - class - indicates creation - in python all classes create objects - implicit default - ``class (object)`` - python 3 - ``(object)`` - not required [\n",
    "[...] D. Amos, \"Object-Oriented Programming (OOP) in Python 3,\" [Real Python](https://web.archive.org/web/20201107154103/https://realpython.com/python3-object-oriented-programming), July 2020.\n",
    "] - source code - Appendix A - object-oriented implementation of mulitset - bag - whereby - class - Counts - derives from object - dict [\n",
    "[...] E. Wiethoff, \"Bag Sum In Many Programming Languages,\" [wiki.c2](https://web.archive.org/web/20201107143701/https://wiki.c2.com/?BagSumInManyProgrammingLanguages), n.d.\n",
    "]\n",
    "\n",
    "```python\n",
    "# define class - Counts\n",
    "class Counts(dict):\n",
    "```"
   ]
  },
  {
   "cell_type": "markdown",
   "metadata": {},
   "source": [
    "- method - \\_\\_init\\_\\_ - initialise - specify - an objects initial attributes by giving them their default values - state - must have at least one argument - variable - self - refers to the object itself - Counts - the method - \\_\\_init\\_\\_ - called automatically when creating a new - Counts - instance [\n",
    "[...] D. Amos, \"Object-Oriented Programming (OOP) in Python 3,\" [Real Python](https://web.archive.org/web/20201107154103/https://realpython.com/python3-object-oriented-programming), July 2020.\n",
    "]\n",
    "\n",
    "```python\n",
    "# instance attributes - initialiser\n",
    "def __init__(self,nArgInput):\n",
    "```\n",
    "\n",
    "- loop through each element in the input list - method - performCount - called on each element [\n",
    "[...] No Reference.\n",
    "]\n",
    "\n",
    "```python\n",
    "    for nEachElement in nArgInput:\n",
    "        self.performCount(nEachElement)\n",
    "```"
   ]
  },
  {
   "cell_type": "markdown",
   "metadata": {},
   "source": [
    "- method - performCount - the object - self - set of elements from the input list - assigned the count of each occurrence of the list elements - keeping count - add one to each occurrence [\n",
    "[...] W3Schools, \"Python Dictionary get() Method,\" [w3schools](https://web.archive.org/web/20201107161412/https://www.w3schools.com/python/ref_dictionary_get.asp), August 2018.\n",
    "] \n",
    "\n",
    "```python\n",
    "# instance attributes - initialiser\n",
    "def performCount(self,nEachElement):\n",
    "    self[nEachElement]=self.get(nEachElement,0)+1\n",
    "```"
   ]
  },
  {
   "cell_type": "markdown",
   "metadata": {},
   "source": [
    "- method __dict__ - single line - list comprehension - compressing a list-building - for - loop into a single short readable line [\n",
    "[...] J. VanderPlas, \"Built-In Data Structures,\" A Whirlwind Tour of Python, p. 58, August 2016.\n",
    "] \n",
    "\n",
    "\n",
    "- each ``key`` - ``value`` - ìn the newly returned sorted set from the elements in the iterable - object - self - looping through the dictionary - the key plus corresponding value - retrieved at the same time using the method - items [\n",
    "[...] Python Documentation, \"5.6. Looping Techniques,\" [Python](https://web.archive.org/web/20201107162523/https://docs.python.org/3/tutorial/datastructures.html#looping-techniques), October 2008.\n",
    "]\n",
    "    \n",
    "```python\n",
    "def __dict__(self):\n",
    "    return [(nEachKey,nEachvalue) for (nEachKey,nEachvalue) in sorted(self.items())]\n",
    "```"
   ]
  },
  {
   "cell_type": "markdown",
   "metadata": {},
   "source": [
    "- reviewing the implementation from the module - collections - can see similarities - line - 569 [\n",
    "[...] Python, cpython/Lib/collections/__init__.py,\" [Github](https://web.archive.org/web/20201105151531/https://github.com/python/cpython/blob/master/Lib/collections/__init__.py), May 2020.\n",
    "]"
   ]
  },
  {
   "cell_type": "code",
   "execution_count": 9,
   "metadata": {},
   "outputs": [
    {
     "name": "stdout",
     "output_type": "stream",
     "text": [
      "   567\t        # Emulate Bag.sortedByCount from Smalltalk\n",
      "   568\t        if n is None:\n",
      "   569\t            return sorted(self.items(), key=_itemgetter(1), reverse=True)\n"
     ]
    }
   ],
   "source": [
    "%%script bash\n",
    "cat -n C:/Users/E6985/anaconda3/lib/collections/__init__.py | grep \"# Emulate Bag.sortedByCount from Smalltalk\" -A 2"
   ]
  },
  {
   "cell_type": "code",
   "execution_count": 10,
   "metadata": {},
   "outputs": [],
   "source": [
    "# define class - Counts\n",
    "class Counts(dict):\n",
    "    # instance attributes - initialiser\n",
    "    def __init__(self,nArgInput):\n",
    "        for nEachElement in nArgInput:\n",
    "            self.performCount(nEachElement)\n",
    "    # instance attributes - initialiser\n",
    "    def performCount(self,nEachElement):\n",
    "        self[nEachElement]=self.get(nEachElement,0)+1\n",
    "    # instance attributes - initialiser\n",
    "    def __dict__(self):\n",
    "        return [(nEachKey,nEachvalue) for (nEachKey,nEachvalue) in sorted(self.items())]"
   ]
  },
  {
   "cell_type": "code",
   "execution_count": 11,
   "metadata": {
    "scrolled": true
   },
   "outputs": [
    {
     "data": {
      "text/plain": [
       "{'A': 3, 'B': 1, 'C': 1}"
      ]
     },
     "execution_count": 11,
     "metadata": {},
     "output_type": "execute_result"
    }
   ],
   "source": [
    "# object Counts - instantiate\n",
    "Counts(nArgList)"
   ]
  },
  {
   "cell_type": "markdown",
   "metadata": {},
   "source": [
    "###### Algorithm - Research - Eliminate Duplicate Elements Approach\n",
    "***"
   ]
  },
  {
   "cell_type": "markdown",
   "metadata": {},
   "source": [
    "- source code - Appendix B - list comprehension -  implementation of mulitset - bag - uses a dictionary to get rid of duplicate elements in the list to be counted [\n",
    "[...] E. Wiethoff, \"Bag Sum In Many Programming Languages,\" [wiki.c2](https://web.archive.org/web/20201107143701/https://wiki.c2.com/?BagSumInManyProgrammingLanguages), n.d.\n",
    "]"
   ]
  },
  {
   "cell_type": "markdown",
   "metadata": {},
   "source": [
    "- list comprehension - for - loop - readable line [\n",
    "[...] J. VanderPlas, \"Built-In Data Structures,\" A Whirlwind Tour of Python, p. 58, August 2016.\n",
    "] - module - array - method - count - returns the number of occurrences of each element in the array [\n",
    "[...] Python Documentation, \"array — Efficient arrays of numeric values,\" [Python](https://web.archive.org/web/20201108173847/https://docs.python.org/3/library/array.html?highlight=count#array.array.count), October 2008.\n",
    "]"
   ]
  },
  {
   "cell_type": "code",
   "execution_count": 12,
   "metadata": {},
   "outputs": [
    {
     "data": {
      "text/plain": [
       "[('A', 3), ('A', 3), ('B', 1), ('C', 1), ('A', 3)]"
      ]
     },
     "execution_count": 12,
     "metadata": {},
     "output_type": "execute_result"
    }
   ],
   "source": [
    "[(nEachElement,nArgList.count(nEachElement)) for nEachElement in nArgList]"
   ]
  },
  {
   "cell_type": "markdown",
   "metadata": {},
   "source": [
    "- constructor - dict - create a new dictionary - if a key occurs more than once then the last value for that key becomes the corresponding value in the new dictionary - eliminating duplicate elements [\n",
    "[...] Python Documentation, \"Built-in Types,\" [Python](http://web.archive.org/web/20201108174452/https://docs.python.org/3/library/stdtypes.html#dict), October 2008.\n",
    "]"
   ]
  },
  {
   "cell_type": "code",
   "execution_count": 13,
   "metadata": {},
   "outputs": [
    {
     "data": {
      "text/plain": [
       "{'A': 3, 'B': 1, 'C': 1}"
      ]
     },
     "execution_count": 13,
     "metadata": {},
     "output_type": "execute_result"
    }
   ],
   "source": [
    "dict([(nEachElement,nArgList.count(nEachElement)) for nEachElement in nArgList])"
   ]
  },
  {
   "cell_type": "code",
   "execution_count": 14,
   "metadata": {},
   "outputs": [],
   "source": [
    "# define function - counts\n",
    "def counts(nParList):\n",
    "    return dict([(nEachElement,nArgList.count(nEachElement)) for nEachElement in nArgList])"
   ]
  },
  {
   "cell_type": "code",
   "execution_count": 15,
   "metadata": {},
   "outputs": [
    {
     "data": {
      "text/plain": [
       "{'A': 3, 'B': 1, 'C': 1}"
      ]
     },
     "execution_count": 15,
     "metadata": {},
     "output_type": "execute_result"
    }
   ],
   "source": [
    "# function counts - call\n",
    "counts(nArgList)"
   ]
  },
  {
   "cell_type": "markdown",
   "metadata": {},
   "source": [
    "###### Algorithm - Research - Sort and Tally Approach\n",
    "***"
   ]
  },
  {
   "cell_type": "markdown",
   "metadata": {},
   "source": [
    "- source code - Appendix C - no-frills implementation - little use of functions/methods - only method used - sorted - simple sort and tally algorithm [\n",
    "[...] Anonymous, \"Bag Sum In Many Programming Languages,\" [wiki.c2](https://web.archive.org/web/20201107143701/https://wiki.c2.com/?BagSumInManyProgrammingLanguages), n.d.\n",
    "]"
   ]
  },
  {
   "cell_type": "markdown",
   "metadata": {},
   "source": [
    "- implementation from the module - collections - line - 569 [\n",
    "[...] Python, cpython/Lib/collections/__init__.py,\" [Github](https://web.archive.org/web/20201105151531/https://github.com/python/cpython/blob/master/Lib/collections/__init__.py), May 2020.\n",
    "] - uses the function - sorted - as part of its approach - this returns a new sorted list from the items in the iterable [\n",
    "[...] Python Documentation, \"Built-in Functions,\" [Python](https://web.archive.org/web/20200512035500/https://docs.python.org/3/library/functions.html#sorted), October 2008.\n",
    "] "
   ]
  },
  {
   "cell_type": "code",
   "execution_count": 16,
   "metadata": {},
   "outputs": [
    {
     "name": "stdout",
     "output_type": "stream",
     "text": [
      "   567\t        # Emulate Bag.sortedByCount from Smalltalk\n",
      "   568\t        if n is None:\n",
      "   569\t            return sorted(self.items(), key=_itemgetter(1), reverse=True)\n"
     ]
    }
   ],
   "source": [
    "%%script bash\n",
    "cat -n C:/Users/E6985/anaconda3/lib/collections/__init__.py | grep \"# Emulate Bag.sortedByCount from Smalltalk\" -A 2"
   ]
  },
  {
   "cell_type": "code",
   "execution_count": 17,
   "metadata": {},
   "outputs": [
    {
     "data": {
      "text/plain": [
       "['A', 'A', 'B', 'C', 'A']"
      ]
     },
     "execution_count": 17,
     "metadata": {},
     "output_type": "execute_result"
    }
   ],
   "source": [
    "nArgList"
   ]
  },
  {
   "cell_type": "markdown",
   "metadata": {},
   "source": [
    "- method - sort - modifies the list in-place [\n",
    "[...] Python Documentation, \"Built-in Types,\" [Python](https://web.archive.org/web/20200502135931/https://docs.python.org/3/library/stdtypes.html#list.sort), October 2008.\n",
    "]"
   ]
  },
  {
   "cell_type": "code",
   "execution_count": 18,
   "metadata": {},
   "outputs": [
    {
     "data": {
      "text/plain": [
       "['A', 'A', 'A', 'B', 'C']"
      ]
     },
     "execution_count": 18,
     "metadata": {},
     "output_type": "execute_result"
    }
   ],
   "source": [
    "nArgList.sort()\n",
    "nArgList"
   ]
  },
  {
   "cell_type": "markdown",
   "metadata": {},
   "source": [
    "- initialise result - name - nDictionary - empty dictionary [\n",
    "[...] No Reference.\n",
    "]"
   ]
  },
  {
   "cell_type": "code",
   "execution_count": 19,
   "metadata": {},
   "outputs": [
    {
     "data": {
      "text/plain": [
       "{}"
      ]
     },
     "execution_count": 19,
     "metadata": {},
     "output_type": "execute_result"
    }
   ],
   "source": [
    "nDictionary={}\n",
    "nDictionary"
   ]
  },
  {
   "cell_type": "markdown",
   "metadata": {},
   "source": [
    "- initialise - name - nListItem - zeroth element in the input list - nArgList [\n",
    "[...] No Reference.\n",
    "]"
   ]
  },
  {
   "cell_type": "code",
   "execution_count": 20,
   "metadata": {},
   "outputs": [
    {
     "data": {
      "text/plain": [
       "'A'"
      ]
     },
     "execution_count": 20,
     "metadata": {},
     "output_type": "execute_result"
    }
   ],
   "source": [
    "nListItem=nArgList[0]\n",
    "nListItem"
   ]
  },
  {
   "cell_type": "markdown",
   "metadata": {},
   "source": [
    "- initialise - name - nListItemCount - to one given the zeroth element - first element - in the input list - nArgList - will start at count - ``1`` [\n",
    "[...] No Reference.\n",
    "]"
   ]
  },
  {
   "cell_type": "code",
   "execution_count": 21,
   "metadata": {},
   "outputs": [
    {
     "data": {
      "text/plain": [
       "1"
      ]
     },
     "execution_count": 21,
     "metadata": {},
     "output_type": "execute_result"
    }
   ],
   "source": [
    "nListItemCount=1\n",
    "nListItemCount"
   ]
  },
  {
   "cell_type": "markdown",
   "metadata": {},
   "source": [
    "- accessing elements in compound types - ``dict`` - done through indexing for single elements - slicing for multiple elements - both indicated by a square-bracket syntax [\n",
    "[...] J. VanderPlas, \"Built-In Data Structures,\" A Whirlwind Tour of Python, p. 32, August 2016.\n",
    "] using a for loop iterating through the input list - nArgList - starting at position index - ``1`` - given that we have already determined position index - ``0`` - is the letter - ``A`` - after the input list - nArgList - was sorted via the object - list - method - sort [\n",
    "[...] No Reference.\n",
    "]\n",
    "\n",
    "```python\n",
    "for nEachValue in nArgList[1:]:\n",
    "```\n",
    "\n",
    "- conditional - if - the element under investigation - name - nEachValue - is the same as element assigned to - name - nListItem - then add one to the - name - nListCount - said element now has a count - ``2`` - in addition start populating the result - dictionary - name - nDictionary - via indexing set the first - ``key`` - to its count - ``value`` - name - nListItemCount [\n",
    "[...] No Reference.\n",
    "]\n",
    "\n",
    "```python\n",
    "if nEachValue==nListItem:\n",
    "    nListItemcount+=1\n",
    "    nDictionary[nEachValue]=nListItemcount\n",
    "```\n",
    "\n",
    "- conditional - else - initialise - name - nListItem - to the - name - nEachValue - element under investigation from the input list - nArgList - initialise - name - nListItemCount - restarting the count - ``1`` - continue populating the resulting dictionary - name - nDictionary - via indexing set the current element under investigation - name - nEachValue - ``key`` - to its current count - ``value`` - name - nListItemCount [\n",
    "[...] No Reference.\n",
    "]\n",
    "\n",
    "```\n",
    "else:\n",
    "    nListItem,nListItemcount=nEachValue,1\n",
    "    nDictionary[nEachValue]=nListItemcount\n",
    "```\n",
    "\n",
    "- return result - nDictionary\n",
    "\n",
    "```python\n",
    "return nDictionary\n",
    "```"
   ]
  },
  {
   "cell_type": "code",
   "execution_count": 22,
   "metadata": {},
   "outputs": [],
   "source": [
    "nArgList=['A', 'A', 'B', 'C', 'A'] # reset list - sorted earlier \n",
    "# define function - counts\n",
    "def counts(nParList):\n",
    "    nArgList.sort()\n",
    "    nDictionary={}\n",
    "    nListItem,nListItemcount=nArgList[0],1\n",
    "    for nEachValue in nArgList[1:]:\n",
    "        if nEachValue==nListItem:\n",
    "            nListItemcount+=1\n",
    "            nDictionary[nEachValue]=nListItemcount\n",
    "        else:\n",
    "            nListItem,nListItemcount=nEachValue,1\n",
    "            nDictionary[nEachValue]=nListItemcount\n",
    "    return nDictionary"
   ]
  },
  {
   "cell_type": "code",
   "execution_count": 23,
   "metadata": {},
   "outputs": [
    {
     "data": {
      "text/plain": [
       "{'A': 3, 'B': 1, 'C': 1}"
      ]
     },
     "execution_count": 23,
     "metadata": {},
     "output_type": "execute_result"
    }
   ],
   "source": [
    "# function counts - call\n",
    "counts(nArgList)"
   ]
  },
  {
   "cell_type": "markdown",
   "metadata": {},
   "source": [
    "###### Input - Lists - Test Function counts\n",
    "***"
   ]
  },
  {
   "cell_type": "markdown",
   "metadata": {},
   "source": [
    "- list - data structure - standard mutable - changeable - multielement container [\n",
    "[...] Jake VanderPlas, \"A Python List Is More Than Just a List,\" Python Data Science Handbook, December 2016.\n",
    "]"
   ]
  },
  {
   "cell_type": "markdown",
   "metadata": {},
   "source": [
    "- list comprehension - class - type - returns object type - everything in python is an object [\n",
    "[...] Python Documentation, \"Built-in Functions,\" [Python](https://web.archive.org/web/20201109201230/https://docs.python.org/3/library/functions.html#type), October 2008.\n",
    "]"
   ]
  },
  {
   "cell_type": "markdown",
   "metadata": {},
   "source": [
    "- function - fSummary - for display purposes only - not form part of submission [\n",
    "[...] No Reference.\n",
    "]"
   ]
  },
  {
   "cell_type": "code",
   "execution_count": 24,
   "metadata": {},
   "outputs": [],
   "source": [
    "# define function - fSummary\n",
    "def fSummary(nParList):\n",
    "    print(\"<LIST>   {}\".format(nParList))\n",
    "    print(\"<LENGTH>  {}\".format(len(nParList)))\n",
    "    print(\"<TYPES>  \")\n",
    "    return [type(nEachElement) for nEachElement in nParList]"
   ]
  },
  {
   "cell_type": "markdown",
   "metadata": {},
   "source": [
    "- using most commonly used iterator in python - range - generate a sequence of numbers - ``0`` - ``1`` - by convention the top of the object range is not included in the output - append numbers - ``2`` - ``3`` - ``2`` - list has five elements - four distinct - all of type - ``int`` [\n",
    "[...] J. VanderPlas, \"Built-In Data Structures,\" A Whirlwind Tour of Python, p. 39, August 2016.\n",
    "]"
   ]
  },
  {
   "cell_type": "code",
   "execution_count": 25,
   "metadata": {
    "scrolled": true
   },
   "outputs": [
    {
     "name": "stdout",
     "output_type": "stream",
     "text": [
      "<LIST>   [0, 1, 2, 3, 2]\n",
      "<LENGTH>  5\n",
      "<TYPES>  \n"
     ]
    },
    {
     "data": {
      "text/plain": [
       "[int, int, int, int, int]"
      ]
     },
     "execution_count": 25,
     "metadata": {},
     "output_type": "execute_result"
    }
   ],
   "source": [
    "nArgList=list(range(2))\n",
    "nArgList.append(2)\n",
    "nArgList.append(3)\n",
    "nArgList.append(2)\n",
    "# call function - fSummary\n",
    "fSummary(nArgList)"
   ]
  },
  {
   "cell_type": "code",
   "execution_count": 26,
   "metadata": {},
   "outputs": [
    {
     "data": {
      "text/plain": [
       "{1: 1, 2: 2, 3: 1}"
      ]
     },
     "execution_count": 26,
     "metadata": {},
     "output_type": "execute_result"
    }
   ],
   "source": [
    "# function counts - call\n",
    "counts(nArgList)"
   ]
  },
  {
   "cell_type": "markdown",
   "metadata": {},
   "source": [
    "&#x2623; **key:value - pairs - ``4`` - pair associated with zero - ``0`` - no count completed** &#x2623;"
   ]
  },
  {
   "cell_type": "code",
   "execution_count": 27,
   "metadata": {},
   "outputs": [
    {
     "name": "stdout",
     "output_type": "stream",
     "text": [
      "<LIST>   {1: 1, 2: 2, 3: 1}\n",
      "<LENGTH>  3\n",
      "<TYPES>  \n"
     ]
    },
    {
     "data": {
      "text/plain": [
       "[int, int, int]"
      ]
     },
     "execution_count": 27,
     "metadata": {},
     "output_type": "execute_result"
    }
   ],
   "source": [
    "# call function - fSummary\n",
    "fSummary(counts(nArgList))"
   ]
  },
  {
   "cell_type": "markdown",
   "metadata": {},
   "source": [
    "- list comprehension - cast all elements in existing list - nArgList - to strings [\n",
    "[...] No Reference.\n",
    "]"
   ]
  },
  {
   "cell_type": "code",
   "execution_count": 28,
   "metadata": {},
   "outputs": [
    {
     "name": "stdout",
     "output_type": "stream",
     "text": [
      "<LIST>   ['0', '1', '2', '2', '3']\n",
      "<LENGTH>  5\n",
      "<TYPES>  \n"
     ]
    },
    {
     "data": {
      "text/plain": [
       "[str, str, str, str, str]"
      ]
     },
     "execution_count": 28,
     "metadata": {},
     "output_type": "execute_result"
    }
   ],
   "source": [
    "nArgList=[str(nEachElement) for nEachElement in nArgList]\n",
    "# call function - fSummary\n",
    "fSummary(nArgList)"
   ]
  },
  {
   "cell_type": "markdown",
   "metadata": {},
   "source": [
    "&#x2623; **key:value pairs - ``4`` - pair associated with string zero - ``\"0\"`` - no count completed** &#x2623; "
   ]
  },
  {
   "cell_type": "code",
   "execution_count": 29,
   "metadata": {},
   "outputs": [
    {
     "name": "stdout",
     "output_type": "stream",
     "text": [
      "<LIST>   {'1': 1, '2': 2, '3': 1}\n",
      "<LENGTH>  3\n",
      "<TYPES>  \n"
     ]
    },
    {
     "data": {
      "text/plain": [
       "[str, str, str]"
      ]
     },
     "execution_count": 29,
     "metadata": {},
     "output_type": "execute_result"
    }
   ],
   "source": [
    "# call function - fSummary\n",
    "fSummary(counts(nArgList))"
   ]
  },
  {
   "cell_type": "markdown",
   "metadata": {},
   "source": [
    "- list comprehension - cast all elements in existing list - nArgList - to floats [\n",
    "[...] No Reference.\n",
    "]"
   ]
  },
  {
   "cell_type": "code",
   "execution_count": 30,
   "metadata": {},
   "outputs": [
    {
     "name": "stdout",
     "output_type": "stream",
     "text": [
      "<LIST>   [0.0, 1.0, 2.0, 2.0, 3.0]\n",
      "<LENGTH>  5\n",
      "<TYPES>  \n"
     ]
    },
    {
     "data": {
      "text/plain": [
       "[float, float, float, float, float]"
      ]
     },
     "execution_count": 30,
     "metadata": {},
     "output_type": "execute_result"
    }
   ],
   "source": [
    "nArgList=[float(nEachElement) for nEachElement in nArgList]\n",
    "# call function - fSummary\n",
    "fSummary(nArgList)"
   ]
  },
  {
   "cell_type": "code",
   "execution_count": 31,
   "metadata": {},
   "outputs": [
    {
     "data": {
      "text/plain": [
       "{1.0: 1, 2.0: 2, 3.0: 1}"
      ]
     },
     "execution_count": 31,
     "metadata": {},
     "output_type": "execute_result"
    }
   ],
   "source": [
    "# function counts - call\n",
    "counts(nArgList)"
   ]
  },
  {
   "cell_type": "markdown",
   "metadata": {},
   "source": [
    "&#x2623; **key:value pairs - ``4`` - pair associated with zero - ``0.0`` - no count completed** &#x2623; "
   ]
  },
  {
   "cell_type": "code",
   "execution_count": 32,
   "metadata": {},
   "outputs": [
    {
     "name": "stdout",
     "output_type": "stream",
     "text": [
      "<LIST>   {1.0: 1, 2.0: 2, 3.0: 1}\n",
      "<LENGTH>  3\n",
      "<TYPES>  \n"
     ]
    },
    {
     "data": {
      "text/plain": [
       "[float, float, float]"
      ]
     },
     "execution_count": 32,
     "metadata": {},
     "output_type": "execute_result"
    }
   ],
   "source": [
    "# call function - fSummary\n",
    "fSummary(counts(nArgList))"
   ]
  },
  {
   "cell_type": "markdown",
   "metadata": {},
   "source": [
    "- creating heterogeneous lists - diverse content - data types - floats - appending single integer [\n",
    "[...] Jake VanderPlas, \"A Python List Is More Than Just a List,\" Python Data Science Handbook, December 2016.\n",
    "]"
   ]
  },
  {
   "cell_type": "code",
   "execution_count": 33,
   "metadata": {},
   "outputs": [
    {
     "name": "stdout",
     "output_type": "stream",
     "text": [
      "<LIST>   [0.0, 1.0, 2.0, 2.0, 3.0, 1]\n",
      "<LENGTH>  6\n",
      "<TYPES>  \n"
     ]
    },
    {
     "data": {
      "text/plain": [
       "[float, float, float, float, float, int]"
      ]
     },
     "execution_count": 33,
     "metadata": {},
     "output_type": "execute_result"
    }
   ],
   "source": [
    "nArgList.append(1)\n",
    "# call function - fSummary\n",
    "fSummary(nArgList)"
   ]
  },
  {
   "cell_type": "code",
   "execution_count": 34,
   "metadata": {},
   "outputs": [
    {
     "data": {
      "text/plain": [
       "{1.0: 2, 2.0: 2, 3.0: 1}"
      ]
     },
     "execution_count": 34,
     "metadata": {},
     "output_type": "execute_result"
    }
   ],
   "source": [
    "# function counts - call\n",
    "counts(nArgList)"
   ]
  },
  {
   "cell_type": "markdown",
   "metadata": {},
   "source": [
    "&#x2623; **key:value pairs - ``5`` - pair associated with zero - ``0.0`` - no count completed** &#x2623; "
   ]
  },
  {
   "cell_type": "markdown",
   "metadata": {},
   "source": [
    "&#x2623; **append - integer ``1`` - output captured under float - ``1.0`` - could argue it works albeit should output pair - key:value - for the single integer - ``1`` - as - ``1:1``** &#x2623; [\n",
    "[...] No Reference.\n",
    "]"
   ]
  },
  {
   "cell_type": "code",
   "execution_count": 35,
   "metadata": {},
   "outputs": [
    {
     "name": "stdout",
     "output_type": "stream",
     "text": [
      "<LIST>   {1.0: 2, 2.0: 2, 3.0: 1}\n",
      "<LENGTH>  3\n",
      "<TYPES>  \n"
     ]
    },
    {
     "data": {
      "text/plain": [
       "[float, float, float]"
      ]
     },
     "execution_count": 35,
     "metadata": {},
     "output_type": "execute_result"
    }
   ],
   "source": [
    "# call function - fSummary\n",
    "fSummary(counts(nArgList))"
   ]
  },
  {
   "cell_type": "markdown",
   "metadata": {},
   "source": [
    "## END"
   ]
  },
  {
   "cell_type": "markdown",
   "metadata": {},
   "source": [
    "< [Instructions](#top) | [README](https://github.com/E6985/fda-tasks/blob/main/README.md) | [Task 1](#task-1) | [Task 3](#task-3) | [Task 4](#task-4) | [References](#references) >\n",
    "<a id=\"task-2\"></a>\n",
    "***\n",
    "## Task 2\n",
    "### Python function - diceroll.\n",
    "***"
   ]
  },
  {
   "cell_type": "markdown",
   "metadata": {},
   "source": [
    "< [Instructions](#top) | [README](https://github.com/E6985/fda-tasks/blob/main/README.md) | [Introduction](#task-2-introduction) | [Solution](#task-2-solution) | [Conclusion](#task-2-conclusion) >\n",
    "<a id=\"task-2-abstract\"></a>\n",
    "### Abstract\n",
    "***"
   ]
  },
  {
   "cell_type": "markdown",
   "metadata": {},
   "source": [
    "- ``\"die\"`` - plural ``\"dice\"`` - simulation involves rolling a specific number of standard (fair) six sided dice - each face labelled either ``1`` or ``2`` or ``3`` or ``4`` or ``5`` or ``6`` only [[...] I. McLoughlin, \"Task 2 Rolling dice,\" GMIT, November 2020.]"
   ]
  },
  {
   "cell_type": "markdown",
   "metadata": {},
   "source": [
    "- rolling two dice once scenario - maybe one die face comes up ``2`` - maybe the other die face comes up ``4`` - capturing total face value ``6`` - variable of interest in this simulation is the total face value six [[...] I. McLoughlin, \"Task 2 Rolling dice,\" GMIT, November 2020.]"
   ]
  },
  {
   "cell_type": "markdown",
   "metadata": {},
   "source": [
    "![GMIT](https://github.com/E6985/L8733/blob/master/src/hdp/fda/img/fda-tasks/roll-two-dice.png?raw=true)\n",
    "\n",
    "***(Image) S. Mundhra, \"Permutations and Combinations,\" [quora](https://web.archive.org/web/20201206182221/https://qph.fs.quoracdn.net/main-qimg-5233f3bf47c34b0917731faec813be5d), June 2020.***"
   ]
  },
  {
   "cell_type": "markdown",
   "metadata": {},
   "source": [
    "< [Instructions](#top) | [README](https://github.com/E6985/fda-tasks/blob/main/README.md) | [Abstract](#task-2-abstract) | [Solution](#task-2-solution) | [Conclusion](#task-2-conclusion) >\n",
    "<a id=\"task-2-introduction\"></a>\n",
    "### Introduction\n",
    "***"
   ]
  },
  {
   "cell_type": "markdown",
   "metadata": {},
   "source": [
    "- can use any python module from the python standard library or modules that are not in the standard library albeit the simulation does not need the use of a third party package [[...] I. McLoughlin, \"Task 2 Rolling dice,\" GMIT, November 2020.]"
   ]
  },
  {
   "cell_type": "markdown",
   "metadata": {},
   "source": [
    "- implementation to use the third party package ``numpy`` - subpackage ``random`` - given that the underlying random generator - mathematical formulae/algorithm - used in the python standard library is the Mersenne Twister generator [[...] Anaconda (random), \"python,\" Docstring, June 2020.]"
   ]
  },
  {
   "cell_type": "code",
   "execution_count": 36,
   "metadata": {},
   "outputs": [],
   "source": [
    "# a_S_tandard_L_ibrary-imports\n",
    "import random"
   ]
  },
  {
   "cell_type": "code",
   "execution_count": 37,
   "metadata": {},
   "outputs": [
    {
     "name": "stdout",
     "output_type": "stream",
     "text": [
      "General notes on the underlying Mersenne Twister core generator:\n",
      "\n",
      "* The period is 2**19937-1.\n",
      "* It is one of the most extensively tested generators in existence.\n",
      "* The random() method is implemented in C, executes in a single Python step,\n",
      "  and is, therefore, threadsafe.\n"
     ]
    }
   ],
   "source": [
    "# module random - attribute __doc__ - access\n",
    "print(\"\\n\".join(random.__doc__.split(\"\\n\")[30:36]))"
   ]
  },
  {
   "cell_type": "markdown",
   "metadata": {},
   "source": [
    "- in early 2020 ``numpy version 1.19`` changed the underlying random generator - mathematical formulae/algorithm - for generating random numbers from the Mersenne Twister ``MT19937`` to O'Neill's Permutation Congruential Generator ``PCG64`` [[...] NumPy, \"Changes in v1.19,\" [github](https://web.archive.org/web/20201121105209/https://github.com/bashtage/randomgen), v1.19.][[...] Anaconda (default_rng), \"numpy.random.Generator,\" Docstring, June 2020.]"
   ]
  },
  {
   "cell_type": "markdown",
   "metadata": {},
   "source": [
    "- justication for using ``numpy.random.Generator``: i) uses a better generator than the python library [[...]  Anaconda (default_rng), \"numpy.random.Generator,\" Docstring, June 2020.] - ii) best practice to use modern algorithms [[...] No Reference.]"
   ]
  },
  {
   "cell_type": "code",
   "execution_count": 38,
   "metadata": {},
   "outputs": [],
   "source": [
    "# b_T_hird_P_arty-imports\n",
    "from numpy.random import default_rng as newGenBitGenPCG64"
   ]
  },
  {
   "cell_type": "code",
   "execution_count": 39,
   "metadata": {},
   "outputs": [
    {
     "name": "stdout",
     "output_type": "stream",
     "text": [
      "    Notes\n",
      "    -----\n",
      "    The Python stdlib module `random` contains pseudo-random number generator\n",
      "    with a number of methods that are similar to the ones available in\n",
      "    ``Generator``. It uses Mersenne Twister, and this bit generator can\n",
      "    be accessed using ``MT19937``. ``Generator``, besides being\n",
      "    NumPy-aware, has the advantage that it provides a much larger number\n",
      "    of probability distributions to choose from.\n"
     ]
    }
   ],
   "source": [
    "# package numpy - subpackage random - object Generator - method default_rng alias newGenBitGenPCG64 - instantiate\n",
    "print(\"\\n\".join(newGenBitGenPCG64().__doc__.split(\"\\n\")[26:34])) # attribute __doc__ - access"
   ]
  },
  {
   "cell_type": "markdown",
   "metadata": {},
   "source": [
    "- function ``diceroll`` takes two parameters - i) number of dice ``k`` - ii) number of times to roll the dice ``n`` [[...] I. McLoughlin, \"Task 2 Rolling dice,\" GMIT, November 2020.]\n",
    "\n",
    "```python\n",
    "k=2\n",
    "n=1000\n",
    "```"
   ]
  },
  {
   "cell_type": "markdown",
   "metadata": {},
   "source": [
    "- simulation should roll two dice one-thousand times - randomly rolling ``k`` dice ``n`` times and keeping track of each total face value [[...] I. McLoughlin, \"Task 2 Rolling dice,\" GMIT, November 2020.]\n",
    "\n",
    "```python\n",
    "dicerolls(k=2,n=1000)\n",
    "```"
   ]
  },
  {
   "cell_type": "markdown",
   "metadata": {},
   "source": [
    "- function should return a dictionary - ``key:value`` pairs - ``key`` listed ``2`` - ``value`` listed ``19`` - of the one-thousand times the two dice was rolled there is only one way to get ``2`` - that is when two dice face values are both ``1`` and ``1`` - no other possible way - can know immediately that two dices showed up [[...] I. McLoughlin, \"Task 2 Rolling dice,\" GMIT, November 2020.]\n",
    "\n",
    "``{2:19,3:50,4:82,5:112,6:135,7:174,8:133,9:114,10:75,11:70,12:36}``"
   ]
  },
  {
   "cell_type": "markdown",
   "metadata": {},
   "source": [
    "- keep in mind - obviously repeated calls to the function ``diceroll`` should return slightly different results [[...] I. McLoughlin, \"Task 2 Rolling dice,\" GMIT, November 2020.]"
   ]
  },
  {
   "cell_type": "markdown",
   "metadata": {},
   "source": [
    "< [Instructions](#top) | [README](https://github.com/E6985/fda-tasks/blob/main/README.md) | [Abstract](#task-2-abstract) | [Introduction](#task-2-introduction) | [Conclusion](#task-2-conclusion) >\n",
    "<a id=\"task-2-solution\"></a>\n",
    "### Solution\n",
    "***"
   ]
  },
  {
   "cell_type": "markdown",
   "metadata": {},
   "source": [
    "###### Roll Die\n",
    "***"
   ]
  },
  {
   "cell_type": "markdown",
   "metadata": {},
   "source": [
    "- rolling single die - chance of getting a total face value** of either ``1`` or ``2`` or ``3`` or ``4`` or ``5`` or ``6`` is trival in that any of the six possible ``face`` could show - no roll will result in duplicates [[...] M. Haahr, \"Frequently Asked Questions (FAQ),\" [random](https://web.archive.org/web/20201115135742/https://www.random.org/faq/#Q2.8), n.d.][[...] L. Johnson, \"How to Calculate Dice Probabilities,\" [sciencing](https://web.archive.org/web/20201209072118/https://sciencing.com/calculate-dice-probabilities-5858157.html), October 2020.] \n",
    "\n",
    "$$p=\\frac{1}{6}$$\n",
    "\n",
    "> ** ``face value`` - referred as ``\"face\"`` throughout remainder of this notebook"
   ]
  },
  {
   "cell_type": "code",
   "execution_count": 40,
   "metadata": {},
   "outputs": [],
   "source": [
    "k=1 # physical die"
   ]
  },
  {
   "cell_type": "code",
   "execution_count": 41,
   "metadata": {},
   "outputs": [],
   "source": [
    "n=1 # roll die"
   ]
  },
  {
   "cell_type": "markdown",
   "metadata": {},
   "source": [
    "![die](https://github.com/E6985/L8733/blob/master/src/hdp/fda/img/fda-tasks/roll-one-dice.png?raw=true)\n",
    "\n",
    "***(Image) Arithmomania, \"Count For a Bevel Dice,\" [arithmomania](https://web.archive.org/web/20201206182423/http://arithmomania.lucasdima.com/2018/05/11/introduction-1), May 2018.***"
   ]
  },
  {
   "cell_type": "code",
   "execution_count": 42,
   "metadata": {},
   "outputs": [],
   "source": [
    "s=6 # 6-sided die"
   ]
  },
  {
   "cell_type": "markdown",
   "metadata": {},
   "source": [
    "![die-face-values](https://github.com/E6985/L8733/blob/master/src/hdp/fda/img/fda-tasks/dice-six-side.png?raw=true)\n",
    "\n",
    "***(Image) A. Zhuravlev, \" Illustration - Set of Dice line icon on white background. Six dice illustration.,\" [123rf](http://web.archive.org/web/20201208114150/https://www.123rf.com/photo_124866390_stock-illustration-set-of-dice-line-icon-on-white-background-six-dice-illustration-.html), n.d.***"
   ]
  },
  {
   "cell_type": "markdown",
   "metadata": {},
   "source": [
    "- creating ``nDie`` array using standard library function ``range`` - sequence of integers - interval - $[k,s)$ [[...] Anaconda (range), \"python,\" Docstring, June 2020.]"
   ]
  },
  {
   "cell_type": "code",
   "execution_count": 43,
   "metadata": {},
   "outputs": [
    {
     "data": {
      "text/plain": [
       "range"
      ]
     },
     "execution_count": 43,
     "metadata": {},
     "output_type": "execute_result"
    }
   ],
   "source": [
    "# package numpy\n",
    "nDie=range(k,s+1)\n",
    "type(nDie)"
   ]
  },
  {
   "cell_type": "code",
   "execution_count": 44,
   "metadata": {},
   "outputs": [
    {
     "data": {
      "text/plain": [
       "list"
      ]
     },
     "execution_count": 44,
     "metadata": {},
     "output_type": "execute_result"
    }
   ],
   "source": [
    "nDie=list(nDie)\n",
    "type(nDie)"
   ]
  },
  {
   "cell_type": "code",
   "execution_count": 45,
   "metadata": {},
   "outputs": [
    {
     "data": {
      "text/plain": [
       "[1, 2, 3, 4, 5, 6]"
      ]
     },
     "execution_count": 45,
     "metadata": {},
     "output_type": "execute_result"
    }
   ],
   "source": [
    "nDie"
   ]
  },
  {
   "cell_type": "markdown",
   "metadata": {},
   "source": [
    "- probability rule is to look at the number of ``possible`` outcomes in comparison to ``face`` outcomes - for any roll of a die there are six possible outcomes - ``s`` [[...] L. Johnson, \"How to Calculate Dice Probabilities,\" [sciencing](https://web.archive.org/web/20201209072118/https://sciencing.com/calculate-dice-probabilities-5858157.html), October 2020.]\n",
    "\n",
    "$$P=\\frac{face}{possible}$$"
   ]
  },
  {
   "cell_type": "markdown",
   "metadata": {},
   "source": [
    "- odds of rolling a face of either ``1`` or ``2`` or ``3`` or ``4`` or ``5`` or ``6`` - probabilities are given as numbers between ``0`` meaning no chance and ``1`` meaning with certainty [[...] L. Johnson, \"How to Calculate Dice Probabilities,\" [sciencing](https://web.archive.org/web/20201209072118/https://sciencing.com/calculate-dice-probabilities-5858157.html), October 2020.]\n",
    "\n",
    "$$P=\\frac{1}{6}=\\frac{1}{s}=0.167$$"
   ]
  },
  {
   "cell_type": "markdown",
   "metadata": {},
   "source": [
    "- normal to assume ``face`` has ``~16.7%`` chance [[...] I. McLoughlin, \"Coin flipping in Python,\" GMIT, September 2019.] - interval - $[0,1]$ - greater than or equal to 0 and less than or equal to 1 [[...] Wikipedia, \"Interval (mathematics),\" [wikipedia](http://web.archive.org/web/20200925042254/https://en.wikipedia.org/wiki/Interval_%28mathematics%29), reference] n.d.]"
   ]
  },
  {
   "cell_type": "code",
   "execution_count": 46,
   "metadata": {},
   "outputs": [
    {
     "name": "stdout",
     "output_type": "stream",
     "text": [
      "[0.16666666666666666, 0.16666666666666666, 0.16666666666666666, 0.16666666666666666, 0.16666666666666666, 0.16666666666666666]\n"
     ]
    }
   ],
   "source": [
    "# uniform distribution\n",
    "if k==1: # die\n",
    "    nUniform=(k/s) # 0.16666666666666666\n",
    "    nProbability=[nUniform]*s # [0.16666666666666666]*6\n",
    "    # k = 1 ... [1, 2, 3, 4, 5, 6] ... len 6\n",
    "print(nProbability)"
   ]
  },
  {
   "cell_type": "markdown",
   "metadata": {},
   "source": [
    "- in a given scenario if wondering what the value of something is going to come out at then all of the possible values should sum up to ``1`` - for instance when rolling a six-sided die six times knowing the probability of getting one of six possible ``face`` of either ``1`` or ``2`` or ``3`` or ``4`` or ``5`` or ``6`` has a probability of ``0.167`` then the six probabilities must add up to ``1`` [[...] I. McLoughlin, \"Coin flipping in Python,\" GMIT, September 2019.]"
   ]
  },
  {
   "cell_type": "code",
   "execution_count": 47,
   "metadata": {},
   "outputs": [
    {
     "name": "stdout",
     "output_type": "stream",
     "text": [
      "<sum>          : 1 \n"
     ]
    }
   ],
   "source": [
    "print(\"<sum>          : {:.0f} \".format((sum(nProbability))))"
   ]
  },
  {
   "cell_type": "markdown",
   "metadata": {},
   "source": [
    "- method ``numpy.random.Generator.choice`` generates a random selection from a given 1-dimenional array [[...] Anaconda (choice), \"numpy.random.Generator,\" Docstring, June 2020.]"
   ]
  },
  {
   "cell_type": "markdown",
   "metadata": {},
   "source": [
    "- parameter ``a`` - 1-dimenional array - ``nDie`` [[...] Anaconda (choice), \"numpy.random.Generator,\" Docstring, June 2020.]"
   ]
  },
  {
   "cell_type": "markdown",
   "metadata": {},
   "source": [
    "- parameter ``p`` - probabilities associated with each ``nDie`` array element - ``nProbability`` [[...] Anaconda (choice), \"numpy.random.Generator,\" Docstring, June 2020.]"
   ]
  },
  {
   "cell_type": "code",
   "execution_count": 48,
   "metadata": {
    "scrolled": true
   },
   "outputs": [
    {
     "name": "stdout",
     "output_type": "stream",
     "text": [
      "<face>         : 4\n"
     ]
    }
   ],
   "source": [
    "# package numpy - subpackage random - object Generator - method default_rng alias newGenBitGenPCG64 - instantiate\n",
    "print(\"<face>         : {}\".format(newGenBitGenPCG64().choice(a=nDie,p=nProbability))) # method choice - call"
   ]
  },
  {
   "cell_type": "code",
   "execution_count": 49,
   "metadata": {},
   "outputs": [],
   "source": [
    "# b_T_hird_P_arty-imports\n",
    "import matplotlib.pyplot as plt"
   ]
  },
  {
   "cell_type": "markdown",
   "metadata": {},
   "source": [
    "- dark reader - unable to determine ticks [[...] CptanPanic, \"How to handle labels when using dark theme with jupyterlabs?,\" [github](https://web.archive.org/web/20201027100553/https://github.com/matplotlib/ipympl/issues/25), October 2017.]"
   ]
  },
  {
   "cell_type": "code",
   "execution_count": 50,
   "metadata": {},
   "outputs": [],
   "source": [
    "# b_T_hird_P_arty-imports\n",
    "from matplotlib.style.core import use\n",
    "# package matplotlib - subpackage style - module core\n",
    "use({\"default\"})"
   ]
  },
  {
   "cell_type": "markdown",
   "metadata": {},
   "source": [
    "- profile of the probabilities of rolling one die shows each bin having every value which reveals a discrete uniform distribution [[...] No Reference.]"
   ]
  },
  {
   "cell_type": "code",
   "execution_count": 51,
   "metadata": {},
   "outputs": [
    {
     "data": {
      "image/png": "[encoded data removed]",
      "text/plain": [
       "<Figure size 640x480 with 1 Axes>"
      ]
     },
     "metadata": {},
     "output_type": "display_data"
    }
   ],
   "source": [
    "# package matplotlib - module pyplot\n",
    "plt.bar(nDie,nProbability);\n",
    "plt.xlabel(\"die\");"
   ]
  },
  {
   "cell_type": "markdown",
   "metadata": {},
   "source": [
    "###### Roll Dice\n",
    "***"
   ]
  },
  {
   "cell_type": "markdown",
   "metadata": {},
   "source": [
    "- determine possible ``face`` - ``numpy.random.Generator.choice`` - parameter ``a`` [[No Reference.]"
   ]
  },
  {
   "cell_type": "markdown",
   "metadata": {},
   "source": [
    "- determine probability of each ``face`` - ``numpy.random.Generator.choice`` - parameter ``p`` [[No Reference.]"
   ]
  },
  {
   "cell_type": "code",
   "execution_count": 52,
   "metadata": {},
   "outputs": [],
   "source": [
    "k=2 # physical dice"
   ]
  },
  {
   "cell_type": "markdown",
   "metadata": {},
   "source": [
    "###### ``numpy.random.Generator.choice`` - parameter ``a``\n",
    "***"
   ]
  },
  {
   "cell_type": "markdown",
   "metadata": {},
   "source": [
    "- ``k`` dice has a ``face`` with half closed interval [[...] Wolfram, \"Half-Closed Interval,\" [mathworld.wolfram](https://web.archive.org/web/20201106190646/https://mathworld.wolfram.com/Half-ClosedInterval.html), Ootober 2020.]\n",
    "\n",
    "$$(k,(s*k)]$$"
   ]
  },
  {
   "cell_type": "markdown",
   "metadata": {},
   "source": [
    "- with two dice the possibility of getting a ``face`` of one is eliminated - array ``a`` [[...] No Reference.]\n",
    "\n",
    "$$(1,12]$$"
   ]
  },
  {
   "cell_type": "code",
   "execution_count": 53,
   "metadata": {},
   "outputs": [
    {
     "name": "stdout",
     "output_type": "stream",
     "text": [
      "<length>       : 11\n",
      "[2, 3, 4, 5, 6, 7, 8, 9, 10, 11, 12]\n"
     ]
    }
   ],
   "source": [
    "a=list((range(k,s*k+1)))\n",
    "print(\"<length>       : %d\"%len(a))\n",
    "print(a)"
   ]
  },
  {
   "cell_type": "markdown",
   "metadata": {},
   "source": [
    "###### ``numpy.random.Generator.choice`` - parameter ``p``\n",
    "***"
   ]
  },
  {
   "cell_type": "markdown",
   "metadata": {},
   "source": [
    "- determine probability parameter ``p`` based on possible ``face`` rolling ``k`` dice ``n`` times [[...] No Reference.]"
   ]
  },
  {
   "cell_type": "markdown",
   "metadata": {},
   "source": [
    "- **Step:1** - assume ``n=1`` creating sorted integer array ``nMasterDie`` [[...] No Reference.]"
   ]
  },
  {
   "cell_type": "code",
   "execution_count": 54,
   "metadata": {},
   "outputs": [
    {
     "name": "stdout",
     "output_type": "stream",
     "text": [
      "<length>       : 12\n",
      "[1, 2, 3, 4, 5, 6, 7, 8, 9, 10, 11, 12]\n"
     ]
    }
   ],
   "source": [
    "nMasterDie=list((range(1,s*k+1)))\n",
    "print(\"<length>       : %d\"%len(nMasterDie))\n",
    "print(nMasterDie)"
   ]
  },
  {
   "cell_type": "markdown",
   "metadata": {},
   "source": [
    "- **Step:2** - rearrange ``face`` such that array ``nMasterDie`` is split 50:50 in ascending and descending order [[...] No Reference.]"
   ]
  },
  {
   "cell_type": "code",
   "execution_count": 55,
   "metadata": {},
   "outputs": [
    {
     "name": "stdout",
     "output_type": "stream",
     "text": [
      "<length>       : 11\n",
      "[1, 2, 3, 4, 5, 6, 5, 4, 3, 2, 1]\n"
     ]
    }
   ],
   "source": [
    "nSplitMaster=nMasterDie[:int(len(nMasterDie)/2)]\n",
    "nDie=nSplitMaster+nSplitMaster[len(nSplitMaster)-k::-1]\n",
    "print(\"<length>       : %d\"%len(nDie))\n",
    "print(nDie)"
   ]
  },
  {
   "cell_type": "markdown",
   "metadata": {},
   "source": [
    "- **Step:3** - for each element in array ``nDie`` divide by its sum of elements [[...] No Reference.]"
   ]
  },
  {
   "cell_type": "code",
   "execution_count": 56,
   "metadata": {},
   "outputs": [
    {
     "name": "stdout",
     "output_type": "stream",
     "text": [
      "<length>       : 11\n",
      "[0.027777777777777776, 0.05555555555555555, 0.08333333333333333, 0.1111111111111111, 0.1388888888888889, 0.16666666666666666, 0.1388888888888889, 0.1111111111111111, 0.08333333333333333, 0.05555555555555555, 0.027777777777777776]\n"
     ]
    }
   ],
   "source": [
    "p=[float(i)/sum(nDie) for i in nDie]\n",
    "print(\"<length>       : %d\"%len(p))\n",
    "print(p)"
   ]
  },
  {
   "cell_type": "markdown",
   "metadata": {},
   "source": [
    "- profile of the probabilities of rolling ``k`` dice [[...] No Reference.]"
   ]
  },
  {
   "cell_type": "code",
   "execution_count": 57,
   "metadata": {},
   "outputs": [
    {
     "data": {
      "image/png": "[encoded data removed]",
      "text/plain": [
       "<Figure size 640x480 with 1 Axes>"
      ]
     },
     "metadata": {},
     "output_type": "display_data"
    }
   ],
   "source": [
    "# package matplotlib - module pyplot\n",
    "plt.bar(a,p);\n",
    "plt.xlabel(\"two dice\");"
   ]
  },
  {
   "cell_type": "markdown",
   "metadata": {},
   "source": [
    "- with three dice the possibility of getting a ``face`` of two is eliminated  [[...] No Reference.]\n",
    "\n",
    "$$(2,18]$$"
   ]
  },
  {
   "cell_type": "code",
   "execution_count": 58,
   "metadata": {},
   "outputs": [],
   "source": [
    "k=3 # physical dice"
   ]
  },
  {
   "cell_type": "code",
   "execution_count": 59,
   "metadata": {},
   "outputs": [
    {
     "name": "stdout",
     "output_type": "stream",
     "text": [
      "<length>       : 16\n",
      "[3, 4, 5, 6, 7, 8, 9, 10, 11, 12, 13, 14, 15, 16, 17, 18]\n"
     ]
    }
   ],
   "source": [
    "# numpy.random.Generator.choice - parameter a\n",
    "a=list((range(k,s*k+1)))\n",
    "print(\"<length>       : %d\"%len(a))\n",
    "print(a)"
   ]
  },
  {
   "cell_type": "code",
   "execution_count": 60,
   "metadata": {},
   "outputs": [
    {
     "name": "stdout",
     "output_type": "stream",
     "text": [
      "<length>       : 18\n",
      "[1, 2, 3, 4, 5, 6, 7, 8, 9, 10, 11, 12, 13, 14, 15, 16, 17, 18]\n",
      "<length>       : 16\n",
      "[1, 2, 3, 4, 5, 6, 7, 8, 9, 7, 6, 5, 4, 3, 2, 1]\n",
      "<length>       : 16\n",
      "[0.0136986301369863, 0.0273972602739726, 0.0410958904109589, 0.0547945205479452, 0.0684931506849315, 0.0821917808219178, 0.0958904109589041, 0.1095890410958904, 0.1232876712328767, 0.0958904109589041, 0.0821917808219178, 0.0684931506849315, 0.0547945205479452, 0.0410958904109589, 0.0273972602739726, 0.0136986301369863]\n"
     ]
    }
   ],
   "source": [
    "# numpy.random.Generator.choice - parameter p\n",
    "# ---------- step:1 ----------\n",
    "nMasterDie=list((range(1,s*k+1)))\n",
    "print(\"<length>       : %d\"%len(nMasterDie))\n",
    "print(nMasterDie)\n",
    "# ---------- step:2 ---------- \n",
    "nSplitMaster=nMasterDie[:int(len(nMasterDie)/2)]\n",
    "nDie=nSplitMaster+nSplitMaster[len(nSplitMaster)-k::-1]\n",
    "print(\"<length>       : %d\"%len(nDie))\n",
    "print(nDie)\n",
    "# ---------- step:3 ----------\n",
    "p=[float(i)/sum(nDie) for i in nDie]\n",
    "print(\"<length>       : %d\"%len(p))\n",
    "print(p)"
   ]
  },
  {
   "cell_type": "markdown",
   "metadata": {},
   "source": [
    "- profile of the probabilities of rolling ``k`` dice [[...] No Reference.]"
   ]
  },
  {
   "cell_type": "code",
   "execution_count": 61,
   "metadata": {},
   "outputs": [
    {
     "data": {
      "image/png": "[encoded data removed]",
      "text/plain": [
       "<Figure size 640x480 with 1 Axes>"
      ]
     },
     "metadata": {},
     "output_type": "display_data"
    }
   ],
   "source": [
    "# package matplotlib - module pyplot\n",
    "plt.bar(a,p);\n",
    "plt.xlabel(\"three dice\");"
   ]
  },
  {
   "cell_type": "markdown",
   "metadata": {},
   "source": [
    "- with four dice the possibility of getting a ``face`` of three is eliminated [[...] No Reference.]\n",
    "\n",
    "$$(3,21]$$"
   ]
  },
  {
   "cell_type": "code",
   "execution_count": 62,
   "metadata": {},
   "outputs": [],
   "source": [
    "k=4 # physical dice"
   ]
  },
  {
   "cell_type": "code",
   "execution_count": 63,
   "metadata": {},
   "outputs": [
    {
     "name": "stdout",
     "output_type": "stream",
     "text": [
      "<length>       : 21\n",
      "[4, 5, 6, 7, 8, 9, 10, 11, 12, 13, 14, 15, 16, 17, 18, 19, 20, 21, 22, 23, 24]\n"
     ]
    }
   ],
   "source": [
    "# numpy.random.Generator.choice - parameter a\n",
    "a=list((range(k,s*k+1)))\n",
    "print(\"<length>       : %d\"%len(a))\n",
    "print(a)"
   ]
  },
  {
   "cell_type": "code",
   "execution_count": 64,
   "metadata": {},
   "outputs": [
    {
     "name": "stdout",
     "output_type": "stream",
     "text": [
      "<length>       : 24\n",
      "[1, 2, 3, 4, 5, 6, 7, 8, 9, 10, 11, 12, 13, 14, 15, 16, 17, 18, 19, 20, 21, 22, 23, 24]\n",
      "<length>       : 21\n",
      "[1, 2, 3, 4, 5, 6, 7, 8, 9, 10, 11, 12, 9, 8, 7, 6, 5, 4, 3, 2, 1]\n",
      "<length>       : 21\n",
      "[0.008130081300813009, 0.016260162601626018, 0.024390243902439025, 0.032520325203252036, 0.04065040650406504, 0.04878048780487805, 0.056910569105691054, 0.06504065040650407, 0.07317073170731707, 0.08130081300813008, 0.08943089430894309, 0.0975609756097561, 0.07317073170731707, 0.06504065040650407, 0.056910569105691054, 0.04878048780487805, 0.04065040650406504, 0.032520325203252036, 0.024390243902439025, 0.016260162601626018, 0.008130081300813009]\n"
     ]
    }
   ],
   "source": [
    "# numpy.random.Generator.choice - parameter p\n",
    "# ---------- step:1 ----------\n",
    "nMasterDie=list((range(1,s*k+1)))\n",
    "print(\"<length>       : %d\"%len(nMasterDie))\n",
    "print(nMasterDie)\n",
    "# ---------- step:2 ---------- \n",
    "nSplitMaster=nMasterDie[:int(len(nMasterDie)/2)]\n",
    "nDie=nSplitMaster+nSplitMaster[len(nSplitMaster)-k::-1]\n",
    "print(\"<length>       : %d\"%len(nDie))\n",
    "print(nDie)\n",
    "# ---------- step:3 ----------\n",
    "p=[float(i)/sum(nDie) for i in nDie]\n",
    "print(\"<length>       : %d\"%len(p))\n",
    "print(p)"
   ]
  },
  {
   "cell_type": "markdown",
   "metadata": {},
   "source": [
    "- profile of the probabilities of rolling ``k`` dice [[...] No Reference.]"
   ]
  },
  {
   "cell_type": "code",
   "execution_count": 65,
   "metadata": {},
   "outputs": [
    {
     "data": {
      "image/png": "[encoded data removed]",
      "text/plain": [
       "<Figure size 640x480 with 1 Axes>"
      ]
     },
     "metadata": {},
     "output_type": "display_data"
    }
   ],
   "source": [
    "# package matplotlib - module pyplot\n",
    "plt.bar(a,p);\n",
    "plt.xlabel(\"four dice\");"
   ]
  },
  {
   "cell_type": "markdown",
   "metadata": {},
   "source": [
    "< [Instructions](#top) | [README](https://github.com/E6985/fda-tasks/blob/main/README.md) | [Abstract](#task-2-abstract) | [Introduction](#task-2-introduction) | [Solution](#task-2-solution) >\n",
    "<a id=\"task-2-conclusion\"></a>\n",
    "### Conclusion\n",
    "***"
   ]
  },
  {
   "cell_type": "markdown",
   "metadata": {},
   "source": [
    "- in conclusion the current implementation is not accurate for odd number of ``face`` - clear to observe when plotting three and four dice rolls with the possible ``face`` being odd [[...] No Reference.]"
   ]
  },
  {
   "cell_type": "markdown",
   "metadata": {},
   "source": [
    "- in addition to determine ``numpy.random.Generator.choice`` parameter ``a`` and ``p`` - function ``diceroll`` sorts the final result ``nList`` in ascending order and counts the number of iterations of each ``face`` - wrapping in a ``dict`` constructor to return a dictionary object [[...] No Reference.]"
   ]
  },
  {
   "cell_type": "code",
   "execution_count": 66,
   "metadata": {},
   "outputs": [],
   "source": [
    "k=1\n",
    "n=1000"
   ]
  },
  {
   "cell_type": "code",
   "execution_count": 67,
   "metadata": {},
   "outputs": [],
   "source": [
    "# define function - diceroll \n",
    "def diceroll(k,n):\n",
    "    s=6 # 6-sided die\n",
    "    nList=[] # result\n",
    "    nMasterDie=list((range(1,s*k+1)))\n",
    "    # k = 1 ... [1, 2, 3, 4, 5, 6] ... len 6\n",
    "    # k = 2 ... [1, 2, 3, 4, 5, 6, 7, 8, 9, 10, 11, 12] ... len 12\n",
    "    # k = 3 ... [1, 2, 3, 4, 5, 6, 7, 8, 9, 10, 11, 12, 13, 14, 15, 16, 17, 18] ... len 18\n",
    "    # k = 4 ... [1, 2, 3, 4, 5, 6, 7, 8, 9, 10, 11, 12, 13, 14, 15, 16, 17, 18, 19, 20, 21, 22, 23, 24] ... len 24\n",
    "    \n",
    "    # uniform distribution\n",
    "    if k==1: # die\n",
    "        nUniform=(k/s) # 0.16666666666666666\n",
    "        nProbability=[nUniform]*s # [0.16666666666666666]*6\n",
    "        nDie=nMasterDie \n",
    "        # k = 1 ... [1, 2, 3, 4, 5, 6] ... len 6\n",
    "    else:\n",
    "        # nFace=list((range(k,s*k+1))) # tracking purposes\n",
    "        # k = 2 ... [2, 3, 4, 5, 6, 7, 8, 9, 10, 11, 12] ... len 11\n",
    "        # k = 3 ... [3, 4, 5, 6, 7, 8, 9, 10, 11, 12, 13, 14, 15, 16, 17, 18] ... len 16\n",
    "        # k = 4 ... [4, 5, 6, 7, 8, 9, 10, 11, 12, 13, 14, 15, 16, 17, 18, 19, 20, 21, 22, 23, 24] ... len 21\n",
    "        \n",
    "        # rearrange - numpy.random.Generator.choice - parameter p\n",
    "        # ==================================================================\n",
    "        nSplitMaster=nMasterDie[:int(len(nMasterDie)/2)]\n",
    "        # k = 2 ... [1, 2, 3, 4, 5, 6] ... len 6\n",
    "        # k = 3 ... [1, 2, 3, 4, 5, 6, 7, 8, 9] ... len 9\n",
    "        # k = 4 ... [1, 2, 3, 4, 5, 6, 7, 8, 9, 10, 11, 12] ... len 12\n",
    "        nDie=nSplitMaster+nSplitMaster[len(nSplitMaster)-k::-1]\n",
    "        # k = 2 ... [1, 2, 3, 4, 5, 6, 5, 4, 3, 2, 1] ... len 11\n",
    "        # k = 3 ... [1, 2, 3, 4, 5, 6, 7, 8, 9, 7, 6, 5, 4, 3, 2, 1] ... len 16\n",
    "        # k = 4 ... [1, 2, 3, 4, 5, 6, 7, 8, 9, 10, 11, 12, 9, 8, 7, 6, 5, 4, 3, 2, 1] ... len 21\n",
    "        # ------------------------------------------------------------------\n",
    "\n",
    "        # numpy.random.Generator.choice - parameter p \n",
    "        # ===========================================\n",
    "        nProbability=[float(i)/sum(nDie) for i in nDie]\n",
    "        # -------------------------------------------\n",
    "            \n",
    "        # reassemble dice order - numpy.random.Generator.choice - parameter a\n",
    "        # ===================================================================\n",
    "        nDie=list(range(nDie[k-1],len(nMasterDie)+1))\n",
    "        # k = 2 ... [2, 3, 4, 5, 6, 7, 8, 9, 10, 11, 12] ... len 11\n",
    "        # k = 3 ... [3, 4, 5, 6, 7, 8, 9, 10, 11, 12, 13, 14, 15, 16, 17, 18] ... len 16\n",
    "        # k = 4 ... [4, 5, 6, 7, 8, 9, 10, 11, 12, 13, 14, 15, 16, 17, 18, 19, 20, 21, 22, 23, 24] ... len 21\n",
    "        # ------------------------------------------------------------------\n",
    "            \n",
    "    for i in range(n):\n",
    "        nList.append(newGenBitGenPCG64().choice(a=nDie,p=nProbability))\n",
    "        \n",
    "    nList.sort()        \n",
    "    print(dict([(nEachElement,nList.count(nEachElement)) for nEachElement in nList]))"
   ]
  },
  {
   "cell_type": "code",
   "execution_count": 68,
   "metadata": {},
   "outputs": [
    {
     "name": "stdout",
     "output_type": "stream",
     "text": [
      "{1: 155, 2: 181, 3: 189, 4: 164, 5: 147, 6: 164}\n"
     ]
    }
   ],
   "source": [
    "# function diceroll - call\n",
    "diceroll(k,n)"
   ]
  },
  {
   "cell_type": "code",
   "execution_count": 69,
   "metadata": {},
   "outputs": [
    {
     "name": "stdout",
     "output_type": "stream",
     "text": [
      "{2: 31, 3: 45, 4: 87, 5: 115, 6: 134, 7: 162, 8: 145, 9: 105, 10: 81, 11: 58, 12: 37}\n"
     ]
    }
   ],
   "source": [
    "# function diceroll - call\n",
    "diceroll(2,1000)"
   ]
  },
  {
   "cell_type": "code",
   "execution_count": 70,
   "metadata": {},
   "outputs": [
    {
     "name": "stdout",
     "output_type": "stream",
     "text": [
      "{3: 12, 4: 31, 5: 36, 6: 53, 7: 60, 8: 90, 9: 106, 10: 124, 11: 117, 12: 91, 13: 74, 14: 72, 15: 47, 16: 50, 17: 25, 18: 12}\n"
     ]
    }
   ],
   "source": [
    "# function diceroll - call\n",
    "diceroll(3,1000)"
   ]
  },
  {
   "cell_type": "code",
   "execution_count": 71,
   "metadata": {},
   "outputs": [
    {
     "name": "stdout",
     "output_type": "stream",
     "text": [
      "{4: 8, 5: 6, 6: 29, 7: 49, 8: 57, 9: 62, 10: 51, 11: 68, 12: 65, 13: 82, 14: 77, 15: 85, 16: 72, 17: 67, 18: 57, 19: 45, 20: 39, 21: 29, 22: 24, 23: 21, 24: 7}\n"
     ]
    }
   ],
   "source": [
    "# function diceroll - call\n",
    "diceroll(4,1000)"
   ]
  },
  {
   "cell_type": "code",
   "execution_count": 72,
   "metadata": {},
   "outputs": [
    {
     "name": "stdout",
     "output_type": "stream",
     "text": [
      "{5: 5, 6: 8, 7: 21, 8: 17, 9: 39, 10: 29, 11: 40, 12: 38, 13: 44, 14: 51, 15: 78, 16: 73, 17: 72, 18: 72, 19: 81, 20: 51, 21: 59, 22: 45, 23: 39, 24: 35, 25: 19, 26: 29, 27: 23, 28: 13, 29: 10, 30: 9}\n"
     ]
    }
   ],
   "source": [
    "# function diceroll - call\n",
    "diceroll(5,1000)"
   ]
  },
  {
   "cell_type": "code",
   "execution_count": 73,
   "metadata": {},
   "outputs": [
    {
     "name": "stdout",
     "output_type": "stream",
     "text": [
      "{6: 2, 7: 10, 8: 18, 9: 18, 10: 25, 11: 14, 12: 35, 13: 34, 14: 39, 15: 37, 16: 50, 17: 48, 18: 44, 19: 48, 20: 57, 21: 49, 22: 63, 23: 61, 24: 60, 25: 35, 26: 45, 27: 34, 28: 39, 29: 33, 30: 18, 31: 24, 32: 20, 33: 19, 34: 15, 35: 5, 36: 1}\n"
     ]
    }
   ],
   "source": [
    "# function diceroll - call\n",
    "diceroll(6,1000)"
   ]
  },
  {
   "cell_type": "markdown",
   "metadata": {},
   "source": [
    "## END"
   ]
  },
  {
   "cell_type": "markdown",
   "metadata": {},
   "source": [
    "< [Instructions](#top) | [README](https://github.com/E6985/fda-tasks/blob/main/README.md) | [Task 1](#task-1) | [Task 2](#task-2) | [Task 4](#task-4) | [References](#references) >\n",
    "<a id=\"task-3\"></a>\n",
    "***\n",
    "## Task 3\n",
    "### Simulate coin flip - numpy.random.binomial.\n",
    "***"
   ]
  },
  {
   "cell_type": "markdown",
   "metadata": {},
   "source": [
    "< [Instructions](#top) | [README](https://github.com/E6985/fda-tasks/blob/main/README.md) | [Introduction](#task-3-introduction) | [Solution](#task-3-solution) | [Conclusion](#task-3-conclusion) >\n",
    "<a id=\"task-3-abstract\"></a>\n",
    "### Abstract\n",
    "***"
   ]
  },
  {
   "cell_type": "markdown",
   "metadata": {},
   "source": [
    "- Bernoulli - Law of Large Numbers - shows that the variability in an observed proportion gets smaller as the sample size increases - a single coin flip - taking on the value ``1`` if a ``head`` occurs - taking on the value ``0`` if a ``tail`` occurs - is said to be a Bernoulli trail - having a Bernoulli distribution - continuing to flip the coin then the proportion of each outcome will get closer and closer to 50% ``heads`` and 50% ``tails`` [[...] D. Spiegelhalter, \"The Art of Statistics,\" Pelican, p. 237, 2019.]"
   ]
  },
  {
   "cell_type": "markdown",
   "metadata": {},
   "source": [
    "- early on in the sequence the ratio may be some way from 50:50 - after a run of ``heads`` - temptation is to believe that ``tails`` is somehow due to occur so as to balance out the proportion - ``\"gamblers fallacy\"`` [[...] D. Spiegelhalter, \"The Art of Statistics,\" Pelican, p. 237, 2019.]"
   ]
  },
  {
   "cell_type": "markdown",
   "metadata": {},
   "source": [
    "< [Instructions](#top) | [README](https://github.com/E6985/fda-tasks/blob/main/README.md) | [Abstract](#task-3-abstract) | [Solution](#task-3-solution) | [Conclusion](#task-3-conclusion) >\n",
    "<a id=\"task-3-introduction\"></a>\n",
    "### Introduction\n",
    "***"
   ]
  },
  {
   "cell_type": "markdown",
   "metadata": {},
   "source": [
    "![coin-flip](https://github.com/E6985/L8733/blob/master/src/hdp/fda/img/fda-tasks/coin-flip.png?raw=true)"
   ]
  },
  {
   "cell_type": "markdown",
   "metadata": {},
   "source": [
    "- coin - circular disk when thrown in the air and allowed to fall will rest with either side face up - ``heads`` or ``tails`` - each with equal probability - therefore a two-sided die - Bernoulli distribution [[...] E. Weisstein, \"Coin Tossing,\" [mathworld.wolfram](https://web.archive.org/web/20201216170657/https://mathworld.wolfram.com/CoinTossing.html), n.d.]\n",
    "\n",
    "$$p=\\frac{1}{2}$$"
   ]
  },
  {
   "cell_type": "markdown",
   "metadata": {},
   "source": [
    "- discrete variables are countable in a finite amount of time - count change in a wallet - count money in a bank account - count amount of money in everyones bank account [[...] Statistics How To, \"Discrete vs Continuous variables: How to Tell the Difference,\" [statisticshowto](https://web.archive.org/web/20201108073006/https://www.statisticshowto.com/probability-and-statistics/statistics-definitions/discrete-vs-continuous-variables), November 2013.]"
   ]
  },
  {
   "cell_type": "markdown",
   "metadata": {},
   "source": [
    "- flipping a coin - count number of ``heads`` - the count could be any integer value between ``0`` and plus infinity $\\infty$ - not possible to get 2.5 heads [[...] StarTrek, \"Probability Distributions: Discrete vs. Continuous,\" [startrek](https://web.archive.org/web/20201106155243/https://stattrek.com/probability-distributions/discrete-continuous.aspx), November 2015.] - $\\infty$ - adjective - refer to the quality of being boundless - infinitely small - infinitely close - describing an object whose quantity or limit is larger than any natural number or real number [[...] Math Vault, \"The Definitive Glossary of Higher Mathematical Jargon,\" [mathvault](https://web.archive.org/web/20201108073635/https://mathvault.ca/math-glossary/#infinite), October 2019.]"
   ]
  },
  {
   "cell_type": "markdown",
   "metadata": {},
   "source": [
    "- binomial distribution gives the discrete probability distribution of obtaining exactly ``n`` successes out of ``N`` Bernoulli trials where the result of each Bernoulli trial is - true with probability $p$ - false with probability $q=1-p$ [[...] E. Weisstein, \"Binomial Distribution,\" [mathworld.wolfram](https://web.archive.org/web/20201216171306/https://mathworld.wolfram.com/BinomialDistribution.html), n.d.]"
   ]
  },
  {
   "cell_type": "markdown",
   "metadata": {},
   "source": [
    "< [Instructions](#top) | [README](https://github.com/E6985/fda-tasks/blob/main/README.md) | [Abstract](#task-3-abstract) | [Introduction](#task-3-introduction) | [Conclusion](#task-3-conclusion) >\n",
    "<a id=\"task-3-solution\"></a>\n",
    "### Solution\n",
    "***"
   ]
  },
  {
   "cell_type": "markdown",
   "metadata": {},
   "source": [
    "- demonstrating flipping a coin one-hundred times - tested (batches) one-thousand times - keeping track of the number of ``heads`` in each of one-thousand simulations - selecting an appropriate plot to depict the list of one-thousand numbers [[...] I. McLoughlin, \"Tasks 2020 Fundamentals of Data Analysis,\" GMIT, October 2020.]"
   ]
  },
  {
   "cell_type": "markdown",
   "metadata": {},
   "source": [
    "- simluation will show a 50:50 chance of ``heads`` or ``tails`` and is well approximated by a bell-shaped curve - flipping a coin one-hundred times in a row - chance of getting fifty ``heads`` is relatively high - on the otherhand the chance of getting zero or one-hundred ``heads`` is relatively low - moving away from fifty the chances of heads decreases in either direction towards zero or one-hundred [[...] I. McLoughlin, \"Tasks 2020 Fundamentals of Data Analysis,\" GMIT, October 2020.]"
   ]
  },
  {
   "cell_type": "markdown",
   "metadata": {},
   "source": [
    "- the Bernouilli distribution is a special case of the binomial distribution - simulation must use the method - ``numpy.random.Generator.binomial`` [[...] I. McLoughlin, \"Tasks 2020 Fundamentals of Data Analysis,\" GMIT, October 2020.]"
   ]
  },
  {
   "cell_type": "markdown",
   "metadata": {},
   "source": [
    "###### Binomial Distribution\n",
    "***"
   ]
  },
  {
   "cell_type": "code",
   "execution_count": 74,
   "metadata": {},
   "outputs": [
    {
     "name": "stdout",
     "output_type": "stream",
     "text": [
      "        Draw samples from a binomial distribution.\n",
      "\n",
      "        Samples are drawn from a binomial distribution with specified\n",
      "        parameters, n trials and p probability of success where\n",
      "        n an integer >= 0 and p is in the interval [0,1]. (n may be\n",
      "        input as a float, but it is truncated to an integer in use)\n"
     ]
    }
   ],
   "source": [
    "# package numpy - subpackage random - object Generator - method default_rng alias newGenBitGenPCG64 - instantiate\n",
    "print(\"\\n\".join(newGenBitGenPCG64().binomial.__doc__.split(\"\\n\")[3:9])) # method binomial - attr __doc__ - access"
   ]
  },
  {
   "cell_type": "code",
   "execution_count": 75,
   "metadata": {},
   "outputs": [
    {
     "name": "stdout",
     "output_type": "stream",
     "text": [
      "        Examples\n",
      "        --------\n",
      "        Draw samples from the distribution:\n",
      "\n",
      "        >>> rng = np.random.default_rng()\n",
      "        >>> n, p = 10, .5  # number of trials, probability of each trial\n",
      "        >>> s = rng.binomial(n, p, 1000)\n",
      "        # result of flipping a coin 10 times, tested 1000 times.\n"
     ]
    }
   ],
   "source": [
    "# package numpy - subpackage random - object Generator - method default_rng alias newGenBitGenPCG64 - instantiate\n",
    "print(\"\\n\".join(newGenBitGenPCG64().binomial.__doc__.split(\"\\n\")[65:73])) # method binomial - attr __doc__ - access"
   ]
  },
  {
   "cell_type": "markdown",
   "metadata": {},
   "source": [
    "###### Binomial Distribution - Signature\n",
    "***"
   ]
  },
  {
   "cell_type": "code",
   "execution_count": 76,
   "metadata": {},
   "outputs": [
    {
     "name": "stdout",
     "output_type": "stream",
     "text": [
      "        binomial(n, p, size=None)\n"
     ]
    }
   ],
   "source": [
    "# package numpy - subpackage random - object Generator - method default_rng alias newGenBitGenPCG64 - instantiate\n",
    "print(\"\\n\".join(newGenBitGenPCG64().binomial.__doc__.split(\"\\n\")[1:2])) # method binomial - attr __doc__ - access"
   ]
  },
  {
   "cell_type": "markdown",
   "metadata": {},
   "source": [
    "###### Binomial Distribution - Parameters\n",
    "***"
   ]
  },
  {
   "cell_type": "code",
   "execution_count": 77,
   "metadata": {},
   "outputs": [
    {
     "name": "stdout",
     "output_type": "stream",
     "text": [
      "        Parameters\n",
      "        ----------\n",
      "        n : int or array_like of ints\n",
      "            Parameter of the distribution, >= 0. Floats are also accepted,\n",
      "            but they will be truncated to integers.\n",
      "        p : float or array_like of floats\n",
      "            Parameter of the distribution, >= 0 and <=1.\n",
      "        size : int or tuple of ints, optional\n",
      "            Output shape.  If the given shape is, e.g., ``(m, n, k)``, then\n",
      "            ``m * n * k`` samples are drawn.  If size is ``None`` (default),\n",
      "            a single value is returned if ``n`` and ``p`` are both scalars.\n",
      "            Otherwise, ``np.broadcast(n, p).size`` samples are drawn.\n",
      "\n",
      "        Returns\n",
      "        -------\n",
      "        out : ndarray or scalar\n",
      "            Drawn samples from the parameterized binomial distribution, where\n",
      "            each sample is equal to the number of successes over the n trials.\n"
     ]
    }
   ],
   "source": [
    "# package numpy - subpackage random - object Generator - method default_rng alias newGenBitGenPCG64 - instantiate\n",
    "print(\"\\n\".join(newGenBitGenPCG64().binomial.__doc__.split(\"\\n\")[10:28])) # method binomial - attr __doc__ - access"
   ]
  },
  {
   "cell_type": "markdown",
   "metadata": {},
   "source": [
    "###### Implementation\n",
    "***"
   ]
  },
  {
   "cell_type": "markdown",
   "metadata": {},
   "source": [
    "- flip a single coin - parameters - ``n`` - ``p`` [[...] Anaconda (binomial), \"numpy.random.generator,\" Docstring, June 2020.]"
   ]
  },
  {
   "cell_type": "markdown",
   "metadata": {},
   "source": [
    "- ``n`` number of trials ``1`` - coin flip is a trial - result is only two possible outcomes - ``heads`` or ``tails`` - calling ``heads`` a success ``1`` - calling ``tails`` a failure ``0`` [[...] I. McLoughlin, \"Coin flipping in Python,\" GMIT, September 2019.][[...] Anaconda (binomial), \"numpy.random.generator,\" Docstring, June 2020.]\n",
    "\n",
    "$$integer >=0$$"
   ]
  },
  {
   "cell_type": "markdown",
   "metadata": {},
   "source": [
    "- ``p`` probability of each trial - probability of success is constant - on each trial ``0.5`` [[...] I. McLoughlin, \"Coin flipping in Python,\" GMIT, September 2019.][[...] Anaconda (binomial), \"numpy.random.generator,\" Docstring, June 2020.] - interval (Appendix D) - include ``0`` - include ``1`` [[...] Wikipedia, \"Interval (mathematics),\" [wikipedia](http://web.archive.org/web/20200925042254/https://en.wikipedia.org/wiki/Interval_%28mathematics%29), \n",
    "reference] n.d.]\n",
    "\n",
    "$$interval [0,1]$$"
   ]
  },
  {
   "cell_type": "code",
   "execution_count": 78,
   "metadata": {},
   "outputs": [],
   "source": [
    "# package numpy - subpackage random - binomial arguments\n",
    "n,p=1,0.5"
   ]
  },
  {
   "cell_type": "code",
   "execution_count": 79,
   "metadata": {},
   "outputs": [
    {
     "data": {
      "text/plain": [
       "1"
      ]
     },
     "execution_count": 79,
     "metadata": {},
     "output_type": "execute_result"
    }
   ],
   "source": [
    "# package numpy - subpackage random - object Generator - method default_rng alias newGenBitGenPCG64 - instantiate\n",
    "newGenBitGenPCG64().binomial(n,p) # method binomial - call"
   ]
  },
  {
   "cell_type": "markdown",
   "metadata": {},
   "source": [
    "- flip the same coin - same parameters - ``n`` - ``p`` [[...] Anaconda (binomial), \"numpy.random.generator,\" Docstring, June 2020.]"
   ]
  },
  {
   "cell_type": "markdown",
   "metadata": {},
   "source": [
    "- `size` or single batch ``1`` - tested one time [[...] I. McLoughlin, \"Coin flipping in Python,\" GMIT, September 2019.][[...] Anaconda (binomial), \"numpy.random.generator,\" Docstring, June 2020.]"
   ]
  },
  {
   "cell_type": "code",
   "execution_count": 80,
   "metadata": {},
   "outputs": [],
   "source": [
    "# package numpy - subpackage random - additional binomial argument\n",
    "size=1"
   ]
  },
  {
   "cell_type": "code",
   "execution_count": 81,
   "metadata": {},
   "outputs": [
    {
     "data": {
      "text/plain": [
       "array([1], dtype=int64)"
      ]
     },
     "execution_count": 81,
     "metadata": {},
     "output_type": "execute_result"
    }
   ],
   "source": [
    "# package numpy - subpackage random - object Generator - method default_rng alias newGenBitGenPCG64 - instantiate\n",
    "newGenBitGenPCG64().binomial(n,p,size) # method binomial - call"
   ]
  },
  {
   "cell_type": "markdown",
   "metadata": {},
   "source": [
    "###### Simulation\n",
    "***"
   ]
  },
  {
   "cell_type": "markdown",
   "metadata": {},
   "source": [
    "- changing the paramters in order to flip the coin one-hundred times - testing one-thousand times [[...] I. McLoughlin, \"Tasks 2020 Fundamentals of Data Analysis,\" GMIT, October 2020.]"
   ]
  },
  {
   "cell_type": "markdown",
   "metadata": {},
   "source": [
    "- ``n`` - $integer >=0$ - number of trials ``100`` [[...] I. McLoughlin, \"Tasks 2020 Fundamentals of Data Analysis,\" GMIT, October 2020.][[...] I. McLoughlin, \"Coin flipping in Python,\" GMIT, September 2019.][[...] Anaconda (binomial), \"numpy.random.generator,\" Docstring, June 2020.]"
   ]
  },
  {
   "cell_type": "markdown",
   "metadata": {},
   "source": [
    "- ``p`` - $interval [0,1]$ - probability of each trial - probability of success is constant ``0.5`` [[...] I. McLoughlin, \"Tasks 2020 Fundamentals of Data Analysis,\" GMIT, October 2020.][[...] I. McLoughlin, \"Coin flipping in Python,\" GMIT, September 2019.][[...] Anaconda (binomial), \"numpy.random.generator,\" Docstring, June 2020.]"
   ]
  },
  {
   "cell_type": "code",
   "execution_count": 82,
   "metadata": {},
   "outputs": [],
   "source": [
    "# package numpy - subpackage random - binomial arguments\n",
    "n,p,size=100,0.5,1"
   ]
  },
  {
   "cell_type": "markdown",
   "metadata": {},
   "source": [
    "- number of ``heads`` in ``n`` trails - flipping coin ``100`` times [[...] I. McLoughlin, \"Tasks 2020 Fundamentals of Data Analysis,\" GMIT, October 2020.]"
   ]
  },
  {
   "cell_type": "code",
   "execution_count": 83,
   "metadata": {},
   "outputs": [
    {
     "data": {
      "text/plain": [
       "array([58], dtype=int64)"
      ]
     },
     "execution_count": 83,
     "metadata": {},
     "output_type": "execute_result"
    }
   ],
   "source": [
    "# package numpy - subpackage random - object Generator - method default_rng alias newGenBitGenPCG64 - instantiate\n",
    "newGenBitGenPCG64().binomial(n,p,size) # method binomial - call"
   ]
  },
  {
   "cell_type": "markdown",
   "metadata": {},
   "source": [
    "- number of ``heads`` in ``n`` trails - flipping coin ``100000`` times [[...] I. McLoughlin, \"Tasks 2020 Fundamentals of Data Analysis,\" GMIT, October 2020.]"
   ]
  },
  {
   "cell_type": "code",
   "execution_count": 84,
   "metadata": {},
   "outputs": [
    {
     "data": {
      "text/plain": [
       "array([50193], dtype=int64)"
      ]
     },
     "execution_count": 84,
     "metadata": {},
     "output_type": "execute_result"
    }
   ],
   "source": [
    "# package numpy - subpackage random - object Generator - method default_rng alias newGenBitGenPCG64 - instantiate\n",
    "newGenBitGenPCG64().binomial(100000,p,size) # method binomial - call"
   ]
  },
  {
   "cell_type": "code",
   "execution_count": 85,
   "metadata": {},
   "outputs": [],
   "source": [
    "# package numpy - subpackage random - binomial argument\n",
    "size=1000"
   ]
  },
  {
   "cell_type": "markdown",
   "metadata": {},
   "source": [
    "- `size` - each coin flip is a trail and tested one-thousand times - batch of ``1000`` [[...] I. McLoughlin, \"Tasks 2020 Fundamentals of Data Analysis,\" GMIT, October 2020.][[...] I. McLoughlin, \"Coin flipping in Python,\" GMIT, September 2019.][[...] Anaconda (binomial), \"numpy.random.generator,\" Docstring, June 2020.]"
   ]
  },
  {
   "cell_type": "code",
   "execution_count": 86,
   "metadata": {},
   "outputs": [],
   "source": [
    "# package numpy - subpackage random - object Generator - method default_rng alias newGenBitGenPCG64 - instantiate\n",
    "nBatch=newGenBitGenPCG64().binomial(n,p,size) # method binomial - call"
   ]
  },
  {
   "cell_type": "markdown",
   "metadata": {},
   "source": [
    "- ``nBatch`` - keeps track of the number of ``heads`` in each of the one-thousand simulations [[...] No Reference.]"
   ]
  },
  {
   "cell_type": "code",
   "execution_count": 87,
   "metadata": {
    "scrolled": false
   },
   "outputs": [
    {
     "data": {
      "text/plain": [
       "array([47, 48, 45, 48, 52, 59, 47, 62, 53, 49, 44, 42, 50, 57, 47, 56, 55,\n",
       "       40, 48, 59, 44, 55, 46, 45, 54, 49, 38, 58, 54, 50, 47, 49, 55, 48,\n",
       "       49, 59, 42, 49, 42, 53, 43, 47, 58, 54, 42, 50, 50, 59, 53, 52, 57,\n",
       "       44, 48, 48, 54, 48, 54, 47, 44, 43, 57, 49, 49, 54, 51, 43, 48, 54,\n",
       "       57, 48, 53, 51, 42, 48, 41, 49, 54, 48, 57, 48, 50, 42, 46, 44, 57,\n",
       "       53, 57, 49, 53, 49, 45, 49, 54, 52, 54, 49, 56, 59, 49, 42, 43, 58,\n",
       "       50, 52, 49, 47, 62, 48, 44, 38, 47, 53, 48, 55, 56, 46, 47, 52, 45,\n",
       "       47, 48, 53, 54, 49, 45, 48, 49, 54, 56, 51, 56, 49, 48, 57, 53, 50,\n",
       "       44, 57, 46, 44, 47, 53, 50, 56, 46, 46, 47, 49, 49, 61, 51, 52, 52,\n",
       "       46, 49, 56, 58, 38, 49, 58, 47, 45, 54, 48, 42, 57, 50, 43, 46, 50,\n",
       "       54, 54, 48, 47, 51, 45, 50, 45, 40, 51, 53, 57, 50, 52, 48, 50, 52,\n",
       "       53, 52, 44, 46, 47, 52, 49, 51, 50, 51, 50, 46, 50, 48, 50, 44, 49,\n",
       "       47, 51, 51, 50, 63, 45, 45, 50, 52, 48, 44, 55, 42, 50, 52, 46, 48,\n",
       "       39, 52, 39, 44, 50, 48, 54, 49, 50, 52, 53, 41, 51, 50, 53, 51, 38,\n",
       "       43, 54, 45, 44, 58, 51, 49, 55, 47, 51, 47, 51, 54, 49, 54, 52, 54,\n",
       "       48, 52, 57, 64, 55, 51, 53, 47, 50, 54, 44, 46, 47, 47, 55, 47, 59,\n",
       "       52, 46, 38, 52, 45, 52, 59, 61, 42, 49, 58, 51, 52, 49, 48, 46, 50,\n",
       "       46, 48, 57, 57, 46, 51, 47, 39, 50, 44, 39, 53, 52, 51, 55, 51, 50,\n",
       "       56, 46, 59, 49, 57, 48, 48, 49, 42, 53, 62, 56, 48, 50, 57, 60, 56,\n",
       "       57, 45, 55, 58, 53, 57, 46, 46, 57, 51, 52, 49, 60, 44, 40, 49, 50,\n",
       "       53, 47, 56, 54, 48, 49, 50, 42, 53, 54, 52, 50, 43, 59, 57, 53, 49,\n",
       "       41, 42, 48, 53, 50, 46, 44, 49, 46, 46, 64, 56, 49, 55, 50, 44, 42,\n",
       "       50, 60, 48, 51, 51, 43, 52, 40, 61, 52, 51, 55, 49, 52, 49, 51, 44,\n",
       "       41, 56, 48, 45, 57, 59, 52, 51, 47, 53, 55, 53, 54, 51, 52, 42, 36,\n",
       "       52, 49, 56, 56, 51, 47, 51, 56, 55, 55, 53, 48, 59, 53, 55, 44, 46,\n",
       "       52, 52, 51, 49, 52, 52, 59, 52, 56, 49, 48, 48, 58, 51, 49, 48, 51,\n",
       "       53, 43, 44, 53, 40, 53, 49, 50, 58, 54, 45, 58, 51, 49, 54, 54, 45,\n",
       "       43, 55, 52, 56, 50, 56, 52, 54, 45, 53, 57, 48, 44, 59, 58, 47, 54,\n",
       "       58, 48, 48, 55, 57, 53, 53, 50, 44, 47, 54, 51, 39, 51, 48, 42, 55,\n",
       "       54, 57, 52, 46, 49, 46, 53, 51, 52, 41, 39, 54, 52, 45, 48, 56, 56,\n",
       "       54, 48, 60, 51, 42, 49, 53, 43, 44, 49, 48, 57, 49, 57, 49, 45, 56,\n",
       "       50, 40, 52, 59, 54, 51, 45, 45, 44, 54, 52, 41, 54, 49, 50, 51, 52,\n",
       "       45, 60, 43, 50, 54, 50, 46, 39, 57, 55, 57, 53, 44, 52, 56, 51, 52,\n",
       "       52, 52, 45, 56, 61, 50, 38, 48, 53, 50, 48, 49, 48, 41, 45, 49, 58,\n",
       "       39, 46, 47, 56, 50, 53, 53, 61, 51, 42, 46, 57, 53, 51, 50, 47, 42,\n",
       "       51, 48, 52, 45, 44, 48, 51, 50, 52, 60, 53, 48, 48, 60, 50, 50, 48,\n",
       "       40, 52, 44, 55, 51, 48, 48, 50, 42, 47, 47, 55, 47, 59, 46, 48, 45,\n",
       "       49, 50, 48, 45, 55, 48, 45, 55, 51, 52, 47, 47, 49, 48, 48, 50, 53,\n",
       "       36, 51, 51, 53, 46, 48, 51, 42, 50, 44, 48, 52, 43, 55, 53, 48, 52,\n",
       "       43, 39, 52, 53, 53, 51, 52, 51, 52, 50, 55, 60, 45, 53, 43, 53, 38,\n",
       "       54, 49, 49, 61, 47, 58, 45, 51, 52, 48, 48, 55, 50, 46, 47, 53, 52,\n",
       "       61, 49, 39, 57, 54, 50, 40, 55, 37, 54, 47, 50, 48, 46, 48, 56, 56,\n",
       "       47, 43, 60, 46, 49, 54, 47, 49, 49, 53, 56, 55, 52, 50, 50, 58, 47,\n",
       "       55, 49, 59, 46, 46, 49, 44, 49, 58, 44, 51, 55, 57, 49, 49, 57, 43,\n",
       "       55, 52, 46, 42, 39, 55, 52, 51, 43, 60, 48, 57, 43, 40, 48, 55, 44,\n",
       "       48, 36, 51, 52, 49, 54, 51, 49, 45, 38, 53, 52, 44, 47, 47, 45, 42,\n",
       "       48, 47, 47, 46, 55, 46, 38, 52, 51, 53, 48, 52, 52, 39, 57, 58, 48,\n",
       "       47, 55, 52, 57, 48, 51, 51, 52, 41, 52, 49, 54, 52, 52, 55, 43, 62,\n",
       "       43, 56, 47, 52, 57, 49, 46, 62, 51, 58, 45, 48, 47, 52, 48, 45, 45,\n",
       "       49, 50, 47, 46, 54, 58, 59, 51, 63, 45, 60, 51, 36, 57, 56, 41, 55,\n",
       "       51, 46, 52, 56, 52, 52, 49, 46, 50, 51, 55, 45, 48, 56, 62, 48, 46,\n",
       "       47, 54, 55, 55, 52, 49, 57, 50, 47, 52, 53, 51, 49, 58, 53, 49, 45,\n",
       "       44, 44, 45, 46, 52, 51, 41, 44, 38, 59, 45, 56, 50, 50, 64, 53, 45,\n",
       "       56, 44, 48, 49, 44, 55, 49, 48, 57, 27, 48, 54, 50, 53, 51, 49, 54,\n",
       "       50, 46, 52, 47, 48, 57, 51, 56, 51, 50, 39, 38, 54, 39, 51, 52, 51,\n",
       "       54, 53, 58, 57, 51, 59, 55, 51, 59, 57, 45, 46, 47, 55, 48, 46, 51,\n",
       "       44, 51, 47, 59, 41, 47, 51, 51, 47, 49, 54, 37, 56, 47, 57, 46, 54,\n",
       "       55, 48, 49, 52, 53, 43, 41, 44, 36, 53, 54, 46, 59, 46, 41, 40, 55,\n",
       "       40, 54, 45, 55, 42, 50, 49, 64, 47, 56, 60, 46, 55, 54],\n",
       "      dtype=int64)"
      ]
     },
     "execution_count": 87,
     "metadata": {},
     "output_type": "execute_result"
    }
   ],
   "source": [
    "nBatch"
   ]
  },
  {
   "cell_type": "markdown",
   "metadata": {},
   "source": [
    "< [Instructions](#top) | [README](https://github.com/E6985/fda-tasks/blob/main/README.md) | [Abstract](#task-3-abstract) | [Introduction](#task-3-introduction) | [Solution](#task-3-solution) >\n",
    "<a id=\"task-3-conclusion\"></a>\n",
    "### Conclusion\n",
    "***"
   ]
  },
  {
   "cell_type": "markdown",
   "metadata": {},
   "source": [
    "- ``seaborn`` - plotting package used to depict the resulting list of one-thousand numbers - showing that it roughly follows a bell-shaped curve [[No Reference.]"
   ]
  },
  {
   "cell_type": "code",
   "execution_count": 88,
   "metadata": {},
   "outputs": [],
   "source": [
    "# b_T_hird_P_arty-imports\n",
    "import seaborn as sns"
   ]
  },
  {
   "cell_type": "code",
   "execution_count": 89,
   "metadata": {},
   "outputs": [
    {
     "name": "stdout",
     "output_type": "stream",
     "text": [
      "Flexibly plot a univariate distribution of observations.\n",
      "\n",
      "    This function combines the matplotlib ``hist`` function (with automatic\n",
      "    calculation of a good default bin size) with the seaborn :func:`kdeplot`\n",
      "    and :func:`rugplot` functions. It can also fit ``scipy.stats``\n",
      "    distributions and plot the estimated PDF over the data.\n"
     ]
    }
   ],
   "source": [
    "# package seaborn alias sns - function distplot - call - attribute __doc__ - access\n",
    "print(\"\\n\".join(sns.distplot.__doc__.split(\"\\n\")[0:6]))"
   ]
  },
  {
   "cell_type": "markdown",
   "metadata": {},
   "source": [
    "- passing array - ``nBatch`` - as an argument to the function ``seaborn.distplot`` - creating plot - x-axis from circa 30 to circa 70 - y-axis from 0 to circa 0.9 [[...] I. McLoughlin, \"Coin flipping in Python,\" GMIT, September 2019.]"
   ]
  },
  {
   "cell_type": "markdown",
   "metadata": {},
   "source": [
    "- looks almost like a bell shaped curve - the distribution plot is a picture of how many ``heads`` each time the coin is flipped one-hundred times and tested one-thousand times [[...] I. McLoughlin, \"Coin flipping in Python,\" GMIT, September 2019.]"
   ]
  },
  {
   "cell_type": "markdown",
   "metadata": {},
   "source": [
    "- centred around the 50 Mark and spreads out - very unlikely to get ``heads`` on the leftmost and rightmost sides of the curve - rapidly decreases in probability away from the fifty mark [[...] I. McLoughlin, \"Coin flipping in Python,\" GMIT, September 2019.]"
   ]
  },
  {
   "cell_type": "code",
   "execution_count": 90,
   "metadata": {},
   "outputs": [
    {
     "data": {
      "image/png": "[encoded data removed]",
      "text/plain": [
       "<Figure size 640x480 with 1 Axes>"
      ]
     },
     "metadata": {},
     "output_type": "display_data"
    }
   ],
   "source": [
    "# package seaborn alias sns - module distributions - function distplot - call\n",
    "sns.distplot(nBatch);"
   ]
  },
  {
   "cell_type": "markdown",
   "metadata": {},
   "source": [
    "## END"
   ]
  },
  {
   "cell_type": "markdown",
   "metadata": {},
   "source": [
    "< [Instructions](#top) | [README](https://github.com/E6985/fda-tasks/blob/main/README.md) | [Task 1](#task-1) | [Task 2](#task-2) | [Task 3](#task-3) | [References](#references) >\n",
    "<a id=\"task-4\"></a>\n",
    "***\n",
    "## Task 4\n",
    "### Demonstrate Simpson's paradox.\n",
    "***"
   ]
  },
  {
   "cell_type": "markdown",
   "metadata": {},
   "source": [
    "< [Instructions](#top) | [README](https://github.com/E6985/fda-tasks/blob/main/README.md) | [Introduction](#task-4-introduction) | [Solution](#task-4-solution) | [Conclusion](#task-4-conclusion) >\n",
    "<a id=\"task-4-abstract\"></a>\n",
    "### Abstract\n",
    "***"
   ]
  },
  {
   "cell_type": "markdown",
   "metadata": {},
   "source": [
    "- phrase - ``\"correlation does not imply causation\"`` - is proclaimed when confronted by claims based on simple observation [[...] D. Spiegelhalter, \"The Art of Statistics,\" Pelican, p. 97, 2019.]"
   ]
  },
  {
   "cell_type": "markdown",
   "metadata": {},
   "source": [
    "- one such poor association is the whimsical correlation of 0.95 between US crude oil import from Norway between 1999 and 2009 and the number of drivers killed in collisions with railway trains in each of those years [[...] D. Spiegelhalter, \"The Art of Statistics,\" Pelican, p. 97, 2019.][[...] T. Vigen, \"Spurious correlations,\" [tylervigen](http://web.archive.org/web/20201211064451/http://tylervigen.com/spurious-correlations), July 2014.]"
   ]
  },
  {
   "cell_type": "markdown",
   "metadata": {},
   "source": [
    "![norway-oil-drivers-killed](https://github.com/E6985/L8733/blob/master/src/hdp/fda/img/fda-tasks/norway-oil-drivers-killed.png?raw=true)\n",
    "\n",
    "***(Image) T. Vigen, \"Spurious correlations,\" [tylervigen](http://web.archive.org/web/20201211064451/http://tylervigen.com/spurious-correlations), July 2014.***"
   ]
  },
  {
   "cell_type": "markdown",
   "metadata": {},
   "source": [
    "- allowing for variability - the idea of causation is not deterministic - if ``x`` causes ``y`` it is not correct to infer that everytime ``x`` occurs then ``y`` too occurs - or that ``y`` will occur if ``x`` occurs - instead to intervene and force ``x`` to occur then ``y`` tends to happen more often - ``x`` increases the proportion of times that ``y`` happens [[...] D. Spiegelhalter, \"The Art of Statistics,\" Pelican, p. 98, 2019.]"
   ]
  },
  {
   "cell_type": "markdown",
   "metadata": {},
   "source": [
    "- it took decades for the medical community to conclude that smoking cigarettes caused lung cancer - the reason is that most people who do not smoke do get lung cancer - instead it is more likely to get lung cancer if a person smokes [[...] D. Spiegelhalter, \"The Art of Statistics,\" Pelican, p. 98, 2019.]"
   ]
  },
  {
   "cell_type": "markdown",
   "metadata": {},
   "source": [
    "< [Instructions](#top) | [README](https://github.com/E6985/fda-tasks/blob/main/README.md) | [Abstract](#task-4-abstract) | [Solution](#task-4-solution) | [Conclusion](#task-4-conclusion) >\n",
    "<a id=\"task-4-introduction\"></a>\n",
    "### Introduction\n",
    "***"
   ]
  },
  {
   "cell_type": "markdown",
   "metadata": {},
   "source": [
    "![homer](https://github.com/E6985/L8733/blob/master/src/hdp/fda/img/fda-tasks/homer.png?raw=true)"
   ]
  },
  {
   "cell_type": "markdown",
   "metadata": {},
   "source": [
    "- SARS-CoV-2 (Covid-19) Pandemic has resulted in the deaths of over 1.5 million people as of 3rd December 2020 [[...] Worldometer, \"COVID-19 Coronavirus Pandemic,\" [worldometers](https://web.archive.org/web/20201203190732/https://www.worldometers.info/coronavirus), December 2020.] - the phenonomen of Simpson paradox can be seen in an interested study of the Covid-19 case facility rates (CFSs) comparing data of 44,672 cases from China with the early reports from Italy (9th March) - it was found that CFRs are lower in Italy for every age group but higher overall [[...] T. Bazett, \"How SIMPSON'S PARADOX explains weird COVID19 statistics,\" [youtube.com](https://web.archive.org/web/20201205185009/https://www.youtube.com/watch?v=t-Ci3FosqZs), July 2020.][[...] J. Von Kugelgen, L. Gresele, B. Scholkopt, \"Simpson’s paradox in Covid-19 case fatality rates:a mediation analysis of age-related causal effects,\" [arxiv](https://web.archive.org/web/20201211090001/https://arxiv.org/abs/2005.07180), June 2020.][[...] J. Von Kugelgen, \"Covid19-age-related-causal-effects,\" [github](https://web.archive.org/web/20201211090154/https://github.com/Juliusvk/Covid19-age-related-causal-effects/blob/master/notebook_causal_corona.ipynb), June 2020.]"
   ]
  },
  {
   "cell_type": "markdown",
   "metadata": {},
   "source": [
    "- CFR - indicates the proportion of confirmed cases which end fatally - chances of surviving the disease [[...] T. Bazett, \"How SIMPSON'S PARADOX explains weird COVID19 statistics,\" [youtube.com](https://web.archive.org/web/20201205185009/https://www.youtube.com/watch?v=t-Ci3FosqZs), July 2020.][[...] J. Von Kugelgen, L. Gresele, B. Scholkopt, \"Simpson’s paradox in Covid-19 case fatality rates:a mediation analysis of age-related causal effects,\" [arxiv](https://web.archive.org/web/20201211090001/https://arxiv.org/abs/2005.07180), June 2020.]"
   ]
  },
  {
   "cell_type": "markdown",
   "metadata": {},
   "source": [
    "- it turns out that when you look at all the cases within the period between early March and late May for both Italy and China there was a clear pattern - more likely to survive in China than in Italy [[...] T. Bazett, \"How SIMPSON'S PARADOX explains weird COVID19 statistics,\" [youtube.com](https://web.archive.org/web/20201205185009/https://www.youtube.com/watch?v=t-Ci3FosqZs), July 2020.][[...] J. Von Kugelgen, L. Gresele, B. Scholkopt, \"Simpson’s paradox in Covid-19 case fatality rates:a mediation analysis of age-related causal effects,\" [arxiv](https://web.archive.org/web/20201211090001/https://arxiv.org/abs/2005.07180), June 2020.][[...] J. Von Kugelgen, \"Covid19-age-related-causal-effects,\" [github](https://web.archive.org/web/20201211090154/https://github.com/Juliusvk/Covid19-age-related-causal-effects/blob/master/notebook_causal_corona.ipynb), June 2020.]"
   ]
  },
  {
   "cell_type": "code",
   "execution_count": 91,
   "metadata": {},
   "outputs": [],
   "source": [
    "import numpy as np"
   ]
  },
  {
   "cell_type": "code",
   "execution_count": 92,
   "metadata": {},
   "outputs": [],
   "source": [
    "class Covid19Dataset():\n",
    "    \"\"\"\n",
    "    A class for datasets with case and fatality numbers stratified by age \n",
    "    group for different countries.\n",
    "    \"\"\"\n",
    "    def __init__(self,\n",
    "                country,\n",
    "                date,\n",
    "                confirmed_cases,\n",
    "                fatalities,\n",
    "                source,\n",
    "                comments=None,\n",
    "                age_ranges=['0-9', '10-19', '20-29', '30-39', '40-49', \n",
    "                            '50-59', '60-69', '70-79','80+']\n",
    "                ):\n",
    "        self.country = country\n",
    "        self.date = date\n",
    "        self.confirmed_cases = np.array(confirmed_cases)\n",
    "        self.fatalities = np.array(fatalities)\n",
    "        self.source = source\n",
    "        self.comments = comments\n",
    "        self.age_ranges = age_ranges\n",
    "        # compute quantities of interest\n",
    "        self.cfr = self.fatalities/ self.confirmed_cases\n",
    "        self.total_cases = sum(self.confirmed_cases)\n",
    "        self.total_fatalities = sum(self.fatalities)\n",
    "        self.case_rates_by_age = self.confirmed_cases/self.total_cases\n",
    "        self.total_cfr = sum(self.case_rates_by_age * self.cfr)"
   ]
  },
  {
   "cell_type": "code",
   "execution_count": 93,
   "metadata": {},
   "outputs": [],
   "source": [
    "China_Feb17 = Covid19Dataset(\n",
    "    country = 'China',\n",
    "    date = '17 February', \n",
    "    confirmed_cases = [416, 549, 3619, 7600, 8571, 10008, 8583, 3918, 1408],\n",
    "    fatalities = [0, 1, 7, 18, 38, 130, 309, 312, 208],\n",
    "    source = {\n",
    "        'type': 'scientific publication',\n",
    "        'title': 'Characteristics of and important lessons from the coronavirus\\\n",
    "            disease 2019 (COVID-19) outbreak in China: summary of a report of\\\n",
    "            72 314 cases from the Chinese Center for Disease Control and Prevention',\n",
    "        'author': 'Wu, Zunyou and McGoogan, Jennifer M',\n",
    "        'journal': 'Jama',\n",
    "        'date': '24 February 2020',\n",
    "        'url': 'https://jamanetwork.com/journals/jama/fullarticle/2762130'\n",
    "        }\n",
    ")"
   ]
  },
  {
   "cell_type": "markdown",
   "metadata": {},
   "source": [
    "***(Code) J. Von Kugelgen, \"Covid19-age-related-causal-effects,\" [github](https://web.archive.org/web/20201211090154/https://github.com/Juliusvk/Covid19-age-related-causal-effects/blob/master/notebook_causal_corona.ipynb), June 2020.***"
   ]
  },
  {
   "cell_type": "code",
   "execution_count": 94,
   "metadata": {},
   "outputs": [],
   "source": [
    "Italy_Mar9 = Covid19Dataset(\n",
    "    country = 'Italy',\n",
    "    date = '9 March', \n",
    "    confirmed_cases = [43, 85, 296, 470, 891, 1453, 1471, 1785, 1532],\n",
    "    fatalities = [0, 0, 0, 0, 1, 3, 37, 114, 202],\n",
    "    source = {\n",
    "        'type': 'official report',\n",
    "        'date': '9 March 2020, 4pm',\n",
    "        'author': 'Istituto Superiore di Sanità \\\n",
    "            (ISS, Italian National Institute of Health)',\n",
    "        'url': 'https://www.epicentro.iss.it/coronavirus/bollettino/Bollettino-\\sorveglianza-integrata-COVID-19_09-marzo-2020.pdf'\n",
    "        }\n",
    ")"
   ]
  },
  {
   "cell_type": "markdown",
   "metadata": {},
   "source": [
    "***(Code) J. Von Kugelgen, \"Covid19-age-related-causal-effects,\" [github](https://web.archive.org/web/20201211090154/https://github.com/Juliusvk/Covid19-age-related-causal-effects/blob/master/notebook_causal_corona.ipynb), June 2020.***"
   ]
  },
  {
   "cell_type": "markdown",
   "metadata": {},
   "source": [
    "- however it turns out that if you dig a little bit deeper a very different type of relationship appears - histogram shows the CFR rate based on different age groups (10 year bins) [[...] T. Bazett, \"How SIMPSON'S PARADOX explains weird COVID19 statistics,\" [youtube.com](https://web.archive.org/web/20201205185009/https://www.youtube.com/watch?v=t-Ci3FosqZs), July 2020.][[...] J. Von Kugelgen, L. Gresele, B. Scholkopt, \"Simpson’s paradox in Covid-19 case fatality rates:a mediation analysis of age-related causal effects,\" [arxiv](https://web.archive.org/web/20201211090001/https://arxiv.org/abs/2005.07180), June 2020.][[...] J. Von Kugelgen, \"Covid19-age-related-causal-effects,\" [github](https://web.archive.org/web/20201211090154/https://github.com/Juliusvk/Covid19-age-related-causal-effects/blob/master/notebook_causal_corona.ipynb), June 2020.]"
   ]
  },
  {
   "cell_type": "markdown",
   "metadata": {},
   "source": [
    "- analysing the sixty year old age range - turns out this age group in Italy are more likely to survive that the same age group in China - the same is also true for seventy and eighty year old age groups [[...] T. Bazett, \"How SIMPSON'S PARADOX explains weird COVID19 statistics,\" [youtube.com](https://web.archive.org/web/20201205185009/https://www.youtube.com/watch?v=t-Ci3FosqZs), July 2020.][[...] J. Von Kugelgen, L. Gresele, B. Scholkopt, \"Simpson’s paradox in Covid-19 case fatality rates:a mediation analysis of age-related causal effects,\" [arxiv](https://web.archive.org/web/20201211090001/https://arxiv.org/abs/2005.07180), June 2020.][[...] J. Von Kugelgen, \"Covid19-age-related-causal-effects,\" [github](https://web.archive.org/web/20201211090154/https://github.com/Juliusvk/Covid19-age-related-causal-effects/blob/master/notebook_causal_corona.ipynb), June 2020.]"
   ]
  },
  {
   "cell_type": "code",
   "execution_count": 95,
   "metadata": {
    "scrolled": false
   },
   "outputs": [
    {
     "data": {
      "image/png": "[encoded data removed]",
      "text/plain": [
       "<Figure size 640x480 with 1 Axes>"
      ]
     },
     "metadata": {},
     "output_type": "display_data"
    }
   ],
   "source": [
    "def autolabel(rects, ax, decimal_points=1, fontsize=10):\n",
    "    \"\"\"Attach a text label above each bar in *rects*, displaying its height.\"\"\"\n",
    "    for rect in rects:\n",
    "        height = rect.get_height()\n",
    "        text_offset = (0, 3) if height >= 0 else (-2, -13)\n",
    "        ax.annotate(f\"{height:.{decimal_points}f}\",\n",
    "                    xy=(rect.get_x() + rect.get_width() / 2, height),\n",
    "                    xytext=text_offset,\n",
    "                    textcoords=\"offset points\",\n",
    "                    ha='center', va='bottom',\n",
    "                    fontsize=fontsize)\n",
    "\n",
    "def bar_chart_by_age(datasets, type, show_numbers=True, size=None):\n",
    "    n_data = len(datasets)\n",
    "    w = 1/n_data\n",
    "    if size is not None:\n",
    "        fig, ax = plt.subplots(figsize=size)\n",
    "    \n",
    "    else:\n",
    "        fig, ax = plt.subplots()\n",
    "    \n",
    "    ax.set_xlabel('Age')\n",
    "    ax.set_ylabel('%')\n",
    "    i = 0\n",
    "    for data in datasets:\n",
    "        data_id  = data.country + ', ' + data.date\n",
    "        if type == 'cases_by_age':\n",
    "            labels = datasets[0].age_ranges    \n",
    "            x = 1.25 * np.arange(len(labels))  # the label locations\n",
    "            x_init = x - 0.5 + w/2\n",
    "            ax.set_xticks(x)\n",
    "            ax.set_xticklabels(labels)\n",
    "            ax.set_title('Proportion of confirmed cases by age group')\n",
    "            y = 100 * data.case_rates_by_age\n",
    "            bar = ax.bar(x_init + i/n_data, y, w, label=data_id)\n",
    "    \n",
    "        elif type == 'cfr':\n",
    "            labels = datasets[0].age_ranges + ['Total']  \n",
    "            x = 1.25 * np.arange(len(labels))  # the label locations\n",
    "            x_init = x - 0.5 + w/2\n",
    "            ax.set_xticks(x)\n",
    "            ax.set_xticklabels(labels)\n",
    "            ax.set_ylabel('%')\n",
    "            ax.set_title('Case fatality rates (CFRs) by age group')\n",
    "            y = np.append(100*data.cfr, 100*data.total_cfr)\n",
    "            bar = ax.bar(x_init + i/n_data, y, w, label=data_id)\n",
    "        \n",
    "        else:\n",
    "            raise NotImplementedError\n",
    "            print(\"Plot type not supported. Please choose between 'cases_by_age' and 'cfr'.\")\n",
    "        \n",
    "        i += 1\n",
    "        if show_numbers:\n",
    "            autolabel(bar, ax)\n",
    "\n",
    "    ax.legend()\n",
    "    fig.tight_layout()\n",
    "    plt.show()\n",
    "    return fig\n",
    "\n",
    "data_Simpson = [China_Feb17, Italy_Mar9]\n",
    "fig = bar_chart_by_age(data_Simpson, 'cfr', show_numbers=False)\n",
    "fig.savefig('ChinaItalyCFRs.pdf', transparent=True, bbox_inches='tight')"
   ]
  },
  {
   "cell_type": "markdown",
   "metadata": {},
   "source": [
    "***(Code) J. Von Kugelgen, \"Covid19-age-related-causal-effects,\" [github](https://web.archive.org/web/20201211090154/https://github.com/Juliusvk/Covid19-age-related-causal-effects/blob/master/notebook_causal_corona.ipynb), June 2020.***"
   ]
  },
  {
   "cell_type": "markdown",
   "metadata": {},
   "source": [
    "- histogram of age demographics - shows the breakdown in terms of age - shows the percentage of the total patients who are in the different age range - its evident that in Italy there is a higher proportion of older patients - patients in their 80s and 70s than there are younger patients (thirties or forties) [[...] T. Bazett, \"How SIMPSON'S PARADOX explains weird COVID19 statistics,\" [youtube.com](https://web.archive.org/web/20201205185009/https://www.youtube.com/watch?v=t-Ci3FosqZs), July 2020.][[...] J. Von Kugelgen, L. Gresele, B. Scholkopt, \"Simpson’s paradox in Covid-19 case fatality rates:a mediation analysis of age-related causal effects,\" [arxiv](https://web.archive.org/web/20201211090001/https://arxiv.org/abs/2005.07180), June 2020.][[...] J. Von Kugelgen, \"Covid19-age-related-causal-effects,\" [github](https://web.archive.org/web/20201211090154/https://github.com/Juliusvk/Covid19-age-related-causal-effects/blob/master/notebook_causal_corona.ipynb), June 2020.]"
   ]
  },
  {
   "cell_type": "markdown",
   "metadata": {},
   "source": [
    "- one of the key features of COVID-19 is that it is much easier to survive if you are younger than if you are older - so the fact that Italy has this higher proportion of older patients means their survivability rates are pulled down [[...] T. Bazett, \"How SIMPSON'S PARADOX explains weird COVID19 statistics,\" [youtube.com](https://web.archive.org/web/20201205185009/https://www.youtube.com/watch?v=t-Ci3FosqZs), July 2020.][[...] J. Von Kugelgen, L. Gresele, B. Scholkopt, \"Simpson’s paradox in Covid-19 case fatality rates:a mediation analysis of age-related causal effects,\" [arxiv](https://web.archive.org/web/20201211090001/https://arxiv.org/abs/2005.07180), June 2020.][[...] J. Von Kugelgen, \"Covid19-age-related-causal-effects,\" [github](https://web.archive.org/web/20201211090154/https://github.com/Juliusvk/Covid19-age-related-causal-effects/blob/master/notebook_causal_corona.ipynb), June 2020.]"
   ]
  },
  {
   "cell_type": "markdown",
   "metadata": {},
   "source": [
    "- even though Italy was doing a relatively good job among the different individual age groups - Italy had more of the higher risk age groups in it overall disease profile [[...] T. Bazett, \"How SIMPSON'S PARADOX explains weird COVID19 statistics,\" [youtube.com](https://web.archive.org/web/20201205185009/https://www.youtube.com/watch?v=t-Ci3FosqZs), July 2020.][[...] J. Von Kugelgen, L. Gresele, B. Scholkopt, \"Simpson’s paradox in Covid-19 case fatality rates:a mediation analysis of age-related causal effects,\" [arxiv](https://web.archive.org/web/20201211090001/https://arxiv.org/abs/2005.07180), June 2020.][[...] J. Von Kugelgen, \"Covid19-age-related-causal-effects,\" [github](https://web.archive.org/web/20201211090154/https://github.com/Juliusvk/Covid19-age-related-causal-effects/blob/master/notebook_causal_corona.ipynb), June 2020.]"
   ]
  },
  {
   "cell_type": "markdown",
   "metadata": {},
   "source": [
    "- core idea behind Simpson's Paradox is when the trend for aggregate data is different from the trend when subdivided into different categories [[...] T. Bazett, \"How SIMPSON'S PARADOX explains weird COVID19 statistics,\" [youtube.com](https://web.archive.org/web/20201205185009/https://www.youtube.com/watch?v=t-Ci3FosqZs), July 2020.][[...] J. Von Kugelgen, L. Gresele, B. Scholkopt, \"Simpson’s paradox in Covid-19 case fatality rates:a mediation analysis of age-related causal effects,\" [arxiv](https://web.archive.org/web/20201211090001/https://arxiv.org/abs/2005.07180), June 2020.][[...] J. Von Kugelgen, \"Covid19-age-related-causal-effects,\" [github](https://web.archive.org/web/20201211090154/https://github.com/Juliusvk/Covid19-age-related-causal-effects/blob/master/notebook_causal_corona.ipynb), June 2020.]"
   ]
  },
  {
   "cell_type": "code",
   "execution_count": 96,
   "metadata": {},
   "outputs": [
    {
     "data": {
      "image/png": "[encoded data removed]",
      "text/plain": [
       "<Figure size 640x480 with 1 Axes>"
      ]
     },
     "metadata": {},
     "output_type": "display_data"
    }
   ],
   "source": [
    "fig = bar_chart_by_age(data_Simpson, 'cases_by_age', show_numbers=False)\n",
    "fig.savefig('ChinaItalyCaseDemographic.pdf', transparent=True, bbox_inches='tight')"
   ]
  },
  {
   "cell_type": "markdown",
   "metadata": {},
   "source": [
    "***(Code) J. Von Kugelgen, \"Covid19-age-related-causal-effects,\" [github](https://web.archive.org/web/20201211090154/https://github.com/Juliusvk/Covid19-age-related-causal-effects/blob/master/notebook_causal_corona.ipynb), June 2020.***"
   ]
  },
  {
   "cell_type": "markdown",
   "metadata": {},
   "source": [
    "< [Instructions](#top) | [README](https://github.com/E6985/fda-tasks/blob/main/README.md) | [Abstract](#task-4-abstract) | [Introduction](#task-4-introduction) | [Conclusion](#task-4-conclusion) >\n",
    "<a id=\"task-4-solution\"></a>\n",
    "### Solution\n",
    "***"
   ]
  },
  {
   "cell_type": "markdown",
   "metadata": {},
   "source": [
    "- demonstrating Simpson's paradox - trend evident in a number of groups reverses when the groups are combined into one big dataset [[...] I. McLoughlin, \"Project 2020 Fundamentals of Data Analysis,\" GMIT, October 2020.]"
   ]
  },
  {
   "cell_type": "markdown",
   "metadata": {},
   "source": [
    "- data generated - simulated - in such a way to demonstrate the effect - the four generated datasets could be any four real-world phenomena [[...] I. McLoughlin, \"Project 2020 Fundamentals of Data Analysis,\" GMIT, October 2020.]"
   ]
  },
  {
   "cell_type": "code",
   "execution_count": 97,
   "metadata": {},
   "outputs": [],
   "source": [
    "# b_T_hird_P_arty-imports\n",
    "import pandas as pd\n",
    "import seaborn as sns\n",
    "import numpy as np"
   ]
  },
  {
   "cell_type": "markdown",
   "metadata": {},
   "source": [
    "- contrived dataset - with an ``x`` array - corresponding ``y`` array [[...] I. McLoughlin, \"Project 2020 Fundamentals of Data Analysis,\" GMIT, October 2020.]"
   ]
  },
  {
   "cell_type": "markdown",
   "metadata": {},
   "source": [
    "- creating ``x`` array using package ``numpy.linspace`` [[...] I. McLoughlin, \"Project 2020 Fundamentals of Data Analysis,\" GMIT, October 2020.]"
   ]
  },
  {
   "cell_type": "code",
   "execution_count": 98,
   "metadata": {},
   "outputs": [],
   "source": [
    "# package numpy - subpackage core - module function_base - linspace arguments\n",
    "nStart,nStop,nSize=1.85,2.35,50"
   ]
  },
  {
   "cell_type": "markdown",
   "metadata": {},
   "source": [
    "- array ``x`` - evenly spaced numbers - interval - $[nStart, nStop]$ [[...] Anaconda (linspace), \"numpy.core.function_base,\" Docstring, June 2020.]"
   ]
  },
  {
   "cell_type": "code",
   "execution_count": 99,
   "metadata": {},
   "outputs": [],
   "source": [
    "# package numpy - subpackage core - module function_base\n",
    "x=np.linspace(nStart,nStop,nSize)"
   ]
  },
  {
   "cell_type": "markdown",
   "metadata": {},
   "source": [
    "- creating ``y`` array for each ``x`` using the generic equation of a straight line [[...] I. McLoughlin, \"Project 2020 Fundamentals of Data Analysis,\" GMIT, October 2020.]\n",
    "\n",
    "$$y=ax+b$$"
   ]
  },
  {
   "cell_type": "code",
   "execution_count": 100,
   "metadata": {},
   "outputs": [],
   "source": [
    "# notation arguments - arbitrary\n",
    "a,b=4.0,1.75"
   ]
  },
  {
   "cell_type": "markdown",
   "metadata": {},
   "source": [
    "- usually not allowed to multiply a scalar by an array in python - can proceed given the array ``x`` is a numpy array [[...] I. McLoughlin, \"Fitting lines,\" GMIT, December 2020.]"
   ]
  },
  {
   "cell_type": "code",
   "execution_count": 101,
   "metadata": {},
   "outputs": [],
   "source": [
    "# straight line - notation\n",
    "y=a*x*b"
   ]
  },
  {
   "cell_type": "markdown",
   "metadata": {},
   "source": [
    "- plotting ``x`` on the x-axis versus ``y`` on the y-axis [[...] I. McLoughlin, \"Project 2020 Fundamentals of Data Analysis,\" GMIT, October 2020.]"
   ]
  },
  {
   "cell_type": "code",
   "execution_count": 102,
   "metadata": {
    "scrolled": false
   },
   "outputs": [
    {
     "data": {
      "image/png": "[encoded data removed]",
      "text/plain": [
       "<Figure size 640x480 with 1 Axes>"
      ]
     },
     "metadata": {},
     "output_type": "display_data"
    }
   ],
   "source": [
    "# package matplotlib - module pyplot\n",
    "plt.plot(x,y,\"k.\");"
   ]
  },
  {
   "cell_type": "markdown",
   "metadata": {},
   "source": [
    "- rather than having a straightforward ``x`` and ``y`` relationship - to demonstrate Simpson's paradox adding some noise into the ``y`` array using ``numpy.random.normal`` [[...] I. McLoughlin, \"Project 2020 Fundamentals of Data Analysis,\" GMIT, October 2020.]"
   ]
  },
  {
   "cell_type": "markdown",
   "metadata": {},
   "source": [
    "- ``noise`` - its mean will be centered on ``0.0`` - its spread increases with a standard deviation of ``0.75`` [[...] Anaconda (normal), \"numpy.random,\" Docstring, June 2020.]"
   ]
  },
  {
   "cell_type": "code",
   "execution_count": 103,
   "metadata": {},
   "outputs": [],
   "source": [
    "# package numpy - subpackage random - normal arguments\n",
    "nLoc,nScale=0.0,0.75 # linspace argument - nSize=50"
   ]
  },
  {
   "cell_type": "code",
   "execution_count": 104,
   "metadata": {},
   "outputs": [],
   "source": [
    "# package numpy - subpackage random\n",
    "noise=np.random.normal(nLoc,nScale,nSize)"
   ]
  },
  {
   "cell_type": "code",
   "execution_count": 105,
   "metadata": {},
   "outputs": [],
   "source": [
    "# straight line - notation plus noise\n",
    "y=a*x+b+noise"
   ]
  },
  {
   "cell_type": "markdown",
   "metadata": {},
   "source": [
    "- plotting ``x`` on the x-axis versus ``y`` on the y-axis after adding ``noise`` to the ``y`` array - importance of the spread of data points around the mean will become evident when experiencing the Simpson's paradox later [[...] I. McLoughlin, \"Project 2020 Fundamentals of Data Analysis,\" GMIT, October 2020.]"
   ]
  },
  {
   "cell_type": "code",
   "execution_count": 106,
   "metadata": {},
   "outputs": [
    {
     "data": {
      "image/png": "[encoded data removed]",
      "text/plain": [
       "<Figure size 640x480 with 1 Axes>"
      ]
     },
     "metadata": {},
     "output_type": "display_data"
    }
   ],
   "source": [
    "# package matplotlib - module pyplot\n",
    "plt.plot(x,y,\"k.\");"
   ]
  },
  {
   "cell_type": "markdown",
   "metadata": {},
   "source": [
    "- using ``numpy.lib.polynomial.polyfit`` to determine the best-fit line representing the ``x`` and ``y`` relationship given the variabiliy of data points on the scatter plot [[...] Anaconda (polyfit), \"numpy.lib.polynomial,\" Docstring, June 2020.]"
   ]
  },
  {
   "cell_type": "markdown",
   "metadata": {},
   "source": [
    "- least squares polynomial fit - expression sought - parameters include values ``x`` and ``y`` plus ``1`` signifying the highest power of ``x`` looking to fit to this data - $x^{1}$ - returned are the coefficients of the powers of ``x`` - by convention usually think of it as the coefficient of ``x`` to the power of zero given that any number raised to the power of 0 equals to 1 [[...] I. McLoughlin, \"Project 2020 Fundamentals of Data Analysis,\" GMIT, October 2020.]"
   ]
  },
  {
   "cell_type": "code",
   "execution_count": 107,
   "metadata": {},
   "outputs": [],
   "source": [
    "# package numpy - subpackage lib - module polynomial\n",
    "coeffs=np.polyfit(x,y,1)"
   ]
  },
  {
   "cell_type": "markdown",
   "metadata": {},
   "source": [
    "- two points ``coeffs`` - enough for a straight line - two distinct points on a straight line - all the other points will be by definition collinear with those two points [[...] I. McLoughlin, \"Simple linear regression regression,\" GMIT, October 2018.]"
   ]
  },
  {
   "cell_type": "code",
   "execution_count": 108,
   "metadata": {},
   "outputs": [
    {
     "data": {
      "text/plain": [
       "array([3.25717352, 3.28802033])"
      ]
     },
     "execution_count": 108,
     "metadata": {},
     "output_type": "execute_result"
    }
   ],
   "source": [
    "coeffs"
   ]
  },
  {
   "cell_type": "markdown",
   "metadata": {},
   "source": [
    "- contrived dataset appears to have a upward trend - increase on the horizontal then going up on the vertical [[...] T. Bazett, \"How SIMPSON'S PARADOX explains weird COVID19 statistics,\" [youtube.com](https://web.archive.org/web/20201205185009/https://www.youtube.com/watch?v=t-Ci3FosqZs), July 2020.]"
   ]
  },
  {
   "cell_type": "code",
   "execution_count": 109,
   "metadata": {},
   "outputs": [
    {
     "data": {
      "image/png": "[encoded data removed]",
      "text/plain": [
       "<Figure size 640x480 with 1 Axes>"
      ]
     },
     "metadata": {},
     "output_type": "display_data"
    }
   ],
   "source": [
    "# package matplotlib - module pyplot\n",
    "plt.plot(x,y,\"k.\");\n",
    "plt.plot(x,coeffs[0]*x+coeffs[1],'r-');"
   ]
  },
  {
   "cell_type": "markdown",
   "metadata": {},
   "source": [
    "- creating three more datasets by changing existing parameters slightly [[...] No Reference.] "
   ]
  },
  {
   "cell_type": "code",
   "execution_count": 110,
   "metadata": {},
   "outputs": [],
   "source": [
    "# package numpy - subpackage core - module function_base\n",
    "x2=np.linspace(2.25,2.75,nSize)\n",
    "x3=np.linspace(2.65,3.15,nSize)\n",
    "x4=np.linspace(3.05,3.55,nSize)\n",
    "# package numpy - subpackage random\n",
    "y2=3.0*x2+1.5+np.random.normal(nLoc,nScale,nSize)\n",
    "y3=2.0*x3+1.25+np.random.normal(nLoc,nScale,nSize)\n",
    "y4=1.0*x4+1.0+np.random.normal(nLoc,nScale,nSize)\n",
    "# package numpy - subpackage lib - module polynomial\n",
    "coeffs2=np.polyfit(x2,y2,1)\n",
    "coeffs3=np.polyfit(x3,y3,1)\n",
    "coeffs4=np.polyfit(x4,y4,1)"
   ]
  },
  {
   "cell_type": "markdown",
   "metadata": {},
   "source": [
    "- plotting all four datasets - horizontal axis - vertical axis - just looked at these data points and not considering Simpson's Paradox - appears to have a downward trend - increase on the horizontal then going down in the vertical [[...] T. Bazett, \"How SIMPSON'S PARADOX explains weird COVID19 statistics,\" [youtube.com](https://web.archive.org/web/20201205185009/https://www.youtube.com/watch?v=t-Ci3FosqZs), July 2020.]"
   ]
  },
  {
   "cell_type": "code",
   "execution_count": 111,
   "metadata": {},
   "outputs": [
    {
     "data": {
      "image/png": "[encoded data removed]",
      "text/plain": [
       "<Figure size 640x480 with 1 Axes>"
      ]
     },
     "metadata": {},
     "output_type": "display_data"
    }
   ],
   "source": [
    "# package matplotlib - module pyplot\n",
    "plt.plot(x,y,\"k.\");\n",
    "plt.plot(x2,y2,\"k.\");\n",
    "plt.plot(x3,y3,\"k.\");\n",
    "plt.plot(x4,y4,\"k.\");"
   ]
  },
  {
   "cell_type": "markdown",
   "metadata": {},
   "source": [
    "- join the sequence of arrays - four datasets - along an existing axis [[...] Anaconda (concatenate), \"numpy.core._multiarray_umath.concatenate,\" Docstring, June 2020.] - determine the best-fit line representing the ``xCombine`` and ``yCombine`` [[...] Anaconda (polyfit), \"numpy.lib.polynomial,\" Docstring, June 2020.]"
   ]
  },
  {
   "cell_type": "code",
   "execution_count": 112,
   "metadata": {},
   "outputs": [],
   "source": [
    "# package numpy - subpackage core module _multiarray_umath\n",
    "xCombine=np.concatenate([x,x2,x3,x4])\n",
    "yCombine=np.concatenate([y,y2,y3,y4])\n",
    "# package numpy - subpackage lib - module polynomial\n",
    "coeffsCombine=np.polyfit(xCombine,yCombine,1)"
   ]
  },
  {
   "cell_type": "markdown",
   "metadata": {},
   "source": [
    "- plotting a trendline - appears in order - downward trend evident as suspected [[...] T. Bazett, \"How SIMPSON'S PARADOX explains weird COVID19 statistics,\" [youtube.com](https://web.archive.org/web/20201205185009/https://www.youtube.com/watch?v=t-Ci3FosqZs), July 2020.]"
   ]
  },
  {
   "cell_type": "code",
   "execution_count": 113,
   "metadata": {
    "scrolled": false
   },
   "outputs": [
    {
     "data": {
      "image/png": "[encoded data removed]",
      "text/plain": [
       "<Figure size 640x480 with 1 Axes>"
      ]
     },
     "metadata": {},
     "output_type": "display_data"
    }
   ],
   "source": [
    "# package matplotlib - module pyplot\n",
    "plt.plot(x,y,\"k.\");\n",
    "plt.plot(x2,y2,\"k.\");\n",
    "plt.plot(x3,y3,\"k.\");\n",
    "plt.plot(x4,y4,\"k.\");\n",
    "plt.plot(xCombine,coeffsCombine[0]*xCombine+coeffsCombine[1],'r-');"
   ]
  },
  {
   "cell_type": "markdown",
   "metadata": {},
   "source": [
    "- important to keep in mind the combined data - four datasets - may actually comes from four different categories - colour coded to illustrate the different categories to emphasise the point [[...] T. Bazett, \"How SIMPSON'S PARADOX explains weird COVID19 statistics,\" [youtube.com](https://web.archive.org/web/20201205185009/https://www.youtube.com/watch?v=t-Ci3FosqZs), July 2020.]"
   ]
  },
  {
   "cell_type": "code",
   "execution_count": 114,
   "metadata": {},
   "outputs": [
    {
     "data": {
      "image/png": "[encoded data removed]",
      "text/plain": [
       "<Figure size 640x480 with 1 Axes>"
      ]
     },
     "metadata": {},
     "output_type": "display_data"
    }
   ],
   "source": [
    "# package matplotlib - module pyplot\n",
    "plt.plot(x,y,\"b.\")\n",
    "plt.plot(x2,y2,\"g.\")\n",
    "plt.plot(x3,y3,\"r.\")\n",
    "plt.plot(x4,y4,\"y.\")\n",
    "plt.plot(xCombine,coeffsCombine[0]*xCombine+coeffsCombine[1],'r-');"
   ]
  },
  {
   "cell_type": "markdown",
   "metadata": {},
   "source": [
    "- these four colours representing categories could be anything from different countries or different companies or even the results from four different vaccine trails - in each dataset an upwards trend is evident - suspected early to have a downward trend - this was an incorrect assumption [\n",
    "[...] T. Bazett, \"How SIMPSON'S PARADOX explains weird COVID19 statistics,\" [youtube.com](https://web.archive.org/web/20201205185009/https://www.youtube.com/watch?v=t-Ci3FosqZs), July 2020.\n",
    "]"
   ]
  },
  {
   "cell_type": "code",
   "execution_count": 115,
   "metadata": {},
   "outputs": [
    {
     "data": {
      "image/png": "[encoded data removed]",
      "text/plain": [
       "<Figure size 640x480 with 1 Axes>"
      ]
     },
     "metadata": {},
     "output_type": "display_data"
    }
   ],
   "source": [
    "# package matplotlib - module pyplot\n",
    "plt.plot(x,y,\"b.\")\n",
    "plt.plot(x,coeffs[0]*x+coeffs[1],'k-',label='Blue dataset');\n",
    "plt.plot(x2,y2,\"g.\")\n",
    "plt.legend();\n",
    "plt.plot(x2,coeffs2[0]*x2+coeffs2[1],'k-',label='Green dataset');\n",
    "plt.plot(x3,y3,\"r.\")\n",
    "plt.legend();\n",
    "plt.plot(x3,coeffs3[0]*x3+coeffs3[1],'k-',label='Red dataset');\n",
    "plt.legend();\n",
    "plt.plot(x4,y4,\"y.\")\n",
    "plt.plot(x4,coeffs4[0]*x4+coeffs4[1],'k-',label='Yellow dataset');\n",
    "plt.legend();"
   ]
  },
  {
   "cell_type": "markdown",
   "metadata": {},
   "source": [
    "< [Instructions](#top) | [README](https://github.com/E6985/fda-tasks/blob/main/README.md) | [Abstract](#task-4-abstract) | [Introduction](#task-4-introduction) | [Solution](#task-4-solution) >\n",
    "<a id=\"task-4-conclusion\"></a>\n",
    "### Conclusion\n",
    "***"
   ]
  },
  {
   "cell_type": "markdown",
   "metadata": {},
   "source": [
    "- ``Simpsons paradox`` - occurs when the apparent direction of an association is reversed by adjusting for a confounding factor - requiring a change in the apparent trend observed from the data which reenforces the caution required in interpreting observational data [[...] D. Spiegelhalter, \"The Art of Statistics,\" Pelican, p. 112, 2019.]"
   ]
  },
  {
   "cell_type": "markdown",
   "metadata": {},
   "source": [
    "- when data is aggregated over a lot of different categories - the trend can appear to be one thing but when divided into different categories that trend is actually something very different - very important to keep in mind whenever statistics is involved with any phenomenon under investigation [[...] T. Bazett, \"How SIMPSON'S PARADOX explains weird COVID19 statistics,\" [youtube.com](https://web.archive.org/web/20201205185009/https://www.youtube.com/watch?v=t-Ci3FosqZs), July 2020.]"
   ]
  },
  {
   "cell_type": "markdown",
   "metadata": {},
   "source": [
    "## END"
   ]
  },
  {
   "cell_type": "markdown",
   "metadata": {},
   "source": [
    "< [Instructions](#top) | [README](https://github.com/E6985/fda-tasks/blob/main/README.md) | [Task 1](#task-1) | [Task 2](#task-2) | [Task 3](#task-3) | [Task 4](#task-4) >\n",
    "<a id=\"references\"></a>\n",
    "***\n",
    "## References\n",
    "***\n",
    "&nbsp;&nbsp;&nbsp;&nbsp;&nbsp;&nbsp;&nbsp;&nbsp;&nbsp;[1] authorNames, referenceTitle, locationWebsiteBookVideo, dateMonthYear.\n",
    "\n",
    "&nbsp;&nbsp;&nbsp;&nbsp;&nbsp;&nbsp;&nbsp;[10]\n",
    "\n",
    "&nbsp;&nbsp;&nbsp;&nbsp;&nbsp;[100]\n",
    "\n",
    "&nbsp;&nbsp;&nbsp;[1000]\n",
    "***"
   ]
  },
  {
   "cell_type": "markdown",
   "metadata": {},
   "source": [
    "## END"
   ]
  },
  {
   "cell_type": "markdown",
   "metadata": {},
   "source": [
    "< [Instructions](#top) | [README](https://github.com/E6985/fda-tasks/blob/main/README.md) | [Task 1](#task-1) | [Task 2](#task-2) | [Task 3](#task-3) | [Task 4](#task-4) | [References](#references) >\n",
    "<a id=\"appendix\"></a>\n",
    "***\n",
    "## Appendix\n",
    "***"
   ]
  },
  {
   "cell_type": "markdown",
   "metadata": {},
   "source": [
    "< [Instructions](#top) | [README](https://github.com/E6985/fda-tasks/blob/main/README.md) | [Task 1](#task-1) | [Task 2](#task-2) | [Task 3](#task-3) | [Task 4](#task-4) | [References](#references) >\n",
    "<a id=\"references\"></a>\n",
    "***\n",
    "## A\n",
    "***\n",
    "\n",
    "```python\n",
    "# \"Classy\" solution...\n",
    "class Bag(dict):\n",
    "    def __init__(self, alist):\n",
    "        for elem in alist:\n",
    "            self.add(elem)\n",
    "\n",
    "    def add(self, elem):\n",
    "        self[elem] = self.get(elem, 0) + 1\n",
    "\n",
    "    def __str__(self):\n",
    "        out = ['%-8s %3d' % (key, val)\n",
    "                        for (key, val) in sorted(self.items())]\n",
    "        return '\\n'.join(out)\n",
    "\n",
    "print Bag('foo bar bar foo glag foo'.split())\n",
    "```\n",
    "\n",
    "[...] E. Wiethoff, \"Bag Sum In Many Programming Languages,\" [wiki.c2](https://web.archive.org/web/20201107143701/https://wiki.c2.com/?BagSumInManyProgrammingLanguages), n.d."
   ]
  },
  {
   "cell_type": "markdown",
   "metadata": {},
   "source": [
    "## END"
   ]
  },
  {
   "cell_type": "markdown",
   "metadata": {},
   "source": [
    "< [Instructions](#top) | [README](https://github.com/E6985/fda-tasks/blob/main/README.md) | [Task 1](#task-1) | [Task 2](#task-2) | [Task 3](#task-3) | [Task 4](#task-4) | [References](#references) >\n",
    "<a id=\"references\"></a>\n",
    "***\n",
    "## B\n",
    "***\n",
    "\n",
    "```python\n",
    "# Pythonic ListComprehension and loop solution...\n",
    "bag = 'foo bar bar foo glag foo'.split()\n",
    "bagsum = dict([(elem, bag.count(elem)) for elem in bag])\n",
    "for key, val in sorted(bagsum.items()):\n",
    "    print '%-8s %3d' % (key, val)\n",
    "```\n",
    "\n",
    "[...] E. Wiethoff, \"Bag Sum In Many Programming Languages,\" [wiki.c2](https://web.archive.org/web/20201107143701/https://wiki.c2.com/?BagSumInManyProgrammingLanguages), n.d."
   ]
  },
  {
   "cell_type": "markdown",
   "metadata": {},
   "source": [
    "## END"
   ]
  },
  {
   "cell_type": "markdown",
   "metadata": {},
   "source": [
    "< [Instructions](#top) | [README](https://github.com/E6985/fda-tasks/blob/main/README.md) | [Task 1](#task-1) | [Task 2](#task-2) | [Task 3](#task-3) | [Task 4](#task-4) | [References](#references) >\n",
    "<a id=\"references\"></a>\n",
    "***\n",
    "## C\n",
    "***\n",
    "\n",
    "```python\n",
    "words = 'foo bar bar foo glag foo'.split()\n",
    "words.sort()\n",
    "prev, count = words[0], 1\n",
    "for word in words[1:]:\n",
    "    if word == prev:\n",
    "        count += 1\n",
    "    else:\n",
    "        print prev, count\n",
    "        prev, count = word, 1\n",
    "print prev, count\n",
    "```\n",
    "\n",
    "[...] Anonymous, \"Bag Sum In Many Programming Languages,\" [wiki.c2](https://web.archive.org/web/20201107143701/https://wiki.c2.com/?BagSumInManyProgrammingLanguages), n.d."
   ]
  },
  {
   "cell_type": "markdown",
   "metadata": {},
   "source": [
    "## END"
   ]
  },
  {
   "cell_type": "markdown",
   "metadata": {},
   "source": [
    "< [Instructions](#top) | [README](https://github.com/E6985/fda-tasks/blob/main/README.md) | [Task 1](#task-1) | [Task 2](#task-2) | [Task 3](#task-3) | [Task 4](#task-4) | [References](#references) >\n",
    "<a id=\"references\"></a>\n",
    "***\n",
    "## D\n",
    "***\n",
    "\n",
    "- half-open interval - one endpoint is included but not the other - $[a,b)$ - includes - ``a`` - excludes - ``b`` - $(a,b]$ - excludes - ``a`` - includes - ``b`` [\n",
    "[...] Wolfram, \"Half-Closed Interval,\" [mathworld.wolfram](https://web.archive.org/web/20201106190646/https://mathworld.wolfram.com/Half-ClosedInterval.html), Ootober 2020.\n",
    "]\n",
    "\n",
    "![half-open-interval](https://github.com/E6985/pda-numpy-random/blob/main/img/distribution-uniform-half-open-interval.png?raw=true)\n",
    "\n",
    "***Wolfram, \"Half-Closed Interval,\" [mathworld.wolfram](https://web.archive.org/web/20201106190646/https://mathworld.wolfram.com/Half-ClosedInterval.html), Ootober 2020.***"
   ]
  },
  {
   "cell_type": "markdown",
   "metadata": {},
   "source": [
    "## END"
   ]
  },
  {
   "cell_type": "markdown",
   "metadata": {},
   "source": [
    "# END JUPYTER NOTEBOOK"
   ]
  }
 ],
 "metadata": {
  "kernelspec": {
   "display_name": "Python 3",
   "language": "python",
   "name": "python3"
  },
  "language_info": {
   "codemirror_mode": {
    "name": "ipython",
    "version": 3
   },
   "file_extension": ".py",
   "mimetype": "text/x-python",
   "name": "python",
   "nbconvert_exporter": "python",
   "pygments_lexer": "ipython3",
   "version": "3.8.3"
  }
 },
 "nbformat": 4,
 "nbformat_minor": 4
}
